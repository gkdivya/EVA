{
  "nbformat": 4,
  "nbformat_minor": 0,
  "metadata": {
    "colab": {
      "name": "MNIST_FinalIteration.ipynb",
      "provenance": [],
      "collapsed_sections": [],
      "include_colab_link": true
    },
    "kernelspec": {
      "name": "python3",
      "display_name": "Python 3"
    },
    "accelerator": "GPU",
    "widgets": {
      "application/vnd.jupyter.widget-state+json": {
        "b40be9544bac4701b12867ea74ea43da": {
          "model_module": "@jupyter-widgets/controls",
          "model_name": "HBoxModel",
          "state": {
            "_view_name": "HBoxView",
            "_dom_classes": [],
            "_model_name": "HBoxModel",
            "_view_module": "@jupyter-widgets/controls",
            "_model_module_version": "1.5.0",
            "_view_count": null,
            "_view_module_version": "1.5.0",
            "box_style": "",
            "layout": "IPY_MODEL_64a29f3875ed4c1b85018f3624a6feaa",
            "_model_module": "@jupyter-widgets/controls",
            "children": [
              "IPY_MODEL_a3c0999dfffe4f5984b91e363e6f4baf",
              "IPY_MODEL_c510467e49d44d0d823fdbd762c461ac"
            ]
          }
        },
        "64a29f3875ed4c1b85018f3624a6feaa": {
          "model_module": "@jupyter-widgets/base",
          "model_name": "LayoutModel",
          "state": {
            "_view_name": "LayoutView",
            "grid_template_rows": null,
            "right": null,
            "justify_content": null,
            "_view_module": "@jupyter-widgets/base",
            "overflow": null,
            "_model_module_version": "1.2.0",
            "_view_count": null,
            "flex_flow": null,
            "width": null,
            "min_width": null,
            "border": null,
            "align_items": null,
            "bottom": null,
            "_model_module": "@jupyter-widgets/base",
            "top": null,
            "grid_column": null,
            "overflow_y": null,
            "overflow_x": null,
            "grid_auto_flow": null,
            "grid_area": null,
            "grid_template_columns": null,
            "flex": null,
            "_model_name": "LayoutModel",
            "justify_items": null,
            "grid_row": null,
            "max_height": null,
            "align_content": null,
            "visibility": null,
            "align_self": null,
            "height": null,
            "min_height": null,
            "padding": null,
            "grid_auto_rows": null,
            "grid_gap": null,
            "max_width": null,
            "order": null,
            "_view_module_version": "1.2.0",
            "grid_template_areas": null,
            "object_position": null,
            "object_fit": null,
            "grid_auto_columns": null,
            "margin": null,
            "display": null,
            "left": null
          }
        },
        "a3c0999dfffe4f5984b91e363e6f4baf": {
          "model_module": "@jupyter-widgets/controls",
          "model_name": "FloatProgressModel",
          "state": {
            "_view_name": "ProgressView",
            "style": "IPY_MODEL_ca79367df69c44599243f9b9cd41eea0",
            "_dom_classes": [],
            "description": "",
            "_model_name": "FloatProgressModel",
            "bar_style": "success",
            "max": 9912422,
            "_view_module": "@jupyter-widgets/controls",
            "_model_module_version": "1.5.0",
            "value": 9912422,
            "_view_count": null,
            "_view_module_version": "1.5.0",
            "orientation": "horizontal",
            "min": 0,
            "description_tooltip": null,
            "_model_module": "@jupyter-widgets/controls",
            "layout": "IPY_MODEL_3ac829e5430a429082aa43cff7af64f5"
          }
        },
        "c510467e49d44d0d823fdbd762c461ac": {
          "model_module": "@jupyter-widgets/controls",
          "model_name": "HTMLModel",
          "state": {
            "_view_name": "HTMLView",
            "style": "IPY_MODEL_74557cb791d64487b46083127ac5a06f",
            "_dom_classes": [],
            "description": "",
            "_model_name": "HTMLModel",
            "placeholder": "​",
            "_view_module": "@jupyter-widgets/controls",
            "_model_module_version": "1.5.0",
            "value": " 9913344/? [05:16&lt;00:00, 31336.44it/s]",
            "_view_count": null,
            "_view_module_version": "1.5.0",
            "description_tooltip": null,
            "_model_module": "@jupyter-widgets/controls",
            "layout": "IPY_MODEL_5b001a637b0b4280946e6f5ed17b7dbd"
          }
        },
        "ca79367df69c44599243f9b9cd41eea0": {
          "model_module": "@jupyter-widgets/controls",
          "model_name": "ProgressStyleModel",
          "state": {
            "_view_name": "StyleView",
            "_model_name": "ProgressStyleModel",
            "description_width": "initial",
            "_view_module": "@jupyter-widgets/base",
            "_model_module_version": "1.5.0",
            "_view_count": null,
            "_view_module_version": "1.2.0",
            "bar_color": null,
            "_model_module": "@jupyter-widgets/controls"
          }
        },
        "3ac829e5430a429082aa43cff7af64f5": {
          "model_module": "@jupyter-widgets/base",
          "model_name": "LayoutModel",
          "state": {
            "_view_name": "LayoutView",
            "grid_template_rows": null,
            "right": null,
            "justify_content": null,
            "_view_module": "@jupyter-widgets/base",
            "overflow": null,
            "_model_module_version": "1.2.0",
            "_view_count": null,
            "flex_flow": null,
            "width": null,
            "min_width": null,
            "border": null,
            "align_items": null,
            "bottom": null,
            "_model_module": "@jupyter-widgets/base",
            "top": null,
            "grid_column": null,
            "overflow_y": null,
            "overflow_x": null,
            "grid_auto_flow": null,
            "grid_area": null,
            "grid_template_columns": null,
            "flex": null,
            "_model_name": "LayoutModel",
            "justify_items": null,
            "grid_row": null,
            "max_height": null,
            "align_content": null,
            "visibility": null,
            "align_self": null,
            "height": null,
            "min_height": null,
            "padding": null,
            "grid_auto_rows": null,
            "grid_gap": null,
            "max_width": null,
            "order": null,
            "_view_module_version": "1.2.0",
            "grid_template_areas": null,
            "object_position": null,
            "object_fit": null,
            "grid_auto_columns": null,
            "margin": null,
            "display": null,
            "left": null
          }
        },
        "74557cb791d64487b46083127ac5a06f": {
          "model_module": "@jupyter-widgets/controls",
          "model_name": "DescriptionStyleModel",
          "state": {
            "_view_name": "StyleView",
            "_model_name": "DescriptionStyleModel",
            "description_width": "",
            "_view_module": "@jupyter-widgets/base",
            "_model_module_version": "1.5.0",
            "_view_count": null,
            "_view_module_version": "1.2.0",
            "_model_module": "@jupyter-widgets/controls"
          }
        },
        "5b001a637b0b4280946e6f5ed17b7dbd": {
          "model_module": "@jupyter-widgets/base",
          "model_name": "LayoutModel",
          "state": {
            "_view_name": "LayoutView",
            "grid_template_rows": null,
            "right": null,
            "justify_content": null,
            "_view_module": "@jupyter-widgets/base",
            "overflow": null,
            "_model_module_version": "1.2.0",
            "_view_count": null,
            "flex_flow": null,
            "width": null,
            "min_width": null,
            "border": null,
            "align_items": null,
            "bottom": null,
            "_model_module": "@jupyter-widgets/base",
            "top": null,
            "grid_column": null,
            "overflow_y": null,
            "overflow_x": null,
            "grid_auto_flow": null,
            "grid_area": null,
            "grid_template_columns": null,
            "flex": null,
            "_model_name": "LayoutModel",
            "justify_items": null,
            "grid_row": null,
            "max_height": null,
            "align_content": null,
            "visibility": null,
            "align_self": null,
            "height": null,
            "min_height": null,
            "padding": null,
            "grid_auto_rows": null,
            "grid_gap": null,
            "max_width": null,
            "order": null,
            "_view_module_version": "1.2.0",
            "grid_template_areas": null,
            "object_position": null,
            "object_fit": null,
            "grid_auto_columns": null,
            "margin": null,
            "display": null,
            "left": null
          }
        },
        "cdb9ebc8a4424fdea851a9a4e06ec670": {
          "model_module": "@jupyter-widgets/controls",
          "model_name": "HBoxModel",
          "state": {
            "_view_name": "HBoxView",
            "_dom_classes": [],
            "_model_name": "HBoxModel",
            "_view_module": "@jupyter-widgets/controls",
            "_model_module_version": "1.5.0",
            "_view_count": null,
            "_view_module_version": "1.5.0",
            "box_style": "",
            "layout": "IPY_MODEL_138e30cfad734b819b9215b935d35f76",
            "_model_module": "@jupyter-widgets/controls",
            "children": [
              "IPY_MODEL_e87cb77bcfe34b14aa05da09c952d40c",
              "IPY_MODEL_59a9136f7bdc457184e24b43468adfa2"
            ]
          }
        },
        "138e30cfad734b819b9215b935d35f76": {
          "model_module": "@jupyter-widgets/base",
          "model_name": "LayoutModel",
          "state": {
            "_view_name": "LayoutView",
            "grid_template_rows": null,
            "right": null,
            "justify_content": null,
            "_view_module": "@jupyter-widgets/base",
            "overflow": null,
            "_model_module_version": "1.2.0",
            "_view_count": null,
            "flex_flow": null,
            "width": null,
            "min_width": null,
            "border": null,
            "align_items": null,
            "bottom": null,
            "_model_module": "@jupyter-widgets/base",
            "top": null,
            "grid_column": null,
            "overflow_y": null,
            "overflow_x": null,
            "grid_auto_flow": null,
            "grid_area": null,
            "grid_template_columns": null,
            "flex": null,
            "_model_name": "LayoutModel",
            "justify_items": null,
            "grid_row": null,
            "max_height": null,
            "align_content": null,
            "visibility": null,
            "align_self": null,
            "height": null,
            "min_height": null,
            "padding": null,
            "grid_auto_rows": null,
            "grid_gap": null,
            "max_width": null,
            "order": null,
            "_view_module_version": "1.2.0",
            "grid_template_areas": null,
            "object_position": null,
            "object_fit": null,
            "grid_auto_columns": null,
            "margin": null,
            "display": null,
            "left": null
          }
        },
        "e87cb77bcfe34b14aa05da09c952d40c": {
          "model_module": "@jupyter-widgets/controls",
          "model_name": "FloatProgressModel",
          "state": {
            "_view_name": "ProgressView",
            "style": "IPY_MODEL_3b9c77dabebb45bda9351b930dd3bad7",
            "_dom_classes": [],
            "description": "",
            "_model_name": "FloatProgressModel",
            "bar_style": "success",
            "max": 28881,
            "_view_module": "@jupyter-widgets/controls",
            "_model_module_version": "1.5.0",
            "value": 28881,
            "_view_count": null,
            "_view_module_version": "1.5.0",
            "orientation": "horizontal",
            "min": 0,
            "description_tooltip": null,
            "_model_module": "@jupyter-widgets/controls",
            "layout": "IPY_MODEL_ee77a4dd3cc048eaa61b76c08e7168e8"
          }
        },
        "59a9136f7bdc457184e24b43468adfa2": {
          "model_module": "@jupyter-widgets/controls",
          "model_name": "HTMLModel",
          "state": {
            "_view_name": "HTMLView",
            "style": "IPY_MODEL_834cda533ac4420e9cc0659e9787c088",
            "_dom_classes": [],
            "description": "",
            "_model_name": "HTMLModel",
            "placeholder": "​",
            "_view_module": "@jupyter-widgets/controls",
            "_model_module_version": "1.5.0",
            "value": " 29696/? [00:02&lt;00:00, 13669.44it/s]",
            "_view_count": null,
            "_view_module_version": "1.5.0",
            "description_tooltip": null,
            "_model_module": "@jupyter-widgets/controls",
            "layout": "IPY_MODEL_a5eecc05f7e24624a8dea9632519463a"
          }
        },
        "3b9c77dabebb45bda9351b930dd3bad7": {
          "model_module": "@jupyter-widgets/controls",
          "model_name": "ProgressStyleModel",
          "state": {
            "_view_name": "StyleView",
            "_model_name": "ProgressStyleModel",
            "description_width": "initial",
            "_view_module": "@jupyter-widgets/base",
            "_model_module_version": "1.5.0",
            "_view_count": null,
            "_view_module_version": "1.2.0",
            "bar_color": null,
            "_model_module": "@jupyter-widgets/controls"
          }
        },
        "ee77a4dd3cc048eaa61b76c08e7168e8": {
          "model_module": "@jupyter-widgets/base",
          "model_name": "LayoutModel",
          "state": {
            "_view_name": "LayoutView",
            "grid_template_rows": null,
            "right": null,
            "justify_content": null,
            "_view_module": "@jupyter-widgets/base",
            "overflow": null,
            "_model_module_version": "1.2.0",
            "_view_count": null,
            "flex_flow": null,
            "width": null,
            "min_width": null,
            "border": null,
            "align_items": null,
            "bottom": null,
            "_model_module": "@jupyter-widgets/base",
            "top": null,
            "grid_column": null,
            "overflow_y": null,
            "overflow_x": null,
            "grid_auto_flow": null,
            "grid_area": null,
            "grid_template_columns": null,
            "flex": null,
            "_model_name": "LayoutModel",
            "justify_items": null,
            "grid_row": null,
            "max_height": null,
            "align_content": null,
            "visibility": null,
            "align_self": null,
            "height": null,
            "min_height": null,
            "padding": null,
            "grid_auto_rows": null,
            "grid_gap": null,
            "max_width": null,
            "order": null,
            "_view_module_version": "1.2.0",
            "grid_template_areas": null,
            "object_position": null,
            "object_fit": null,
            "grid_auto_columns": null,
            "margin": null,
            "display": null,
            "left": null
          }
        },
        "834cda533ac4420e9cc0659e9787c088": {
          "model_module": "@jupyter-widgets/controls",
          "model_name": "DescriptionStyleModel",
          "state": {
            "_view_name": "StyleView",
            "_model_name": "DescriptionStyleModel",
            "description_width": "",
            "_view_module": "@jupyter-widgets/base",
            "_model_module_version": "1.5.0",
            "_view_count": null,
            "_view_module_version": "1.2.0",
            "_model_module": "@jupyter-widgets/controls"
          }
        },
        "a5eecc05f7e24624a8dea9632519463a": {
          "model_module": "@jupyter-widgets/base",
          "model_name": "LayoutModel",
          "state": {
            "_view_name": "LayoutView",
            "grid_template_rows": null,
            "right": null,
            "justify_content": null,
            "_view_module": "@jupyter-widgets/base",
            "overflow": null,
            "_model_module_version": "1.2.0",
            "_view_count": null,
            "flex_flow": null,
            "width": null,
            "min_width": null,
            "border": null,
            "align_items": null,
            "bottom": null,
            "_model_module": "@jupyter-widgets/base",
            "top": null,
            "grid_column": null,
            "overflow_y": null,
            "overflow_x": null,
            "grid_auto_flow": null,
            "grid_area": null,
            "grid_template_columns": null,
            "flex": null,
            "_model_name": "LayoutModel",
            "justify_items": null,
            "grid_row": null,
            "max_height": null,
            "align_content": null,
            "visibility": null,
            "align_self": null,
            "height": null,
            "min_height": null,
            "padding": null,
            "grid_auto_rows": null,
            "grid_gap": null,
            "max_width": null,
            "order": null,
            "_view_module_version": "1.2.0",
            "grid_template_areas": null,
            "object_position": null,
            "object_fit": null,
            "grid_auto_columns": null,
            "margin": null,
            "display": null,
            "left": null
          }
        },
        "3568b4d9ee3948beadc1a1aa728c891b": {
          "model_module": "@jupyter-widgets/controls",
          "model_name": "HBoxModel",
          "state": {
            "_view_name": "HBoxView",
            "_dom_classes": [],
            "_model_name": "HBoxModel",
            "_view_module": "@jupyter-widgets/controls",
            "_model_module_version": "1.5.0",
            "_view_count": null,
            "_view_module_version": "1.5.0",
            "box_style": "",
            "layout": "IPY_MODEL_9474880031b046be90a307b1936f9959",
            "_model_module": "@jupyter-widgets/controls",
            "children": [
              "IPY_MODEL_4e87965bfc3649da949fdb9bf5bf46d1",
              "IPY_MODEL_53fa2c4904e341aba4cdfe9563b3fcab"
            ]
          }
        },
        "9474880031b046be90a307b1936f9959": {
          "model_module": "@jupyter-widgets/base",
          "model_name": "LayoutModel",
          "state": {
            "_view_name": "LayoutView",
            "grid_template_rows": null,
            "right": null,
            "justify_content": null,
            "_view_module": "@jupyter-widgets/base",
            "overflow": null,
            "_model_module_version": "1.2.0",
            "_view_count": null,
            "flex_flow": null,
            "width": null,
            "min_width": null,
            "border": null,
            "align_items": null,
            "bottom": null,
            "_model_module": "@jupyter-widgets/base",
            "top": null,
            "grid_column": null,
            "overflow_y": null,
            "overflow_x": null,
            "grid_auto_flow": null,
            "grid_area": null,
            "grid_template_columns": null,
            "flex": null,
            "_model_name": "LayoutModel",
            "justify_items": null,
            "grid_row": null,
            "max_height": null,
            "align_content": null,
            "visibility": null,
            "align_self": null,
            "height": null,
            "min_height": null,
            "padding": null,
            "grid_auto_rows": null,
            "grid_gap": null,
            "max_width": null,
            "order": null,
            "_view_module_version": "1.2.0",
            "grid_template_areas": null,
            "object_position": null,
            "object_fit": null,
            "grid_auto_columns": null,
            "margin": null,
            "display": null,
            "left": null
          }
        },
        "4e87965bfc3649da949fdb9bf5bf46d1": {
          "model_module": "@jupyter-widgets/controls",
          "model_name": "FloatProgressModel",
          "state": {
            "_view_name": "ProgressView",
            "style": "IPY_MODEL_38d5be09847a47e98190bdddb3a87051",
            "_dom_classes": [],
            "description": "",
            "_model_name": "FloatProgressModel",
            "bar_style": "success",
            "max": 1648877,
            "_view_module": "@jupyter-widgets/controls",
            "_model_module_version": "1.5.0",
            "value": 1648877,
            "_view_count": null,
            "_view_module_version": "1.5.0",
            "orientation": "horizontal",
            "min": 0,
            "description_tooltip": null,
            "_model_module": "@jupyter-widgets/controls",
            "layout": "IPY_MODEL_8cf1be7a8a61464e83b4e1a2c4e2db8c"
          }
        },
        "53fa2c4904e341aba4cdfe9563b3fcab": {
          "model_module": "@jupyter-widgets/controls",
          "model_name": "HTMLModel",
          "state": {
            "_view_name": "HTMLView",
            "style": "IPY_MODEL_2f8c03bf077a4690a4c97322110b0789",
            "_dom_classes": [],
            "description": "",
            "_model_name": "HTMLModel",
            "placeholder": "​",
            "_view_module": "@jupyter-widgets/controls",
            "_model_module_version": "1.5.0",
            "value": " 1649664/? [00:01&lt;00:00, 1262091.33it/s]",
            "_view_count": null,
            "_view_module_version": "1.5.0",
            "description_tooltip": null,
            "_model_module": "@jupyter-widgets/controls",
            "layout": "IPY_MODEL_ba03920127564aa0809dbb29d01d3f3b"
          }
        },
        "38d5be09847a47e98190bdddb3a87051": {
          "model_module": "@jupyter-widgets/controls",
          "model_name": "ProgressStyleModel",
          "state": {
            "_view_name": "StyleView",
            "_model_name": "ProgressStyleModel",
            "description_width": "initial",
            "_view_module": "@jupyter-widgets/base",
            "_model_module_version": "1.5.0",
            "_view_count": null,
            "_view_module_version": "1.2.0",
            "bar_color": null,
            "_model_module": "@jupyter-widgets/controls"
          }
        },
        "8cf1be7a8a61464e83b4e1a2c4e2db8c": {
          "model_module": "@jupyter-widgets/base",
          "model_name": "LayoutModel",
          "state": {
            "_view_name": "LayoutView",
            "grid_template_rows": null,
            "right": null,
            "justify_content": null,
            "_view_module": "@jupyter-widgets/base",
            "overflow": null,
            "_model_module_version": "1.2.0",
            "_view_count": null,
            "flex_flow": null,
            "width": null,
            "min_width": null,
            "border": null,
            "align_items": null,
            "bottom": null,
            "_model_module": "@jupyter-widgets/base",
            "top": null,
            "grid_column": null,
            "overflow_y": null,
            "overflow_x": null,
            "grid_auto_flow": null,
            "grid_area": null,
            "grid_template_columns": null,
            "flex": null,
            "_model_name": "LayoutModel",
            "justify_items": null,
            "grid_row": null,
            "max_height": null,
            "align_content": null,
            "visibility": null,
            "align_self": null,
            "height": null,
            "min_height": null,
            "padding": null,
            "grid_auto_rows": null,
            "grid_gap": null,
            "max_width": null,
            "order": null,
            "_view_module_version": "1.2.0",
            "grid_template_areas": null,
            "object_position": null,
            "object_fit": null,
            "grid_auto_columns": null,
            "margin": null,
            "display": null,
            "left": null
          }
        },
        "2f8c03bf077a4690a4c97322110b0789": {
          "model_module": "@jupyter-widgets/controls",
          "model_name": "DescriptionStyleModel",
          "state": {
            "_view_name": "StyleView",
            "_model_name": "DescriptionStyleModel",
            "description_width": "",
            "_view_module": "@jupyter-widgets/base",
            "_model_module_version": "1.5.0",
            "_view_count": null,
            "_view_module_version": "1.2.0",
            "_model_module": "@jupyter-widgets/controls"
          }
        },
        "ba03920127564aa0809dbb29d01d3f3b": {
          "model_module": "@jupyter-widgets/base",
          "model_name": "LayoutModel",
          "state": {
            "_view_name": "LayoutView",
            "grid_template_rows": null,
            "right": null,
            "justify_content": null,
            "_view_module": "@jupyter-widgets/base",
            "overflow": null,
            "_model_module_version": "1.2.0",
            "_view_count": null,
            "flex_flow": null,
            "width": null,
            "min_width": null,
            "border": null,
            "align_items": null,
            "bottom": null,
            "_model_module": "@jupyter-widgets/base",
            "top": null,
            "grid_column": null,
            "overflow_y": null,
            "overflow_x": null,
            "grid_auto_flow": null,
            "grid_area": null,
            "grid_template_columns": null,
            "flex": null,
            "_model_name": "LayoutModel",
            "justify_items": null,
            "grid_row": null,
            "max_height": null,
            "align_content": null,
            "visibility": null,
            "align_self": null,
            "height": null,
            "min_height": null,
            "padding": null,
            "grid_auto_rows": null,
            "grid_gap": null,
            "max_width": null,
            "order": null,
            "_view_module_version": "1.2.0",
            "grid_template_areas": null,
            "object_position": null,
            "object_fit": null,
            "grid_auto_columns": null,
            "margin": null,
            "display": null,
            "left": null
          }
        },
        "738decfca9b0405a89c38036abe121c5": {
          "model_module": "@jupyter-widgets/controls",
          "model_name": "HBoxModel",
          "state": {
            "_view_name": "HBoxView",
            "_dom_classes": [],
            "_model_name": "HBoxModel",
            "_view_module": "@jupyter-widgets/controls",
            "_model_module_version": "1.5.0",
            "_view_count": null,
            "_view_module_version": "1.5.0",
            "box_style": "",
            "layout": "IPY_MODEL_a16650d1093a4e01ba747ea51ccb92d3",
            "_model_module": "@jupyter-widgets/controls",
            "children": [
              "IPY_MODEL_c5f741f101904c23baafc2316828e6ab",
              "IPY_MODEL_1f7fedff7e154ce3839cf21dfde09dad"
            ]
          }
        },
        "a16650d1093a4e01ba747ea51ccb92d3": {
          "model_module": "@jupyter-widgets/base",
          "model_name": "LayoutModel",
          "state": {
            "_view_name": "LayoutView",
            "grid_template_rows": null,
            "right": null,
            "justify_content": null,
            "_view_module": "@jupyter-widgets/base",
            "overflow": null,
            "_model_module_version": "1.2.0",
            "_view_count": null,
            "flex_flow": null,
            "width": null,
            "min_width": null,
            "border": null,
            "align_items": null,
            "bottom": null,
            "_model_module": "@jupyter-widgets/base",
            "top": null,
            "grid_column": null,
            "overflow_y": null,
            "overflow_x": null,
            "grid_auto_flow": null,
            "grid_area": null,
            "grid_template_columns": null,
            "flex": null,
            "_model_name": "LayoutModel",
            "justify_items": null,
            "grid_row": null,
            "max_height": null,
            "align_content": null,
            "visibility": null,
            "align_self": null,
            "height": null,
            "min_height": null,
            "padding": null,
            "grid_auto_rows": null,
            "grid_gap": null,
            "max_width": null,
            "order": null,
            "_view_module_version": "1.2.0",
            "grid_template_areas": null,
            "object_position": null,
            "object_fit": null,
            "grid_auto_columns": null,
            "margin": null,
            "display": null,
            "left": null
          }
        },
        "c5f741f101904c23baafc2316828e6ab": {
          "model_module": "@jupyter-widgets/controls",
          "model_name": "FloatProgressModel",
          "state": {
            "_view_name": "ProgressView",
            "style": "IPY_MODEL_de574ab552bd46ce833c75a973c154df",
            "_dom_classes": [],
            "description": "",
            "_model_name": "FloatProgressModel",
            "bar_style": "success",
            "max": 4542,
            "_view_module": "@jupyter-widgets/controls",
            "_model_module_version": "1.5.0",
            "value": 4542,
            "_view_count": null,
            "_view_module_version": "1.5.0",
            "orientation": "horizontal",
            "min": 0,
            "description_tooltip": null,
            "_model_module": "@jupyter-widgets/controls",
            "layout": "IPY_MODEL_13cac2e5dc1d4b01964cccf9b1d9a5a0"
          }
        },
        "1f7fedff7e154ce3839cf21dfde09dad": {
          "model_module": "@jupyter-widgets/controls",
          "model_name": "HTMLModel",
          "state": {
            "_view_name": "HTMLView",
            "style": "IPY_MODEL_5061414dd902492aa27f761f41785724",
            "_dom_classes": [],
            "description": "",
            "_model_name": "HTMLModel",
            "placeholder": "​",
            "_view_module": "@jupyter-widgets/controls",
            "_model_module_version": "1.5.0",
            "value": " 5120/? [05:12&lt;00:00, 16.39it/s]",
            "_view_count": null,
            "_view_module_version": "1.5.0",
            "description_tooltip": null,
            "_model_module": "@jupyter-widgets/controls",
            "layout": "IPY_MODEL_5924740fb8b946c7ac2fd406edde38b8"
          }
        },
        "de574ab552bd46ce833c75a973c154df": {
          "model_module": "@jupyter-widgets/controls",
          "model_name": "ProgressStyleModel",
          "state": {
            "_view_name": "StyleView",
            "_model_name": "ProgressStyleModel",
            "description_width": "initial",
            "_view_module": "@jupyter-widgets/base",
            "_model_module_version": "1.5.0",
            "_view_count": null,
            "_view_module_version": "1.2.0",
            "bar_color": null,
            "_model_module": "@jupyter-widgets/controls"
          }
        },
        "13cac2e5dc1d4b01964cccf9b1d9a5a0": {
          "model_module": "@jupyter-widgets/base",
          "model_name": "LayoutModel",
          "state": {
            "_view_name": "LayoutView",
            "grid_template_rows": null,
            "right": null,
            "justify_content": null,
            "_view_module": "@jupyter-widgets/base",
            "overflow": null,
            "_model_module_version": "1.2.0",
            "_view_count": null,
            "flex_flow": null,
            "width": null,
            "min_width": null,
            "border": null,
            "align_items": null,
            "bottom": null,
            "_model_module": "@jupyter-widgets/base",
            "top": null,
            "grid_column": null,
            "overflow_y": null,
            "overflow_x": null,
            "grid_auto_flow": null,
            "grid_area": null,
            "grid_template_columns": null,
            "flex": null,
            "_model_name": "LayoutModel",
            "justify_items": null,
            "grid_row": null,
            "max_height": null,
            "align_content": null,
            "visibility": null,
            "align_self": null,
            "height": null,
            "min_height": null,
            "padding": null,
            "grid_auto_rows": null,
            "grid_gap": null,
            "max_width": null,
            "order": null,
            "_view_module_version": "1.2.0",
            "grid_template_areas": null,
            "object_position": null,
            "object_fit": null,
            "grid_auto_columns": null,
            "margin": null,
            "display": null,
            "left": null
          }
        },
        "5061414dd902492aa27f761f41785724": {
          "model_module": "@jupyter-widgets/controls",
          "model_name": "DescriptionStyleModel",
          "state": {
            "_view_name": "StyleView",
            "_model_name": "DescriptionStyleModel",
            "description_width": "",
            "_view_module": "@jupyter-widgets/base",
            "_model_module_version": "1.5.0",
            "_view_count": null,
            "_view_module_version": "1.2.0",
            "_model_module": "@jupyter-widgets/controls"
          }
        },
        "5924740fb8b946c7ac2fd406edde38b8": {
          "model_module": "@jupyter-widgets/base",
          "model_name": "LayoutModel",
          "state": {
            "_view_name": "LayoutView",
            "grid_template_rows": null,
            "right": null,
            "justify_content": null,
            "_view_module": "@jupyter-widgets/base",
            "overflow": null,
            "_model_module_version": "1.2.0",
            "_view_count": null,
            "flex_flow": null,
            "width": null,
            "min_width": null,
            "border": null,
            "align_items": null,
            "bottom": null,
            "_model_module": "@jupyter-widgets/base",
            "top": null,
            "grid_column": null,
            "overflow_y": null,
            "overflow_x": null,
            "grid_auto_flow": null,
            "grid_area": null,
            "grid_template_columns": null,
            "flex": null,
            "_model_name": "LayoutModel",
            "justify_items": null,
            "grid_row": null,
            "max_height": null,
            "align_content": null,
            "visibility": null,
            "align_self": null,
            "height": null,
            "min_height": null,
            "padding": null,
            "grid_auto_rows": null,
            "grid_gap": null,
            "max_width": null,
            "order": null,
            "_view_module_version": "1.2.0",
            "grid_template_areas": null,
            "object_position": null,
            "object_fit": null,
            "grid_auto_columns": null,
            "margin": null,
            "display": null,
            "left": null
          }
        }
      }
    }
  },
  "cells": [
    {
      "cell_type": "markdown",
      "metadata": {
        "id": "view-in-github",
        "colab_type": "text"
      },
      "source": [
        "<a href=\"https://colab.research.google.com/github/gkdivya/EVA/blob/main/5_CodingDrillDown/Experiments/MNIST_FinalIteration.ipynb\" target=\"_parent\"><img src=\"https://colab.research.google.com/assets/colab-badge.svg\" alt=\"Open In Colab\"/></a>"
      ]
    },
    {
      "cell_type": "markdown",
      "metadata": {
        "id": "rknTUK3DuSx5"
      },
      "source": [
        "# Final Iteration\n",
        "\n",
        "**Objective** : In previous [experiment](https://github.com/gkdivya/EVA/blob/main/4_ArchitecturalBasics/Experiments/MNIST_Exp2_WithTransitionBlock.ipynb) with **5690** parameters, we were able to achieve 98% accuracy. In this notebook, we will be using **Batch Normalization** and observe if it helps with the accuracy."
      ]
    },
    {
      "cell_type": "markdown",
      "metadata": {
        "id": "BhBxIDh3uOrb"
      },
      "source": [
        "**Batch Normalization**:\n",
        "Even though we normalize the input values with Image normalization transform, parameter values changes while training the network.\n",
        "\n",
        "Batch Normalization is a technique to normalize the values getting passed within the network. \n",
        "\n",
        "Its normally applied to activations of a prior convolutional layer or on the inputs directly.\n",
        "\n",
        "[torch.nn.BatchNorm2d](https://pytorch.org/docs/stable/generated/torch.nn.BatchNorm2d.html) \n",
        "\n",
        "It helps with faster and smoother training process."
      ]
    },
    {
      "cell_type": "markdown",
      "metadata": {
        "id": "SAWtYhLEGJy7"
      },
      "source": [
        "\n",
        "![image.png](data:image/png;base64,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)\n"
      ]
    },
    {
      "cell_type": "code",
      "metadata": {
        "id": "0m2JWFliFfKT"
      },
      "source": [
        "from __future__ import print_function\n",
        "import torch\n",
        "import torch.nn as nn\n",
        "import torch.nn.functional as F\n",
        "import torch.optim as optim\n",
        "from torchvision import datasets, transforms\n",
        "%matplotlib inline\n",
        "import matplotlib.pyplot as plt"
      ],
      "execution_count": 11,
      "outputs": []
    },
    {
      "cell_type": "code",
      "metadata": {
        "id": "h_Cx9q2QFgM7"
      },
      "source": [
        "class Net(nn.Module):\n",
        "    def __init__(self):\n",
        "        super(Net, self).__init__()\n",
        "        # Input Block\n",
        "        self.conv1 = nn.Sequential(\n",
        "            nn.Conv2d(in_channels=1, out_channels=8, kernel_size=(3, 3), padding=0, bias=False),\n",
        "            nn.ReLU(),\n",
        "            nn.BatchNorm2d(8),\n",
        "            nn.Dropout(0.1),\n",
        "\n",
        "            nn.Conv2d(in_channels=8, out_channels=16, kernel_size=(3, 3), padding=0, bias=False),\n",
        "            nn.ReLU(),\n",
        "            nn.BatchNorm2d(16),\n",
        "            nn.Dropout(0.1),\n",
        "        ) \n",
        "\n",
        "        #Transition Block\n",
        "        self.trans1 = nn.Sequential(\n",
        "            \n",
        "            nn.MaxPool2d(2, 2), # output_size = 12\n",
        "            nn.Conv2d(in_channels=16, out_channels=8, kernel_size=(1, 1), padding=0, bias=False)\n",
        "        ) # output_size = 24\n",
        "        \n",
        "\n",
        "        # CONVOLUTION BLOCK 2\n",
        "        self.conv2 = nn.Sequential(\n",
        "            nn.Conv2d(in_channels=8, out_channels=16, kernel_size=(3, 3), padding=0, bias=False),\n",
        "            nn.ReLU(),            \n",
        "            nn.BatchNorm2d(16),\n",
        "            nn.Dropout(0.1),\n",
        "\n",
        "            nn.Conv2d(in_channels=16, out_channels=8, kernel_size=(3, 3), padding=0, bias=False),\n",
        "            nn.ReLU(),            \n",
        "            nn.BatchNorm2d(8),\n",
        "            nn.Dropout(0.1),\n",
        "\n",
        "            nn.Conv2d(in_channels=8, out_channels=8, kernel_size=(3, 3), padding=0, bias=False),\n",
        "            nn.ReLU(),            \n",
        "            nn.BatchNorm2d(8),\n",
        "            nn.Dropout(0.1),\n",
        "\n",
        "            nn.Conv2d(in_channels=8, out_channels=10, kernel_size=(3, 3), padding=1, bias=False),\n",
        "            nn.ReLU(),            \n",
        "            nn.BatchNorm2d(10),\n",
        "            nn.Dropout(0.1)\n",
        "\n",
        "        ) \n",
        "        \n",
        "        # OUTPUT BLOCK\n",
        "        self.avgpool2d = nn.AvgPool2d(kernel_size=6)\n",
        "\n",
        "        self.conv3 = nn.Conv2d(in_channels=10, out_channels=10, kernel_size=(1, 1), padding=0, bias=False)\n",
        "\n",
        "    def forward(self, x):\n",
        "        x = self.conv1(x)\n",
        "        x = self.trans1(x)\n",
        "        x = self.conv2(x)\n",
        "        x = self.avgpool2d(x)\n",
        "        x = self.conv3(x)\n",
        "\n",
        "        x = x.view(-1, 10)\n",
        "        return F.log_softmax(x, dim=-1)"
      ],
      "execution_count": 2,
      "outputs": []
    },
    {
      "cell_type": "code",
      "metadata": {
        "id": "xdydjYTZFyi3",
        "colab": {
          "base_uri": "https://localhost:8080/"
        },
        "outputId": "cdecc7d8-c5d9-4679-b8a3-a95c42efb0d8"
      },
      "source": [
        "!pip install torchsummary\n",
        "from torchsummary import summary\n",
        "use_cuda = torch.cuda.is_available()\n",
        "device = torch.device(\"cuda\" if use_cuda else \"cpu\")\n",
        "model = Net().to(device)\n",
        "summary(model, input_size=(1, 28, 28))"
      ],
      "execution_count": 3,
      "outputs": [
        {
          "output_type": "stream",
          "text": [
            "Requirement already satisfied: torchsummary in /usr/local/lib/python3.7/dist-packages (1.5.1)\n",
            "----------------------------------------------------------------\n",
            "        Layer (type)               Output Shape         Param #\n",
            "================================================================\n",
            "            Conv2d-1            [-1, 8, 26, 26]              72\n",
            "              ReLU-2            [-1, 8, 26, 26]               0\n",
            "       BatchNorm2d-3            [-1, 8, 26, 26]              16\n",
            "           Dropout-4            [-1, 8, 26, 26]               0\n",
            "            Conv2d-5           [-1, 16, 24, 24]           1,152\n",
            "              ReLU-6           [-1, 16, 24, 24]               0\n",
            "       BatchNorm2d-7           [-1, 16, 24, 24]              32\n",
            "           Dropout-8           [-1, 16, 24, 24]               0\n",
            "         MaxPool2d-9           [-1, 16, 12, 12]               0\n",
            "           Conv2d-10            [-1, 8, 12, 12]             128\n",
            "           Conv2d-11           [-1, 16, 10, 10]           1,152\n",
            "             ReLU-12           [-1, 16, 10, 10]               0\n",
            "      BatchNorm2d-13           [-1, 16, 10, 10]              32\n",
            "          Dropout-14           [-1, 16, 10, 10]               0\n",
            "           Conv2d-15              [-1, 8, 8, 8]           1,152\n",
            "             ReLU-16              [-1, 8, 8, 8]               0\n",
            "      BatchNorm2d-17              [-1, 8, 8, 8]              16\n",
            "          Dropout-18              [-1, 8, 8, 8]               0\n",
            "           Conv2d-19              [-1, 8, 6, 6]             576\n",
            "             ReLU-20              [-1, 8, 6, 6]               0\n",
            "      BatchNorm2d-21              [-1, 8, 6, 6]              16\n",
            "          Dropout-22              [-1, 8, 6, 6]               0\n",
            "           Conv2d-23             [-1, 10, 6, 6]             720\n",
            "             ReLU-24             [-1, 10, 6, 6]               0\n",
            "      BatchNorm2d-25             [-1, 10, 6, 6]              20\n",
            "          Dropout-26             [-1, 10, 6, 6]               0\n",
            "        AvgPool2d-27             [-1, 10, 1, 1]               0\n",
            "           Conv2d-28             [-1, 10, 1, 1]             100\n",
            "================================================================\n",
            "Total params: 5,184\n",
            "Trainable params: 5,184\n",
            "Non-trainable params: 0\n",
            "----------------------------------------------------------------\n",
            "Input size (MB): 0.00\n",
            "Forward/backward pass size (MB): 0.56\n",
            "Params size (MB): 0.02\n",
            "Estimated Total Size (MB): 0.58\n",
            "----------------------------------------------------------------\n"
          ],
          "name": "stdout"
        }
      ]
    },
    {
      "cell_type": "code",
      "metadata": {
        "id": "DqTWLaM5GHgH",
        "colab": {
          "base_uri": "https://localhost:8080/",
          "height": 893,
          "referenced_widgets": [
            "b40be9544bac4701b12867ea74ea43da",
            "64a29f3875ed4c1b85018f3624a6feaa",
            "a3c0999dfffe4f5984b91e363e6f4baf",
            "c510467e49d44d0d823fdbd762c461ac",
            "ca79367df69c44599243f9b9cd41eea0",
            "3ac829e5430a429082aa43cff7af64f5",
            "74557cb791d64487b46083127ac5a06f",
            "5b001a637b0b4280946e6f5ed17b7dbd",
            "cdb9ebc8a4424fdea851a9a4e06ec670",
            "138e30cfad734b819b9215b935d35f76",
            "e87cb77bcfe34b14aa05da09c952d40c",
            "59a9136f7bdc457184e24b43468adfa2",
            "3b9c77dabebb45bda9351b930dd3bad7",
            "ee77a4dd3cc048eaa61b76c08e7168e8",
            "834cda533ac4420e9cc0659e9787c088",
            "a5eecc05f7e24624a8dea9632519463a",
            "3568b4d9ee3948beadc1a1aa728c891b",
            "9474880031b046be90a307b1936f9959",
            "4e87965bfc3649da949fdb9bf5bf46d1",
            "53fa2c4904e341aba4cdfe9563b3fcab",
            "38d5be09847a47e98190bdddb3a87051",
            "8cf1be7a8a61464e83b4e1a2c4e2db8c",
            "2f8c03bf077a4690a4c97322110b0789",
            "ba03920127564aa0809dbb29d01d3f3b",
            "738decfca9b0405a89c38036abe121c5",
            "a16650d1093a4e01ba747ea51ccb92d3",
            "c5f741f101904c23baafc2316828e6ab",
            "1f7fedff7e154ce3839cf21dfde09dad",
            "de574ab552bd46ce833c75a973c154df",
            "13cac2e5dc1d4b01964cccf9b1d9a5a0",
            "5061414dd902492aa27f761f41785724",
            "5924740fb8b946c7ac2fd406edde38b8"
          ]
        },
        "outputId": "d7cc5404-8dd1-400f-ac3d-323b8a8892e9"
      },
      "source": [
        "torch.manual_seed(1)\n",
        "batch_size = 128\n",
        "\n",
        "kwargs = {'num_workers': 1, 'pin_memory': True} if use_cuda else {}\n",
        "train_loader = torch.utils.data.DataLoader(\n",
        "    datasets.MNIST('../data', train=True, download=True,\n",
        "                    transform=transforms.Compose([\n",
        "                        transforms.ToTensor(),\n",
        "                        transforms.Normalize((0.1307,), (0.3081,))\n",
        "                    ])),\n",
        "    batch_size=batch_size, shuffle=True, **kwargs)\n",
        "test_loader = torch.utils.data.DataLoader(\n",
        "    datasets.MNIST('../data', train=False, transform=transforms.Compose([\n",
        "                        transforms.ToTensor(),\n",
        "                        transforms.Normalize((0.1307,), (0.3081,))\n",
        "                    ])),\n",
        "    batch_size=batch_size, shuffle=True, **kwargs)\n"
      ],
      "execution_count": 4,
      "outputs": [
        {
          "output_type": "stream",
          "text": [
            "Downloading http://yann.lecun.com/exdb/mnist/train-images-idx3-ubyte.gz\n",
            "Downloading http://yann.lecun.com/exdb/mnist/train-images-idx3-ubyte.gz to ../data/MNIST/raw/train-images-idx3-ubyte.gz\n",
            "Failed to download (trying next):\n",
            "HTTP Error 503: Service Unavailable\n",
            "\n",
            "Downloading https://ossci-datasets.s3.amazonaws.com/mnist/train-images-idx3-ubyte.gz\n",
            "Downloading https://ossci-datasets.s3.amazonaws.com/mnist/train-images-idx3-ubyte.gz to ../data/MNIST/raw/train-images-idx3-ubyte.gz\n"
          ],
          "name": "stdout"
        },
        {
          "output_type": "display_data",
          "data": {
            "application/vnd.jupyter.widget-view+json": {
              "model_id": "b40be9544bac4701b12867ea74ea43da",
              "version_minor": 0,
              "version_major": 2
            },
            "text/plain": [
              "HBox(children=(FloatProgress(value=0.0, max=9912422.0), HTML(value='')))"
            ]
          },
          "metadata": {
            "tags": []
          }
        },
        {
          "output_type": "stream",
          "text": [
            "\n",
            "Extracting ../data/MNIST/raw/train-images-idx3-ubyte.gz to ../data/MNIST/raw\n",
            "\n",
            "Downloading http://yann.lecun.com/exdb/mnist/train-labels-idx1-ubyte.gz\n",
            "Failed to download (trying next):\n",
            "HTTP Error 503: Service Unavailable\n",
            "\n",
            "Downloading https://ossci-datasets.s3.amazonaws.com/mnist/train-labels-idx1-ubyte.gz\n",
            "Downloading https://ossci-datasets.s3.amazonaws.com/mnist/train-labels-idx1-ubyte.gz to ../data/MNIST/raw/train-labels-idx1-ubyte.gz\n"
          ],
          "name": "stdout"
        },
        {
          "output_type": "display_data",
          "data": {
            "application/vnd.jupyter.widget-view+json": {
              "model_id": "cdb9ebc8a4424fdea851a9a4e06ec670",
              "version_minor": 0,
              "version_major": 2
            },
            "text/plain": [
              "HBox(children=(FloatProgress(value=0.0, max=28881.0), HTML(value='')))"
            ]
          },
          "metadata": {
            "tags": []
          }
        },
        {
          "output_type": "stream",
          "text": [
            "\n",
            "Extracting ../data/MNIST/raw/train-labels-idx1-ubyte.gz to ../data/MNIST/raw\n",
            "\n",
            "Downloading http://yann.lecun.com/exdb/mnist/t10k-images-idx3-ubyte.gz\n",
            "Failed to download (trying next):\n",
            "HTTP Error 503: Service Unavailable\n",
            "\n",
            "Downloading https://ossci-datasets.s3.amazonaws.com/mnist/t10k-images-idx3-ubyte.gz\n",
            "Downloading https://ossci-datasets.s3.amazonaws.com/mnist/t10k-images-idx3-ubyte.gz to ../data/MNIST/raw/t10k-images-idx3-ubyte.gz\n"
          ],
          "name": "stdout"
        },
        {
          "output_type": "display_data",
          "data": {
            "application/vnd.jupyter.widget-view+json": {
              "model_id": "3568b4d9ee3948beadc1a1aa728c891b",
              "version_minor": 0,
              "version_major": 2
            },
            "text/plain": [
              "HBox(children=(FloatProgress(value=0.0, max=1648877.0), HTML(value='')))"
            ]
          },
          "metadata": {
            "tags": []
          }
        },
        {
          "output_type": "stream",
          "text": [
            "\n",
            "Extracting ../data/MNIST/raw/t10k-images-idx3-ubyte.gz to ../data/MNIST/raw\n",
            "\n",
            "Downloading http://yann.lecun.com/exdb/mnist/t10k-labels-idx1-ubyte.gz\n",
            "Failed to download (trying next):\n",
            "HTTP Error 503: Service Unavailable\n",
            "\n",
            "Downloading https://ossci-datasets.s3.amazonaws.com/mnist/t10k-labels-idx1-ubyte.gz\n",
            "Downloading https://ossci-datasets.s3.amazonaws.com/mnist/t10k-labels-idx1-ubyte.gz to ../data/MNIST/raw/t10k-labels-idx1-ubyte.gz\n"
          ],
          "name": "stdout"
        },
        {
          "output_type": "display_data",
          "data": {
            "application/vnd.jupyter.widget-view+json": {
              "model_id": "738decfca9b0405a89c38036abe121c5",
              "version_minor": 0,
              "version_major": 2
            },
            "text/plain": [
              "HBox(children=(FloatProgress(value=0.0, max=4542.0), HTML(value='')))"
            ]
          },
          "metadata": {
            "tags": []
          }
        },
        {
          "output_type": "stream",
          "text": [
            "\n",
            "Extracting ../data/MNIST/raw/t10k-labels-idx1-ubyte.gz to ../data/MNIST/raw\n",
            "\n",
            "Processing...\n",
            "Done!\n"
          ],
          "name": "stdout"
        },
        {
          "output_type": "stream",
          "text": [
            "/usr/local/lib/python3.7/dist-packages/torchvision/datasets/mnist.py:502: UserWarning: The given NumPy array is not writeable, and PyTorch does not support non-writeable tensors. This means you can write to the underlying (supposedly non-writeable) NumPy array using the tensor. You may want to copy the array to protect its data or make it writeable before converting it to a tensor. This type of warning will be suppressed for the rest of this program. (Triggered internally at  /pytorch/torch/csrc/utils/tensor_numpy.cpp:143.)\n",
            "  return torch.from_numpy(parsed.astype(m[2], copy=False)).view(*s)\n"
          ],
          "name": "stderr"
        }
      ]
    },
    {
      "cell_type": "code",
      "metadata": {
        "id": "8fDefDhaFlwH"
      },
      "source": [
        "from tqdm import tqdm\n",
        "def train(model, device, train_loader, optimizer, epoch):\n",
        "    model.train()\n",
        "    pbar = tqdm(train_loader)\n",
        "    for batch_idx, (data, target) in enumerate(pbar):\n",
        "        data, target = data.to(device), target.to(device)\n",
        "        optimizer.zero_grad()\n",
        "        output = model(data)\n",
        "        loss = F.nll_loss(output, target)\n",
        "        loss.backward()\n",
        "        optimizer.step()\n",
        "        pbar.set_description(desc= f'epoch={epoch} loss={loss.item():.10f} batch_id={batch_idx:05d}')\n",
        "    #print( f'Epoch {epoch} - \\nTrain set : loss={loss.item()} batch_id={batch_idx}')\n",
        "\n",
        "\n",
        "def test(model, device, test_loader):\n",
        "    model.eval()\n",
        "    test_loss = 0\n",
        "    correct = 0\n",
        "    with torch.no_grad():\n",
        "        for data, target in test_loader:\n",
        "            data, target = data.to(device), target.to(device)\n",
        "            output = model(data)\n",
        "            test_loss += F.nll_loss(output, target, reduction='sum').item()  # sum up batch loss\n",
        "            pred = output.argmax(dim=1, keepdim=True)  # get the index of the max log-probability\n",
        "            correct += pred.eq(target.view_as(pred)).sum().item()\n",
        "\n",
        "    test_loss /= len(test_loader.dataset)\n",
        "\n",
        "    print('Test set: Average loss: {:.4f}, Accuracy: {}/{} ({:.2f}%)\\n'.format(\n",
        "        test_loss, correct, len(test_loader.dataset),\n",
        "        100. * correct / len(test_loader.dataset)))"
      ],
      "execution_count": 5,
      "outputs": []
    },
    {
      "cell_type": "code",
      "metadata": {
        "id": "MMWbLWO6FuHb",
        "colab": {
          "base_uri": "https://localhost:8080/"
        },
        "outputId": "1a962be5-7b1f-42c2-c78d-5bebee18993d"
      },
      "source": [
        "\n",
        "model = Net().to(device)\n",
        "optimizer = optim.SGD(model.parameters(), lr=0.015, momentum=0.9)\n",
        "#scheduler = StepLR(optimizer, step_size=10, gamma=0.01)\n",
        "\n",
        "for epoch in range(1, 20):\n",
        "    train(model, device, train_loader, optimizer, epoch)\n",
        "    test(model, device, test_loader)\n",
        "\n",
        "    #scheduler.step()"
      ],
      "execution_count": 7,
      "outputs": [
        {
          "output_type": "stream",
          "text": [
            "epoch=1 loss=0.0838816166 batch_id=00468: 100%|██████████| 469/469 [00:11<00:00, 40.95it/s]\n",
            "  0%|          | 0/469 [00:00<?, ?it/s]"
          ],
          "name": "stderr"
        },
        {
          "output_type": "stream",
          "text": [
            "Test set: Average loss: 0.1320, Accuracy: 9634/10000 (96.34%)\n",
            "\n"
          ],
          "name": "stdout"
        },
        {
          "output_type": "stream",
          "text": [
            "epoch=2 loss=0.0575255454 batch_id=00468: 100%|██████████| 469/469 [00:11<00:00, 39.83it/s]\n",
            "  0%|          | 0/469 [00:00<?, ?it/s]"
          ],
          "name": "stderr"
        },
        {
          "output_type": "stream",
          "text": [
            "Test set: Average loss: 0.0748, Accuracy: 9763/10000 (97.63%)\n",
            "\n"
          ],
          "name": "stdout"
        },
        {
          "output_type": "stream",
          "text": [
            "epoch=3 loss=0.0443887524 batch_id=00468: 100%|██████████| 469/469 [00:11<00:00, 39.72it/s]\n",
            "  0%|          | 0/469 [00:00<?, ?it/s]"
          ],
          "name": "stderr"
        },
        {
          "output_type": "stream",
          "text": [
            "Test set: Average loss: 0.0475, Accuracy: 9857/10000 (98.57%)\n",
            "\n"
          ],
          "name": "stdout"
        },
        {
          "output_type": "stream",
          "text": [
            "epoch=4 loss=0.0828942582 batch_id=00468: 100%|██████████| 469/469 [00:11<00:00, 40.94it/s]\n",
            "  0%|          | 0/469 [00:00<?, ?it/s]"
          ],
          "name": "stderr"
        },
        {
          "output_type": "stream",
          "text": [
            "Test set: Average loss: 0.0509, Accuracy: 9857/10000 (98.57%)\n",
            "\n"
          ],
          "name": "stdout"
        },
        {
          "output_type": "stream",
          "text": [
            "epoch=5 loss=0.0450144000 batch_id=00468: 100%|██████████| 469/469 [00:11<00:00, 40.69it/s]\n",
            "  0%|          | 0/469 [00:00<?, ?it/s]"
          ],
          "name": "stderr"
        },
        {
          "output_type": "stream",
          "text": [
            "Test set: Average loss: 0.0420, Accuracy: 9872/10000 (98.72%)\n",
            "\n"
          ],
          "name": "stdout"
        },
        {
          "output_type": "stream",
          "text": [
            "epoch=6 loss=0.0616141222 batch_id=00468: 100%|██████████| 469/469 [00:11<00:00, 40.77it/s]\n",
            "  0%|          | 0/469 [00:00<?, ?it/s]"
          ],
          "name": "stderr"
        },
        {
          "output_type": "stream",
          "text": [
            "Test set: Average loss: 0.0328, Accuracy: 9901/10000 (99.01%)\n",
            "\n"
          ],
          "name": "stdout"
        },
        {
          "output_type": "stream",
          "text": [
            "epoch=7 loss=0.0735387951 batch_id=00468: 100%|██████████| 469/469 [00:11<00:00, 40.64it/s]\n",
            "  0%|          | 0/469 [00:00<?, ?it/s]"
          ],
          "name": "stderr"
        },
        {
          "output_type": "stream",
          "text": [
            "Test set: Average loss: 0.0322, Accuracy: 9896/10000 (98.96%)\n",
            "\n"
          ],
          "name": "stdout"
        },
        {
          "output_type": "stream",
          "text": [
            "epoch=8 loss=0.0179356430 batch_id=00468: 100%|██████████| 469/469 [00:11<00:00, 40.64it/s]\n",
            "  0%|          | 0/469 [00:00<?, ?it/s]"
          ],
          "name": "stderr"
        },
        {
          "output_type": "stream",
          "text": [
            "Test set: Average loss: 0.0378, Accuracy: 9885/10000 (98.85%)\n",
            "\n"
          ],
          "name": "stdout"
        },
        {
          "output_type": "stream",
          "text": [
            "epoch=9 loss=0.0473811179 batch_id=00468: 100%|██████████| 469/469 [00:11<00:00, 39.70it/s]\n",
            "  0%|          | 0/469 [00:00<?, ?it/s]"
          ],
          "name": "stderr"
        },
        {
          "output_type": "stream",
          "text": [
            "Test set: Average loss: 0.0342, Accuracy: 9909/10000 (99.09%)\n",
            "\n"
          ],
          "name": "stdout"
        },
        {
          "output_type": "stream",
          "text": [
            "epoch=10 loss=0.0813362896 batch_id=00468: 100%|██████████| 469/469 [00:11<00:00, 40.16it/s]\n",
            "  0%|          | 0/469 [00:00<?, ?it/s]"
          ],
          "name": "stderr"
        },
        {
          "output_type": "stream",
          "text": [
            "Test set: Average loss: 0.0284, Accuracy: 9904/10000 (99.04%)\n",
            "\n"
          ],
          "name": "stdout"
        },
        {
          "output_type": "stream",
          "text": [
            "epoch=11 loss=0.0445103608 batch_id=00468: 100%|██████████| 469/469 [00:11<00:00, 40.14it/s]\n",
            "  0%|          | 0/469 [00:00<?, ?it/s]"
          ],
          "name": "stderr"
        },
        {
          "output_type": "stream",
          "text": [
            "Test set: Average loss: 0.0284, Accuracy: 9928/10000 (99.28%)\n",
            "\n"
          ],
          "name": "stdout"
        },
        {
          "output_type": "stream",
          "text": [
            "epoch=12 loss=0.0288792569 batch_id=00468: 100%|██████████| 469/469 [00:11<00:00, 40.24it/s]\n",
            "  0%|          | 0/469 [00:00<?, ?it/s]"
          ],
          "name": "stderr"
        },
        {
          "output_type": "stream",
          "text": [
            "Test set: Average loss: 0.0263, Accuracy: 9920/10000 (99.20%)\n",
            "\n"
          ],
          "name": "stdout"
        },
        {
          "output_type": "stream",
          "text": [
            "epoch=13 loss=0.0628350005 batch_id=00468: 100%|██████████| 469/469 [00:11<00:00, 40.57it/s]\n",
            "  0%|          | 0/469 [00:00<?, ?it/s]"
          ],
          "name": "stderr"
        },
        {
          "output_type": "stream",
          "text": [
            "Test set: Average loss: 0.0304, Accuracy: 9913/10000 (99.13%)\n",
            "\n"
          ],
          "name": "stdout"
        },
        {
          "output_type": "stream",
          "text": [
            "epoch=14 loss=0.0294503495 batch_id=00468: 100%|██████████| 469/469 [00:11<00:00, 40.23it/s]\n",
            "  0%|          | 0/469 [00:00<?, ?it/s]"
          ],
          "name": "stderr"
        },
        {
          "output_type": "stream",
          "text": [
            "Test set: Average loss: 0.0259, Accuracy: 9922/10000 (99.22%)\n",
            "\n"
          ],
          "name": "stdout"
        },
        {
          "output_type": "stream",
          "text": [
            "epoch=15 loss=0.0359564684 batch_id=00468: 100%|██████████| 469/469 [00:11<00:00, 39.90it/s]\n",
            "  0%|          | 0/469 [00:00<?, ?it/s]"
          ],
          "name": "stderr"
        },
        {
          "output_type": "stream",
          "text": [
            "Test set: Average loss: 0.0312, Accuracy: 9907/10000 (99.07%)\n",
            "\n"
          ],
          "name": "stdout"
        },
        {
          "output_type": "stream",
          "text": [
            "epoch=16 loss=0.0526295640 batch_id=00468: 100%|██████████| 469/469 [00:11<00:00, 40.54it/s]\n",
            "  0%|          | 0/469 [00:00<?, ?it/s]"
          ],
          "name": "stderr"
        },
        {
          "output_type": "stream",
          "text": [
            "Test set: Average loss: 0.0328, Accuracy: 9896/10000 (98.96%)\n",
            "\n"
          ],
          "name": "stdout"
        },
        {
          "output_type": "stream",
          "text": [
            "epoch=17 loss=0.0575863682 batch_id=00468: 100%|██████████| 469/469 [00:11<00:00, 39.61it/s]\n",
            "  0%|          | 0/469 [00:00<?, ?it/s]"
          ],
          "name": "stderr"
        },
        {
          "output_type": "stream",
          "text": [
            "Test set: Average loss: 0.0275, Accuracy: 9921/10000 (99.21%)\n",
            "\n"
          ],
          "name": "stdout"
        },
        {
          "output_type": "stream",
          "text": [
            "epoch=18 loss=0.0062577981 batch_id=00468: 100%|██████████| 469/469 [00:11<00:00, 40.26it/s]\n",
            "  0%|          | 0/469 [00:00<?, ?it/s]"
          ],
          "name": "stderr"
        },
        {
          "output_type": "stream",
          "text": [
            "Test set: Average loss: 0.0290, Accuracy: 9914/10000 (99.14%)\n",
            "\n"
          ],
          "name": "stdout"
        },
        {
          "output_type": "stream",
          "text": [
            "epoch=19 loss=0.0265761372 batch_id=00468: 100%|██████████| 469/469 [00:11<00:00, 40.56it/s]\n"
          ],
          "name": "stderr"
        },
        {
          "output_type": "stream",
          "text": [
            "Test set: Average loss: 0.0283, Accuracy: 9918/10000 (99.18%)\n",
            "\n"
          ],
          "name": "stdout"
        }
      ]
    },
    {
      "cell_type": "code",
      "metadata": {
        "id": "BGO7sXpirw3r"
      },
      "source": [
        "results = {'Correct': [] ,\n",
        "           'Wrong': []}\n",
        "\n",
        "with torch.no_grad():\n",
        "  data, target = data.to(device), target.to(device)\n",
        "  output = model(data)        \n",
        "  pred = output.argmax(dim=1, keepdim=True)  # get the index of the max log-probability\n",
        "  for index in range(len(test_loader)):\n",
        "    plt_dt = dict()\n",
        "    plt_dt['Image'], plt_dt['actual'], plt_dt['pred'] = data[index].to('cpu'), target[index].to('cpu'), pred[index].to('cpu')\n",
        "\n",
        "    #Correct prediction\n",
        "    if (plt_dt['pred'] == plt_dt['actual']):\n",
        "      results['Correct'].append(plt_dt)\n",
        "    #Wrong prediction\n",
        "    else:\n",
        "      results['Wrong'].append(plt_dt)"
      ],
      "execution_count": 49,
      "outputs": []
    },
    {
      "cell_type": "code",
      "metadata": {
        "id": "Ry2iCp6Weaeu"
      },
      "source": [
        "import numpy as np"
      ],
      "execution_count": 50,
      "outputs": []
    },
    {
      "cell_type": "code",
      "metadata": {
        "colab": {
          "base_uri": "https://localhost:8080/"
        },
        "id": "qp9n4oeUmmxu",
        "outputId": "0a6a34c4-2eca-4abc-852d-dd4ee08b54f2"
      },
      "source": [
        "len(results['Wrong'])"
      ],
      "execution_count": 52,
      "outputs": [
        {
          "output_type": "execute_result",
          "data": {
            "text/plain": [
              "1"
            ]
          },
          "metadata": {
            "tags": []
          },
          "execution_count": 52
        }
      ]
    },
    {
      "cell_type": "code",
      "metadata": {
        "colab": {
          "base_uri": "https://localhost:8080/",
          "height": 1000
        },
        "id": "EytTxjFLeChA",
        "outputId": "722c2696-e123-4e49-b021-5308933934ff"
      },
      "source": [
        "results_to_eval = 1\n",
        "plt.figure(figsize=(14,14)) \n",
        "\n",
        "for i in range(len(results['Correct'])):\n",
        "  #plt.subplot(1,results_to_eval,i+1)  \n",
        "  pixels = np.array(results['Correct'][i]['Image'].cpu() , dtype='uint8')\n",
        "\n",
        "  # Reshape the array into 28 x 28 array (2-dimensional array)\n",
        "  pixels = pixels.reshape((28, 28))\n",
        "\n",
        "  # Plot\n",
        "  plt.title('Actual Value is {label}\\n Predicted Value is {pred}'.format(label=results['Correct'][i]['actual'].cpu(), pred =results['Correct'][i]['pred'].cpu()[0]),  color='b')\n",
        "  plt.imshow(pixels, cmap='gray')\n",
        "\n",
        "\n",
        "plt.show()\n",
        "\n",
        "plt.figure(figsize=(14,14)) \n",
        "\n",
        "for i in range(len(results['Wrong'])):\n",
        "  plt.subplot(1,results_to_eval,i+1)  \n",
        "  pixels = np.array(results['Wrong'][i]['Image'].cpu() , dtype='uint8')\n",
        "\n",
        "  # Reshape the array into 28 x 28 array (2-dimensional array)\n",
        "  pixels = pixels.reshape((28, 28))\n",
        "\n",
        "  # Plot\n",
        "  plt.title('Actual Value is {label}\\n Predicted Value is {pred}'.format(label=results['Wrong'][i]['actual'].cpu(), pred =results['Wrong'][i]['pred'].cpu()[0]), color='r')\n",
        "  plt.imshow(pixels, cmap='gray')\n",
        "\n",
        "plt.show()\n"
      ],
      "execution_count": 54,
      "outputs": [
        {
          "output_type": "display_data",
          "data": {
            "image/png": "[encoded data removed]",
            "text/plain": [
              "<Figure size 1008x1008 with 1 Axes>"
            ]
          },
          "metadata": {
            "tags": [],
            "needs_background": "light"
          }
        },
        {
          "output_type": "display_data",
          "data": {
            "image/png": "[encoded data removed]",
            "text/plain": [
              "<Figure size 1008x1008 with 1 Axes>"
            ]
          },
          "metadata": {
            "tags": [],
            "needs_background": "light"
          }
        }
      ]
    },
    {
      "cell_type": "code",
      "metadata": {
        "id": "gPE49FS0eL1C"
      },
      "source": [
        ""
      ],
      "execution_count": null,
      "outputs": []
    }
  ]
}