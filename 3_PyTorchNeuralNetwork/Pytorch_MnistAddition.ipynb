{
  "nbformat": 4,
  "nbformat_minor": 0,
  "metadata": {
    "colab": {
      "name": "Pytorch_MnistAddition.ipynb",
      "provenance": [],
      "collapsed_sections": [],
      "toc_visible": true,
      "authorship_tag": "ABX9TyMTYQraIEh2dzsm2hTLHLeJ",
      "include_colab_link": true
    },
    "kernelspec": {
      "name": "python3",
      "display_name": "Python 3"
    },
    "language_info": {
      "name": "python"
    },
    "accelerator": "GPU"
  },
  "cells": [
    {
      "cell_type": "markdown",
      "metadata": {
        "id": "view-in-github",
        "colab_type": "text"
      },
      "source": [
        "<a href=\"https://colab.research.google.com/github/gkdivya/EVA/blob/main/3_PyTorchNeuralNetwork/Pytorch_MnistAddition.ipynb\" target=\"_parent\"><img src=\"https://colab.research.google.com/assets/colab-badge.svg\" alt=\"Open In Colab\"/></a>"
      ]
    },
    {
      "cell_type": "markdown",
      "metadata": {
        "id": "uGCcej-t2zr7"
      },
      "source": [
        "# Pytorch Neural Network\n",
        "Write a neural network that can:\n",
        "- take 2 inputs:\n",
        "  - an image from MNIST dataset, and\n",
        "  - a random number between 0 and 9\n",
        "- and gives two outputs:\n",
        "  - the \"number\" that was represented by the MNIST image, and\n",
        "  - the \"sum\" of this number with the random number that was generated and sent as the input to the network "
      ]
    },
    {
      "cell_type": "markdown",
      "metadata": {
        "id": "Y1YFhVJCsKKT"
      },
      "source": [
        "#Import Libraries"
      ]
    },
    {
      "cell_type": "code",
      "metadata": {
        "id": "rop3pxhgzfnW"
      },
      "source": [
        "from keras.datasets import mnist\n",
        "import torch.nn as nn\n",
        "import torch.nn.functional as F\n",
        "import torch.optim as optim\n",
        "from torch.utils.data import Dataset\n",
        "from torch.utils.data import DataLoader\n",
        "import torchvision\n",
        "import random\n",
        "import torch\n",
        "import numpy as np\n",
        "from matplotlib import pyplot"
      ],
      "execution_count": null,
      "outputs": []
    },
    {
      "cell_type": "code",
      "metadata": {
        "id": "jPFz3tBqrkz4"
      },
      "source": [
        "# check if cuda is available\n",
        "use_cuda = torch.cuda.is_available()\n",
        "device = torch.device(\"cuda\" if use_cuda else \"cpu\")"
      ],
      "execution_count": null,
      "outputs": []
    },
    {
      "cell_type": "markdown",
      "metadata": {
        "id": "9GIrYENtsW-P"
      },
      "source": [
        "## Load Dataset\n",
        "\n",
        "MNIST contains 70,000 images of handwritten digits: 60,000 for training and 10,000 for testing. The images are grayscale, 28x28 pixels"
      ]
    },
    {
      "cell_type": "code",
      "metadata": {
        "id": "RzC4c3WMBBDj"
      },
      "source": [
        "(x_train, y_train), (x_test, y_test) = mnist.load_data()"
      ],
      "execution_count": null,
      "outputs": []
    },
    {
      "cell_type": "code",
      "metadata": {
        "id": "aMyctSsvzqAg"
      },
      "source": [
        "class MNistDataset(Dataset):\n",
        "    def __init__(self, image,label):\n",
        "        self.image = image\n",
        "        self.label=label\n",
        "    \n",
        "    def __len__(self):\n",
        "        return len(self.image)\n",
        "\n",
        "    def __getitem__(self, index):\n",
        "        image = torchvision.transforms.functional.to_tensor(self.image[index])\n",
        "\n",
        "        label = self.label[index]\n",
        "        \n",
        "        #Create one hot encoding for mnist \n",
        "        rnum_ohe = torch.zeros(11).long()\n",
        "        rnum=random.randint(0,9)\n",
        "        rnum_ohe[rnum] = 1\n",
        "        rnum_ohe = rnum_ohe[:-1]\n",
        "\n",
        "        #add actual label and random number\n",
        "        sum=label+rnum\n",
        "\n",
        "        return image,label,rnum_ohe,sum"
      ],
      "execution_count": null,
      "outputs": []
    },
    {
      "cell_type": "code",
      "metadata": {
        "id": "6CwaMZfj8mWn"
      },
      "source": [
        "train_dataset = MNistDataset(x_train, y_train)\n",
        "test_dataset = MNistDataset(x_test, y_test)"
      ],
      "execution_count": null,
      "outputs": []
    },
    {
      "cell_type": "code",
      "metadata": {
        "colab": {
          "base_uri": "https://localhost:8080/"
        },
        "id": "6PJvBT0L85UG",
        "outputId": "0a6740b6-3e03-4288-9575-b3620271c6ed"
      },
      "source": [
        "len(train_dataset),len(test_dataset)"
      ],
      "execution_count": null,
      "outputs": [
        {
          "output_type": "execute_result",
          "data": {
            "text/plain": [
              "(60000, 10000)"
            ]
          },
          "metadata": {
            "tags": []
          },
          "execution_count": 11
        }
      ]
    },
    {
      "cell_type": "code",
      "metadata": {
        "id": "S1Kl_7ea9GyR"
      },
      "source": [
        "train_loader = DataLoader(train_dataset,batch_size=128,shuffle=True)\n",
        "test_loader = DataLoader(test_dataset,batch_size=128)"
      ],
      "execution_count": null,
      "outputs": []
    },
    {
      "cell_type": "markdown",
      "metadata": {
        "id": "oN2iF9oUs1pD"
      },
      "source": [
        "## View Sample batch"
      ]
    },
    {
      "cell_type": "code",
      "metadata": {
        "colab": {
          "base_uri": "https://localhost:8080/"
        },
        "id": "dyOLr_AGBr6p",
        "outputId": "1a22d471-05b3-4725-8c1d-0c360f0af81d"
      },
      "source": [
        "for i,batch in enumerate(train_loader):\n",
        "  image,label,random_number, Sum =batch\n",
        "  print(image.shape)\n",
        "  print(label)\n",
        "  print(random_number.shape)\n",
        "  print(random_number)\n",
        "  print(Sum)\n",
        "  break"
      ],
      "execution_count": null,
      "outputs": [
        {
          "output_type": "stream",
          "text": [
            "torch.Size([128, 1, 28, 28])\n",
            "tensor([3, 8, 6, 0, 7, 5, 0, 1, 5, 3, 0, 9, 5, 9, 6, 4, 4, 3, 0, 9, 0, 2, 4, 1,\n",
            "        9, 1, 4, 9, 1, 8, 0, 9, 0, 8, 7, 2, 0, 1, 5, 9, 1, 6, 4, 7, 0, 6, 2, 0,\n",
            "        9, 0, 0, 3, 9, 7, 5, 2, 5, 3, 1, 8, 2, 5, 8, 2, 7, 5, 5, 7, 1, 7, 5, 7,\n",
            "        7, 3, 1, 7, 1, 7, 3, 1, 3, 8, 3, 8, 1, 2, 5, 5, 9, 9, 6, 2, 2, 3, 1, 3,\n",
            "        1, 5, 1, 1, 5, 3, 9, 0, 4, 7, 6, 1, 3, 1, 6, 7, 0, 4, 6, 4, 9, 7, 0, 1,\n",
            "        2, 6, 8, 5, 1, 8, 6, 9], dtype=torch.uint8)\n",
            "torch.Size([128, 10])\n",
            "tensor([[0, 0, 0,  ..., 0, 0, 0],\n",
            "        [1, 0, 0,  ..., 0, 0, 0],\n",
            "        [0, 1, 0,  ..., 0, 0, 0],\n",
            "        ...,\n",
            "        [0, 0, 0,  ..., 1, 0, 0],\n",
            "        [0, 0, 0,  ..., 0, 1, 0],\n",
            "        [0, 0, 0,  ..., 0, 1, 0]])\n",
            "tensor([ 9,  8,  7,  8,  9,  9,  2,  4,  8,  6,  9, 18,  5, 14, 15, 11,  5, 10,\n",
            "         3, 15,  0,  7, 11,  3, 15, 10,  9, 14,  7, 15,  6, 14,  1, 11, 10,  5,\n",
            "         0,  7, 13, 16,  9,  6,  7, 16,  0,  8,  3,  3, 14,  0,  0, 10, 10, 16,\n",
            "         8,  7, 11,  5,  7, 11,  5,  5, 11,  3,  9, 14, 10, 14,  6, 13,  5, 15,\n",
            "         8,  8,  7, 10,  3, 12, 12,  4, 11, 17,  6,  8,  3,  4, 10, 13,  9, 14,\n",
            "        13,  2,  4,  5, 10,  8,  4,  9,  5, 10,  9,  4,  9,  6,  8,  9, 13,  7,\n",
            "         5,  1, 14, 10,  3,  9, 10,  9, 16, 13,  9,  2,  8,  6, 13, 13,  4, 15,\n",
            "        14, 17])\n"
          ],
          "name": "stdout"
        }
      ]
    },
    {
      "cell_type": "markdown",
      "metadata": {
        "id": "KWOCBkdO3Xza"
      },
      "source": [
        "# Neural Network Model"
      ]
    },
    {
      "cell_type": "code",
      "metadata": {
        "id": "lZHslIfOSZQH"
      },
      "source": [
        "class Net(nn.Module):\n",
        "    def __init__(self):\n",
        "        super(Net, self).__init__()\n",
        "        self.conv1 = nn.Conv2d(1, 32, 3, padding=1)       #Input: 28*28*1  Output:26 * 26 * 32 GRF:3 * 3 \n",
        "        self.conv2 = nn.Conv2d(32, 64, 3, padding=1)      #Input: 26*26*32 Output:24 * 24 * 64 GRF:5 * 5\n",
        "        self.pool1 = nn.MaxPool2d(2, 2)                   #Input: 24*24*64 Output:12 * 12 * 64 GRF:10*10\n",
        "        self.conv3 = nn.Conv2d(64, 128, 3, padding=1)     #Input: 28*28*1  Output:26 * 26 * 32 GRF:12*12\n",
        "        self.conv4 = nn.Conv2d(128, 256, 3, padding=1)    #Input: 28*28*1  Output:26 * 26 * 32 GRF:14*14\n",
        "        self.pool2 = nn.MaxPool2d(2, 2)                   #Input: 28*28*1  Output:26 * 26 * 32 GRF:28*28\n",
        "        self.conv5 = nn.Conv2d(256, 512, 3)               #Input: 28*28*1  Output:26 * 26 * 32 GRF:30*30\n",
        "        self.conv6 = nn.Conv2d(512, 1024, 3)              #Input: 28*28*1  Output:26 * 26 * 32 GRF:32*32\n",
        "        self.conv7 = nn.Conv2d(1024, 10, 3)               #Input: 28*28*1  Output:26 * 26 * 32 GRF:34*34\n",
        "        self.fc1 = nn.Linear(10+10, 128)\n",
        "        self.fc2 = nn.Linear(128,19)\n",
        "\n",
        "    def forward(self, x,x2):\n",
        "        x = self.pool1(F.relu(self.conv2(F.relu(self.conv1(x)))))\n",
        "        x = self.pool2(F.relu(self.conv4(F.relu(self.conv3(x)))))\n",
        "        x = F.relu(self.conv6(F.relu(self.conv5(x))))\n",
        "        x = self.conv7(x)\n",
        "        \n",
        "        x = x.view(-1, 10)\n",
        "\n",
        "        #concatenate second input \n",
        "        x_concat = torch.cat((x, x2), dim=1)\n",
        "\n",
        "        # Further train the network on Dense Layer\n",
        "        x_fc1 = F.relu(self.fc1(x_concat))\n",
        "        x_sum = self.fc2(x_fc1)\n",
        "\n",
        "        #Model returns two outputs:\n",
        "          #Output1 : \"number\" represented by the MNIST image \n",
        "          #Output2 : \"sum\" of this number with the random number that was generated\n",
        "        return F.log_softmax(x),F.log_softmax(x_sum)"
      ],
      "execution_count": null,
      "outputs": []
    },
    {
      "cell_type": "code",
      "metadata": {
        "colab": {
          "base_uri": "https://localhost:8080/"
        },
        "id": "ifkfsltG8zaJ",
        "outputId": "b21349e3-f419-412e-b93a-ae5040ab06a6"
      },
      "source": [
        "# move the model to the specified device\n",
        "model = Net().to(device)\n",
        "print(model)"
      ],
      "execution_count": null,
      "outputs": [
        {
          "output_type": "stream",
          "text": [
            "Net(\n",
            "  (conv1): Conv2d(1, 32, kernel_size=(3, 3), stride=(1, 1), padding=(1, 1))\n",
            "  (conv2): Conv2d(32, 64, kernel_size=(3, 3), stride=(1, 1), padding=(1, 1))\n",
            "  (pool1): MaxPool2d(kernel_size=2, stride=2, padding=0, dilation=1, ceil_mode=False)\n",
            "  (conv3): Conv2d(64, 128, kernel_size=(3, 3), stride=(1, 1), padding=(1, 1))\n",
            "  (conv4): Conv2d(128, 256, kernel_size=(3, 3), stride=(1, 1), padding=(1, 1))\n",
            "  (pool2): MaxPool2d(kernel_size=2, stride=2, padding=0, dilation=1, ceil_mode=False)\n",
            "  (conv5): Conv2d(256, 512, kernel_size=(3, 3), stride=(1, 1))\n",
            "  (conv6): Conv2d(512, 1024, kernel_size=(3, 3), stride=(1, 1))\n",
            "  (conv7): Conv2d(1024, 10, kernel_size=(3, 3), stride=(1, 1))\n",
            "  (fc1): Linear(in_features=20, out_features=128, bias=True)\n",
            "  (fc2): Linear(in_features=128, out_features=19, bias=True)\n",
            ")\n"
          ],
          "name": "stdout"
        }
      ]
    },
    {
      "cell_type": "code",
      "metadata": {
        "colab": {
          "base_uri": "https://localhost:8080/"
        },
        "id": "mycgOjeL3kOx",
        "outputId": "3c04c0a3-1fe1-469d-bd4e-f23c5d5fe7fe"
      },
      "source": [
        "def count_parameters(model):\n",
        "    return sum(p.numel() for p in model.parameters() if p.requires_grad)\n",
        "\n",
        "print(f'The model has {count_parameters(model):,} trainable parameters')"
      ],
      "execution_count": null,
      "outputs": [
        {
          "output_type": "stream",
          "text": [
            "The model has 6,384,925 trainable parameters\n"
          ],
          "name": "stdout"
        }
      ]
    },
    {
      "cell_type": "markdown",
      "metadata": {
        "id": "vaRNV3ocrbb3"
      },
      "source": [
        "#Training Loop"
      ]
    },
    {
      "cell_type": "code",
      "metadata": {
        "id": "mr8I8nTC8Ly9"
      },
      "source": [
        "def train(model, device, train_loader, optimizer, epoch):\n",
        "    # set the model in training model\n",
        "    model.train()\n",
        "\n",
        "    epoch_loss = 0\n",
        "\n",
        "    # run for all the data in train_loader\n",
        "    for batch_idx, (data, target, random_number, sum) in enumerate(train_loader):\n",
        "\n",
        "        # fetch the data and the target values\n",
        "        target = target.type(torch.LongTensor)\n",
        "        sum = sum.type(torch.LongTensor)\n",
        "\n",
        "        # move the data to device\n",
        "        data, target, sum = data.to(device), target.to(device), sum.to(device)\n",
        "\n",
        "        # zero out the gradients\n",
        "        optimizer.zero_grad()\n",
        "\n",
        "        # forward pass the model with the data\n",
        "        output1,output2 = model(data,random_number.to(device))\n",
        "\n",
        "        # compute the loss occured\n",
        "        loss1 = F.nll_loss(output1, target)\n",
        "        loss2 = F.nll_loss(output2, sum)\n",
        "        loss= (loss1 + loss2)/2\n",
        "\n",
        "        epoch_loss += loss.item()\n",
        "\n",
        "        # compute the backward gradients\n",
        "        loss.backward()\n",
        "\n",
        "        # update the optimizer params\n",
        "        optimizer.step()\n",
        "    print('Train set: Average loss: {:.4f}'.format(loss.item()))\n",
        "\n",
        "    train_loss = epoch_loss / len(train_loader)\n",
        "    return train_loss\n",
        "\n"
      ],
      "execution_count": null,
      "outputs": []
    },
    {
      "cell_type": "markdown",
      "metadata": {
        "id": "S3NxyZQNrebi"
      },
      "source": [
        "## Testing Loop"
      ]
    },
    {
      "cell_type": "code",
      "metadata": {
        "id": "6KG2vVD1rZ2D"
      },
      "source": [
        "def test(model, device, test_loader):\n",
        "    # set the model in evaluation model\n",
        "    model.eval()\n",
        "\n",
        "    # set the loss to zero\n",
        "    test_loss = 0\n",
        "    \n",
        "    # the number of correct classifications\n",
        "    correct1 = 0\n",
        "    correct2 = 0\n",
        "\n",
        "    # turn off gradients during the testing\n",
        "    with torch.no_grad():\n",
        "        for (data, target, random_number, sum) in test_loader:\n",
        "\n",
        "            # move the data to device\n",
        "            target = target.type(torch.LongTensor)\n",
        "            sum = sum.type(torch.LongTensor)\n",
        "            data, target,sum = data.to(device), target.to(device), sum.to(device)\n",
        "\n",
        "            # forward pass the model and get the output\n",
        "            output1,output2 = model(data,random_number.to(device))\n",
        "\n",
        "            # accumulate the loss from both the network outputs\n",
        "            test_loss += (F.nll_loss(output1, target, reduction='sum').item() + F.nll_loss(output2, sum, reduction='sum').item())/2\n",
        "\n",
        "            # get the index of max log-probability\n",
        "            pred1 = output1.argmax(dim=1, keepdim=True)\n",
        "            pred2 = output2.argmax(dim=1, keepdim=True)\n",
        "\n",
        "            # increment the correct prediction count if pred is correct\n",
        "            correct1 += pred1.eq(target.view_as(pred1)).sum().item()\n",
        "            correct2 += pred2.eq(sum.view_as(pred2)).sum().item()\n",
        "\n",
        "\n",
        "    # test loss divided by the total number of items in test dataset\n",
        "    test_loss /= len(test_loader.dataset)\n",
        "    print(f'Test set: Average loss: {test_loss:.3f}, MNist Accuracy:{100. * correct1/len(test_loader.dataset)}, Sum_Accuracy:{100. * correct2/len(test_loader.dataset)}')\n",
        "\n",
        "    return test_loss\n"
      ],
      "execution_count": null,
      "outputs": []
    },
    {
      "cell_type": "code",
      "metadata": {
        "colab": {
          "base_uri": "https://localhost:8080/"
        },
        "id": "4thaNnLn1LQr",
        "outputId": "98c43d8b-f4df-4f98-f3cb-b4c17e821a1c"
      },
      "source": [
        "# move the model to the specified device\n",
        "model = Net().to(device)\n",
        "\n",
        "# use Stochastic Gradient Descent as the optimizer\n",
        "optimizer = optim.SGD(model.parameters(), lr=0.01, momentum=0.7)\n",
        "\n",
        "# set the number of epochs to train for\n",
        "num_epoch = 30\n",
        "\n",
        "train_loss_values = []\n",
        "valid_loss_values = []\n",
        "\n",
        "# run it for epoch number of times\n",
        "for epoch in range(1, num_epoch+1):\n",
        "    print('\\nEpoch {} : '.format(epoch))\n",
        "    # train the model\n",
        "    train_loss = train(model, device, train_loader, optimizer, epoch)\n",
        "    # test the model\n",
        "    test_loss = test(model, device, test_loader)\n",
        "\n",
        "    train_loss_values.append(train_loss)\n",
        "    valid_loss_values.append(test_loss)"
      ],
      "execution_count": null,
      "outputs": [
        {
          "output_type": "stream",
          "text": [
            "\n",
            "Epoch 1 : \n"
          ],
          "name": "stdout"
        },
        {
          "output_type": "stream",
          "text": [
            "/usr/local/lib/python3.7/dist-packages/ipykernel_launcher.py:34: UserWarning: Implicit dimension choice for log_softmax has been deprecated. Change the call to include dim=X as an argument.\n"
          ],
          "name": "stderr"
        },
        {
          "output_type": "stream",
          "text": [
            "Train set: Average loss: 2.2796\n",
            "Test set: Average loss: 2.291, MNist Accuracy:60.74, Sum_Accuracy:10.58\n",
            "\n",
            "Epoch 2 : \n",
            "Train set: Average loss: 1.3755\n",
            "Test set: Average loss: 1.304, MNist Accuracy:94.85, Sum_Accuracy:12.88\n",
            "\n",
            "Epoch 3 : \n",
            "Train set: Average loss: 1.2010\n",
            "Test set: Average loss: 1.207, MNist Accuracy:96.74, Sum_Accuracy:17.02\n",
            "\n",
            "Epoch 4 : \n",
            "Train set: Average loss: 1.1480\n",
            "Test set: Average loss: 1.149, MNist Accuracy:97.6, Sum_Accuracy:24.65\n",
            "\n",
            "Epoch 5 : \n",
            "Train set: Average loss: 1.1004\n",
            "Test set: Average loss: 1.083, MNist Accuracy:98.04, Sum_Accuracy:34.07\n",
            "\n",
            "Epoch 6 : \n",
            "Train set: Average loss: 0.9960\n",
            "Test set: Average loss: 1.013, MNist Accuracy:98.31, Sum_Accuracy:48.87\n",
            "\n",
            "Epoch 7 : \n",
            "Train set: Average loss: 0.9677\n",
            "Test set: Average loss: 0.925, MNist Accuracy:98.51, Sum_Accuracy:61.19\n",
            "\n",
            "Epoch 8 : \n",
            "Train set: Average loss: 0.8425\n",
            "Test set: Average loss: 0.830, MNist Accuracy:98.82, Sum_Accuracy:75.7\n",
            "\n",
            "Epoch 9 : \n",
            "Train set: Average loss: 0.6937\n",
            "Test set: Average loss: 0.725, MNist Accuracy:98.8, Sum_Accuracy:81.93\n",
            "\n",
            "Epoch 10 : \n",
            "Train set: Average loss: 0.6242\n",
            "Test set: Average loss: 0.617, MNist Accuracy:98.97, Sum_Accuracy:88.37\n",
            "\n",
            "Epoch 11 : \n",
            "Train set: Average loss: 0.4942\n",
            "Test set: Average loss: 0.506, MNist Accuracy:98.93, Sum_Accuracy:95.65\n",
            "\n",
            "Epoch 12 : \n",
            "Train set: Average loss: 0.4036\n",
            "Test set: Average loss: 0.407, MNist Accuracy:99.03, Sum_Accuracy:97.05\n",
            "\n",
            "Epoch 13 : \n",
            "Train set: Average loss: 0.2992\n",
            "Test set: Average loss: 0.326, MNist Accuracy:99.0, Sum_Accuracy:97.95\n",
            "\n",
            "Epoch 14 : \n",
            "Train set: Average loss: 0.2260\n",
            "Test set: Average loss: 0.262, MNist Accuracy:99.12, Sum_Accuracy:98.3\n",
            "\n",
            "Epoch 15 : \n",
            "Train set: Average loss: 0.1942\n",
            "Test set: Average loss: 0.213, MNist Accuracy:99.05, Sum_Accuracy:98.58\n",
            "\n",
            "Epoch 16 : \n",
            "Train set: Average loss: 0.1592\n",
            "Test set: Average loss: 0.175, MNist Accuracy:99.13, Sum_Accuracy:98.71\n",
            "\n",
            "Epoch 17 : \n",
            "Train set: Average loss: 0.1360\n",
            "Test set: Average loss: 0.151, MNist Accuracy:99.11, Sum_Accuracy:98.68\n",
            "\n",
            "Epoch 18 : \n",
            "Train set: Average loss: 0.0986\n",
            "Test set: Average loss: 0.129, MNist Accuracy:99.17, Sum_Accuracy:98.84\n",
            "\n",
            "Epoch 19 : \n",
            "Train set: Average loss: 0.0941\n",
            "Test set: Average loss: 0.110, MNist Accuracy:99.22, Sum_Accuracy:98.93\n",
            "\n",
            "Epoch 20 : \n",
            "Train set: Average loss: 0.0760\n",
            "Test set: Average loss: 0.098, MNist Accuracy:99.13, Sum_Accuracy:98.86\n",
            "\n",
            "Epoch 21 : \n",
            "Train set: Average loss: 0.0639\n",
            "Test set: Average loss: 0.091, MNist Accuracy:99.1, Sum_Accuracy:99.03\n",
            "\n",
            "Epoch 22 : \n",
            "Train set: Average loss: 0.0582\n",
            "Test set: Average loss: 0.079, MNist Accuracy:99.14, Sum_Accuracy:99.07\n",
            "\n",
            "Epoch 23 : \n",
            "Train set: Average loss: 0.0501\n",
            "Test set: Average loss: 0.075, MNist Accuracy:99.22, Sum_Accuracy:99.07\n",
            "\n",
            "Epoch 24 : \n",
            "Train set: Average loss: 0.0457\n",
            "Test set: Average loss: 0.068, MNist Accuracy:99.2, Sum_Accuracy:99.08\n",
            "\n",
            "Epoch 25 : \n",
            "Train set: Average loss: 0.0378\n",
            "Test set: Average loss: 0.065, MNist Accuracy:99.23, Sum_Accuracy:99.05\n",
            "\n",
            "Epoch 26 : \n",
            "Train set: Average loss: 0.0405\n",
            "Test set: Average loss: 0.060, MNist Accuracy:99.25, Sum_Accuracy:99.09\n",
            "\n",
            "Epoch 27 : \n",
            "Train set: Average loss: 0.0301\n",
            "Test set: Average loss: 0.059, MNist Accuracy:99.22, Sum_Accuracy:99.13\n",
            "\n",
            "Epoch 28 : \n",
            "Train set: Average loss: 0.0301\n",
            "Test set: Average loss: 0.056, MNist Accuracy:99.23, Sum_Accuracy:99.05\n",
            "\n",
            "Epoch 29 : \n",
            "Train set: Average loss: 0.0266\n",
            "Test set: Average loss: 0.053, MNist Accuracy:99.18, Sum_Accuracy:99.16\n",
            "\n",
            "Epoch 30 : \n",
            "Train set: Average loss: 0.0239\n",
            "Test set: Average loss: 0.051, MNist Accuracy:99.22, Sum_Accuracy:99.05\n"
          ],
          "name": "stdout"
        }
      ]
    },
    {
      "cell_type": "markdown",
      "metadata": {
        "id": "ZBwa7q8YzmsV"
      },
      "source": [
        "## Plot the loss function"
      ]
    },
    {
      "cell_type": "code",
      "metadata": {
        "colab": {
          "base_uri": "https://localhost:8080/",
          "height": 426
        },
        "id": "XvoUq0-BvMQX",
        "outputId": "3a760fdd-e123-40a0-c583-f5b9ecc7142c"
      },
      "source": [
        "import matplotlib.pyplot as plt\n",
        "% matplotlib inline\n",
        "\n",
        "import seaborn as sns\n",
        "\n",
        "# Use plot styling from seaborn.\n",
        "sns.set(style='darkgrid')\n",
        "\n",
        "# Increase the plot size and font size.\n",
        "sns.set(font_scale=1.5)\n",
        "plt.rcParams[\"figure.figsize\"] = (12,6)\n",
        "\n",
        "# Plot the learning curve.\n",
        "plt.plot(np.array(train_loss_values), 'b-o', label=\"Training\")\n",
        "plt.plot(np.array(valid_loss_values), 'g-o', label=\"Test\")\n",
        "\n",
        "# Label the plot.\n",
        "plt.title(\"Training & Test Loss\")\n",
        "plt.xlabel(\"Epoch\")\n",
        "plt.ylabel(\"Loss\")\n",
        "plt.legend()\n",
        "#plt.xticks([1, 2, 3, 4])\n",
        "\n",
        "plt.show()"
      ],
      "execution_count": null,
      "outputs": [
        {
          "output_type": "display_data",
          "data": {
            "image/png": "[encoded data removed]",
            "text/plain": [
              "<Figure size 864x432 with 1 Axes>"
            ]
          },
          "metadata": {
            "tags": []
          }
        }
      ]
    },
    {
      "cell_type": "markdown",
      "metadata": {
        "id": "BxYOeSeGqjxz"
      },
      "source": [
        "## Inference"
      ]
    },
    {
      "cell_type": "code",
      "metadata": {
        "id": "vT6OJA7dkVGF"
      },
      "source": [
        "def prediction(image,rnum):\n",
        "\n",
        "    rnum_ohe = torch.zeros(11).long()\n",
        "    rnum_ohe[rnum] = 1\n",
        "    rnum_ohe = rnum_ohe[:-1]\n",
        "\n",
        "    tensored_image = torchvision.transforms.functional.to_tensor(image).unsqueeze(dim=1).to(device)\n",
        "    output_1,output_2 = model(tensored_image,rnum_ohe.reshape(-1,10).to(device))\n",
        "\n",
        "    pred1 = output_1.argmax(dim=1, keepdim=True)\n",
        "    pred2 = output_2.argmax(dim=1, keepdim=True)\n",
        "\n",
        "    print(f\"Random Number Generated is {rnum}\")\n",
        "    pyplot.imshow(image, cmap=pyplot.get_cmap('gray'))\n",
        "\n",
        "\n",
        "    print(f\"Mnist Image Prediction:{pred1.item()},\\nSum of Mnist and Random Number: {pred2.item()}\")"
      ],
      "execution_count": null,
      "outputs": []
    },
    {
      "cell_type": "code",
      "metadata": {
        "colab": {
          "base_uri": "https://localhost:8080/",
          "height": 454
        },
        "id": "pMB5KzMspX9N",
        "outputId": "efe498d3-46b4-477e-9ab9-b6a19367825a"
      },
      "source": [
        "image = x_test[random.randint(1,100)]\n",
        "rnum=random.randint(0,9)\n",
        "prediction(image,rnum)"
      ],
      "execution_count": null,
      "outputs": [
        {
          "output_type": "stream",
          "text": [
            "/usr/local/lib/python3.7/dist-packages/ipykernel_launcher.py:34: UserWarning: Implicit dimension choice for log_softmax has been deprecated. Change the call to include dim=X as an argument.\n"
          ],
          "name": "stderr"
        },
        {
          "output_type": "stream",
          "text": [
            "Random Number Generated is 1\n",
            "Mnist Image Prediction:1,\n",
            "Sum of Mnist and Random Number: 2\n"
          ],
          "name": "stdout"
        },
        {
          "output_type": "display_data",
          "data": {
            "image/png": "[encoded data removed]",
            "text/plain": [
              "<Figure size 864x432 with 1 Axes>"
            ]
          },
          "metadata": {
            "tags": []
          }
        }
      ]
    },
    {
      "cell_type": "code",
      "metadata": {
        "colab": {
          "base_uri": "https://localhost:8080/",
          "height": 454
        },
        "id": "gJKm14Azpdju",
        "outputId": "9f2b90c8-6c80-4f1c-be7b-19fefe56e903"
      },
      "source": [
        "image = x_test[random.randint(1,1000)]\n",
        "rnum=random.randint(0,9)\n",
        "prediction(image,rnum)"
      ],
      "execution_count": null,
      "outputs": [
        {
          "output_type": "stream",
          "text": [
            "/usr/local/lib/python3.7/dist-packages/ipykernel_launcher.py:34: UserWarning: Implicit dimension choice for log_softmax has been deprecated. Change the call to include dim=X as an argument.\n"
          ],
          "name": "stderr"
        },
        {
          "output_type": "stream",
          "text": [
            "Random Number Generated is 2\n",
            "Mnist Image Prediction:4,\n",
            "Sum of Mnist and Random Number: 6\n"
          ],
          "name": "stdout"
        },
        {
          "output_type": "display_data",
          "data": {
            "image/png": "[encoded data removed]",
            "text/plain": [
              "<Figure size 864x432 with 1 Axes>"
            ]
          },
          "metadata": {
            "tags": []
          }
        }
      ]
    },
    {
      "cell_type": "code",
      "metadata": {
        "colab": {
          "base_uri": "https://localhost:8080/",
          "height": 454
        },
        "id": "S1T6faIjpgLr",
        "outputId": "041503eb-1021-48c5-8bb4-f855a8c4393f"
      },
      "source": [
        "image = x_test[random.randint(1,1000)]\n",
        "rnum=random.randint(0,9)\n",
        "prediction(image,rnum)"
      ],
      "execution_count": null,
      "outputs": [
        {
          "output_type": "stream",
          "text": [
            "/usr/local/lib/python3.7/dist-packages/ipykernel_launcher.py:34: UserWarning: Implicit dimension choice for log_softmax has been deprecated. Change the call to include dim=X as an argument.\n"
          ],
          "name": "stderr"
        },
        {
          "output_type": "stream",
          "text": [
            "Random Number Generated is 9\n",
            "Mnist Image Prediction:5,\n",
            "Sum of Mnist and Random Number: 14\n"
          ],
          "name": "stdout"
        },
        {
          "output_type": "display_data",
          "data": {
            "image/png": "[encoded data removed]",
            "text/plain": [
              "<Figure size 864x432 with 1 Axes>"
            ]
          },
          "metadata": {
            "tags": []
          }
        }
      ]
    }
  ]
}