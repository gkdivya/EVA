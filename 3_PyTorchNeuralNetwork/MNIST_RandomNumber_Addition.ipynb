{
  "nbformat": 4,
  "nbformat_minor": 0,
  "metadata": {
    "colab": {
      "name": "MNIST_RandomNumber_Addition.ipynb",
      "provenance": [],
      "collapsed_sections": [],
      "toc_visible": true,
      "authorship_tag": "ABX9TyOud8lTWt0Py5119K2BXI2w",
      "include_colab_link": true
    },
    "kernelspec": {
      "name": "python3",
      "display_name": "Python 3"
    },
    "language_info": {
      "name": "python"
    },
    "accelerator": "GPU",
    "widgets": {
      "application/vnd.jupyter.widget-state+json": {
        "9a8c04383e3b44018e4a4d5c492f5b80": {
          "model_module": "@jupyter-widgets/controls",
          "model_name": "HBoxModel",
          "state": {
            "_view_name": "HBoxView",
            "_dom_classes": [],
            "_model_name": "HBoxModel",
            "_view_module": "@jupyter-widgets/controls",
            "_model_module_version": "1.5.0",
            "_view_count": null,
            "_view_module_version": "1.5.0",
            "box_style": "",
            "layout": "IPY_MODEL_90b603ecad274cfa9b3bb493e1eeafd2",
            "_model_module": "@jupyter-widgets/controls",
            "children": [
              "IPY_MODEL_9e33f0a6157e4f8c88aac6c44f18f74c",
              "IPY_MODEL_295893fccc7e4fefa6040e6816c6eaff"
            ]
          }
        },
        "90b603ecad274cfa9b3bb493e1eeafd2": {
          "model_module": "@jupyter-widgets/base",
          "model_name": "LayoutModel",
          "state": {
            "_view_name": "LayoutView",
            "grid_template_rows": null,
            "right": null,
            "justify_content": null,
            "_view_module": "@jupyter-widgets/base",
            "overflow": null,
            "_model_module_version": "1.2.0",
            "_view_count": null,
            "flex_flow": null,
            "width": null,
            "min_width": null,
            "border": null,
            "align_items": null,
            "bottom": null,
            "_model_module": "@jupyter-widgets/base",
            "top": null,
            "grid_column": null,
            "overflow_y": null,
            "overflow_x": null,
            "grid_auto_flow": null,
            "grid_area": null,
            "grid_template_columns": null,
            "flex": null,
            "_model_name": "LayoutModel",
            "justify_items": null,
            "grid_row": null,
            "max_height": null,
            "align_content": null,
            "visibility": null,
            "align_self": null,
            "height": null,
            "min_height": null,
            "padding": null,
            "grid_auto_rows": null,
            "grid_gap": null,
            "max_width": null,
            "order": null,
            "_view_module_version": "1.2.0",
            "grid_template_areas": null,
            "object_position": null,
            "object_fit": null,
            "grid_auto_columns": null,
            "margin": null,
            "display": null,
            "left": null
          }
        },
        "9e33f0a6157e4f8c88aac6c44f18f74c": {
          "model_module": "@jupyter-widgets/controls",
          "model_name": "FloatProgressModel",
          "state": {
            "_view_name": "ProgressView",
            "style": "IPY_MODEL_f2b8c4d6a28445eebe8d21adaf7403b4",
            "_dom_classes": [],
            "description": "",
            "_model_name": "FloatProgressModel",
            "bar_style": "success",
            "max": 9912422,
            "_view_module": "@jupyter-widgets/controls",
            "_model_module_version": "1.5.0",
            "value": 9912422,
            "_view_count": null,
            "_view_module_version": "1.5.0",
            "orientation": "horizontal",
            "min": 0,
            "description_tooltip": null,
            "_model_module": "@jupyter-widgets/controls",
            "layout": "IPY_MODEL_436f1ce6033f4c7b96abc27e44e33c0c"
          }
        },
        "295893fccc7e4fefa6040e6816c6eaff": {
          "model_module": "@jupyter-widgets/controls",
          "model_name": "HTMLModel",
          "state": {
            "_view_name": "HTMLView",
            "style": "IPY_MODEL_5c494dd7604146ef97e57c93d1aad65e",
            "_dom_classes": [],
            "description": "",
            "_model_name": "HTMLModel",
            "placeholder": "​",
            "_view_module": "@jupyter-widgets/controls",
            "_model_module_version": "1.5.0",
            "value": " 9913344/? [18:35&lt;00:00, 8884.64it/s]",
            "_view_count": null,
            "_view_module_version": "1.5.0",
            "description_tooltip": null,
            "_model_module": "@jupyter-widgets/controls",
            "layout": "IPY_MODEL_8a0327cd3afa4a449be83b84fed8373e"
          }
        },
        "f2b8c4d6a28445eebe8d21adaf7403b4": {
          "model_module": "@jupyter-widgets/controls",
          "model_name": "ProgressStyleModel",
          "state": {
            "_view_name": "StyleView",
            "_model_name": "ProgressStyleModel",
            "description_width": "initial",
            "_view_module": "@jupyter-widgets/base",
            "_model_module_version": "1.5.0",
            "_view_count": null,
            "_view_module_version": "1.2.0",
            "bar_color": null,
            "_model_module": "@jupyter-widgets/controls"
          }
        },
        "436f1ce6033f4c7b96abc27e44e33c0c": {
          "model_module": "@jupyter-widgets/base",
          "model_name": "LayoutModel",
          "state": {
            "_view_name": "LayoutView",
            "grid_template_rows": null,
            "right": null,
            "justify_content": null,
            "_view_module": "@jupyter-widgets/base",
            "overflow": null,
            "_model_module_version": "1.2.0",
            "_view_count": null,
            "flex_flow": null,
            "width": null,
            "min_width": null,
            "border": null,
            "align_items": null,
            "bottom": null,
            "_model_module": "@jupyter-widgets/base",
            "top": null,
            "grid_column": null,
            "overflow_y": null,
            "overflow_x": null,
            "grid_auto_flow": null,
            "grid_area": null,
            "grid_template_columns": null,
            "flex": null,
            "_model_name": "LayoutModel",
            "justify_items": null,
            "grid_row": null,
            "max_height": null,
            "align_content": null,
            "visibility": null,
            "align_self": null,
            "height": null,
            "min_height": null,
            "padding": null,
            "grid_auto_rows": null,
            "grid_gap": null,
            "max_width": null,
            "order": null,
            "_view_module_version": "1.2.0",
            "grid_template_areas": null,
            "object_position": null,
            "object_fit": null,
            "grid_auto_columns": null,
            "margin": null,
            "display": null,
            "left": null
          }
        },
        "5c494dd7604146ef97e57c93d1aad65e": {
          "model_module": "@jupyter-widgets/controls",
          "model_name": "DescriptionStyleModel",
          "state": {
            "_view_name": "StyleView",
            "_model_name": "DescriptionStyleModel",
            "description_width": "",
            "_view_module": "@jupyter-widgets/base",
            "_model_module_version": "1.5.0",
            "_view_count": null,
            "_view_module_version": "1.2.0",
            "_model_module": "@jupyter-widgets/controls"
          }
        },
        "8a0327cd3afa4a449be83b84fed8373e": {
          "model_module": "@jupyter-widgets/base",
          "model_name": "LayoutModel",
          "state": {
            "_view_name": "LayoutView",
            "grid_template_rows": null,
            "right": null,
            "justify_content": null,
            "_view_module": "@jupyter-widgets/base",
            "overflow": null,
            "_model_module_version": "1.2.0",
            "_view_count": null,
            "flex_flow": null,
            "width": null,
            "min_width": null,
            "border": null,
            "align_items": null,
            "bottom": null,
            "_model_module": "@jupyter-widgets/base",
            "top": null,
            "grid_column": null,
            "overflow_y": null,
            "overflow_x": null,
            "grid_auto_flow": null,
            "grid_area": null,
            "grid_template_columns": null,
            "flex": null,
            "_model_name": "LayoutModel",
            "justify_items": null,
            "grid_row": null,
            "max_height": null,
            "align_content": null,
            "visibility": null,
            "align_self": null,
            "height": null,
            "min_height": null,
            "padding": null,
            "grid_auto_rows": null,
            "grid_gap": null,
            "max_width": null,
            "order": null,
            "_view_module_version": "1.2.0",
            "grid_template_areas": null,
            "object_position": null,
            "object_fit": null,
            "grid_auto_columns": null,
            "margin": null,
            "display": null,
            "left": null
          }
        },
        "2f0f2b3850a44b1fb0ec172442c19323": {
          "model_module": "@jupyter-widgets/controls",
          "model_name": "HBoxModel",
          "state": {
            "_view_name": "HBoxView",
            "_dom_classes": [],
            "_model_name": "HBoxModel",
            "_view_module": "@jupyter-widgets/controls",
            "_model_module_version": "1.5.0",
            "_view_count": null,
            "_view_module_version": "1.5.0",
            "box_style": "",
            "layout": "IPY_MODEL_9acedf127ba64c43ba6f45a6c7733622",
            "_model_module": "@jupyter-widgets/controls",
            "children": [
              "IPY_MODEL_6e262a9372f44a9aabab712e851ddfcd",
              "IPY_MODEL_e31fcc1da2e54bdcbf047b8619888638"
            ]
          }
        },
        "9acedf127ba64c43ba6f45a6c7733622": {
          "model_module": "@jupyter-widgets/base",
          "model_name": "LayoutModel",
          "state": {
            "_view_name": "LayoutView",
            "grid_template_rows": null,
            "right": null,
            "justify_content": null,
            "_view_module": "@jupyter-widgets/base",
            "overflow": null,
            "_model_module_version": "1.2.0",
            "_view_count": null,
            "flex_flow": null,
            "width": null,
            "min_width": null,
            "border": null,
            "align_items": null,
            "bottom": null,
            "_model_module": "@jupyter-widgets/base",
            "top": null,
            "grid_column": null,
            "overflow_y": null,
            "overflow_x": null,
            "grid_auto_flow": null,
            "grid_area": null,
            "grid_template_columns": null,
            "flex": null,
            "_model_name": "LayoutModel",
            "justify_items": null,
            "grid_row": null,
            "max_height": null,
            "align_content": null,
            "visibility": null,
            "align_self": null,
            "height": null,
            "min_height": null,
            "padding": null,
            "grid_auto_rows": null,
            "grid_gap": null,
            "max_width": null,
            "order": null,
            "_view_module_version": "1.2.0",
            "grid_template_areas": null,
            "object_position": null,
            "object_fit": null,
            "grid_auto_columns": null,
            "margin": null,
            "display": null,
            "left": null
          }
        },
        "6e262a9372f44a9aabab712e851ddfcd": {
          "model_module": "@jupyter-widgets/controls",
          "model_name": "FloatProgressModel",
          "state": {
            "_view_name": "ProgressView",
            "style": "IPY_MODEL_0a91a2a7cfd04725a807156456ea7203",
            "_dom_classes": [],
            "description": "",
            "_model_name": "FloatProgressModel",
            "bar_style": "success",
            "max": 28881,
            "_view_module": "@jupyter-widgets/controls",
            "_model_module_version": "1.5.0",
            "value": 28881,
            "_view_count": null,
            "_view_module_version": "1.5.0",
            "orientation": "horizontal",
            "min": 0,
            "description_tooltip": null,
            "_model_module": "@jupyter-widgets/controls",
            "layout": "IPY_MODEL_adb46082449645bbac629c697b595059"
          }
        },
        "e31fcc1da2e54bdcbf047b8619888638": {
          "model_module": "@jupyter-widgets/controls",
          "model_name": "HTMLModel",
          "state": {
            "_view_name": "HTMLView",
            "style": "IPY_MODEL_14899bd5eb304c40a8ddbba967c23aaf",
            "_dom_classes": [],
            "description": "",
            "_model_name": "HTMLModel",
            "placeholder": "​",
            "_view_module": "@jupyter-widgets/controls",
            "_model_module_version": "1.5.0",
            "value": " 29696/? [18:34&lt;00:00, 26.66it/s]",
            "_view_count": null,
            "_view_module_version": "1.5.0",
            "description_tooltip": null,
            "_model_module": "@jupyter-widgets/controls",
            "layout": "IPY_MODEL_f5d1350ff69d4579ad64b597ef53fa31"
          }
        },
        "0a91a2a7cfd04725a807156456ea7203": {
          "model_module": "@jupyter-widgets/controls",
          "model_name": "ProgressStyleModel",
          "state": {
            "_view_name": "StyleView",
            "_model_name": "ProgressStyleModel",
            "description_width": "initial",
            "_view_module": "@jupyter-widgets/base",
            "_model_module_version": "1.5.0",
            "_view_count": null,
            "_view_module_version": "1.2.0",
            "bar_color": null,
            "_model_module": "@jupyter-widgets/controls"
          }
        },
        "adb46082449645bbac629c697b595059": {
          "model_module": "@jupyter-widgets/base",
          "model_name": "LayoutModel",
          "state": {
            "_view_name": "LayoutView",
            "grid_template_rows": null,
            "right": null,
            "justify_content": null,
            "_view_module": "@jupyter-widgets/base",
            "overflow": null,
            "_model_module_version": "1.2.0",
            "_view_count": null,
            "flex_flow": null,
            "width": null,
            "min_width": null,
            "border": null,
            "align_items": null,
            "bottom": null,
            "_model_module": "@jupyter-widgets/base",
            "top": null,
            "grid_column": null,
            "overflow_y": null,
            "overflow_x": null,
            "grid_auto_flow": null,
            "grid_area": null,
            "grid_template_columns": null,
            "flex": null,
            "_model_name": "LayoutModel",
            "justify_items": null,
            "grid_row": null,
            "max_height": null,
            "align_content": null,
            "visibility": null,
            "align_self": null,
            "height": null,
            "min_height": null,
            "padding": null,
            "grid_auto_rows": null,
            "grid_gap": null,
            "max_width": null,
            "order": null,
            "_view_module_version": "1.2.0",
            "grid_template_areas": null,
            "object_position": null,
            "object_fit": null,
            "grid_auto_columns": null,
            "margin": null,
            "display": null,
            "left": null
          }
        },
        "14899bd5eb304c40a8ddbba967c23aaf": {
          "model_module": "@jupyter-widgets/controls",
          "model_name": "DescriptionStyleModel",
          "state": {
            "_view_name": "StyleView",
            "_model_name": "DescriptionStyleModel",
            "description_width": "",
            "_view_module": "@jupyter-widgets/base",
            "_model_module_version": "1.5.0",
            "_view_count": null,
            "_view_module_version": "1.2.0",
            "_model_module": "@jupyter-widgets/controls"
          }
        },
        "f5d1350ff69d4579ad64b597ef53fa31": {
          "model_module": "@jupyter-widgets/base",
          "model_name": "LayoutModel",
          "state": {
            "_view_name": "LayoutView",
            "grid_template_rows": null,
            "right": null,
            "justify_content": null,
            "_view_module": "@jupyter-widgets/base",
            "overflow": null,
            "_model_module_version": "1.2.0",
            "_view_count": null,
            "flex_flow": null,
            "width": null,
            "min_width": null,
            "border": null,
            "align_items": null,
            "bottom": null,
            "_model_module": "@jupyter-widgets/base",
            "top": null,
            "grid_column": null,
            "overflow_y": null,
            "overflow_x": null,
            "grid_auto_flow": null,
            "grid_area": null,
            "grid_template_columns": null,
            "flex": null,
            "_model_name": "LayoutModel",
            "justify_items": null,
            "grid_row": null,
            "max_height": null,
            "align_content": null,
            "visibility": null,
            "align_self": null,
            "height": null,
            "min_height": null,
            "padding": null,
            "grid_auto_rows": null,
            "grid_gap": null,
            "max_width": null,
            "order": null,
            "_view_module_version": "1.2.0",
            "grid_template_areas": null,
            "object_position": null,
            "object_fit": null,
            "grid_auto_columns": null,
            "margin": null,
            "display": null,
            "left": null
          }
        },
        "4c1d2fae0d2245e4ab18dec8b87f6976": {
          "model_module": "@jupyter-widgets/controls",
          "model_name": "HBoxModel",
          "state": {
            "_view_name": "HBoxView",
            "_dom_classes": [],
            "_model_name": "HBoxModel",
            "_view_module": "@jupyter-widgets/controls",
            "_model_module_version": "1.5.0",
            "_view_count": null,
            "_view_module_version": "1.5.0",
            "box_style": "",
            "layout": "IPY_MODEL_b86edc87b6f44e7e9b5ce0f37e71ad24",
            "_model_module": "@jupyter-widgets/controls",
            "children": [
              "IPY_MODEL_3db32bcc5c5349f5a425ae3e731c20f5",
              "IPY_MODEL_965540854b8f4f08a22c768feb25b11c"
            ]
          }
        },
        "b86edc87b6f44e7e9b5ce0f37e71ad24": {
          "model_module": "@jupyter-widgets/base",
          "model_name": "LayoutModel",
          "state": {
            "_view_name": "LayoutView",
            "grid_template_rows": null,
            "right": null,
            "justify_content": null,
            "_view_module": "@jupyter-widgets/base",
            "overflow": null,
            "_model_module_version": "1.2.0",
            "_view_count": null,
            "flex_flow": null,
            "width": null,
            "min_width": null,
            "border": null,
            "align_items": null,
            "bottom": null,
            "_model_module": "@jupyter-widgets/base",
            "top": null,
            "grid_column": null,
            "overflow_y": null,
            "overflow_x": null,
            "grid_auto_flow": null,
            "grid_area": null,
            "grid_template_columns": null,
            "flex": null,
            "_model_name": "LayoutModel",
            "justify_items": null,
            "grid_row": null,
            "max_height": null,
            "align_content": null,
            "visibility": null,
            "align_self": null,
            "height": null,
            "min_height": null,
            "padding": null,
            "grid_auto_rows": null,
            "grid_gap": null,
            "max_width": null,
            "order": null,
            "_view_module_version": "1.2.0",
            "grid_template_areas": null,
            "object_position": null,
            "object_fit": null,
            "grid_auto_columns": null,
            "margin": null,
            "display": null,
            "left": null
          }
        },
        "3db32bcc5c5349f5a425ae3e731c20f5": {
          "model_module": "@jupyter-widgets/controls",
          "model_name": "FloatProgressModel",
          "state": {
            "_view_name": "ProgressView",
            "style": "IPY_MODEL_07bfb2a2390f408cb1b336d14dc4f761",
            "_dom_classes": [],
            "description": "",
            "_model_name": "FloatProgressModel",
            "bar_style": "success",
            "max": 1648877,
            "_view_module": "@jupyter-widgets/controls",
            "_model_module_version": "1.5.0",
            "value": 1648877,
            "_view_count": null,
            "_view_module_version": "1.5.0",
            "orientation": "horizontal",
            "min": 0,
            "description_tooltip": null,
            "_model_module": "@jupyter-widgets/controls",
            "layout": "IPY_MODEL_a819fc6e354741869278242a024ea8af"
          }
        },
        "965540854b8f4f08a22c768feb25b11c": {
          "model_module": "@jupyter-widgets/controls",
          "model_name": "HTMLModel",
          "state": {
            "_view_name": "HTMLView",
            "style": "IPY_MODEL_a1b4aa399f1a46a7bf420cd0108235fc",
            "_dom_classes": [],
            "description": "",
            "_model_name": "HTMLModel",
            "placeholder": "​",
            "_view_module": "@jupyter-widgets/controls",
            "_model_module_version": "1.5.0",
            "value": " 1649664/? [00:52&lt;00:00, 31616.03it/s]",
            "_view_count": null,
            "_view_module_version": "1.5.0",
            "description_tooltip": null,
            "_model_module": "@jupyter-widgets/controls",
            "layout": "IPY_MODEL_ef70e66b31884d6a8809bffa96aad935"
          }
        },
        "07bfb2a2390f408cb1b336d14dc4f761": {
          "model_module": "@jupyter-widgets/controls",
          "model_name": "ProgressStyleModel",
          "state": {
            "_view_name": "StyleView",
            "_model_name": "ProgressStyleModel",
            "description_width": "initial",
            "_view_module": "@jupyter-widgets/base",
            "_model_module_version": "1.5.0",
            "_view_count": null,
            "_view_module_version": "1.2.0",
            "bar_color": null,
            "_model_module": "@jupyter-widgets/controls"
          }
        },
        "a819fc6e354741869278242a024ea8af": {
          "model_module": "@jupyter-widgets/base",
          "model_name": "LayoutModel",
          "state": {
            "_view_name": "LayoutView",
            "grid_template_rows": null,
            "right": null,
            "justify_content": null,
            "_view_module": "@jupyter-widgets/base",
            "overflow": null,
            "_model_module_version": "1.2.0",
            "_view_count": null,
            "flex_flow": null,
            "width": null,
            "min_width": null,
            "border": null,
            "align_items": null,
            "bottom": null,
            "_model_module": "@jupyter-widgets/base",
            "top": null,
            "grid_column": null,
            "overflow_y": null,
            "overflow_x": null,
            "grid_auto_flow": null,
            "grid_area": null,
            "grid_template_columns": null,
            "flex": null,
            "_model_name": "LayoutModel",
            "justify_items": null,
            "grid_row": null,
            "max_height": null,
            "align_content": null,
            "visibility": null,
            "align_self": null,
            "height": null,
            "min_height": null,
            "padding": null,
            "grid_auto_rows": null,
            "grid_gap": null,
            "max_width": null,
            "order": null,
            "_view_module_version": "1.2.0",
            "grid_template_areas": null,
            "object_position": null,
            "object_fit": null,
            "grid_auto_columns": null,
            "margin": null,
            "display": null,
            "left": null
          }
        },
        "a1b4aa399f1a46a7bf420cd0108235fc": {
          "model_module": "@jupyter-widgets/controls",
          "model_name": "DescriptionStyleModel",
          "state": {
            "_view_name": "StyleView",
            "_model_name": "DescriptionStyleModel",
            "description_width": "",
            "_view_module": "@jupyter-widgets/base",
            "_model_module_version": "1.5.0",
            "_view_count": null,
            "_view_module_version": "1.2.0",
            "_model_module": "@jupyter-widgets/controls"
          }
        },
        "ef70e66b31884d6a8809bffa96aad935": {
          "model_module": "@jupyter-widgets/base",
          "model_name": "LayoutModel",
          "state": {
            "_view_name": "LayoutView",
            "grid_template_rows": null,
            "right": null,
            "justify_content": null,
            "_view_module": "@jupyter-widgets/base",
            "overflow": null,
            "_model_module_version": "1.2.0",
            "_view_count": null,
            "flex_flow": null,
            "width": null,
            "min_width": null,
            "border": null,
            "align_items": null,
            "bottom": null,
            "_model_module": "@jupyter-widgets/base",
            "top": null,
            "grid_column": null,
            "overflow_y": null,
            "overflow_x": null,
            "grid_auto_flow": null,
            "grid_area": null,
            "grid_template_columns": null,
            "flex": null,
            "_model_name": "LayoutModel",
            "justify_items": null,
            "grid_row": null,
            "max_height": null,
            "align_content": null,
            "visibility": null,
            "align_self": null,
            "height": null,
            "min_height": null,
            "padding": null,
            "grid_auto_rows": null,
            "grid_gap": null,
            "max_width": null,
            "order": null,
            "_view_module_version": "1.2.0",
            "grid_template_areas": null,
            "object_position": null,
            "object_fit": null,
            "grid_auto_columns": null,
            "margin": null,
            "display": null,
            "left": null
          }
        },
        "76fb7344fa014c58924b477a0843daea": {
          "model_module": "@jupyter-widgets/controls",
          "model_name": "HBoxModel",
          "state": {
            "_view_name": "HBoxView",
            "_dom_classes": [],
            "_model_name": "HBoxModel",
            "_view_module": "@jupyter-widgets/controls",
            "_model_module_version": "1.5.0",
            "_view_count": null,
            "_view_module_version": "1.5.0",
            "box_style": "",
            "layout": "IPY_MODEL_2652791391ce4cf98b88ed127c6c0992",
            "_model_module": "@jupyter-widgets/controls",
            "children": [
              "IPY_MODEL_a27cd8fd348a40c3bec76934b4c081b2",
              "IPY_MODEL_1251e60b9b234a0392b7e0a765041d02"
            ]
          }
        },
        "2652791391ce4cf98b88ed127c6c0992": {
          "model_module": "@jupyter-widgets/base",
          "model_name": "LayoutModel",
          "state": {
            "_view_name": "LayoutView",
            "grid_template_rows": null,
            "right": null,
            "justify_content": null,
            "_view_module": "@jupyter-widgets/base",
            "overflow": null,
            "_model_module_version": "1.2.0",
            "_view_count": null,
            "flex_flow": null,
            "width": null,
            "min_width": null,
            "border": null,
            "align_items": null,
            "bottom": null,
            "_model_module": "@jupyter-widgets/base",
            "top": null,
            "grid_column": null,
            "overflow_y": null,
            "overflow_x": null,
            "grid_auto_flow": null,
            "grid_area": null,
            "grid_template_columns": null,
            "flex": null,
            "_model_name": "LayoutModel",
            "justify_items": null,
            "grid_row": null,
            "max_height": null,
            "align_content": null,
            "visibility": null,
            "align_self": null,
            "height": null,
            "min_height": null,
            "padding": null,
            "grid_auto_rows": null,
            "grid_gap": null,
            "max_width": null,
            "order": null,
            "_view_module_version": "1.2.0",
            "grid_template_areas": null,
            "object_position": null,
            "object_fit": null,
            "grid_auto_columns": null,
            "margin": null,
            "display": null,
            "left": null
          }
        },
        "a27cd8fd348a40c3bec76934b4c081b2": {
          "model_module": "@jupyter-widgets/controls",
          "model_name": "FloatProgressModel",
          "state": {
            "_view_name": "ProgressView",
            "style": "IPY_MODEL_2494bd5ad5cb433a816b569d40b04661",
            "_dom_classes": [],
            "description": "",
            "_model_name": "FloatProgressModel",
            "bar_style": "success",
            "max": 4542,
            "_view_module": "@jupyter-widgets/controls",
            "_model_module_version": "1.5.0",
            "value": 4542,
            "_view_count": null,
            "_view_module_version": "1.5.0",
            "orientation": "horizontal",
            "min": 0,
            "description_tooltip": null,
            "_model_module": "@jupyter-widgets/controls",
            "layout": "IPY_MODEL_731cc986025d47e7b4bc3f529215d32f"
          }
        },
        "1251e60b9b234a0392b7e0a765041d02": {
          "model_module": "@jupyter-widgets/controls",
          "model_name": "HTMLModel",
          "state": {
            "_view_name": "HTMLView",
            "style": "IPY_MODEL_fc8db6f8ff584aa9b3049f0afaa54224",
            "_dom_classes": [],
            "description": "",
            "_model_name": "HTMLModel",
            "placeholder": "​",
            "_view_module": "@jupyter-widgets/controls",
            "_model_module_version": "1.5.0",
            "value": " 5120/? [00:00&lt;00:00, 14677.27it/s]",
            "_view_count": null,
            "_view_module_version": "1.5.0",
            "description_tooltip": null,
            "_model_module": "@jupyter-widgets/controls",
            "layout": "IPY_MODEL_15593d6a60a64e158fd9bb6f810abbe1"
          }
        },
        "2494bd5ad5cb433a816b569d40b04661": {
          "model_module": "@jupyter-widgets/controls",
          "model_name": "ProgressStyleModel",
          "state": {
            "_view_name": "StyleView",
            "_model_name": "ProgressStyleModel",
            "description_width": "initial",
            "_view_module": "@jupyter-widgets/base",
            "_model_module_version": "1.5.0",
            "_view_count": null,
            "_view_module_version": "1.2.0",
            "bar_color": null,
            "_model_module": "@jupyter-widgets/controls"
          }
        },
        "731cc986025d47e7b4bc3f529215d32f": {
          "model_module": "@jupyter-widgets/base",
          "model_name": "LayoutModel",
          "state": {
            "_view_name": "LayoutView",
            "grid_template_rows": null,
            "right": null,
            "justify_content": null,
            "_view_module": "@jupyter-widgets/base",
            "overflow": null,
            "_model_module_version": "1.2.0",
            "_view_count": null,
            "flex_flow": null,
            "width": null,
            "min_width": null,
            "border": null,
            "align_items": null,
            "bottom": null,
            "_model_module": "@jupyter-widgets/base",
            "top": null,
            "grid_column": null,
            "overflow_y": null,
            "overflow_x": null,
            "grid_auto_flow": null,
            "grid_area": null,
            "grid_template_columns": null,
            "flex": null,
            "_model_name": "LayoutModel",
            "justify_items": null,
            "grid_row": null,
            "max_height": null,
            "align_content": null,
            "visibility": null,
            "align_self": null,
            "height": null,
            "min_height": null,
            "padding": null,
            "grid_auto_rows": null,
            "grid_gap": null,
            "max_width": null,
            "order": null,
            "_view_module_version": "1.2.0",
            "grid_template_areas": null,
            "object_position": null,
            "object_fit": null,
            "grid_auto_columns": null,
            "margin": null,
            "display": null,
            "left": null
          }
        },
        "fc8db6f8ff584aa9b3049f0afaa54224": {
          "model_module": "@jupyter-widgets/controls",
          "model_name": "DescriptionStyleModel",
          "state": {
            "_view_name": "StyleView",
            "_model_name": "DescriptionStyleModel",
            "description_width": "",
            "_view_module": "@jupyter-widgets/base",
            "_model_module_version": "1.5.0",
            "_view_count": null,
            "_view_module_version": "1.2.0",
            "_model_module": "@jupyter-widgets/controls"
          }
        },
        "15593d6a60a64e158fd9bb6f810abbe1": {
          "model_module": "@jupyter-widgets/base",
          "model_name": "LayoutModel",
          "state": {
            "_view_name": "LayoutView",
            "grid_template_rows": null,
            "right": null,
            "justify_content": null,
            "_view_module": "@jupyter-widgets/base",
            "overflow": null,
            "_model_module_version": "1.2.0",
            "_view_count": null,
            "flex_flow": null,
            "width": null,
            "min_width": null,
            "border": null,
            "align_items": null,
            "bottom": null,
            "_model_module": "@jupyter-widgets/base",
            "top": null,
            "grid_column": null,
            "overflow_y": null,
            "overflow_x": null,
            "grid_auto_flow": null,
            "grid_area": null,
            "grid_template_columns": null,
            "flex": null,
            "_model_name": "LayoutModel",
            "justify_items": null,
            "grid_row": null,
            "max_height": null,
            "align_content": null,
            "visibility": null,
            "align_self": null,
            "height": null,
            "min_height": null,
            "padding": null,
            "grid_auto_rows": null,
            "grid_gap": null,
            "max_width": null,
            "order": null,
            "_view_module_version": "1.2.0",
            "grid_template_areas": null,
            "object_position": null,
            "object_fit": null,
            "grid_auto_columns": null,
            "margin": null,
            "display": null,
            "left": null
          }
        }
      }
    }
  },
  "cells": [
    {
      "cell_type": "markdown",
      "metadata": {
        "id": "view-in-github",
        "colab_type": "text"
      },
      "source": [
        "<a href=\"https://colab.research.google.com/github/gkdivya/EVA/blob/main/3_PyTorchNeuralNetwork/MNIST_RandomNumber_Addition.ipynb\" target=\"_parent\"><img src=\"https://colab.research.google.com/assets/colab-badge.svg\" alt=\"Open In Colab\"/></a>"
      ]
    },
    {
      "cell_type": "markdown",
      "metadata": {
        "id": "HxuatuqdHLUK"
      },
      "source": [
        "# MNIST RandomNumber Addition using Pytorch\n",
        "Write a neural network that can:\n",
        "- take 2 inputs:\n",
        "  - an image from MNIST dataset, and\n",
        "  - a random number between 0 and 9\n",
        "- and gives two outputs:\n",
        "  - the \"number\" that was represented by the MNIST image, and\n",
        "  - the \"sum\" of this number with the random number that was generated and sent as the input to the network "
      ]
    },
    {
      "cell_type": "markdown",
      "metadata": {
        "id": "yp2Yu_c0HWnD"
      },
      "source": [
        "## Import Libraries\n",
        "\n",
        "Let's first import all the necessary libraries"
      ]
    },
    {
      "cell_type": "code",
      "metadata": {
        "id": "cXrOGmLUG6hV"
      },
      "source": [
        "import torch\n",
        "import torch.nn as nn\n",
        "import torch.nn.functional as F\n",
        "import torch.optim as optim\n",
        "import torchvision\n",
        "import torchvision.transforms as transforms\n",
        "from torch.utils.data import Dataset, TensorDataset\n",
        "from torch.utils.data import DataLoader\n",
        "\n",
        "import matplotlib.pyplot as plt\n",
        "import numpy as np\n",
        "\n",
        "import random"
      ],
      "execution_count": 1,
      "outputs": []
    },
    {
      "cell_type": "code",
      "metadata": {
        "id": "cOIxtDXQHgyK"
      },
      "source": [
        "# check if cuda is available\n",
        "use_cuda = torch.cuda.is_available()\n",
        "device = torch.device(\"cuda\" if use_cuda else \"cpu\")"
      ],
      "execution_count": 2,
      "outputs": []
    },
    {
      "cell_type": "markdown",
      "metadata": {
        "id": "HFpiuq-FHwUq"
      },
      "source": [
        "## Load and Prepare Dataset\n",
        "\n",
        "MNIST contains 70,000 images of handwritten digits: 60,000 for training and 10,000 for testing. The images are grayscale, 28x28 pixels\n",
        "\n",
        "We load the PIL images using torchvision.datasets.MNIST, while loading the image we transform he data to tensor and normalize the images with mean and std deviation of MNIST images."
      ]
    },
    {
      "cell_type": "code",
      "metadata": {
        "id": "hECwKsBZH2_Z",
        "outputId": "56e82229-5c31-4db6-a864-30c582c2bebb",
        "colab": {
          "base_uri": "https://localhost:8080/",
          "height": 642,
          "referenced_widgets": [
            "9a8c04383e3b44018e4a4d5c492f5b80",
            "90b603ecad274cfa9b3bb493e1eeafd2",
            "9e33f0a6157e4f8c88aac6c44f18f74c",
            "295893fccc7e4fefa6040e6816c6eaff",
            "f2b8c4d6a28445eebe8d21adaf7403b4",
            "436f1ce6033f4c7b96abc27e44e33c0c",
            "5c494dd7604146ef97e57c93d1aad65e",
            "8a0327cd3afa4a449be83b84fed8373e",
            "2f0f2b3850a44b1fb0ec172442c19323",
            "9acedf127ba64c43ba6f45a6c7733622",
            "6e262a9372f44a9aabab712e851ddfcd",
            "e31fcc1da2e54bdcbf047b8619888638",
            "0a91a2a7cfd04725a807156456ea7203",
            "adb46082449645bbac629c697b595059",
            "14899bd5eb304c40a8ddbba967c23aaf",
            "f5d1350ff69d4579ad64b597ef53fa31",
            "4c1d2fae0d2245e4ab18dec8b87f6976",
            "b86edc87b6f44e7e9b5ce0f37e71ad24",
            "3db32bcc5c5349f5a425ae3e731c20f5",
            "965540854b8f4f08a22c768feb25b11c",
            "07bfb2a2390f408cb1b336d14dc4f761",
            "a819fc6e354741869278242a024ea8af",
            "a1b4aa399f1a46a7bf420cd0108235fc",
            "ef70e66b31884d6a8809bffa96aad935",
            "76fb7344fa014c58924b477a0843daea",
            "2652791391ce4cf98b88ed127c6c0992",
            "a27cd8fd348a40c3bec76934b4c081b2",
            "1251e60b9b234a0392b7e0a765041d02",
            "2494bd5ad5cb433a816b569d40b04661",
            "731cc986025d47e7b4bc3f529215d32f",
            "fc8db6f8ff584aa9b3049f0afaa54224",
            "15593d6a60a64e158fd9bb6f810abbe1"
          ]
        }
      },
      "source": [
        "# We transform them to tensors\n",
        "# Train Phase transformations\n",
        "train_transforms = transforms.Compose([\n",
        "                                       transforms.ToTensor(),\n",
        "                                       transforms.Normalize((0.1307,), (0.3081,)) # The mean and std have to be sequences (e.g., tuples), therefore you should add a comma after the values. \n",
        "                                       ])\n",
        "\n",
        "# Test Phase transformations\n",
        "test_transforms = transforms.Compose([\n",
        "                                       transforms.ToTensor(),\n",
        "                                       transforms.Normalize((0.1307,), (0.3081,))\n",
        "                                       ])\n",
        "\n",
        "# torchvision.datasets.MNIST outputs a set of PIL images\n",
        "# Load and transform data\n",
        "MNIST_train = torchvision.datasets.MNIST('/tmp', train=True, download=True, transform=train_transforms)\n",
        "MNIST_trainset, MNIST_valset = torch.utils.data.random_split(MNIST_train, [55000, 5000])\n",
        "MNIST_testset = torchvision.datasets.MNIST('/tmp', train=False, download=True, transform=test_transforms)"
      ],
      "execution_count": 3,
      "outputs": [
        {
          "output_type": "stream",
          "text": [
            "Downloading http://yann.lecun.com/exdb/mnist/train-images-idx3-ubyte.gz\n",
            "Failed to download (trying next):\n",
            "HTTP Error 503: Service Unavailable\n",
            "\n",
            "Downloading https://ossci-datasets.s3.amazonaws.com/mnist/train-images-idx3-ubyte.gz\n",
            "Downloading https://ossci-datasets.s3.amazonaws.com/mnist/train-images-idx3-ubyte.gz to /tmp/MNIST/raw/train-images-idx3-ubyte.gz\n"
          ],
          "name": "stdout"
        },
        {
          "output_type": "display_data",
          "data": {
            "application/vnd.jupyter.widget-view+json": {
              "model_id": "9a8c04383e3b44018e4a4d5c492f5b80",
              "version_minor": 0,
              "version_major": 2
            },
            "text/plain": [
              "HBox(children=(FloatProgress(value=0.0, max=9912422.0), HTML(value='')))"
            ]
          },
          "metadata": {
            "tags": []
          }
        },
        {
          "output_type": "stream",
          "text": [
            "\n",
            "Extracting /tmp/MNIST/raw/train-images-idx3-ubyte.gz to /tmp/MNIST/raw\n",
            "\n",
            "Downloading http://yann.lecun.com/exdb/mnist/train-labels-idx1-ubyte.gz\n",
            "Downloading http://yann.lecun.com/exdb/mnist/train-labels-idx1-ubyte.gz to /tmp/MNIST/raw/train-labels-idx1-ubyte.gz\n"
          ],
          "name": "stdout"
        },
        {
          "output_type": "display_data",
          "data": {
            "application/vnd.jupyter.widget-view+json": {
              "model_id": "2f0f2b3850a44b1fb0ec172442c19323",
              "version_minor": 0,
              "version_major": 2
            },
            "text/plain": [
              "HBox(children=(FloatProgress(value=0.0, max=28881.0), HTML(value='')))"
            ]
          },
          "metadata": {
            "tags": []
          }
        },
        {
          "output_type": "stream",
          "text": [
            "\n",
            "Extracting /tmp/MNIST/raw/train-labels-idx1-ubyte.gz to /tmp/MNIST/raw\n",
            "\n",
            "Downloading http://yann.lecun.com/exdb/mnist/t10k-images-idx3-ubyte.gz\n",
            "Downloading http://yann.lecun.com/exdb/mnist/t10k-images-idx3-ubyte.gz to /tmp/MNIST/raw/t10k-images-idx3-ubyte.gz\n"
          ],
          "name": "stdout"
        },
        {
          "output_type": "display_data",
          "data": {
            "application/vnd.jupyter.widget-view+json": {
              "model_id": "4c1d2fae0d2245e4ab18dec8b87f6976",
              "version_minor": 0,
              "version_major": 2
            },
            "text/plain": [
              "HBox(children=(FloatProgress(value=0.0, max=1648877.0), HTML(value='')))"
            ]
          },
          "metadata": {
            "tags": []
          }
        },
        {
          "output_type": "stream",
          "text": [
            "\n",
            "Extracting /tmp/MNIST/raw/t10k-images-idx3-ubyte.gz to /tmp/MNIST/raw\n",
            "\n",
            "Downloading http://yann.lecun.com/exdb/mnist/t10k-labels-idx1-ubyte.gz\n",
            "Downloading http://yann.lecun.com/exdb/mnist/t10k-labels-idx1-ubyte.gz to /tmp/MNIST/raw/t10k-labels-idx1-ubyte.gz\n"
          ],
          "name": "stdout"
        },
        {
          "output_type": "display_data",
          "data": {
            "application/vnd.jupyter.widget-view+json": {
              "model_id": "76fb7344fa014c58924b477a0843daea",
              "version_minor": 0,
              "version_major": 2
            },
            "text/plain": [
              "HBox(children=(FloatProgress(value=0.0, max=4542.0), HTML(value='')))"
            ]
          },
          "metadata": {
            "tags": []
          }
        },
        {
          "output_type": "stream",
          "text": [
            "\n",
            "Extracting /tmp/MNIST/raw/t10k-labels-idx1-ubyte.gz to /tmp/MNIST/raw\n",
            "\n",
            "Processing...\n",
            "Done!\n"
          ],
          "name": "stdout"
        },
        {
          "output_type": "stream",
          "text": [
            "/usr/local/lib/python3.7/dist-packages/torchvision/datasets/mnist.py:502: UserWarning: The given NumPy array is not writeable, and PyTorch does not support non-writeable tensors. This means you can write to the underlying (supposedly non-writeable) NumPy array using the tensor. You may want to copy the array to protect its data or make it writeable before converting it to a tensor. This type of warning will be suppressed for the rest of this program. (Triggered internally at  /pytorch/torch/csrc/utils/tensor_numpy.cpp:143.)\n",
            "  return torch.from_numpy(parsed.astype(m[2], copy=False)).view(*s)\n"
          ],
          "name": "stderr"
        }
      ]
    },
    {
      "cell_type": "markdown",
      "metadata": {
        "id": "eEjiYliSJvIV"
      },
      "source": [
        "### Creation of Random MNIST dataset\n",
        "\n"
      ]
    },
    {
      "cell_type": "code",
      "metadata": {
        "id": "T5xU_qOAHmQs"
      },
      "source": [
        "class RandomMNISTDataset(Dataset):\n",
        "  def __init__(self, MNISTDataset):\n",
        "    self.MNISTDataset = MNISTDataset\n",
        "\n",
        "  def __getitem__(self, index):\n",
        "    image = self.MNISTDataset[index][0]\n",
        "    label = self.MNISTDataset[index][1]\n",
        "    randomNo = random.randint(0,9)\n",
        "\n",
        "    #Create one hot encoding for random number \n",
        "    one_hotrandomNo = torch.nn.functional.one_hot(torch.arange(0, 10))\n",
        "\n",
        "    #add actual label and random number\n",
        "    sum = label + randomNo\n",
        "    return image, label, one_hotrandomNo[randomNo], sum\n",
        "\n",
        "  def __len__(self):\n",
        "    return len(self.MNISTDataset)"
      ],
      "execution_count": 4,
      "outputs": []
    },
    {
      "cell_type": "code",
      "metadata": {
        "id": "gJFs_KVGKPKl"
      },
      "source": [
        "train_dataset = RandomMNISTDataset(MNIST_trainset)\n",
        "val_dataset = RandomMNISTDataset(MNIST_valset)\n",
        "test_dataset = RandomMNISTDataset(MNIST_testset)"
      ],
      "execution_count": 5,
      "outputs": []
    },
    {
      "cell_type": "code",
      "metadata": {
        "colab": {
          "base_uri": "https://localhost:8080/"
        },
        "id": "83D4wE7AKYWb",
        "outputId": "1720ba44-1be1-4cea-cfb7-33612326aae3"
      },
      "source": [
        "print(f'The number of images in train dataset - {len(train_dataset)}')\n",
        "print(f'The number of images in val dataset - {len(val_dataset)}')\n",
        "\n",
        "print(f'The number of images in test dataset - {len(test_dataset)}')"
      ],
      "execution_count": 6,
      "outputs": [
        {
          "output_type": "stream",
          "text": [
            "The number of images in train dataset - 55000\n",
            "The number of images in val dataset - 5000\n",
            "The number of images in test dataset - 10000\n"
          ],
          "name": "stdout"
        }
      ]
    },
    {
      "cell_type": "code",
      "metadata": {
        "id": "FbbXNrIiK82R"
      },
      "source": [
        "train_loader = DataLoader(train_dataset,batch_size=128,shuffle=True)\n",
        "val_loader = DataLoader(val_dataset,batch_size=128)\n",
        "test_loader = DataLoader(test_dataset,batch_size=128)"
      ],
      "execution_count": 7,
      "outputs": []
    },
    {
      "cell_type": "markdown",
      "metadata": {
        "id": "C8tWbWhSLL7R"
      },
      "source": [
        "## View Sample batch\n",
        "\n",
        "\n"
      ]
    },
    {
      "cell_type": "code",
      "metadata": {
        "colab": {
          "base_uri": "https://localhost:8080/"
        },
        "id": "2EYRp3arLCIU",
        "outputId": "91474b8d-5e48-4f58-9cb6-28b50c25270b"
      },
      "source": [
        "dataiter = iter(train_loader)\n",
        "images, labels, randomNumbers, sums = dataiter.next()\n",
        "\n",
        "print('Images: ', images.shape)\n",
        "print('Labels: ', labels.shape)\n",
        "print('Random Numbers: ', randomNumbers.shape)\n",
        "print('Sum: ', sums.shape)\n",
        "\n",
        "print('\\nLabels: ', labels)\n",
        "print('Random Numbers: ', randomNumbers)\n",
        "print('Sum: ', sums)"
      ],
      "execution_count": 8,
      "outputs": [
        {
          "output_type": "stream",
          "text": [
            "Images:  torch.Size([128, 1, 28, 28])\n",
            "Labels:  torch.Size([128])\n",
            "Random Numbers:  torch.Size([128, 10])\n",
            "Sum:  torch.Size([128])\n",
            "\n",
            "Labels:  tensor([1, 9, 0, 9, 9, 9, 8, 2, 2, 0, 7, 9, 8, 3, 0, 7, 2, 3, 6, 2, 2, 9, 5, 0,\n",
            "        2, 6, 3, 4, 6, 3, 7, 6, 0, 9, 2, 5, 4, 9, 9, 8, 4, 7, 6, 6, 8, 6, 5, 3,\n",
            "        4, 1, 9, 7, 1, 3, 8, 7, 0, 9, 4, 4, 6, 6, 3, 5, 7, 1, 0, 1, 9, 8, 6, 9,\n",
            "        8, 1, 8, 4, 2, 4, 2, 7, 3, 7, 5, 0, 0, 5, 2, 2, 6, 6, 8, 6, 4, 7, 4, 1,\n",
            "        8, 7, 4, 6, 1, 2, 2, 2, 2, 9, 0, 7, 2, 0, 1, 2, 9, 5, 2, 6, 6, 7, 4, 1,\n",
            "        1, 9, 3, 3, 6, 6, 3, 7])\n",
            "Random Numbers:  tensor([[0, 0, 0,  ..., 0, 0, 0],\n",
            "        [1, 0, 0,  ..., 0, 0, 0],\n",
            "        [0, 0, 0,  ..., 0, 0, 0],\n",
            "        ...,\n",
            "        [0, 0, 0,  ..., 0, 0, 0],\n",
            "        [0, 0, 0,  ..., 0, 0, 0],\n",
            "        [0, 0, 0,  ..., 0, 0, 0]])\n",
            "Sum:  tensor([ 6,  9,  4,  9, 13, 12, 11,  9,  4,  9,  8, 15, 10, 11,  6, 11,  4,  9,\n",
            "         8,  7,  3, 10,  9,  6,  4, 14,  3,  8,  7, 12, 14, 15,  2, 10,  7,  6,\n",
            "         4, 11, 16, 14, 11,  8, 10, 15, 14, 14,  5,  7, 10, 10, 16, 11, 10, 12,\n",
            "        14, 11,  3, 13, 12,  6, 12,  7,  5,  5, 12,  5,  1,  5, 11,  9, 10, 15,\n",
            "        13,  9, 10,  7,  2,  8,  9, 16, 10, 10,  8,  7,  3,  8,  6,  5,  9,  8,\n",
            "        10, 10,  7, 12, 12,  5, 17, 14,  6, 15, 10, 11,  4,  6,  7, 15,  9, 10,\n",
            "         3,  5,  4,  6, 14, 14,  4,  8, 14, 11,  5,  2,  4, 11,  9,  5, 11, 11,\n",
            "         9, 11])\n"
          ],
          "name": "stdout"
        }
      ]
    },
    {
      "cell_type": "markdown",
      "metadata": {
        "id": "QOcaKvrtLw4Y"
      },
      "source": [
        "## Defining the Model"
      ]
    },
    {
      "cell_type": "code",
      "metadata": {
        "id": "b14fFrznLgbe"
      },
      "source": [
        "class Net(nn.Module):\n",
        "    def __init__(self):\n",
        "        super(Net, self).__init__()\n",
        "        self.conv1 = nn.Conv2d(1, 32, 3, padding=1)       #Input: 28*28*1    Output:28 * 28 * 32    GRF:3 * 3  (GRF - Global Receptive Field)\n",
        "        self.conv2 = nn.Conv2d(32, 64, 3, padding=1)      #Input: 28*28*32   Output:28 * 28 * 64    GRF:5 * 5\n",
        "        self.pool1 = nn.MaxPool2d(2, 2)                   #Input: 28*28*64   Output:14 * 14 * 64    GRF:10*10 (for now we are considering that with max pooling, receptive field doubles - but this is not entirely correct)\n",
        "        self.conv3 = nn.Conv2d(64, 128, 3, padding=1)     #Input: 14*14*64   Output:14 * 14 * 128   GRF:12*12\n",
        "        self.conv4 = nn.Conv2d(128, 256, 3, padding=1)    #Input: 14*14*128  Output:14 * 14 * 256   GRF:14*14\n",
        "        self.pool2 = nn.MaxPool2d(2, 2)                   #Input: 14*14*256  Output: 7 * 7 * 256    GRF:28*28\n",
        "        self.conv5 = nn.Conv2d(256, 512, 3)               #Input: 7*7*256    Output: 5 * 5 * 12     GRF:30*30\n",
        "        self.conv6 = nn.Conv2d(512, 1024, 3)              #Input: 5*5*12     Output: 3 * 3 * 1024   GRF:32*32\n",
        "        self.conv7 = nn.Conv2d(1024, 10, 3)               #Input: 3*3*1024   Output: 1 * 1 * 10     GRF:34*34\n",
        "\n",
        "\n",
        "        self.fc1 = nn.Linear(10+10, 128)                  #Concatenate two inputs \n",
        "        # self.fc2 = nn.Linear(128, 30)\n",
        "        self.fc2 = nn.Linear(128, 19)\n",
        "\n",
        "    def forward(self, image, randomNumber):\n",
        "        #The first convolutional layer self.conv1 has a convolutional operation on input tensor x, followed by a relu activation operation \n",
        "        #whcih is then passed to second convolution operation self.conv2 followed by a relu whose output is then passed to a max pooling \n",
        "        x = self.pool1(F.relu(self.conv2(F.relu(self.conv1(image)))))\n",
        "\n",
        "        #The output of the max pool operation is passed to another two convolution and relu activation operation followed by max pooling. \n",
        "        #The relu() and the max_pool2d() calls are just pure operations. Neither of these have weights  \n",
        "        x = self.pool2(F.relu(self.conv4(F.relu(self.conv3(x)))))\n",
        "\n",
        "        #The output of the max pool operation from 4th convolution is passed to another two sets of convolution and relu activation operation\n",
        "        x = F.relu(self.conv6(F.relu(self.conv5(x))))\n",
        "\n",
        "        # The output from 6th convolution is then passed to a linear layer\n",
        "        x = self.conv7(x)  \n",
        "        \n",
        "        #The flatten's all of the tensor's elements into a single dimension.\n",
        "        x = x.view(-1, 10)\n",
        "        \n",
        "        #concatenate second input to the output from above convolution\n",
        "        x1 = torch.cat((x, randomNumber), dim=1)\n",
        "        \n",
        "        # Further train the network on Dense Layer\n",
        "        x1 = F.relu(self.fc1(x1))\n",
        "        #x1 = F.relu(self.fc2(x1))    \n",
        "        x1 = self.fc2(x1)  \n",
        "\n",
        "        # Inside the network we usually use relu() as our non-linear activation function, but for the output layer, we use Softmax function for predicting category with maximum probability. \n",
        "        #The softmax function returns a positive probability for each of the prediction classes, and the values sum to 1.\n",
        "\n",
        "        #Model returns two outputs:\n",
        "          #Output1 : \"number\" represented by the MNIST image \n",
        "          #Output2 : \"sum\" of this number with the random number that was generated\n",
        "\n",
        "        return F.log_softmax(x, dim = 1), F.log_softmax(x1, dim = 1)"
      ],
      "execution_count": 9,
      "outputs": []
    },
    {
      "cell_type": "markdown",
      "metadata": {
        "id": "9sOWG_9vM-0E"
      },
      "source": [
        "## The Model"
      ]
    },
    {
      "cell_type": "code",
      "metadata": {
        "colab": {
          "base_uri": "https://localhost:8080/"
        },
        "id": "Vrlm8pVtL-M5",
        "outputId": "4989e612-dcb3-4c3f-a745-16665c8861f0"
      },
      "source": [
        "# move the model to the specified device\n",
        "model = Net().to(device)\n",
        "model.eval()"
      ],
      "execution_count": 10,
      "outputs": [
        {
          "output_type": "execute_result",
          "data": {
            "text/plain": [
              "Net(\n",
              "  (conv1): Conv2d(1, 32, kernel_size=(3, 3), stride=(1, 1), padding=(1, 1))\n",
              "  (conv2): Conv2d(32, 64, kernel_size=(3, 3), stride=(1, 1), padding=(1, 1))\n",
              "  (pool1): MaxPool2d(kernel_size=2, stride=2, padding=0, dilation=1, ceil_mode=False)\n",
              "  (conv3): Conv2d(64, 128, kernel_size=(3, 3), stride=(1, 1), padding=(1, 1))\n",
              "  (conv4): Conv2d(128, 256, kernel_size=(3, 3), stride=(1, 1), padding=(1, 1))\n",
              "  (pool2): MaxPool2d(kernel_size=2, stride=2, padding=0, dilation=1, ceil_mode=False)\n",
              "  (conv5): Conv2d(256, 512, kernel_size=(3, 3), stride=(1, 1))\n",
              "  (conv6): Conv2d(512, 1024, kernel_size=(3, 3), stride=(1, 1))\n",
              "  (conv7): Conv2d(1024, 10, kernel_size=(3, 3), stride=(1, 1))\n",
              "  (fc1): Linear(in_features=20, out_features=128, bias=True)\n",
              "  (fc2): Linear(in_features=128, out_features=19, bias=True)\n",
              ")"
            ]
          },
          "metadata": {
            "tags": []
          },
          "execution_count": 10
        }
      ]
    },
    {
      "cell_type": "markdown",
      "metadata": {
        "id": "aeVmw5xkM6o9"
      },
      "source": [
        "## Model parameters"
      ]
    },
    {
      "cell_type": "code",
      "metadata": {
        "colab": {
          "base_uri": "https://localhost:8080/"
        },
        "id": "HXkA6qn3M1Ra",
        "outputId": "c6ad4cec-89c8-4918-b9c0-63e76b0f63de"
      },
      "source": [
        "def count_parameters(model):\n",
        "    return sum(p.numel() for p in model.parameters() if p.requires_grad)\n",
        "\n",
        "print(f'The model has {count_parameters(model):,} trainable parameters')"
      ],
      "execution_count": 11,
      "outputs": [
        {
          "output_type": "stream",
          "text": [
            "The model has 6,384,925 trainable parameters\n"
          ],
          "name": "stdout"
        }
      ]
    },
    {
      "cell_type": "markdown",
      "metadata": {
        "id": "K9g1TyZcNMQt"
      },
      "source": [
        "## Training Loop"
      ]
    },
    {
      "cell_type": "code",
      "metadata": {
        "id": "U6-GBrOYNIT_"
      },
      "source": [
        "def train(model, device, train_loader, optimizer, epoch):\n",
        "    # set the model in training model\n",
        "    model.train()\n",
        "\n",
        "    epoch_loss = 0\n",
        "\n",
        "    # run for all the data in train_loader\n",
        "    for batch_idx, (data, target, random_number, sum) in enumerate(train_loader):\n",
        "\n",
        "        # fetch the data and the target values\n",
        "        target = target.type(torch.LongTensor)\n",
        "        sum = sum.type(torch.LongTensor)\n",
        "\n",
        "        # move the data to device\n",
        "        data, target, sum = data.to(device), target.to(device), sum.to(device)\n",
        "\n",
        "        # zero out the gradients\n",
        "        optimizer.zero_grad()\n",
        "\n",
        "        # forward pass the model with the data\n",
        "        output, sum_output = model(data,random_number.to(device))\n",
        "\n",
        "        # compute the loss occured\n",
        "        mnist_loss = F.nll_loss(output, target)\n",
        "        addition_loss = F.nll_loss(sum_output, sum)\n",
        "        loss= (mnist_loss + addition_loss)/2\n",
        "\n",
        "        epoch_loss += loss.item()\n",
        "\n",
        "        # compute the backward gradients\n",
        "        loss.backward()\n",
        "\n",
        "        # update the optimizer params\n",
        "        optimizer.step()\n",
        "    print('Train set: Average loss: {:.4f}'.format(loss.item()))\n",
        "\n",
        "    train_loss = epoch_loss / len(train_loader)\n",
        "    return train_loss\n",
        "\n"
      ],
      "execution_count": 12,
      "outputs": []
    },
    {
      "cell_type": "markdown",
      "metadata": {
        "id": "ijI_8dpTNmUv"
      },
      "source": [
        "## Testing Loop"
      ]
    },
    {
      "cell_type": "code",
      "metadata": {
        "id": "4Ay4AVrvNPJl"
      },
      "source": [
        "def test(model, device, test_loader,test_type='Val'):\n",
        "    # set the model in evaluation model\n",
        "    model.eval()\n",
        "\n",
        "    # set the loss to zero\n",
        "    test_loss = 0\n",
        "    \n",
        "    # the number of correct classifications\n",
        "    correct_mnist = 0\n",
        "    correct_addition = 0\n",
        "\n",
        "    # turn off gradients during the testing\n",
        "    with torch.no_grad():\n",
        "        for (data, target, random_number, sum) in test_loader:\n",
        "\n",
        "            # move the data to device\n",
        "            target = target.type(torch.LongTensor)\n",
        "            sum = sum.type(torch.LongTensor)\n",
        "            data, target,sum = data.to(device), target.to(device), sum.to(device)\n",
        "\n",
        "            # forward pass the model and get the output\n",
        "            output, sum_output = model(data,random_number.to(device))\n",
        "\n",
        "            # accumulate the loss from both the network outputs\n",
        "            test_loss += (F.nll_loss(output, target, reduction='sum').item() + F.nll_loss(sum_output, sum, reduction='sum').item())/2\n",
        "\n",
        "            # get the index of max log-probability\n",
        "            mnist_pred = output.argmax(dim=1, keepdim=True)\n",
        "            addition_pred = sum_output.argmax(dim=1, keepdim=True)\n",
        "\n",
        "            # increment the correct prediction count if pred is correct\n",
        "            correct_mnist += mnist_pred.eq(target.view_as(mnist_pred)).sum().item()\n",
        "            correct_addition += addition_pred.eq(sum.view_as(addition_pred)).sum().item()\n",
        "\n",
        "\n",
        "    # test loss divided by the total number of items in test dataset\n",
        "    test_loss /= len(test_loader.dataset)\n",
        "    print(f'{test_type} set: Average loss: {test_loss:.3f}, MNist Accuracy:{100. * correct_mnist/len(test_loader.dataset)}, Sum_Accuracy:{100. * correct_addition/len(test_loader.dataset)}')\n",
        "\n",
        "    return test_loss\n"
      ],
      "execution_count": 13,
      "outputs": []
    },
    {
      "cell_type": "markdown",
      "metadata": {
        "id": "J926BHeuPkaE"
      },
      "source": [
        "## Let's write train and test the model"
      ]
    },
    {
      "cell_type": "code",
      "metadata": {
        "colab": {
          "base_uri": "https://localhost:8080/"
        },
        "id": "5CCsxnOKOA8m",
        "outputId": "eee7a6b8-a025-4584-9848-ad0aa6000e74"
      },
      "source": [
        "# move the model to the specified device\n",
        "model = Net().to(device)\n",
        "\n",
        "# use Stochastic Gradient Descent as the optimizer\n",
        "optimizer = optim.SGD(model.parameters(), lr=0.01, momentum=0.7)\n",
        "\n",
        "# set the number of epochs to train for\n",
        "num_epoch = 25\n",
        "\n",
        "train_loss_values = []\n",
        "valid_loss_values = []\n",
        "\n",
        "# run it for epoch number of times\n",
        "for epoch in range(1, num_epoch+1):\n",
        "    print('\\nEpoch {} : '.format(epoch))\n",
        "    # train the model\n",
        "    train_loss = train(model, device, train_loader, optimizer, epoch)\n",
        "    valid_loss = test(model, device, val_loader)\n",
        "    # test the model\n",
        "\n",
        "    train_loss_values.append(train_loss)\n",
        "    valid_loss_values.append(valid_loss)"
      ],
      "execution_count": 14,
      "outputs": [
        {
          "output_type": "stream",
          "text": [
            "\n",
            "Epoch 1 : \n",
            "Train set: Average loss: 1.3915\n",
            "val set: Average loss: 1.368, MNist Accuracy:93.04, Sum_Accuracy:10.88\n",
            "\n",
            "Epoch 2 : \n",
            "Train set: Average loss: 1.2572\n",
            "val set: Average loss: 1.248, MNist Accuracy:96.16, Sum_Accuracy:15.22\n",
            "\n",
            "Epoch 3 : \n",
            "Train set: Average loss: 1.1600\n",
            "val set: Average loss: 1.188, MNist Accuracy:96.9, Sum_Accuracy:17.76\n",
            "\n",
            "Epoch 4 : \n",
            "Train set: Average loss: 1.1511\n",
            "val set: Average loss: 1.125, MNist Accuracy:97.82, Sum_Accuracy:29.12\n",
            "\n",
            "Epoch 5 : \n",
            "Train set: Average loss: 1.0766\n",
            "val set: Average loss: 1.075, MNist Accuracy:98.24, Sum_Accuracy:38.64\n",
            "\n",
            "Epoch 6 : \n",
            "Train set: Average loss: 0.9500\n",
            "val set: Average loss: 1.012, MNist Accuracy:98.04, Sum_Accuracy:41.8\n",
            "\n",
            "Epoch 7 : \n",
            "Train set: Average loss: 0.9224\n",
            "val set: Average loss: 0.926, MNist Accuracy:98.38, Sum_Accuracy:57.8\n",
            "\n",
            "Epoch 8 : \n",
            "Train set: Average loss: 0.7930\n",
            "val set: Average loss: 0.852, MNist Accuracy:98.4, Sum_Accuracy:66.42\n",
            "\n",
            "Epoch 9 : \n",
            "Train set: Average loss: 0.7626\n",
            "val set: Average loss: 0.767, MNist Accuracy:98.52, Sum_Accuracy:77.82\n",
            "\n",
            "Epoch 10 : \n",
            "Train set: Average loss: 0.6550\n",
            "val set: Average loss: 0.676, MNist Accuracy:98.68, Sum_Accuracy:84.98\n",
            "\n",
            "Epoch 11 : \n",
            "Train set: Average loss: 0.6017\n",
            "val set: Average loss: 0.592, MNist Accuracy:98.62, Sum_Accuracy:90.2\n",
            "\n",
            "Epoch 12 : \n",
            "Train set: Average loss: 0.4858\n",
            "val set: Average loss: 0.507, MNist Accuracy:98.8, Sum_Accuracy:93.72\n",
            "\n",
            "Epoch 13 : \n",
            "Train set: Average loss: 0.4871\n",
            "val set: Average loss: 0.434, MNist Accuracy:98.82, Sum_Accuracy:95.58\n",
            "\n",
            "Epoch 14 : \n",
            "Train set: Average loss: 0.3552\n",
            "val set: Average loss: 0.364, MNist Accuracy:98.72, Sum_Accuracy:97.52\n",
            "\n",
            "Epoch 15 : \n",
            "Train set: Average loss: 0.2759\n",
            "val set: Average loss: 0.303, MNist Accuracy:98.82, Sum_Accuracy:98.24\n",
            "\n",
            "Epoch 16 : \n",
            "Train set: Average loss: 0.2438\n",
            "val set: Average loss: 0.251, MNist Accuracy:98.92, Sum_Accuracy:98.38\n",
            "\n",
            "Epoch 17 : \n",
            "Train set: Average loss: 0.1744\n",
            "val set: Average loss: 0.214, MNist Accuracy:99.02, Sum_Accuracy:98.62\n",
            "\n",
            "Epoch 18 : \n",
            "Train set: Average loss: 0.1420\n",
            "val set: Average loss: 0.183, MNist Accuracy:98.86, Sum_Accuracy:98.64\n",
            "\n",
            "Epoch 19 : \n",
            "Train set: Average loss: 0.1160\n",
            "val set: Average loss: 0.159, MNist Accuracy:99.0, Sum_Accuracy:98.96\n",
            "\n",
            "Epoch 20 : \n",
            "Train set: Average loss: 0.1003\n",
            "val set: Average loss: 0.143, MNist Accuracy:98.88, Sum_Accuracy:98.82\n",
            "\n",
            "Epoch 21 : \n",
            "Train set: Average loss: 0.0719\n",
            "val set: Average loss: 0.123, MNist Accuracy:99.06, Sum_Accuracy:98.82\n",
            "\n",
            "Epoch 22 : \n",
            "Train set: Average loss: 0.0746\n",
            "val set: Average loss: 0.117, MNist Accuracy:98.88, Sum_Accuracy:98.64\n",
            "\n",
            "Epoch 23 : \n",
            "Train set: Average loss: 0.0590\n",
            "val set: Average loss: 0.105, MNist Accuracy:99.06, Sum_Accuracy:98.82\n",
            "\n",
            "Epoch 24 : \n",
            "Train set: Average loss: 0.0606\n",
            "val set: Average loss: 0.098, MNist Accuracy:99.0, Sum_Accuracy:98.76\n",
            "\n",
            "Epoch 25 : \n",
            "Train set: Average loss: 0.0566\n",
            "val set: Average loss: 0.090, MNist Accuracy:99.0, Sum_Accuracy:98.84\n"
          ],
          "name": "stdout"
        }
      ]
    },
    {
      "cell_type": "markdown",
      "metadata": {
        "id": "YkSWImNnOXCm"
      },
      "source": [
        "## Ploting the loss "
      ]
    },
    {
      "cell_type": "code",
      "metadata": {
        "colab": {
          "base_uri": "https://localhost:8080/",
          "height": 426
        },
        "id": "lsTdtLh2OH4f",
        "outputId": "2aae6d8d-ac2b-4351-e517-807fffde386a"
      },
      "source": [
        "import matplotlib.pyplot as plt\n",
        "% matplotlib inline\n",
        "\n",
        "import seaborn as sns\n",
        "\n",
        "# Use plot styling from seaborn.\n",
        "sns.set(style='darkgrid')\n",
        "\n",
        "# Increase the plot size and font size.\n",
        "sns.set(font_scale=1.5)\n",
        "plt.rcParams[\"figure.figsize\"] = (12,6)\n",
        "\n",
        "# Plot the learning curve.\n",
        "plt.plot(np.array(train_loss_values), 'b-o', label=\"Training\")\n",
        "plt.plot(np.array(valid_loss_values), 'g-o', label=\"Validation\")\n",
        "\n",
        "\n",
        "# Label the plot.\n",
        "plt.title(\"Training & Validation Loss\")\n",
        "plt.xlabel(\"Epoch\")\n",
        "plt.ylabel(\"Loss\")\n",
        "plt.legend()\n",
        "plt.show()"
      ],
      "execution_count": 15,
      "outputs": [
        {
          "output_type": "display_data",
          "data": {
            "image/png": "[encoded data removed]",
            "text/plain": [
              "<Figure size 864x432 with 1 Axes>"
            ]
          },
          "metadata": {
            "tags": []
          }
        }
      ]
    },
    {
      "cell_type": "markdown",
      "metadata": {
        "id": "UZzPy83sYdaJ"
      },
      "source": [
        "## Test Loss"
      ]
    },
    {
      "cell_type": "code",
      "metadata": {
        "colab": {
          "base_uri": "https://localhost:8080/"
        },
        "id": "Adb9YvPVSPGa",
        "outputId": "d47bb7ab-edbe-475e-c06a-9601b4cc0030"
      },
      "source": [
        "test_loss = test(model, device, test_loader,'Test')"
      ],
      "execution_count": 16,
      "outputs": [
        {
          "output_type": "stream",
          "text": [
            "Test set: Average loss: 0.072, MNist Accuracy:99.27, Sum_Accuracy:99.24\n"
          ],
          "name": "stdout"
        }
      ]
    },
    {
      "cell_type": "markdown",
      "metadata": {
        "id": "mDe6qTF8Of3r"
      },
      "source": [
        "## Inference"
      ]
    },
    {
      "cell_type": "code",
      "metadata": {
        "id": "w_eX2N0_Ogha"
      },
      "source": [
        "def prediction(image,rnum):\n",
        "\n",
        "    rnum_ohe = torch.zeros(11).long()\n",
        "    rnum_ohe[rnum] = 1\n",
        "    rnum_ohe = rnum_ohe[:-1]\n",
        "\n",
        "    #tensored_image = image.unsqueeze(dim=1).to(device)\n",
        "    output_1,output_2 = model(image.unsqueeze(dim=1).to(device),rnum_ohe.reshape(-1,10).to(device))\n",
        "\n",
        "    mnist_pred = output_1.argmax(dim=1, keepdim=True)\n",
        "    sum_pred = output_2.argmax(dim=1, keepdim=True)\n",
        "\n",
        "    #print(f\"Random Number Generated is {rnum}\")\n",
        "    fig = plt.figure(figsize=(5, 5))\n",
        "    ax = fig.add_subplot(3, 3, 1)\n",
        "    ax.axis('off')\n",
        "    ax.imshow(image.cpu().numpy().squeeze())\n",
        "    ax.set_title(f'Random Number Generated : {rnum} \\n'\n",
        "                 f'Mnist Prediction: {mnist_pred.item()} \\n'\n",
        "                 f'Sum: {rnum} + {mnist_pred.item()} = {sum_pred.item()}')\n",
        "    return mnist_pred, sum_pred"
      ],
      "execution_count": 17,
      "outputs": []
    },
    {
      "cell_type": "code",
      "metadata": {
        "colab": {
          "base_uri": "https://localhost:8080/",
          "height": 171
        },
        "id": "33F1PPRdOmBt",
        "outputId": "038af8e5-6af4-4731-8725-d9af44090acc"
      },
      "source": [
        "image,_,_,_ = test_dataset[random.randint(1,10000)]\n",
        "rnum=random.randint(0,9)\n",
        "mnist_pred, sum_pred =prediction(image,rnum)"
      ],
      "execution_count": 18,
      "outputs": [
        {
          "output_type": "display_data",
          "data": {
            "image/png": "[encoded data removed]",
            "text/plain": [
              "<Figure size 360x360 with 1 Axes>"
            ]
          },
          "metadata": {
            "tags": []
          }
        }
      ]
    },
    {
      "cell_type": "code",
      "metadata": {
        "colab": {
          "base_uri": "https://localhost:8080/",
          "height": 171
        },
        "id": "8eNkX2RYOs7w",
        "outputId": "20db74d4-b073-426a-82c0-142e42d7ee32"
      },
      "source": [
        "image,_,_,_ = test_dataset[random.randint(1,10000)]\n",
        "rnum=random.randint(0,9)\n",
        "mnist_pred, sum_pred =prediction(image,rnum)"
      ],
      "execution_count": 19,
      "outputs": [
        {
          "output_type": "display_data",
          "data": {
            "image/png": "[encoded data removed]",
            "text/plain": [
              "<Figure size 360x360 with 1 Axes>"
            ]
          },
          "metadata": {
            "tags": []
          }
        }
      ]
    },
    {
      "cell_type": "code",
      "metadata": {
        "colab": {
          "base_uri": "https://localhost:8080/",
          "height": 171
        },
        "id": "3xYmHJzPOxaN",
        "outputId": "ba76f8a2-b4be-4f32-9d7b-09ab0acfbe86"
      },
      "source": [
        "image,_,_,_ = test_dataset[random.randint(1,10000)]\n",
        "rnum=random.randint(0,9)\n",
        "mnist_pred, sum_pred =prediction(image,rnum)"
      ],
      "execution_count": 20,
      "outputs": [
        {
          "output_type": "display_data",
          "data": {
            "image/png": "[encoded data removed]",
            "text/plain": [
              "<Figure size 360x360 with 1 Axes>"
            ]
          },
          "metadata": {
            "tags": []
          }
        }
      ]
    },
    {
      "cell_type": "code",
      "metadata": {
        "colab": {
          "base_uri": "https://localhost:8080/",
          "height": 171
        },
        "id": "0vL3TGefOyD7",
        "outputId": "b1b75500-a4f2-4215-a252-adecc8faced2"
      },
      "source": [
        "image,_,_,_ = test_dataset[random.randint(1,10000)]\n",
        "rnum=random.randint(0,9)\n",
        "mnist_pred, sum_pred =prediction(image,rnum)"
      ],
      "execution_count": 21,
      "outputs": [
        {
          "output_type": "display_data",
          "data": {
            "image/png": "[encoded data removed]",
            "text/plain": [
              "<Figure size 360x360 with 1 Axes>"
            ]
          },
          "metadata": {
            "tags": []
          }
        }
      ]
    }
  ]
}