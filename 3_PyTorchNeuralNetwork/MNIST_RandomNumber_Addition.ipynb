{
  "nbformat": 4,
  "nbformat_minor": 0,
  "metadata": {
    "colab": {
      "name": "MNIST_RandomNumber_Addition.ipynb",
      "provenance": [],
      "collapsed_sections": [],
      "toc_visible": true,
      "authorship_tag": "ABX9TyPeYA3e8n58DHjmphM41XxX",
      "include_colab_link": true
    },
    "kernelspec": {
      "name": "python3",
      "display_name": "Python 3"
    },
    "language_info": {
      "name": "python"
    },
    "accelerator": "GPU"
  },
  "cells": [
    {
      "cell_type": "markdown",
      "metadata": {
        "id": "view-in-github",
        "colab_type": "text"
      },
      "source": [
        "<a href=\"https://colab.research.google.com/github/gkdivya/EVA/blob/main/3_PyTorchNeuralNetwork/MNIST_RandomNumber_Addition.ipynb\" target=\"_parent\"><img src=\"https://colab.research.google.com/assets/colab-badge.svg\" alt=\"Open In Colab\"/></a>"
      ]
    },
    {
      "cell_type": "markdown",
      "metadata": {
        "id": "HxuatuqdHLUK"
      },
      "source": [
        "# MNIST RandomNumber Addition using Pytorch\n",
        "Write a neural network that can:\n",
        "- take 2 inputs:\n",
        "  - an image from MNIST dataset, and\n",
        "  - a random number between 0 and 9\n",
        "- and gives two outputs:\n",
        "  - the \"number\" that was represented by the MNIST image, and\n",
        "  - the \"sum\" of this number with the random number that was generated and sent as the input to the network "
      ]
    },
    {
      "cell_type": "markdown",
      "metadata": {
        "id": "yp2Yu_c0HWnD"
      },
      "source": [
        "## Import Libraries\n",
        "\n",
        "Let's first import all the necessary libraries"
      ]
    },
    {
      "cell_type": "code",
      "metadata": {
        "id": "cXrOGmLUG6hV"
      },
      "source": [
        "import torch\n",
        "import torch.nn as nn\n",
        "import torch.nn.functional as F\n",
        "import torch.optim as optim\n",
        "import torchvision\n",
        "import torchvision.transforms as transforms\n",
        "from torch.utils.data import Dataset, TensorDataset\n",
        "from torch.utils.data import DataLoader\n",
        "\n",
        "import matplotlib.pyplot as plt\n",
        "import numpy as np\n",
        "\n",
        "import random"
      ],
      "execution_count": null,
      "outputs": []
    },
    {
      "cell_type": "code",
      "metadata": {
        "id": "cOIxtDXQHgyK"
      },
      "source": [
        "# check if cuda is available\n",
        "use_cuda = torch.cuda.is_available()\n",
        "device = torch.device(\"cuda\" if use_cuda else \"cpu\")"
      ],
      "execution_count": null,
      "outputs": []
    },
    {
      "cell_type": "markdown",
      "metadata": {
        "id": "HFpiuq-FHwUq"
      },
      "source": [
        "## Load and Prepare Dataset\n",
        "\n",
        "MNIST contains 70,000 images of handwritten digits: 60,000 for training and 10,000 for testing. The images are grayscale, 28x28 pixels\n",
        "\n",
        "We load the PIL images using torchvision.datasets.MNIST, while loading the image we transform he data to tensor and normalize the images with mean and std deviation of MNIST images."
      ]
    },
    {
      "cell_type": "code",
      "metadata": {
        "id": "hECwKsBZH2_Z"
      },
      "source": [
        "# We transform them to tensors\n",
        "# Train Phase transformations\n",
        "train_transforms = transforms.Compose([\n",
        "                                       transforms.ToTensor(),\n",
        "                                       transforms.Normalize((0.1307,), (0.3081,)) # The mean and std have to be sequences (e.g., tuples), therefore you should add a comma after the values. \n",
        "                                       ])\n",
        "\n",
        "# Test Phase transformations\n",
        "test_transforms = transforms.Compose([\n",
        "                                       transforms.ToTensor(),\n",
        "                                       transforms.Normalize((0.1307,), (0.3081,))\n",
        "                                       ])\n",
        "\n",
        "# torchvision.datasets.MNIST outputs a set of PIL images\n",
        "# Load and transform data\n",
        "MNIST_train = torchvision.datasets.MNIST('/tmp', train=True, download=True, transform=train_transforms)\n",
        "MNIST_trainset, MNIST_valset = torch.utils.data.random_split(MNIST_train, [55000, 5000])\n",
        "MNIST_testset = torchvision.datasets.MNIST('/tmp', train=False, download=True, transform=test_transforms)"
      ],
      "execution_count": null,
      "outputs": []
    },
    {
      "cell_type": "markdown",
      "metadata": {
        "id": "eEjiYliSJvIV"
      },
      "source": [
        "### Creation of Random MNIST dataset\n",
        "\n"
      ]
    },
    {
      "cell_type": "code",
      "metadata": {
        "id": "T5xU_qOAHmQs"
      },
      "source": [
        "class RandomMNISTDataset(Dataset):\n",
        "  def __init__(self, MNISTDataset):\n",
        "    self.MNISTDataset = MNISTDataset\n",
        "\n",
        "  def __getitem__(self, index):\n",
        "    image = self.MNISTDataset[index][0]\n",
        "    label = self.MNISTDataset[index][1]\n",
        "    randomNo = random.randint(0,9)\n",
        "\n",
        "    #Create one hot encoding for random number \n",
        "    one_hotrandomNo = torch.nn.functional.one_hot(torch.arange(0, 10))\n",
        "\n",
        "    #add actual label and random number\n",
        "    sum = label + randomNo\n",
        "    return image, label, one_hotrandomNo[randomNo], sum\n",
        "\n",
        "  def __len__(self):\n",
        "    return len(self.MNISTDataset)"
      ],
      "execution_count": null,
      "outputs": []
    },
    {
      "cell_type": "code",
      "metadata": {
        "id": "gJFs_KVGKPKl"
      },
      "source": [
        "train_dataset = RandomMNISTDataset(MNIST_trainset)\n",
        "val_dataset = RandomMNISTDataset(MNIST_valset)\n",
        "test_dataset = RandomMNISTDataset(MNIST_testset)"
      ],
      "execution_count": null,
      "outputs": []
    },
    {
      "cell_type": "code",
      "metadata": {
        "colab": {
          "base_uri": "https://localhost:8080/"
        },
        "id": "83D4wE7AKYWb",
        "outputId": "689900a8-917c-4e88-c852-23520182ecf6"
      },
      "source": [
        "print(f'The number of images in train dataset - {len(train_dataset)}')\n",
        "print(f'The number of images in val dataset - {len(val_dataset)}')\n",
        "\n",
        "print(f'The number of images in test dataset - {len(test_dataset)}')"
      ],
      "execution_count": null,
      "outputs": [
        {
          "output_type": "stream",
          "text": [
            "The number of images in train dataset - 55000\n",
            "The number of images in val dataset - 5000\n",
            "The number of images in test dataset - 10000\n"
          ],
          "name": "stdout"
        }
      ]
    },
    {
      "cell_type": "code",
      "metadata": {
        "id": "FbbXNrIiK82R"
      },
      "source": [
        "train_loader = DataLoader(train_dataset,batch_size=128,shuffle=True)\n",
        "val_loader = DataLoader(val_dataset,batch_size=128)\n",
        "test_loader = DataLoader(test_dataset,batch_size=128)"
      ],
      "execution_count": null,
      "outputs": []
    },
    {
      "cell_type": "markdown",
      "metadata": {
        "id": "C8tWbWhSLL7R"
      },
      "source": [
        "## View Sample batch\n",
        "\n",
        "\n"
      ]
    },
    {
      "cell_type": "code",
      "metadata": {
        "colab": {
          "base_uri": "https://localhost:8080/"
        },
        "id": "2EYRp3arLCIU",
        "outputId": "13640451-989c-4197-bb26-c2b19fe25eef"
      },
      "source": [
        "dataiter = iter(train_loader)\n",
        "images, labels, randomNumbers, sums = dataiter.next()\n",
        "\n",
        "print('Images: ', images.shape)\n",
        "print('Labels: ', labels.shape)\n",
        "print('Random Numbers: ', randomNumbers.shape)\n",
        "print('Sum: ', sums.shape)\n",
        "\n",
        "print('\\nLabels: ', labels)\n",
        "print('Random Numbers: ', randomNumbers)\n",
        "print('Sum: ', sums)"
      ],
      "execution_count": null,
      "outputs": [
        {
          "output_type": "stream",
          "text": [
            "Images:  torch.Size([128, 1, 28, 28])\n",
            "Labels:  torch.Size([128])\n",
            "Random Numbers:  torch.Size([128, 10])\n",
            "Sum:  torch.Size([128])\n",
            "\n",
            "Labels:  tensor([4, 3, 6, 2, 6, 8, 5, 1, 6, 9, 6, 8, 6, 7, 2, 1, 8, 8, 4, 5, 4, 7, 7, 0,\n",
            "        3, 0, 6, 4, 8, 0, 8, 0, 4, 5, 7, 0, 4, 4, 2, 8, 0, 8, 5, 1, 4, 1, 9, 7,\n",
            "        2, 2, 2, 0, 9, 5, 6, 8, 6, 6, 8, 1, 0, 4, 4, 8, 0, 7, 2, 1, 3, 4, 8, 8,\n",
            "        6, 3, 2, 7, 8, 3, 2, 9, 8, 9, 9, 2, 8, 7, 7, 5, 6, 4, 9, 8, 7, 0, 9, 3,\n",
            "        2, 1, 8, 9, 8, 9, 3, 1, 7, 2, 8, 9, 9, 0, 5, 7, 7, 3, 0, 8, 0, 4, 2, 5,\n",
            "        0, 1, 2, 4, 4, 6, 2, 8])\n",
            "Random Numbers:  tensor([[0, 0, 0,  ..., 0, 0, 0],\n",
            "        [0, 0, 1,  ..., 0, 0, 0],\n",
            "        [0, 0, 1,  ..., 0, 0, 0],\n",
            "        ...,\n",
            "        [0, 0, 0,  ..., 0, 0, 0],\n",
            "        [0, 0, 0,  ..., 0, 0, 0],\n",
            "        [1, 0, 0,  ..., 0, 0, 0]])\n",
            "Sum:  tensor([10,  5,  8,  8, 13, 12, 12,  3, 11, 18, 15, 13,  7, 14,  5,  6, 17, 16,\n",
            "         7, 13,  4, 12, 16,  7, 11,  1, 10, 11,  9,  0,  8,  2,  6,  8, 11,  5,\n",
            "         5,  5,  8,  9,  8, 15, 13,  3, 12,  3, 15, 16,  3,  9,  6,  8, 12,  7,\n",
            "        12, 15,  9, 10, 14, 10,  3, 13,  6, 14,  9,  9,  3, 10,  8,  8, 11, 16,\n",
            "        12, 10,  8, 14, 17,  3,  4,  9, 15, 12,  9,  3, 16, 16,  8, 14,  7,  9,\n",
            "        17, 15, 16,  6, 13,  5,  5,  4, 10, 11, 17, 14,  6, 10,  7,  3, 17, 11,\n",
            "        13,  9, 11, 15, 10,  3,  2,  9,  1,  6,  9,  7,  5,  1,  4, 13,  5,  9,\n",
            "         5,  8])\n"
          ],
          "name": "stdout"
        }
      ]
    },
    {
      "cell_type": "markdown",
      "metadata": {
        "id": "QOcaKvrtLw4Y"
      },
      "source": [
        "## Defining the Model"
      ]
    },
    {
      "cell_type": "code",
      "metadata": {
        "id": "b14fFrznLgbe"
      },
      "source": [
        "class Net(nn.Module):\n",
        "    def __init__(self):\n",
        "        super(Net, self).__init__()\n",
        "        self.conv1 = nn.Conv2d(1, 32, 3, padding=1)       #Input: 28*28*1    Output:28 * 28 * 32    GRF:3 * 3  (GRF - Global Receptive Field)\n",
        "        self.conv2 = nn.Conv2d(32, 64, 3, padding=1)      #Input: 28*28*32   Output:28 * 28 * 64    GRF:5 * 5\n",
        "        self.pool1 = nn.MaxPool2d(2, 2)                   #Input: 28*28*64   Output:14 * 14 * 64    GRF:10*10 (for now we are considering that with max pooling, receptive field doubles - but this is not entirely correct)\n",
        "        self.conv3 = nn.Conv2d(64, 128, 3, padding=1)     #Input: 14*14*64   Output:14 * 14 * 128   GRF:12*12\n",
        "        self.conv4 = nn.Conv2d(128, 256, 3, padding=1)    #Input: 14*14*128  Output:14 * 14 * 256   GRF:14*14\n",
        "        self.pool2 = nn.MaxPool2d(2, 2)                   #Input: 14*14*256  Output: 7 * 7 * 256    GRF:28*28\n",
        "        self.conv5 = nn.Conv2d(256, 512, 3)               #Input: 7*7*256    Output: 5 * 5 * 12     GRF:30*30\n",
        "        self.conv6 = nn.Conv2d(512, 1024, 3)              #Input: 5*5*12     Output: 3 * 3 * 1024   GRF:32*32\n",
        "        self.conv7 = nn.Conv2d(1024, 10, 3)               #Input: 3*3*1024   Output: 1 * 1 * 10     GRF:34*34\n",
        "\n",
        "\n",
        "        self.fc1 = nn.Linear(10+10, 128)                  #Concatenate two inputs \n",
        "        # self.fc2 = nn.Linear(128, 30)\n",
        "        self.fc2 = nn.Linear(128, 19)\n",
        "\n",
        "    def forward(self, image, randomNumber):\n",
        "        #The first convolutional layer self.conv1 has a convolutional operation on input tensor x, followed by a relu activation operation \n",
        "        #whcih is then passed to second convolution operation self.conv2 followed by a relu whose output is then passed to a max pooling \n",
        "        x = self.pool1(F.relu(self.conv2(F.relu(self.conv1(image)))))\n",
        "\n",
        "        #The output of the max pool operation is passed to another two convolution and relu activation operation followed by max pooling. \n",
        "        #The relu() and the max_pool2d() calls are just pure operations. Neither of these have weights  \n",
        "        x = self.pool2(F.relu(self.conv4(F.relu(self.conv3(x)))))\n",
        "\n",
        "        #The output of the max pool operation from 4th convolution is passed to another two sets of convolution and relu activation operation\n",
        "        x = F.relu(self.conv6(F.relu(self.conv5(x))))\n",
        "\n",
        "        # The output from 6th convolution is then passed to a linear layer\n",
        "        x = self.conv7(x)  \n",
        "        \n",
        "        #The flatten's all of the tensor's elements into a single dimension.\n",
        "        x = x.view(-1, 10)\n",
        "        \n",
        "        #concatenate second input to the output from above convolution\n",
        "        x1 = torch.cat((x, randomNumber), dim=1)\n",
        "        \n",
        "        # Further train the network on Dense Layer\n",
        "        x1 = F.relu(self.fc1(x1))\n",
        "        #x1 = F.relu(self.fc2(x1))    \n",
        "        x1 = self.fc2(x1)  \n",
        "\n",
        "        # Inside the network we usually use relu() as our non-linear activation function, but for the output layer, we use Softmax function for predicting category with maximum probability. \n",
        "        #The softmax function returns a positive probability for each of the prediction classes, and the values sum to 1.\n",
        "\n",
        "        #Model returns two outputs:\n",
        "          #Output1 : \"number\" represented by the MNIST image \n",
        "          #Output2 : \"sum\" of this number with the random number that was generated\n",
        "\n",
        "        return F.log_softmax(x, dim = 1), F.log_softmax(x1, dim = 1)"
      ],
      "execution_count": null,
      "outputs": []
    },
    {
      "cell_type": "markdown",
      "metadata": {
        "id": "9sOWG_9vM-0E"
      },
      "source": [
        "## The Model"
      ]
    },
    {
      "cell_type": "code",
      "metadata": {
        "colab": {
          "base_uri": "https://localhost:8080/"
        },
        "id": "Vrlm8pVtL-M5",
        "outputId": "2f02db7e-d9e7-48e0-ed6e-27465488b401"
      },
      "source": [
        "# move the model to the specified device\n",
        "model = Net().to(device)\n",
        "model.eval()"
      ],
      "execution_count": null,
      "outputs": [
        {
          "output_type": "execute_result",
          "data": {
            "text/plain": [
              "Net(\n",
              "  (conv1): Conv2d(1, 32, kernel_size=(3, 3), stride=(1, 1), padding=(1, 1))\n",
              "  (conv2): Conv2d(32, 64, kernel_size=(3, 3), stride=(1, 1), padding=(1, 1))\n",
              "  (pool1): MaxPool2d(kernel_size=2, stride=2, padding=0, dilation=1, ceil_mode=False)\n",
              "  (conv3): Conv2d(64, 128, kernel_size=(3, 3), stride=(1, 1), padding=(1, 1))\n",
              "  (conv4): Conv2d(128, 256, kernel_size=(3, 3), stride=(1, 1), padding=(1, 1))\n",
              "  (pool2): MaxPool2d(kernel_size=2, stride=2, padding=0, dilation=1, ceil_mode=False)\n",
              "  (conv5): Conv2d(256, 512, kernel_size=(3, 3), stride=(1, 1))\n",
              "  (conv6): Conv2d(512, 1024, kernel_size=(3, 3), stride=(1, 1))\n",
              "  (conv7): Conv2d(1024, 10, kernel_size=(3, 3), stride=(1, 1))\n",
              "  (fc1): Linear(in_features=20, out_features=128, bias=True)\n",
              "  (fc2): Linear(in_features=128, out_features=19, bias=True)\n",
              ")"
            ]
          },
          "metadata": {
            "tags": []
          },
          "execution_count": 24
        }
      ]
    },
    {
      "cell_type": "markdown",
      "metadata": {
        "id": "aeVmw5xkM6o9"
      },
      "source": [
        "## Model parameters"
      ]
    },
    {
      "cell_type": "code",
      "metadata": {
        "colab": {
          "base_uri": "https://localhost:8080/"
        },
        "id": "HXkA6qn3M1Ra",
        "outputId": "bd7fc7c5-2a10-4e79-a7c7-d1a9fbd7f660"
      },
      "source": [
        "def count_parameters(model):\n",
        "    return sum(p.numel() for p in model.parameters() if p.requires_grad)\n",
        "\n",
        "print(f'The model has {count_parameters(model):,} trainable parameters')"
      ],
      "execution_count": null,
      "outputs": [
        {
          "output_type": "stream",
          "text": [
            "The model has 6,384,925 trainable parameters\n"
          ],
          "name": "stdout"
        }
      ]
    },
    {
      "cell_type": "markdown",
      "metadata": {
        "id": "K9g1TyZcNMQt"
      },
      "source": [
        "## Training Loop"
      ]
    },
    {
      "cell_type": "code",
      "metadata": {
        "id": "U6-GBrOYNIT_"
      },
      "source": [
        "def train(model, device, train_loader, optimizer, epoch):\n",
        "    # set the model in training model\n",
        "    model.train()\n",
        "\n",
        "    epoch_loss = 0\n",
        "\n",
        "    # run for all the data in train_loader\n",
        "    for batch_idx, (data, target, random_number, sum) in enumerate(train_loader):\n",
        "\n",
        "        # fetch the data and the target values\n",
        "        target = target.type(torch.LongTensor)\n",
        "        sum = sum.type(torch.LongTensor)\n",
        "\n",
        "        # move the data to device\n",
        "        data, target, sum = data.to(device), target.to(device), sum.to(device)\n",
        "\n",
        "        # zero out the gradients\n",
        "        optimizer.zero_grad()\n",
        "\n",
        "        # forward pass the model with the data\n",
        "        output, sum_output = model(data,random_number.to(device))\n",
        "\n",
        "        # compute the loss occured\n",
        "        mnist_loss = F.nll_loss(output, target)\n",
        "        addition_loss = F.nll_loss(sum_output, sum)\n",
        "        loss= (mnist_loss + addition_loss)/2\n",
        "\n",
        "        epoch_loss += loss.item()\n",
        "\n",
        "        # compute the backward gradients\n",
        "        loss.backward()\n",
        "\n",
        "        # update the optimizer params\n",
        "        optimizer.step()\n",
        "    print('Train set: Average loss: {:.4f}'.format(loss.item()))\n",
        "\n",
        "    train_loss = epoch_loss / len(train_loader)\n",
        "    return train_loss\n",
        "\n"
      ],
      "execution_count": null,
      "outputs": []
    },
    {
      "cell_type": "markdown",
      "metadata": {
        "id": "ijI_8dpTNmUv"
      },
      "source": [
        "## Testing Loop"
      ]
    },
    {
      "cell_type": "code",
      "metadata": {
        "id": "4Ay4AVrvNPJl"
      },
      "source": [
        "def test(model, device, test_loader):\n",
        "    # set the model in evaluation model\n",
        "    model.eval()\n",
        "\n",
        "    # set the loss to zero\n",
        "    test_loss = 0\n",
        "    \n",
        "    # the number of correct classifications\n",
        "    correct_mnist = 0\n",
        "    correct_addition = 0\n",
        "\n",
        "    # turn off gradients during the testing\n",
        "    with torch.no_grad():\n",
        "        for (data, target, random_number, sum) in test_loader:\n",
        "\n",
        "            # move the data to device\n",
        "            target = target.type(torch.LongTensor)\n",
        "            sum = sum.type(torch.LongTensor)\n",
        "            data, target,sum = data.to(device), target.to(device), sum.to(device)\n",
        "\n",
        "            # forward pass the model and get the output\n",
        "            output, sum_output = model(data,random_number.to(device))\n",
        "\n",
        "            # accumulate the loss from both the network outputs\n",
        "            test_loss += (F.nll_loss(output, target, reduction='sum').item() + F.nll_loss(sum_output, sum, reduction='sum').item())/2\n",
        "\n",
        "            # get the index of max log-probability\n",
        "            mnist_pred = output.argmax(dim=1, keepdim=True)\n",
        "            addition_pred = sum_output.argmax(dim=1, keepdim=True)\n",
        "\n",
        "            # increment the correct prediction count if pred is correct\n",
        "            correct_mnist += mnist_pred.eq(target.view_as(mnist_pred)).sum().item()\n",
        "            correct_addition += addition_pred.eq(sum.view_as(addition_pred)).sum().item()\n",
        "\n",
        "\n",
        "    # test loss divided by the total number of items in test dataset\n",
        "    test_loss /= len(test_loader.dataset)\n",
        "    print(f'Test set: Average loss: {test_loss:.3f}, MNist Accuracy:{100. * correct_mnist/len(test_loader.dataset)}, Sum_Accuracy:{100. * correct_addition/len(test_loader.dataset)}')\n",
        "\n",
        "    return test_loss\n"
      ],
      "execution_count": null,
      "outputs": []
    },
    {
      "cell_type": "markdown",
      "metadata": {
        "id": "J926BHeuPkaE"
      },
      "source": [
        "## Let's write train and test the model"
      ]
    },
    {
      "cell_type": "code",
      "metadata": {
        "colab": {
          "base_uri": "https://localhost:8080/"
        },
        "id": "5CCsxnOKOA8m",
        "outputId": "0043d279-9141-41f6-9637-95dc3d2b82b1"
      },
      "source": [
        "# move the model to the specified device\n",
        "model = Net().to(device)\n",
        "\n",
        "# use Stochastic Gradient Descent as the optimizer\n",
        "optimizer = optim.SGD(model.parameters(), lr=0.01, momentum=0.7)\n",
        "\n",
        "# set the number of epochs to train for\n",
        "num_epoch = 25\n",
        "\n",
        "train_loss_values = []\n",
        "valid_loss_values = []\n",
        "\n",
        "# run it for epoch number of times\n",
        "for epoch in range(1, num_epoch+1):\n",
        "    print('\\nEpoch {} : '.format(epoch))\n",
        "    # train the model\n",
        "    train_loss = train(model, device, train_loader, optimizer, epoch)\n",
        "    valid_loss = test(model, device, val_loader)\n",
        "    # test the model\n",
        "\n",
        "    train_loss_values.append(train_loss)\n",
        "    valid_loss_values.append(valid_loss)"
      ],
      "execution_count": null,
      "outputs": [
        {
          "output_type": "stream",
          "text": [
            "\n",
            "Epoch 1 : \n",
            "Train set: Average loss: 1.3315\n",
            "Test set: Average loss: 1.342, MNist Accuracy:94.0, Sum_Accuracy:11.36\n",
            "\n",
            "Epoch 2 : \n",
            "Train set: Average loss: 1.1960\n",
            "Test set: Average loss: 1.235, MNist Accuracy:96.24, Sum_Accuracy:14.6\n",
            "\n",
            "Epoch 3 : \n",
            "Train set: Average loss: 1.1768\n",
            "Test set: Average loss: 1.156, MNist Accuracy:97.82, Sum_Accuracy:21.1\n",
            "\n",
            "Epoch 4 : \n",
            "Train set: Average loss: 1.1079\n",
            "Test set: Average loss: 1.112, MNist Accuracy:98.32, Sum_Accuracy:29.84\n",
            "\n",
            "Epoch 5 : \n",
            "Train set: Average loss: 1.0855\n",
            "Test set: Average loss: 1.055, MNist Accuracy:98.48, Sum_Accuracy:41.94\n",
            "\n",
            "Epoch 6 : \n",
            "Train set: Average loss: 0.9753\n",
            "Test set: Average loss: 0.980, MNist Accuracy:99.02, Sum_Accuracy:50.18\n",
            "\n",
            "Epoch 7 : \n",
            "Train set: Average loss: 0.9036\n",
            "Test set: Average loss: 0.905, MNist Accuracy:98.76, Sum_Accuracy:59.54\n",
            "\n",
            "Epoch 8 : \n",
            "Train set: Average loss: 0.8030\n",
            "Test set: Average loss: 0.821, MNist Accuracy:99.04, Sum_Accuracy:70.76\n",
            "\n",
            "Epoch 9 : \n",
            "Train set: Average loss: 0.7155\n",
            "Test set: Average loss: 0.734, MNist Accuracy:98.92, Sum_Accuracy:78.32\n",
            "\n",
            "Epoch 10 : \n",
            "Train set: Average loss: 0.6378\n",
            "Test set: Average loss: 0.648, MNist Accuracy:99.12, Sum_Accuracy:87.92\n",
            "\n",
            "Epoch 11 : \n",
            "Train set: Average loss: 0.5266\n",
            "Test set: Average loss: 0.560, MNist Accuracy:99.04, Sum_Accuracy:91.62\n",
            "\n",
            "Epoch 12 : \n",
            "Train set: Average loss: 0.4535\n",
            "Test set: Average loss: 0.476, MNist Accuracy:99.22, Sum_Accuracy:95.22\n",
            "\n",
            "Epoch 13 : \n",
            "Train set: Average loss: 0.4048\n",
            "Test set: Average loss: 0.396, MNist Accuracy:99.22, Sum_Accuracy:97.14\n",
            "\n",
            "Epoch 14 : \n",
            "Train set: Average loss: 0.3035\n",
            "Test set: Average loss: 0.327, MNist Accuracy:99.26, Sum_Accuracy:97.96\n",
            "\n",
            "Epoch 15 : \n",
            "Train set: Average loss: 0.2906\n",
            "Test set: Average loss: 0.269, MNist Accuracy:99.34, Sum_Accuracy:98.92\n",
            "\n",
            "Epoch 16 : \n",
            "Train set: Average loss: 0.2261\n",
            "Test set: Average loss: 0.226, MNist Accuracy:99.34, Sum_Accuracy:98.84\n",
            "\n",
            "Epoch 17 : \n",
            "Train set: Average loss: 0.1648\n",
            "Test set: Average loss: 0.184, MNist Accuracy:99.42, Sum_Accuracy:99.1\n",
            "\n",
            "Epoch 18 : \n",
            "Train set: Average loss: 0.1486\n",
            "Test set: Average loss: 0.162, MNist Accuracy:99.2, Sum_Accuracy:99.08\n",
            "\n",
            "Epoch 19 : \n",
            "Train set: Average loss: 0.1223\n",
            "Test set: Average loss: 0.134, MNist Accuracy:99.38, Sum_Accuracy:99.22\n",
            "\n",
            "Epoch 20 : \n",
            "Train set: Average loss: 0.0993\n",
            "Test set: Average loss: 0.120, MNist Accuracy:99.32, Sum_Accuracy:99.1\n",
            "\n",
            "Epoch 21 : \n",
            "Train set: Average loss: 0.0927\n",
            "Test set: Average loss: 0.114, MNist Accuracy:99.18, Sum_Accuracy:99.02\n",
            "\n",
            "Epoch 22 : \n",
            "Train set: Average loss: 0.0717\n",
            "Test set: Average loss: 0.094, MNist Accuracy:99.36, Sum_Accuracy:99.12\n",
            "\n",
            "Epoch 23 : \n",
            "Train set: Average loss: 0.0772\n",
            "Test set: Average loss: 0.084, MNist Accuracy:99.26, Sum_Accuracy:99.36\n",
            "\n",
            "Epoch 24 : \n",
            "Train set: Average loss: 0.0525\n",
            "Test set: Average loss: 0.075, MNist Accuracy:99.46, Sum_Accuracy:99.32\n",
            "\n",
            "Epoch 25 : \n",
            "Train set: Average loss: 0.0493\n",
            "Test set: Average loss: 0.070, MNist Accuracy:99.32, Sum_Accuracy:99.24\n"
          ],
          "name": "stdout"
        }
      ]
    },
    {
      "cell_type": "markdown",
      "metadata": {
        "id": "YkSWImNnOXCm"
      },
      "source": [
        "## Ploting the loss "
      ]
    },
    {
      "cell_type": "code",
      "metadata": {
        "colab": {
          "base_uri": "https://localhost:8080/",
          "height": 427
        },
        "id": "lsTdtLh2OH4f",
        "outputId": "ebba4daf-61d7-45c8-8ab6-b05169e86c48"
      },
      "source": [
        "import matplotlib.pyplot as plt\n",
        "% matplotlib inline\n",
        "\n",
        "import seaborn as sns\n",
        "\n",
        "# Use plot styling from seaborn.\n",
        "sns.set(style='darkgrid')\n",
        "\n",
        "# Increase the plot size and font size.\n",
        "sns.set(font_scale=1.5)\n",
        "plt.rcParams[\"figure.figsize\"] = (12,6)\n",
        "\n",
        "# Plot the learning curve.\n",
        "plt.plot(np.array(train_loss_values), 'b-o', label=\"Training\")\n",
        "plt.plot(np.array(valid_loss_values), 'g-o', label=\"Validation\")\n",
        "\n",
        "\n",
        "# Label the plot.\n",
        "plt.title(\"Training & Validation Loss\")\n",
        "plt.xlabel(\"Epoch\")\n",
        "plt.ylabel(\"Loss\")\n",
        "plt.legend()\n",
        "plt.show()"
      ],
      "execution_count": null,
      "outputs": [
        {
          "output_type": "display_data",
          "data": {
            "image/png": "[encoded data removed]",
            "text/plain": [
              "<Figure size 864x432 with 1 Axes>"
            ]
          },
          "metadata": {
            "tags": []
          }
        }
      ]
    },
    {
      "cell_type": "markdown",
      "metadata": {
        "id": "UZzPy83sYdaJ"
      },
      "source": [
        "## Test Loss"
      ]
    },
    {
      "cell_type": "code",
      "metadata": {
        "colab": {
          "base_uri": "https://localhost:8080/"
        },
        "id": "Adb9YvPVSPGa",
        "outputId": "f8d136c5-b40a-47f0-b747-494c8a52713a"
      },
      "source": [
        "test_loss = test(model, device, test_loader)"
      ],
      "execution_count": null,
      "outputs": [
        {
          "output_type": "stream",
          "text": [
            "Test set: Average loss: 0.073, MNist Accuracy:99.3, Sum_Accuracy:99.26\n"
          ],
          "name": "stdout"
        }
      ]
    },
    {
      "cell_type": "markdown",
      "metadata": {
        "id": "mDe6qTF8Of3r"
      },
      "source": [
        "## Inference"
      ]
    },
    {
      "cell_type": "code",
      "metadata": {
        "id": "w_eX2N0_Ogha"
      },
      "source": [
        "def prediction(image,rnum):\n",
        "\n",
        "    rnum_ohe = torch.zeros(11).long()\n",
        "    rnum_ohe[rnum] = 1\n",
        "    rnum_ohe = rnum_ohe[:-1]\n",
        "\n",
        "    #tensored_image = image.unsqueeze(dim=1).to(device)\n",
        "    output_1,output_2 = model(image.unsqueeze(dim=1).to(device),rnum_ohe.reshape(-1,10).to(device))\n",
        "\n",
        "    mnist_pred = output_1.argmax(dim=1, keepdim=True)\n",
        "    sum_pred = output_2.argmax(dim=1, keepdim=True)\n",
        "\n",
        "    #print(f\"Random Number Generated is {rnum}\")\n",
        "    fig = plt.figure(figsize=(5, 5))\n",
        "    ax = fig.add_subplot(3, 3, 1)\n",
        "    ax.axis('off')\n",
        "    ax.imshow(image.cpu().numpy().squeeze())\n",
        "    ax.set_title(f'Random Number Generated : {rnum} \\n'\n",
        "                 f'Mnist Prediction: {mnist_pred.item()} \\n'\n",
        "                 f'Sum: {rnum} + {mnist_pred.item()} = {sum_pred.item()}')\n",
        "    return mnist_pred, sum_pred"
      ],
      "execution_count": null,
      "outputs": []
    },
    {
      "cell_type": "code",
      "metadata": {
        "colab": {
          "base_uri": "https://localhost:8080/",
          "height": 172
        },
        "id": "33F1PPRdOmBt",
        "outputId": "ee003ad5-5225-476c-f706-b10693b2e756"
      },
      "source": [
        "image,_,_,_ = test_dataset[random.randint(1,10000)]\n",
        "rnum=random.randint(0,9)\n",
        "mnist_pred, sum_pred =prediction(image,rnum)"
      ],
      "execution_count": null,
      "outputs": [
        {
          "output_type": "display_data",
          "data": {
            "image/png": "[encoded data removed]",
            "text/plain": [
              "<Figure size 360x360 with 1 Axes>"
            ]
          },
          "metadata": {
            "tags": []
          }
        }
      ]
    },
    {
      "cell_type": "code",
      "metadata": {
        "colab": {
          "base_uri": "https://localhost:8080/",
          "height": 172
        },
        "id": "8eNkX2RYOs7w",
        "outputId": "d132ae75-b907-45b2-8f94-61ea67a778b5"
      },
      "source": [
        "image,_,_,_ = test_dataset[random.randint(1,10000)]\n",
        "rnum=random.randint(0,9)\n",
        "mnist_pred, sum_pred =prediction(image,rnum)"
      ],
      "execution_count": null,
      "outputs": [
        {
          "output_type": "display_data",
          "data": {
            "image/png": "[encoded data removed]",
            "text/plain": [
              "<Figure size 360x360 with 1 Axes>"
            ]
          },
          "metadata": {
            "tags": []
          }
        }
      ]
    },
    {
      "cell_type": "code",
      "metadata": {
        "colab": {
          "base_uri": "https://localhost:8080/",
          "height": 172
        },
        "id": "3xYmHJzPOxaN",
        "outputId": "d67f28f4-23f0-4063-cc6d-016578b9536b"
      },
      "source": [
        "image,_,_,_ = test_dataset[random.randint(1,10000)]\n",
        "rnum=random.randint(0,9)\n",
        "mnist_pred, sum_pred =prediction(image,rnum)"
      ],
      "execution_count": null,
      "outputs": [
        {
          "output_type": "display_data",
          "data": {
            "image/png": "[encoded data removed]",
            "text/plain": [
              "<Figure size 360x360 with 1 Axes>"
            ]
          },
          "metadata": {
            "tags": []
          }
        }
      ]
    },
    {
      "cell_type": "code",
      "metadata": {
        "colab": {
          "base_uri": "https://localhost:8080/",
          "height": 172
        },
        "id": "0vL3TGefOyD7",
        "outputId": "5a17e0af-05f9-4a21-edd6-899b343e36f4"
      },
      "source": [
        "image,_,_,_ = test_dataset[random.randint(1,10000)]\n",
        "rnum=random.randint(0,9)\n",
        "mnist_pred, sum_pred =prediction(image,rnum)"
      ],
      "execution_count": null,
      "outputs": [
        {
          "output_type": "display_data",
          "data": {
            "image/png": "[encoded data removed]",
            "text/plain": [
              "<Figure size 360x360 with 1 Axes>"
            ]
          },
          "metadata": {
            "tags": []
          }
        }
      ]
    }
  ]
}