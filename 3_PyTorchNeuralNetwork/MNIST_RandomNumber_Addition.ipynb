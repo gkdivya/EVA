{
  "nbformat": 4,
  "nbformat_minor": 0,
  "metadata": {
    "colab": {
      "name": "MNIST_RandomNumber_Addition.ipynb",
      "provenance": [],
      "authorship_tag": "ABX9TyOOkX0gpf2lRG5vIlu6VUVJ",
      "include_colab_link": true
    },
    "kernelspec": {
      "name": "python3",
      "display_name": "Python 3"
    },
    "language_info": {
      "name": "python"
    }
  },
  "cells": [
    {
      "cell_type": "markdown",
      "metadata": {
        "id": "view-in-github",
        "colab_type": "text"
      },
      "source": [
        "<a href=\"https://colab.research.google.com/github/gkdivya/EVA/blob/main/3_PyTorchNeuralNetwork/MNIST_RandomNumber_Addition.ipynb\" target=\"_parent\"><img src=\"https://colab.research.google.com/assets/colab-badge.svg\" alt=\"Open In Colab\"/></a>"
      ]
    },
    {
      "cell_type": "markdown",
      "metadata": {
        "id": "fIdeHjwOmoC5"
      },
      "source": [
        "### Addition of two numbers using neural network"
      ]
    },
    {
      "cell_type": "code",
      "metadata": {
        "id": "FsoN2IOCmlmx"
      },
      "source": [
        "## Creation of addition dataset\n",
        "\n",
        "from torch.utils.data import Dataset\n",
        "import random\n",
        "\n",
        "class AdditionNumbers(Dataset):\n",
        "  def __init__(self):\n",
        "    X = []\n",
        "    Y = []\n",
        "    for i in range(1000):\n",
        "      X.append((random.randint(0,9), random.randint(0,9))) \n",
        "      Y.append(sum (X[i]))\n",
        "    d = {'x':X,'y':Y}\n",
        "    import pandas as pd\n",
        "    self.data = pd.DataFrame(d)\n",
        "\n",
        "  def __getitem__(self, index):\n",
        "    r = self.data.iloc[index]\n",
        "    x, y = r\n",
        "    return x, y\n",
        "\n",
        "  def __len__(self):\n",
        "    return len(self.data)"
      ],
      "execution_count": null,
      "outputs": []
    },
    {
      "cell_type": "code",
      "metadata": {
        "id": "nhYePizzn9Pq"
      },
      "source": [
        "import torch\n",
        "import torch.nn as nn\n",
        "import torch.nn.functional as F\n",
        "\n",
        "\n",
        "class Net(nn.Module):\n",
        "\n",
        "    def __init__(self):\n",
        "        super(Net, self).__init__()\n",
        "        # 1 input image channel, 6 output channels, 5x5 square convolution\n",
        "        # kernel\n",
        "        self.conv1 = nn.Conv2d(1, 6, 5)\n",
        "        self.conv2 = nn.Conv2d(6, 16, 5)\n",
        "        # an affine operation: y = Wx + b\n",
        "        self.fc1 = nn.Linear(16 * 5 * 5, 120)  # 5*5 from image dimension\n",
        "        self.fc2 = nn.Linear(120, 84)\n",
        "        self.fc3 = nn.Linear(84, 10)\n",
        "\n",
        "    def forward(self, x):\n",
        "        # Max pooling over a (2, 2) window\n",
        "        x = F.max_pool2d(F.relu(self.conv1(x)), (2, 2))\n",
        "        # If the size is a square, you can specify with a single number\n",
        "        x = F.max_pool2d(F.relu(self.conv2(x)), 2)\n",
        "        x = torch.flatten(x, 1) # flatten all dimensions except the batch dimension\n",
        "        x = F.relu(self.fc1(x))\n",
        "        x = F.relu(self.fc2(x))\n",
        "        x = self.fc3(x)\n",
        "        return x\n",
        "\n",
        "\n",
        "net = Net()\n",
        "print(net)"
      ],
      "execution_count": null,
      "outputs": []
    },
    {
      "cell_type": "code",
      "metadata": {
        "colab": {
          "base_uri": "https://localhost:8080/"
        },
        "id": "vFPKfO7UtU7q",
        "outputId": "8779c76c-764f-404d-ecba-e9a686886743"
      },
      "source": [
        "import torch\n",
        "import numpy as np\n",
        "\n",
        "device = torch.device(\"cuda:0\" if torch.cuda.is_available() else \"cpu\")\n",
        "\n",
        "N = 1000  # number of samples\n",
        "D = 2  # input dimension\n",
        "C = 1  # output dimension\n",
        "\n",
        "X = torch.rand(N, D).to(device)  # (N, D)\n",
        "y = torch.sum(X, axis=-1).reshape(-1, C)  # (N, C)\n",
        "\n",
        "lr = 1e-2  # Learning rate\n",
        "\n",
        "model = torch.nn.Sequential(torch.nn.Linear(D, C))  # model\n",
        "model.to(device)\n",
        "\n",
        "criterion = torch.nn.MSELoss()  # loss function\n",
        "optimizer = torch.optim.Adam(model.parameters(), lr=lr)  # optimizer\n",
        "\n",
        "for epoch in range(1000):\n",
        "    y_pred = model(X)  # forward step\n",
        "    loss = criterion(y_pred, y)  # compute loss\n",
        "    loss.backward()  # backprop (compute gradients)\n",
        "    optimizer.step()  # update weights (gradient descent step)\n",
        "    optimizer.zero_grad()  # reset gradients\n",
        "    if epoch % 50 == 0:\n",
        "        print(f\"[EPOCH]: {epoch}, [LOSS]: {loss.item():.6f}\")"
      ],
      "execution_count": 12,
      "outputs": [
        {
          "output_type": "stream",
          "text": [
            "[EPOCH]: 0, [LOSS]: 0.766469\n",
            "[EPOCH]: 50, [LOSS]: 0.082894\n",
            "[EPOCH]: 100, [LOSS]: 0.062787\n",
            "[EPOCH]: 150, [LOSS]: 0.045652\n",
            "[EPOCH]: 200, [LOSS]: 0.031461\n",
            "[EPOCH]: 250, [LOSS]: 0.020694\n",
            "[EPOCH]: 300, [LOSS]: 0.013040\n",
            "[EPOCH]: 350, [LOSS]: 0.007883\n",
            "[EPOCH]: 400, [LOSS]: 0.004573\n",
            "[EPOCH]: 450, [LOSS]: 0.002546\n",
            "[EPOCH]: 500, [LOSS]: 0.001359\n",
            "[EPOCH]: 550, [LOSS]: 0.000695\n",
            "[EPOCH]: 600, [LOSS]: 0.000341\n",
            "[EPOCH]: 650, [LOSS]: 0.000160\n",
            "[EPOCH]: 700, [LOSS]: 0.000072\n",
            "[EPOCH]: 750, [LOSS]: 0.000031\n",
            "[EPOCH]: 800, [LOSS]: 0.000013\n",
            "[EPOCH]: 850, [LOSS]: 0.000005\n",
            "[EPOCH]: 900, [LOSS]: 0.000002\n",
            "[EPOCH]: 950, [LOSS]: 0.000001\n"
          ],
          "name": "stdout"
        }
      ]
    },
    {
      "cell_type": "code",
      "metadata": {
        "colab": {
          "base_uri": "https://localhost:8080/"
        },
        "id": "FOSqoaY5tWDb",
        "outputId": "b176c979-d5e9-439c-daa3-6ab0f36e0323"
      },
      "source": [
        "model.eval()"
      ],
      "execution_count": 13,
      "outputs": [
        {
          "output_type": "execute_result",
          "data": {
            "text/plain": [
              "Sequential(\n",
              "  (0): Linear(in_features=2, out_features=1, bias=True)\n",
              ")"
            ]
          },
          "metadata": {
            "tags": []
          },
          "execution_count": 13
        }
      ]
    },
    {
      "cell_type": "code",
      "metadata": {
        "colab": {
          "base_uri": "https://localhost:8080/"
        },
        "id": "KeYdsjDhujia",
        "outputId": "aaeecf9f-f3aa-4ea7-9ddc-dd8ab9ed155a"
      },
      "source": [
        "model(torch.tensor([15., 6.]))"
      ],
      "execution_count": 24,
      "outputs": [
        {
          "output_type": "execute_result",
          "data": {
            "text/plain": [
              "tensor([20.9758], grad_fn=<AddBackward0>)"
            ]
          },
          "metadata": {
            "tags": []
          },
          "execution_count": 24
        }
      ]
    },
    {
      "cell_type": "code",
      "metadata": {
        "id": "lPqervLfuubp"
      },
      "source": [
        ""
      ],
      "execution_count": null,
      "outputs": []
    }
  ]
}