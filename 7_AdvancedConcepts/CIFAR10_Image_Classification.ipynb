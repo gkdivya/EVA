{
  "nbformat": 4,
  "nbformat_minor": 0,
  "metadata": {
    "accelerator": "GPU",
    "colab": {
      "name": "CIFAR10_Image_Classification_v4.ipynb",
      "provenance": [],
      "collapsed_sections": [],
      "include_colab_link": true
    },
    "kernelspec": {
      "display_name": "Python 3",
      "name": "python3"
    },
    "language_info": {
      "name": "python"
    }
  },
  "cells": [
    {
      "cell_type": "markdown",
      "metadata": {
        "id": "view-in-github",
        "colab_type": "text"
      },
      "source": [
        "<a href=\"https://colab.research.google.com/github/gkdivya/EVA/blob/main/7_AdvancedConcepts/CIFAR10_Image_Classification.ipynb\" target=\"_parent\"><img src=\"https://colab.research.google.com/assets/colab-badge.svg\" alt=\"Open In Colab\"/></a>"
      ]
    },
    {
      "cell_type": "markdown",
      "metadata": {
        "id": "uIrbfPnDOWc4"
      },
      "source": [
        "# Import libraries"
      ]
    },
    {
      "cell_type": "code",
      "metadata": {
        "colab": {
          "base_uri": "https://localhost:8080/"
        },
        "id": "13vdpb2BXBZF",
        "outputId": "aa128363-560b-49d7-b1ee-e3da63197f53"
      },
      "source": [
        "from google.colab import drive\n",
        "drive.mount('/content/drive')"
      ],
      "execution_count": 1,
      "outputs": [
        {
          "output_type": "stream",
          "text": [
            "Mounted at /content/drive\n"
          ],
          "name": "stdout"
        }
      ]
    },
    {
      "cell_type": "code",
      "metadata": {
        "colab": {
          "base_uri": "https://localhost:8080/"
        },
        "id": "AH3PEuqjERfL",
        "outputId": "427e8900-14bb-4e97-ff6b-f84b28963218"
      },
      "source": [
        "!pip install git+https://github.com/albumentations-team/albumentations.git\n",
        "!pip install torchsummary"
      ],
      "execution_count": 2,
      "outputs": [
        {
          "output_type": "stream",
          "text": [
            "Collecting git+https://github.com/albumentations-team/albumentations.git\n",
            "  Cloning https://github.com/albumentations-team/albumentations.git to /tmp/pip-req-build-ba82ds84\n",
            "  Running command git clone -q https://github.com/albumentations-team/albumentations.git /tmp/pip-req-build-ba82ds84\n",
            "Requirement already satisfied: numpy>=1.11.1 in /usr/local/lib/python3.7/dist-packages (from albumentations==1.0.0) (1.19.5)\n",
            "Requirement already satisfied: scipy in /usr/local/lib/python3.7/dist-packages (from albumentations==1.0.0) (1.4.1)\n",
            "Requirement already satisfied: scikit-image>=0.16.1 in /usr/local/lib/python3.7/dist-packages (from albumentations==1.0.0) (0.16.2)\n",
            "Requirement already satisfied: PyYAML in /usr/local/lib/python3.7/dist-packages (from albumentations==1.0.0) (3.13)\n",
            "Requirement already satisfied: opencv-python>=4.1.1 in /usr/local/lib/python3.7/dist-packages (from albumentations==1.0.0) (4.1.2.30)\n",
            "Requirement already satisfied: networkx>=2.0 in /usr/local/lib/python3.7/dist-packages (from scikit-image>=0.16.1->albumentations==1.0.0) (2.5.1)\n",
            "Requirement already satisfied: imageio>=2.3.0 in /usr/local/lib/python3.7/dist-packages (from scikit-image>=0.16.1->albumentations==1.0.0) (2.4.1)\n",
            "Requirement already satisfied: PyWavelets>=0.4.0 in /usr/local/lib/python3.7/dist-packages (from scikit-image>=0.16.1->albumentations==1.0.0) (1.1.1)\n",
            "Requirement already satisfied: matplotlib!=3.0.0,>=2.0.0 in /usr/local/lib/python3.7/dist-packages (from scikit-image>=0.16.1->albumentations==1.0.0) (3.2.2)\n",
            "Requirement already satisfied: pillow>=4.3.0 in /usr/local/lib/python3.7/dist-packages (from scikit-image>=0.16.1->albumentations==1.0.0) (7.1.2)\n",
            "Requirement already satisfied: decorator<5,>=4.3 in /usr/local/lib/python3.7/dist-packages (from networkx>=2.0->scikit-image>=0.16.1->albumentations==1.0.0) (4.4.2)\n",
            "Requirement already satisfied: python-dateutil>=2.1 in /usr/local/lib/python3.7/dist-packages (from matplotlib!=3.0.0,>=2.0.0->scikit-image>=0.16.1->albumentations==1.0.0) (2.8.1)\n",
            "Requirement already satisfied: pyparsing!=2.0.4,!=2.1.2,!=2.1.6,>=2.0.1 in /usr/local/lib/python3.7/dist-packages (from matplotlib!=3.0.0,>=2.0.0->scikit-image>=0.16.1->albumentations==1.0.0) (2.4.7)\n",
            "Requirement already satisfied: cycler>=0.10 in /usr/local/lib/python3.7/dist-packages (from matplotlib!=3.0.0,>=2.0.0->scikit-image>=0.16.1->albumentations==1.0.0) (0.10.0)\n",
            "Requirement already satisfied: kiwisolver>=1.0.1 in /usr/local/lib/python3.7/dist-packages (from matplotlib!=3.0.0,>=2.0.0->scikit-image>=0.16.1->albumentations==1.0.0) (1.3.1)\n",
            "Requirement already satisfied: six>=1.5 in /usr/local/lib/python3.7/dist-packages (from python-dateutil>=2.1->matplotlib!=3.0.0,>=2.0.0->scikit-image>=0.16.1->albumentations==1.0.0) (1.15.0)\n",
            "Building wheels for collected packages: albumentations\n",
            "  Building wheel for albumentations (setup.py) ... \u001b[?25l\u001b[?25hdone\n",
            "  Created wheel for albumentations: filename=albumentations-1.0.0-cp37-none-any.whl size=98151 sha256=8795f0f3879d9ee34421ae65d1659014721f9b9d702912d6a61526d05259e967\n",
            "  Stored in directory: /tmp/pip-ephem-wheel-cache-imvy3csh/wheels/e2/85/3e/2a40fac5cc1f43ced656603bb2fca1327b30ec7de1b1b66517\n",
            "Successfully built albumentations\n",
            "Installing collected packages: albumentations\n",
            "  Found existing installation: albumentations 0.1.12\n",
            "    Uninstalling albumentations-0.1.12:\n",
            "      Successfully uninstalled albumentations-0.1.12\n",
            "Successfully installed albumentations-1.0.0\n",
            "Requirement already satisfied: torchsummary in /usr/local/lib/python3.7/dist-packages (1.5.1)\n"
          ],
          "name": "stdout"
        }
      ]
    },
    {
      "cell_type": "code",
      "metadata": {
        "colab": {
          "base_uri": "https://localhost:8080/"
        },
        "id": "CHZm8-_t-baq",
        "outputId": "b00c5678-b71f-474a-bb2f-6f7e3524a028"
      },
      "source": [
        "from __future__ import print_function\n",
        "BASE_DIR='/content/drive/MyDrive/cifar10'\n",
        "%cd $BASE_DIR\n",
        "from utils import plot_metrics,train,test,helper\n",
        "from model import model\n",
        "import torch\n",
        "from pprint import pprint\n",
        "\n",
        "# Let's visualize some of the images\n",
        "%matplotlib inline\n",
        "import matplotlib.pyplot as plt\n",
        "\n",
        "\n",
        "\n",
        "from dataloader.load_data import Cifar10DataLoader\n",
        "from utils.engine import TriggerEngine"
      ],
      "execution_count": 3,
      "outputs": [
        {
          "output_type": "stream",
          "text": [
            "/content/drive/MyDrive/cifar10\n"
          ],
          "name": "stdout"
        }
      ]
    },
    {
      "cell_type": "markdown",
      "metadata": {
        "id": "i8jbTkQ2HTuL"
      },
      "source": [
        "## Load config file"
      ]
    },
    {
      "cell_type": "code",
      "metadata": {
        "colab": {
          "base_uri": "https://localhost:8080/"
        },
        "id": "Ea_QPeQ-C7_v",
        "outputId": "94b16aa4-b763-4c0d-f31f-9fa095a7b3b9"
      },
      "source": [
        "config = helper.process_config(\"./config/config.yaml/")\n",
        "use_cuda = torch.cuda.is_available()\n",
        "helper.set_seed(config['model_params']['seed'],use_cuda)\n",
        "device = torch.device(\"cuda\" if use_cuda else \"cpu\")\n",
        "\n",
        "pprint(config)"
      ],
      "execution_count": 4,
      "outputs": [
        {
          "output_type": "stream",
          "text": [
            " loading Configuration of your experiment ..\n",
            "{'criterion': 'CrossEntropyLoss',\n",
            " 'data_augmentation': {'args': {'cutout_prob': 0.5,\n",
            "                                'horizontalflip_prob': 0.2,\n",
            "                                'num_holes': 1,\n",
            "                                'rotate_limit': 15,\n",
            "                                'shiftscalerotate_prob': 0.25},\n",
            "                       'type': 'albumentation'},\n",
            " 'data_loader': {'args': {'batch_size': 256,\n",
            "                          'num_workers': 2,\n",
            "                          'pin_memory': True},\n",
            "                 'classes': ['plane',\n",
            "                             'car',\n",
            "                             'bird',\n",
            "                             'cat',\n",
            "                             'deer',\n",
            "                             'dog',\n",
            "                             'frog',\n",
            "                             'horse',\n",
            "                             'ship',\n",
            "                             'truck'],\n",
            "                 'type': 'CIFAR10DataLoader'},\n",
            " 'model': 'cifar10',\n",
            " 'model_params': {'dropout': 0.01,\n",
            "                  'experiment_name': 'cifar10_with_advancedconv',\n",
            "                  'model_dir': './model/',\n",
            "                  'seed': 1},\n",
            " 'optimizer': {'args': {'lr': 0.01}, 'type': 'optim.Adam'},\n",
            " 'training_params': {'epochs': 90, 'l1_factor': 0, 'l2_factor': 0.0001}}\n"
          ],
          "name": "stdout"
        }
      ]
    },
    {
      "cell_type": "markdown",
      "metadata": {
        "id": "cRVR_W7gypVJ"
      },
      "source": [
        "## Download data and view sample images"
      ]
    },
    {
      "cell_type": "code",
      "metadata": {
        "id": "8gCvJrB6H1U-",
        "colab": {
          "base_uri": "https://localhost:8080/",
          "height": 290
        },
        "outputId": "36cace1d-b92d-4cae-83b6-ca3e4b6336b3"
      },
      "source": [
        "import matplotlib.pyplot as plt\n",
        "import numpy as np\n",
        "import torchvision \n",
        "\n",
        "# functions to show an image\n",
        "cifar_dataset=Cifar10DataLoader(config)\n",
        "classes= config['data_loader']['classes']\n",
        "fig, ax = plt.subplots(figsize=(12, 12))\n",
        "\n",
        "def imshow(img):\n",
        "    img = img / 2 + 0.5     # unnormalize\n",
        "    npimg = img.numpy()\n",
        "    plt.imshow(np.transpose(npimg, (1, 2, 0)))\n",
        "\n",
        "\n",
        "# get some random training images\n",
        "dataiter = iter(cifar_dataset.train_loader)\n",
        "images, labels = dataiter.next()\n",
        "\n",
        "# show images\n",
        "imshow(torchvision.utils.make_grid(images[:16]))"
      ],
      "execution_count": 5,
      "outputs": [
        {
          "output_type": "stream",
          "text": [
            "Files already downloaded and verified\n",
            "Files already downloaded and verified\n",
            "Files already downloaded and verified\n"
          ],
          "name": "stdout"
        },
        {
          "output_type": "stream",
          "text": [
            "Clipping input data to the valid range for imshow with RGB data ([0..1] for floats or [0..255] for integers).\n"
          ],
          "name": "stderr"
        },
        {
          "output_type": "display_data",
          "data": {
            "image/png": "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\n",
            "text/plain": [
              "<Figure size 864x864 with 1 Axes>"
            ]
          },
          "metadata": {
            "tags": [],
            "needs_background": "light"
          }
        }
      ]
    },
    {
      "cell_type": "markdown",
      "metadata": {
        "id": "RglLRlLHHdqX"
      },
      "source": [
        "## Trigger training"
      ]
    },
    {
      "cell_type": "code",
      "metadata": {
        "colab": {
          "base_uri": "https://localhost:8080/"
        },
        "id": "qcLUtFT508B8",
        "outputId": "1ea8378f-19bd-4f18-b4b1-b36b4e781cc6"
      },
      "source": [
        "exp_metrics={}\n",
        "experiment_name=config['model_params']['experiment_name']\n",
        "\n",
        "trigger_training=TriggerEngine(config)\n",
        "\n",
        "# trigger_training.\n",
        "(exp_metrics[experiment_name]),model = trigger_training.run_experiment()\n",
        "trigger_training.save_experiment(model,experiment_name)"
      ],
      "execution_count": 6,
      "outputs": [
        {
          "output_type": "stream",
          "text": [
            "Files already downloaded and verified\n",
            "Files already downloaded and verified\n",
            "Files already downloaded and verified\n"
          ],
          "name": "stdout"
        },
        {
          "output_type": "stream",
          "text": [
            "\r  0%|          | 0/196 [00:00<?, ?it/s]"
          ],
          "name": "stderr"
        },
        {
          "output_type": "stream",
          "text": [
            "Epoch 1:\n"
          ],
          "name": "stdout"
        },
        {
          "output_type": "stream",
          "text": [
            "Loss=1.7863439321517944 Batch_id=195 LR=0.00043 Accuracy=29.38: 100%|██████████| 196/196 [00:13<00:00, 14.12it/s]\n",
            "  0%|          | 0/196 [00:00<?, ?it/s]"
          ],
          "name": "stderr"
        },
        {
          "output_type": "stream",
          "text": [
            "\n",
            "Test set: Average loss: 0.0066, Accuracy: 4407/10000 (44.07%)\n",
            "\n",
            "Epoch 2:\n"
          ],
          "name": "stdout"
        },
        {
          "output_type": "stream",
          "text": [
            "Loss=1.643991470336914 Batch_id=195 LR=0.00053 Accuracy=42.44: 100%|██████████| 196/196 [00:13<00:00, 14.37it/s]\n",
            "  0%|          | 0/196 [00:00<?, ?it/s]"
          ],
          "name": "stderr"
        },
        {
          "output_type": "stream",
          "text": [
            "\n",
            "Test set: Average loss: 0.0060, Accuracy: 5130/10000 (51.30%)\n",
            "\n",
            "Epoch 3:\n"
          ],
          "name": "stdout"
        },
        {
          "output_type": "stream",
          "text": [
            "Loss=1.4447150230407715 Batch_id=195 LR=0.00069 Accuracy=48.77: 100%|██████████| 196/196 [00:13<00:00, 14.22it/s]\n",
            "  0%|          | 0/196 [00:00<?, ?it/s]"
          ],
          "name": "stderr"
        },
        {
          "output_type": "stream",
          "text": [
            "\n",
            "Test set: Average loss: 0.0053, Accuracy: 5721/10000 (57.21%)\n",
            "\n",
            "Epoch 4:\n"
          ],
          "name": "stdout"
        },
        {
          "output_type": "stream",
          "text": [
            "Loss=1.2343745231628418 Batch_id=195 LR=0.00091 Accuracy=53.99: 100%|██████████| 196/196 [00:13<00:00, 14.38it/s]\n",
            "  0%|          | 0/196 [00:00<?, ?it/s]"
          ],
          "name": "stderr"
        },
        {
          "output_type": "stream",
          "text": [
            "\n",
            "Test set: Average loss: 0.0048, Accuracy: 6246/10000 (62.46%)\n",
            "\n",
            "Epoch 5:\n"
          ],
          "name": "stdout"
        },
        {
          "output_type": "stream",
          "text": [
            "Loss=1.2901214361190796 Batch_id=195 LR=0.00119 Accuracy=57.89: 100%|██████████| 196/196 [00:13<00:00, 14.13it/s]\n",
            "  0%|          | 0/196 [00:00<?, ?it/s]"
          ],
          "name": "stderr"
        },
        {
          "output_type": "stream",
          "text": [
            "\n",
            "Test set: Average loss: 0.0044, Accuracy: 6572/10000 (65.72%)\n",
            "\n",
            "Epoch 6:\n"
          ],
          "name": "stdout"
        },
        {
          "output_type": "stream",
          "text": [
            "Loss=1.2879852056503296 Batch_id=195 LR=0.00152 Accuracy=60.58: 100%|██████████| 196/196 [00:13<00:00, 14.27it/s]\n",
            "  0%|          | 0/196 [00:00<?, ?it/s]"
          ],
          "name": "stderr"
        },
        {
          "output_type": "stream",
          "text": [
            "\n",
            "Test set: Average loss: 0.0040, Accuracy: 6807/10000 (68.07%)\n",
            "\n",
            "Epoch 7:\n"
          ],
          "name": "stdout"
        },
        {
          "output_type": "stream",
          "text": [
            "Loss=0.9529579877853394 Batch_id=195 LR=0.00191 Accuracy=62.38: 100%|██████████| 196/196 [00:13<00:00, 14.29it/s]\n",
            "  0%|          | 0/196 [00:00<?, ?it/s]"
          ],
          "name": "stderr"
        },
        {
          "output_type": "stream",
          "text": [
            "\n",
            "Test set: Average loss: 0.0036, Accuracy: 7089/10000 (70.89%)\n",
            "\n",
            "Epoch 8:\n"
          ],
          "name": "stdout"
        },
        {
          "output_type": "stream",
          "text": [
            "Loss=1.1316957473754883 Batch_id=195 LR=0.00233 Accuracy=63.88: 100%|██████████| 196/196 [00:13<00:00, 14.27it/s]\n",
            "  0%|          | 0/196 [00:00<?, ?it/s]"
          ],
          "name": "stderr"
        },
        {
          "output_type": "stream",
          "text": [
            "\n",
            "Test set: Average loss: 0.0037, Accuracy: 6908/10000 (69.08%)\n",
            "\n",
            "Epoch 9:\n"
          ],
          "name": "stdout"
        },
        {
          "output_type": "stream",
          "text": [
            "Loss=1.1035102605819702 Batch_id=195 LR=0.00280 Accuracy=65.05: 100%|██████████| 196/196 [00:14<00:00, 13.95it/s]\n",
            "  0%|          | 0/196 [00:00<?, ?it/s]"
          ],
          "name": "stderr"
        },
        {
          "output_type": "stream",
          "text": [
            "\n",
            "Test set: Average loss: 0.0034, Accuracy: 7216/10000 (72.16%)\n",
            "\n",
            "Epoch 10:\n"
          ],
          "name": "stdout"
        },
        {
          "output_type": "stream",
          "text": [
            "Loss=0.9383977055549622 Batch_id=195 LR=0.00330 Accuracy=65.97: 100%|██████████| 196/196 [00:14<00:00, 13.92it/s]\n",
            "  0%|          | 0/196 [00:00<?, ?it/s]"
          ],
          "name": "stderr"
        },
        {
          "output_type": "stream",
          "text": [
            "\n",
            "Test set: Average loss: 0.0034, Accuracy: 7209/10000 (72.09%)\n",
            "\n",
            "Epoch 11:\n"
          ],
          "name": "stdout"
        },
        {
          "output_type": "stream",
          "text": [
            "Loss=1.2825467586517334 Batch_id=195 LR=0.00382 Accuracy=66.89: 100%|██████████| 196/196 [00:14<00:00, 13.68it/s]\n",
            "  0%|          | 0/196 [00:00<?, ?it/s]"
          ],
          "name": "stderr"
        },
        {
          "output_type": "stream",
          "text": [
            "\n",
            "Test set: Average loss: 0.0032, Accuracy: 7314/10000 (73.14%)\n",
            "\n",
            "Epoch 12:\n"
          ],
          "name": "stdout"
        },
        {
          "output_type": "stream",
          "text": [
            "Loss=0.9280669093132019 Batch_id=195 LR=0.00437 Accuracy=67.55: 100%|██████████| 196/196 [00:14<00:00, 13.65it/s]\n",
            "  0%|          | 0/196 [00:00<?, ?it/s]"
          ],
          "name": "stderr"
        },
        {
          "output_type": "stream",
          "text": [
            "\n",
            "Test set: Average loss: 0.0029, Accuracy: 7533/10000 (75.33%)\n",
            "\n",
            "Epoch 13:\n"
          ],
          "name": "stdout"
        },
        {
          "output_type": "stream",
          "text": [
            "Loss=0.8591944575309753 Batch_id=195 LR=0.00492 Accuracy=68.07: 100%|██████████| 196/196 [00:14<00:00, 13.62it/s]\n",
            "  0%|          | 0/196 [00:00<?, ?it/s]"
          ],
          "name": "stderr"
        },
        {
          "output_type": "stream",
          "text": [
            "\n",
            "Test set: Average loss: 0.0033, Accuracy: 7247/10000 (72.47%)\n",
            "\n",
            "Epoch 14:\n"
          ],
          "name": "stdout"
        },
        {
          "output_type": "stream",
          "text": [
            "Loss=1.035975694656372 Batch_id=195 LR=0.00548 Accuracy=68.53: 100%|██████████| 196/196 [00:14<00:00, 13.81it/s]\n",
            "  0%|          | 0/196 [00:00<?, ?it/s]"
          ],
          "name": "stderr"
        },
        {
          "output_type": "stream",
          "text": [
            "\n",
            "Test set: Average loss: 0.0029, Accuracy: 7504/10000 (75.04%)\n",
            "\n",
            "Epoch 15:\n"
          ],
          "name": "stdout"
        },
        {
          "output_type": "stream",
          "text": [
            "Loss=0.8850709795951843 Batch_id=195 LR=0.00604 Accuracy=69.02: 100%|██████████| 196/196 [00:13<00:00, 14.11it/s]\n",
            "  0%|          | 0/196 [00:00<?, ?it/s]"
          ],
          "name": "stderr"
        },
        {
          "output_type": "stream",
          "text": [
            "\n",
            "Test set: Average loss: 0.0028, Accuracy: 7570/10000 (75.70%)\n",
            "\n",
            "Epoch 16:\n"
          ],
          "name": "stdout"
        },
        {
          "output_type": "stream",
          "text": [
            "Loss=0.9050224423408508 Batch_id=195 LR=0.00658 Accuracy=69.56: 100%|██████████| 196/196 [00:13<00:00, 14.12it/s]\n",
            "  0%|          | 0/196 [00:00<?, ?it/s]"
          ],
          "name": "stderr"
        },
        {
          "output_type": "stream",
          "text": [
            "\n",
            "Test set: Average loss: 0.0028, Accuracy: 7583/10000 (75.83%)\n",
            "\n",
            "Epoch 17:\n"
          ],
          "name": "stdout"
        },
        {
          "output_type": "stream",
          "text": [
            "Loss=0.789880633354187 Batch_id=195 LR=0.00710 Accuracy=69.55: 100%|██████████| 196/196 [00:13<00:00, 14.22it/s]\n",
            "  0%|          | 0/196 [00:00<?, ?it/s]"
          ],
          "name": "stderr"
        },
        {
          "output_type": "stream",
          "text": [
            "\n",
            "Test set: Average loss: 0.0028, Accuracy: 7575/10000 (75.75%)\n",
            "\n",
            "Epoch 18:\n"
          ],
          "name": "stdout"
        },
        {
          "output_type": "stream",
          "text": [
            "Loss=1.0201544761657715 Batch_id=195 LR=0.00760 Accuracy=69.59: 100%|██████████| 196/196 [00:14<00:00, 13.77it/s]\n",
            "  0%|          | 0/196 [00:00<?, ?it/s]"
          ],
          "name": "stderr"
        },
        {
          "output_type": "stream",
          "text": [
            "\n",
            "Test set: Average loss: 0.0029, Accuracy: 7548/10000 (75.48%)\n",
            "\n",
            "Epoch 19:\n"
          ],
          "name": "stdout"
        },
        {
          "output_type": "stream",
          "text": [
            "Loss=0.7376900315284729 Batch_id=195 LR=0.00807 Accuracy=70.00: 100%|██████████| 196/196 [00:14<00:00, 13.95it/s]\n",
            "  0%|          | 0/196 [00:00<?, ?it/s]"
          ],
          "name": "stderr"
        },
        {
          "output_type": "stream",
          "text": [
            "\n",
            "Test set: Average loss: 0.0028, Accuracy: 7612/10000 (76.12%)\n",
            "\n",
            "Epoch 20:\n"
          ],
          "name": "stdout"
        },
        {
          "output_type": "stream",
          "text": [
            "Loss=1.0414338111877441 Batch_id=195 LR=0.00850 Accuracy=70.55: 100%|██████████| 196/196 [00:13<00:00, 14.13it/s]\n",
            "  0%|          | 0/196 [00:00<?, ?it/s]"
          ],
          "name": "stderr"
        },
        {
          "output_type": "stream",
          "text": [
            "\n",
            "Test set: Average loss: 0.0031, Accuracy: 7360/10000 (73.60%)\n",
            "\n",
            "Epoch 21:\n"
          ],
          "name": "stdout"
        },
        {
          "output_type": "stream",
          "text": [
            "Loss=0.7892434000968933 Batch_id=195 LR=0.00888 Accuracy=70.49: 100%|██████████| 196/196 [00:14<00:00, 13.85it/s]\n",
            "  0%|          | 0/196 [00:00<?, ?it/s]"
          ],
          "name": "stderr"
        },
        {
          "output_type": "stream",
          "text": [
            "\n",
            "Test set: Average loss: 0.0030, Accuracy: 7429/10000 (74.29%)\n",
            "\n",
            "Epoch 22:\n"
          ],
          "name": "stdout"
        },
        {
          "output_type": "stream",
          "text": [
            "Loss=0.9433385133743286 Batch_id=195 LR=0.00921 Accuracy=70.69: 100%|██████████| 196/196 [00:13<00:00, 14.21it/s]\n",
            "  0%|          | 0/196 [00:00<?, ?it/s]"
          ],
          "name": "stderr"
        },
        {
          "output_type": "stream",
          "text": [
            "\n",
            "Test set: Average loss: 0.0029, Accuracy: 7501/10000 (75.01%)\n",
            "\n",
            "Epoch 23:\n"
          ],
          "name": "stdout"
        },
        {
          "output_type": "stream",
          "text": [
            "Loss=0.7301747798919678 Batch_id=195 LR=0.00949 Accuracy=70.91: 100%|██████████| 196/196 [00:13<00:00, 14.11it/s]\n",
            "  0%|          | 0/196 [00:00<?, ?it/s]"
          ],
          "name": "stderr"
        },
        {
          "output_type": "stream",
          "text": [
            "\n",
            "Test set: Average loss: 0.0028, Accuracy: 7590/10000 (75.90%)\n",
            "\n",
            "Epoch 24:\n"
          ],
          "name": "stdout"
        },
        {
          "output_type": "stream",
          "text": [
            "Loss=0.7873011827468872 Batch_id=195 LR=0.00971 Accuracy=71.13: 100%|██████████| 196/196 [00:13<00:00, 14.04it/s]\n",
            "  0%|          | 0/196 [00:00<?, ?it/s]"
          ],
          "name": "stderr"
        },
        {
          "output_type": "stream",
          "text": [
            "\n",
            "Test set: Average loss: 0.0029, Accuracy: 7566/10000 (75.66%)\n",
            "\n",
            "Epoch 25:\n"
          ],
          "name": "stdout"
        },
        {
          "output_type": "stream",
          "text": [
            "Loss=1.0374395847320557 Batch_id=195 LR=0.00987 Accuracy=71.22: 100%|██████████| 196/196 [00:14<00:00, 13.96it/s]\n",
            "  0%|          | 0/196 [00:00<?, ?it/s]"
          ],
          "name": "stderr"
        },
        {
          "output_type": "stream",
          "text": [
            "\n",
            "Test set: Average loss: 0.0027, Accuracy: 7663/10000 (76.63%)\n",
            "\n",
            "Epoch 26:\n"
          ],
          "name": "stdout"
        },
        {
          "output_type": "stream",
          "text": [
            "Loss=0.7670177221298218 Batch_id=195 LR=0.00997 Accuracy=71.32: 100%|██████████| 196/196 [00:13<00:00, 14.02it/s]\n",
            "  0%|          | 0/196 [00:00<?, ?it/s]"
          ],
          "name": "stderr"
        },
        {
          "output_type": "stream",
          "text": [
            "\n",
            "Test set: Average loss: 0.0027, Accuracy: 7750/10000 (77.50%)\n",
            "\n",
            "Epoch 27:\n"
          ],
          "name": "stdout"
        },
        {
          "output_type": "stream",
          "text": [
            "Loss=0.8616105318069458 Batch_id=195 LR=0.01000 Accuracy=71.37: 100%|██████████| 196/196 [00:14<00:00, 13.80it/s]\n",
            "  0%|          | 0/196 [00:00<?, ?it/s]"
          ],
          "name": "stderr"
        },
        {
          "output_type": "stream",
          "text": [
            "\n",
            "Test set: Average loss: 0.0029, Accuracy: 7646/10000 (76.46%)\n",
            "\n",
            "Epoch 28:\n"
          ],
          "name": "stdout"
        },
        {
          "output_type": "stream",
          "text": [
            "Loss=0.8340059518814087 Batch_id=195 LR=0.00999 Accuracy=71.62: 100%|██████████| 196/196 [00:14<00:00, 13.96it/s]\n",
            "  0%|          | 0/196 [00:00<?, ?it/s]"
          ],
          "name": "stderr"
        },
        {
          "output_type": "stream",
          "text": [
            "\n",
            "Test set: Average loss: 0.0031, Accuracy: 7442/10000 (74.42%)\n",
            "\n",
            "Epoch 29:\n"
          ],
          "name": "stdout"
        },
        {
          "output_type": "stream",
          "text": [
            "Loss=0.7241061925888062 Batch_id=195 LR=0.00998 Accuracy=71.75: 100%|██████████| 196/196 [00:14<00:00, 13.77it/s]\n",
            "  0%|          | 0/196 [00:00<?, ?it/s]"
          ],
          "name": "stderr"
        },
        {
          "output_type": "stream",
          "text": [
            "\n",
            "Test set: Average loss: 0.0027, Accuracy: 7735/10000 (77.35%)\n",
            "\n",
            "Epoch 30:\n"
          ],
          "name": "stdout"
        },
        {
          "output_type": "stream",
          "text": [
            "Loss=0.6961734890937805 Batch_id=195 LR=0.00994 Accuracy=71.98: 100%|██████████| 196/196 [00:14<00:00, 13.94it/s]\n",
            "  0%|          | 0/196 [00:00<?, ?it/s]"
          ],
          "name": "stderr"
        },
        {
          "output_type": "stream",
          "text": [
            "\n",
            "Test set: Average loss: 0.0029, Accuracy: 7581/10000 (75.81%)\n",
            "\n",
            "Epoch 31:\n"
          ],
          "name": "stdout"
        },
        {
          "output_type": "stream",
          "text": [
            "Loss=0.8051748275756836 Batch_id=195 LR=0.00990 Accuracy=72.05: 100%|██████████| 196/196 [00:14<00:00, 13.89it/s]\n",
            "  0%|          | 0/196 [00:00<?, ?it/s]"
          ],
          "name": "stderr"
        },
        {
          "output_type": "stream",
          "text": [
            "\n",
            "Test set: Average loss: 0.0028, Accuracy: 7586/10000 (75.86%)\n",
            "\n",
            "Epoch 32:\n"
          ],
          "name": "stdout"
        },
        {
          "output_type": "stream",
          "text": [
            "Loss=0.7151428461074829 Batch_id=195 LR=0.00985 Accuracy=72.07: 100%|██████████| 196/196 [00:14<00:00, 13.88it/s]\n",
            "  0%|          | 0/196 [00:00<?, ?it/s]"
          ],
          "name": "stderr"
        },
        {
          "output_type": "stream",
          "text": [
            "\n",
            "Test set: Average loss: 0.0027, Accuracy: 7687/10000 (76.87%)\n",
            "\n",
            "Epoch 33:\n"
          ],
          "name": "stdout"
        },
        {
          "output_type": "stream",
          "text": [
            "Loss=1.0243922472000122 Batch_id=195 LR=0.00978 Accuracy=71.90: 100%|██████████| 196/196 [00:14<00:00, 13.70it/s]\n",
            "  0%|          | 0/196 [00:00<?, ?it/s]"
          ],
          "name": "stderr"
        },
        {
          "output_type": "stream",
          "text": [
            "\n",
            "Test set: Average loss: 0.0026, Accuracy: 7807/10000 (78.07%)\n",
            "\n",
            "Epoch 34:\n"
          ],
          "name": "stdout"
        },
        {
          "output_type": "stream",
          "text": [
            "Loss=0.7045131325721741 Batch_id=195 LR=0.00970 Accuracy=72.31: 100%|██████████| 196/196 [00:14<00:00, 13.80it/s]\n",
            "  0%|          | 0/196 [00:00<?, ?it/s]"
          ],
          "name": "stderr"
        },
        {
          "output_type": "stream",
          "text": [
            "\n",
            "Test set: Average loss: 0.0026, Accuracy: 7715/10000 (77.15%)\n",
            "\n",
            "Epoch 35:\n"
          ],
          "name": "stdout"
        },
        {
          "output_type": "stream",
          "text": [
            "Loss=1.063346266746521 Batch_id=195 LR=0.00961 Accuracy=72.18: 100%|██████████| 196/196 [00:14<00:00, 13.76it/s]\n",
            "  0%|          | 0/196 [00:00<?, ?it/s]"
          ],
          "name": "stderr"
        },
        {
          "output_type": "stream",
          "text": [
            "\n",
            "Test set: Average loss: 0.0029, Accuracy: 7492/10000 (74.92%)\n",
            "\n",
            "Epoch 36:\n"
          ],
          "name": "stdout"
        },
        {
          "output_type": "stream",
          "text": [
            "Loss=0.952379584312439 Batch_id=195 LR=0.00950 Accuracy=72.33: 100%|██████████| 196/196 [00:14<00:00, 13.95it/s]\n",
            "  0%|          | 0/196 [00:00<?, ?it/s]"
          ],
          "name": "stderr"
        },
        {
          "output_type": "stream",
          "text": [
            "\n",
            "Test set: Average loss: 0.0025, Accuracy: 7832/10000 (78.32%)\n",
            "\n",
            "Epoch 37:\n"
          ],
          "name": "stdout"
        },
        {
          "output_type": "stream",
          "text": [
            "Loss=0.7040458917617798 Batch_id=195 LR=0.00939 Accuracy=72.28: 100%|██████████| 196/196 [00:14<00:00, 13.82it/s]\n",
            "  0%|          | 0/196 [00:00<?, ?it/s]"
          ],
          "name": "stderr"
        },
        {
          "output_type": "stream",
          "text": [
            "\n",
            "Test set: Average loss: 0.0029, Accuracy: 7624/10000 (76.24%)\n",
            "\n",
            "Epoch 38:\n"
          ],
          "name": "stdout"
        },
        {
          "output_type": "stream",
          "text": [
            "Loss=1.0554664134979248 Batch_id=195 LR=0.00927 Accuracy=72.52: 100%|██████████| 196/196 [00:14<00:00, 13.96it/s]\n",
            "  0%|          | 0/196 [00:00<?, ?it/s]"
          ],
          "name": "stderr"
        },
        {
          "output_type": "stream",
          "text": [
            "\n",
            "Test set: Average loss: 0.0024, Accuracy: 7938/10000 (79.38%)\n",
            "\n",
            "Epoch 39:\n"
          ],
          "name": "stdout"
        },
        {
          "output_type": "stream",
          "text": [
            "Loss=0.7914034128189087 Batch_id=195 LR=0.00913 Accuracy=72.71: 100%|██████████| 196/196 [00:13<00:00, 14.11it/s]\n",
            "  0%|          | 0/196 [00:00<?, ?it/s]"
          ],
          "name": "stderr"
        },
        {
          "output_type": "stream",
          "text": [
            "\n",
            "Test set: Average loss: 0.0027, Accuracy: 7777/10000 (77.77%)\n",
            "\n",
            "Epoch 40:\n"
          ],
          "name": "stdout"
        },
        {
          "output_type": "stream",
          "text": [
            "Loss=0.7701900005340576 Batch_id=195 LR=0.00898 Accuracy=72.85: 100%|██████████| 196/196 [00:13<00:00, 14.04it/s]\n",
            "  0%|          | 0/196 [00:00<?, ?it/s]"
          ],
          "name": "stderr"
        },
        {
          "output_type": "stream",
          "text": [
            "\n",
            "Test set: Average loss: 0.0029, Accuracy: 7593/10000 (75.93%)\n",
            "\n",
            "Epoch 41:\n"
          ],
          "name": "stdout"
        },
        {
          "output_type": "stream",
          "text": [
            "Loss=0.8713725209236145 Batch_id=195 LR=0.00883 Accuracy=73.10: 100%|██████████| 196/196 [00:13<00:00, 14.05it/s]\n",
            "  0%|          | 0/196 [00:00<?, ?it/s]"
          ],
          "name": "stderr"
        },
        {
          "output_type": "stream",
          "text": [
            "\n",
            "Test set: Average loss: 0.0027, Accuracy: 7710/10000 (77.10%)\n",
            "\n",
            "Epoch 42:\n"
          ],
          "name": "stdout"
        },
        {
          "output_type": "stream",
          "text": [
            "Loss=0.8375059962272644 Batch_id=195 LR=0.00866 Accuracy=72.86: 100%|██████████| 196/196 [00:14<00:00, 13.99it/s]\n",
            "  0%|          | 0/196 [00:00<?, ?it/s]"
          ],
          "name": "stderr"
        },
        {
          "output_type": "stream",
          "text": [
            "\n",
            "Test set: Average loss: 0.0028, Accuracy: 7669/10000 (76.69%)\n",
            "\n",
            "Epoch 43:\n"
          ],
          "name": "stdout"
        },
        {
          "output_type": "stream",
          "text": [
            "Loss=0.7520014047622681 Batch_id=195 LR=0.00849 Accuracy=73.42: 100%|██████████| 196/196 [00:14<00:00, 13.93it/s]\n",
            "  0%|          | 0/196 [00:00<?, ?it/s]"
          ],
          "name": "stderr"
        },
        {
          "output_type": "stream",
          "text": [
            "\n",
            "Test set: Average loss: 0.0028, Accuracy: 7681/10000 (76.81%)\n",
            "\n",
            "Epoch 44:\n"
          ],
          "name": "stdout"
        },
        {
          "output_type": "stream",
          "text": [
            "Loss=0.6803322434425354 Batch_id=195 LR=0.00831 Accuracy=73.52: 100%|██████████| 196/196 [00:14<00:00, 13.82it/s]\n",
            "  0%|          | 0/196 [00:00<?, ?it/s]"
          ],
          "name": "stderr"
        },
        {
          "output_type": "stream",
          "text": [
            "\n",
            "Test set: Average loss: 0.0027, Accuracy: 7771/10000 (77.71%)\n",
            "\n",
            "Epoch 45:\n"
          ],
          "name": "stdout"
        },
        {
          "output_type": "stream",
          "text": [
            "Loss=0.979954719543457 Batch_id=195 LR=0.00812 Accuracy=73.63: 100%|██████████| 196/196 [00:13<00:00, 14.05it/s]\n",
            "  0%|          | 0/196 [00:00<?, ?it/s]"
          ],
          "name": "stderr"
        },
        {
          "output_type": "stream",
          "text": [
            "\n",
            "Test set: Average loss: 0.0026, Accuracy: 7793/10000 (77.93%)\n",
            "\n",
            "Epoch 46:\n"
          ],
          "name": "stdout"
        },
        {
          "output_type": "stream",
          "text": [
            "Loss=0.7672444581985474 Batch_id=195 LR=0.00792 Accuracy=73.62: 100%|██████████| 196/196 [00:14<00:00, 13.92it/s]\n",
            "  0%|          | 0/196 [00:00<?, ?it/s]"
          ],
          "name": "stderr"
        },
        {
          "output_type": "stream",
          "text": [
            "\n",
            "Test set: Average loss: 0.0025, Accuracy: 7842/10000 (78.42%)\n",
            "\n",
            "Epoch 47:\n"
          ],
          "name": "stdout"
        },
        {
          "output_type": "stream",
          "text": [
            "Loss=0.5693843364715576 Batch_id=195 LR=0.00771 Accuracy=73.86: 100%|██████████| 196/196 [00:13<00:00, 14.22it/s]\n",
            "  0%|          | 0/196 [00:00<?, ?it/s]"
          ],
          "name": "stderr"
        },
        {
          "output_type": "stream",
          "text": [
            "\n",
            "Test set: Average loss: 0.0028, Accuracy: 7719/10000 (77.19%)\n",
            "\n",
            "Epoch 48:\n"
          ],
          "name": "stdout"
        },
        {
          "output_type": "stream",
          "text": [
            "Loss=0.7910192012786865 Batch_id=195 LR=0.00750 Accuracy=74.16: 100%|██████████| 196/196 [00:14<00:00, 13.89it/s]\n",
            "  0%|          | 0/196 [00:00<?, ?it/s]"
          ],
          "name": "stderr"
        },
        {
          "output_type": "stream",
          "text": [
            "\n",
            "Test set: Average loss: 0.0026, Accuracy: 7882/10000 (78.82%)\n",
            "\n",
            "Epoch 49:\n"
          ],
          "name": "stdout"
        },
        {
          "output_type": "stream",
          "text": [
            "Loss=0.6887952089309692 Batch_id=195 LR=0.00728 Accuracy=74.19: 100%|██████████| 196/196 [00:14<00:00, 13.99it/s]\n",
            "  0%|          | 0/196 [00:00<?, ?it/s]"
          ],
          "name": "stderr"
        },
        {
          "output_type": "stream",
          "text": [
            "\n",
            "Test set: Average loss: 0.0022, Accuracy: 8078/10000 (80.78%)\n",
            "\n",
            "Epoch 50:\n"
          ],
          "name": "stdout"
        },
        {
          "output_type": "stream",
          "text": [
            "Loss=0.7709396481513977 Batch_id=195 LR=0.00706 Accuracy=74.63: 100%|██████████| 196/196 [00:14<00:00, 13.81it/s]\n",
            "  0%|          | 0/196 [00:00<?, ?it/s]"
          ],
          "name": "stderr"
        },
        {
          "output_type": "stream",
          "text": [
            "\n",
            "Test set: Average loss: 0.0023, Accuracy: 8048/10000 (80.48%)\n",
            "\n",
            "Epoch 51:\n"
          ],
          "name": "stdout"
        },
        {
          "output_type": "stream",
          "text": [
            "Loss=0.7380024790763855 Batch_id=195 LR=0.00683 Accuracy=74.62: 100%|██████████| 196/196 [00:14<00:00, 13.89it/s]\n",
            "  0%|          | 0/196 [00:00<?, ?it/s]"
          ],
          "name": "stderr"
        },
        {
          "output_type": "stream",
          "text": [
            "\n",
            "Test set: Average loss: 0.0022, Accuracy: 8095/10000 (80.95%)\n",
            "\n",
            "Epoch 52:\n"
          ],
          "name": "stdout"
        },
        {
          "output_type": "stream",
          "text": [
            "Loss=0.7158113121986389 Batch_id=195 LR=0.00659 Accuracy=74.97: 100%|██████████| 196/196 [00:14<00:00, 13.84it/s]\n",
            "  0%|          | 0/196 [00:00<?, ?it/s]"
          ],
          "name": "stderr"
        },
        {
          "output_type": "stream",
          "text": [
            "\n",
            "Test set: Average loss: 0.0023, Accuracy: 8081/10000 (80.81%)\n",
            "\n",
            "Epoch 53:\n"
          ],
          "name": "stdout"
        },
        {
          "output_type": "stream",
          "text": [
            "Loss=0.8777079582214355 Batch_id=195 LR=0.00635 Accuracy=74.98: 100%|██████████| 196/196 [00:14<00:00, 13.82it/s]\n",
            "  0%|          | 0/196 [00:00<?, ?it/s]"
          ],
          "name": "stderr"
        },
        {
          "output_type": "stream",
          "text": [
            "\n",
            "Test set: Average loss: 0.0022, Accuracy: 8171/10000 (81.71%)\n",
            "\n",
            "Epoch 54:\n"
          ],
          "name": "stdout"
        },
        {
          "output_type": "stream",
          "text": [
            "Loss=0.6576747894287109 Batch_id=195 LR=0.00611 Accuracy=75.12: 100%|██████████| 196/196 [00:14<00:00, 13.87it/s]\n",
            "  0%|          | 0/196 [00:00<?, ?it/s]"
          ],
          "name": "stderr"
        },
        {
          "output_type": "stream",
          "text": [
            "\n",
            "Test set: Average loss: 0.0023, Accuracy: 8070/10000 (80.70%)\n",
            "\n",
            "Epoch 55:\n"
          ],
          "name": "stdout"
        },
        {
          "output_type": "stream",
          "text": [
            "Loss=0.6961812376976013 Batch_id=195 LR=0.00587 Accuracy=75.47: 100%|██████████| 196/196 [00:14<00:00, 13.98it/s]\n",
            "  0%|          | 0/196 [00:00<?, ?it/s]"
          ],
          "name": "stderr"
        },
        {
          "output_type": "stream",
          "text": [
            "\n",
            "Test set: Average loss: 0.0024, Accuracy: 7976/10000 (79.76%)\n",
            "\n",
            "Epoch 56:\n"
          ],
          "name": "stdout"
        },
        {
          "output_type": "stream",
          "text": [
            "Loss=0.7732640504837036 Batch_id=195 LR=0.00562 Accuracy=75.66: 100%|██████████| 196/196 [00:14<00:00, 13.82it/s]\n",
            "  0%|          | 0/196 [00:00<?, ?it/s]"
          ],
          "name": "stderr"
        },
        {
          "output_type": "stream",
          "text": [
            "\n",
            "Test set: Average loss: 0.0023, Accuracy: 8040/10000 (80.40%)\n",
            "\n",
            "Epoch 57:\n"
          ],
          "name": "stdout"
        },
        {
          "output_type": "stream",
          "text": [
            "Loss=0.7004727125167847 Batch_id=195 LR=0.00537 Accuracy=75.95: 100%|██████████| 196/196 [00:14<00:00, 13.89it/s]\n",
            "  0%|          | 0/196 [00:00<?, ?it/s]"
          ],
          "name": "stderr"
        },
        {
          "output_type": "stream",
          "text": [
            "\n",
            "Test set: Average loss: 0.0023, Accuracy: 8095/10000 (80.95%)\n",
            "\n",
            "Epoch 58:\n"
          ],
          "name": "stdout"
        },
        {
          "output_type": "stream",
          "text": [
            "Loss=0.5610059499740601 Batch_id=195 LR=0.00512 Accuracy=76.26: 100%|██████████| 196/196 [00:14<00:00, 13.90it/s]\n",
            "  0%|          | 0/196 [00:00<?, ?it/s]"
          ],
          "name": "stderr"
        },
        {
          "output_type": "stream",
          "text": [
            "\n",
            "Test set: Average loss: 0.0022, Accuracy: 8153/10000 (81.53%)\n",
            "\n",
            "Epoch 59:\n"
          ],
          "name": "stdout"
        },
        {
          "output_type": "stream",
          "text": [
            "Loss=0.7649127840995789 Batch_id=195 LR=0.00487 Accuracy=76.49: 100%|██████████| 196/196 [00:14<00:00, 13.85it/s]\n",
            "  0%|          | 0/196 [00:00<?, ?it/s]"
          ],
          "name": "stderr"
        },
        {
          "output_type": "stream",
          "text": [
            "\n",
            "Test set: Average loss: 0.0022, Accuracy: 8182/10000 (81.82%)\n",
            "\n",
            "Epoch 60:\n"
          ],
          "name": "stdout"
        },
        {
          "output_type": "stream",
          "text": [
            "Loss=0.6742063760757446 Batch_id=195 LR=0.00463 Accuracy=76.61: 100%|██████████| 196/196 [00:14<00:00, 13.87it/s]\n",
            "  0%|          | 0/196 [00:00<?, ?it/s]"
          ],
          "name": "stderr"
        },
        {
          "output_type": "stream",
          "text": [
            "\n",
            "Test set: Average loss: 0.0020, Accuracy: 8266/10000 (82.66%)\n",
            "\n",
            "Epoch 61:\n"
          ],
          "name": "stdout"
        },
        {
          "output_type": "stream",
          "text": [
            "Loss=0.5821956396102905 Batch_id=195 LR=0.00438 Accuracy=76.97: 100%|██████████| 196/196 [00:14<00:00, 13.84it/s]\n",
            "  0%|          | 0/196 [00:00<?, ?it/s]"
          ],
          "name": "stderr"
        },
        {
          "output_type": "stream",
          "text": [
            "\n",
            "Test set: Average loss: 0.0021, Accuracy: 8208/10000 (82.08%)\n",
            "\n",
            "Epoch 62:\n"
          ],
          "name": "stdout"
        },
        {
          "output_type": "stream",
          "text": [
            "Loss=0.5250812768936157 Batch_id=195 LR=0.00413 Accuracy=77.31: 100%|██████████| 196/196 [00:13<00:00, 14.06it/s]\n",
            "  0%|          | 0/196 [00:00<?, ?it/s]"
          ],
          "name": "stderr"
        },
        {
          "output_type": "stream",
          "text": [
            "\n",
            "Test set: Average loss: 0.0020, Accuracy: 8281/10000 (82.81%)\n",
            "\n",
            "Epoch 63:\n"
          ],
          "name": "stdout"
        },
        {
          "output_type": "stream",
          "text": [
            "Loss=0.74607253074646 Batch_id=195 LR=0.00389 Accuracy=77.71: 100%|██████████| 196/196 [00:14<00:00, 13.82it/s]\n",
            "  0%|          | 0/196 [00:00<?, ?it/s]"
          ],
          "name": "stderr"
        },
        {
          "output_type": "stream",
          "text": [
            "\n",
            "Test set: Average loss: 0.0019, Accuracy: 8333/10000 (83.33%)\n",
            "\n",
            "Epoch 64:\n"
          ],
          "name": "stdout"
        },
        {
          "output_type": "stream",
          "text": [
            "Loss=0.697485089302063 Batch_id=195 LR=0.00364 Accuracy=77.57: 100%|██████████| 196/196 [00:13<00:00, 14.09it/s]\n",
            "  0%|          | 0/196 [00:00<?, ?it/s]"
          ],
          "name": "stderr"
        },
        {
          "output_type": "stream",
          "text": [
            "\n",
            "Test set: Average loss: 0.0019, Accuracy: 8375/10000 (83.75%)\n",
            "\n",
            "Epoch 65:\n"
          ],
          "name": "stdout"
        },
        {
          "output_type": "stream",
          "text": [
            "Loss=0.8775724172592163 Batch_id=195 LR=0.00341 Accuracy=78.33: 100%|██████████| 196/196 [00:14<00:00, 13.92it/s]\n",
            "  0%|          | 0/196 [00:00<?, ?it/s]"
          ],
          "name": "stderr"
        },
        {
          "output_type": "stream",
          "text": [
            "\n",
            "Test set: Average loss: 0.0020, Accuracy: 8266/10000 (82.66%)\n",
            "\n",
            "Epoch 66:\n"
          ],
          "name": "stdout"
        },
        {
          "output_type": "stream",
          "text": [
            "Loss=0.5819722414016724 Batch_id=195 LR=0.00317 Accuracy=78.60: 100%|██████████| 196/196 [00:13<00:00, 14.02it/s]\n",
            "  0%|          | 0/196 [00:00<?, ?it/s]"
          ],
          "name": "stderr"
        },
        {
          "output_type": "stream",
          "text": [
            "\n",
            "Test set: Average loss: 0.0020, Accuracy: 8302/10000 (83.02%)\n",
            "\n",
            "Epoch 67:\n"
          ],
          "name": "stdout"
        },
        {
          "output_type": "stream",
          "text": [
            "Loss=0.6700190901756287 Batch_id=195 LR=0.00294 Accuracy=78.92: 100%|██████████| 196/196 [00:14<00:00, 13.74it/s]\n",
            "  0%|          | 0/196 [00:00<?, ?it/s]"
          ],
          "name": "stderr"
        },
        {
          "output_type": "stream",
          "text": [
            "\n",
            "Test set: Average loss: 0.0019, Accuracy: 8411/10000 (84.11%)\n",
            "\n",
            "Epoch 68:\n"
          ],
          "name": "stdout"
        },
        {
          "output_type": "stream",
          "text": [
            "Loss=0.6314150094985962 Batch_id=195 LR=0.00272 Accuracy=78.99: 100%|██████████| 196/196 [00:14<00:00, 13.95it/s]\n",
            "  0%|          | 0/196 [00:00<?, ?it/s]"
          ],
          "name": "stderr"
        },
        {
          "output_type": "stream",
          "text": [
            "\n",
            "Test set: Average loss: 0.0018, Accuracy: 8451/10000 (84.51%)\n",
            "\n",
            "Epoch 69:\n"
          ],
          "name": "stdout"
        },
        {
          "output_type": "stream",
          "text": [
            "Loss=0.65234375 Batch_id=195 LR=0.00250 Accuracy=79.39: 100%|██████████| 196/196 [00:14<00:00, 13.82it/s]\n",
            "  0%|          | 0/196 [00:00<?, ?it/s]"
          ],
          "name": "stderr"
        },
        {
          "output_type": "stream",
          "text": [
            "\n",
            "Test set: Average loss: 0.0018, Accuracy: 8489/10000 (84.89%)\n",
            "\n",
            "Epoch 70:\n"
          ],
          "name": "stdout"
        },
        {
          "output_type": "stream",
          "text": [
            "Loss=0.7867509126663208 Batch_id=195 LR=0.00229 Accuracy=79.50: 100%|██████████| 196/196 [00:13<00:00, 14.04it/s]\n",
            "  0%|          | 0/196 [00:00<?, ?it/s]"
          ],
          "name": "stderr"
        },
        {
          "output_type": "stream",
          "text": [
            "\n",
            "Test set: Average loss: 0.0017, Accuracy: 8547/10000 (85.47%)\n",
            "\n",
            "Epoch 71:\n"
          ],
          "name": "stdout"
        },
        {
          "output_type": "stream",
          "text": [
            "Loss=0.7134128212928772 Batch_id=195 LR=0.00208 Accuracy=80.05: 100%|██████████| 196/196 [00:14<00:00, 13.75it/s]\n",
            "  0%|          | 0/196 [00:00<?, ?it/s]"
          ],
          "name": "stderr"
        },
        {
          "output_type": "stream",
          "text": [
            "\n",
            "Test set: Average loss: 0.0018, Accuracy: 8521/10000 (85.21%)\n",
            "\n",
            "Epoch 72:\n"
          ],
          "name": "stdout"
        },
        {
          "output_type": "stream",
          "text": [
            "Loss=0.6725863218307495 Batch_id=195 LR=0.00188 Accuracy=80.33: 100%|██████████| 196/196 [00:14<00:00, 13.78it/s]\n",
            "  0%|          | 0/196 [00:00<?, ?it/s]"
          ],
          "name": "stderr"
        },
        {
          "output_type": "stream",
          "text": [
            "\n",
            "Test set: Average loss: 0.0018, Accuracy: 8519/10000 (85.19%)\n",
            "\n",
            "Epoch 73:\n"
          ],
          "name": "stdout"
        },
        {
          "output_type": "stream",
          "text": [
            "Loss=0.5519553422927856 Batch_id=195 LR=0.00169 Accuracy=80.60: 100%|██████████| 196/196 [00:14<00:00, 13.86it/s]\n",
            "  0%|          | 0/196 [00:00<?, ?it/s]"
          ],
          "name": "stderr"
        },
        {
          "output_type": "stream",
          "text": [
            "\n",
            "Test set: Average loss: 0.0018, Accuracy: 8510/10000 (85.10%)\n",
            "\n",
            "Epoch 74:\n"
          ],
          "name": "stdout"
        },
        {
          "output_type": "stream",
          "text": [
            "Loss=0.703879714012146 Batch_id=195 LR=0.00151 Accuracy=81.00: 100%|██████████| 196/196 [00:14<00:00, 13.97it/s]\n",
            "  0%|          | 0/196 [00:00<?, ?it/s]"
          ],
          "name": "stderr"
        },
        {
          "output_type": "stream",
          "text": [
            "\n",
            "Test set: Average loss: 0.0017, Accuracy: 8569/10000 (85.69%)\n",
            "\n",
            "Epoch 75:\n"
          ],
          "name": "stdout"
        },
        {
          "output_type": "stream",
          "text": [
            "Loss=0.6356183886528015 Batch_id=195 LR=0.00133 Accuracy=81.53: 100%|██████████| 196/196 [00:14<00:00, 13.93it/s]\n",
            "  0%|          | 0/196 [00:00<?, ?it/s]"
          ],
          "name": "stderr"
        },
        {
          "output_type": "stream",
          "text": [
            "\n",
            "Test set: Average loss: 0.0017, Accuracy: 8579/10000 (85.79%)\n",
            "\n",
            "Epoch 76:\n"
          ],
          "name": "stdout"
        },
        {
          "output_type": "stream",
          "text": [
            "Loss=0.40878304839134216 Batch_id=195 LR=0.00117 Accuracy=81.91: 100%|██████████| 196/196 [00:14<00:00, 13.77it/s]\n",
            "  0%|          | 0/196 [00:00<?, ?it/s]"
          ],
          "name": "stderr"
        },
        {
          "output_type": "stream",
          "text": [
            "\n",
            "Test set: Average loss: 0.0017, Accuracy: 8640/10000 (86.40%)\n",
            "\n",
            "Epoch 77:\n"
          ],
          "name": "stdout"
        },
        {
          "output_type": "stream",
          "text": [
            "Loss=0.647671103477478 Batch_id=195 LR=0.00101 Accuracy=82.02: 100%|██████████| 196/196 [00:14<00:00, 13.92it/s]\n",
            "  0%|          | 0/196 [00:00<?, ?it/s]"
          ],
          "name": "stderr"
        },
        {
          "output_type": "stream",
          "text": [
            "\n",
            "Test set: Average loss: 0.0016, Accuracy: 8668/10000 (86.68%)\n",
            "\n",
            "Epoch 78:\n"
          ],
          "name": "stdout"
        },
        {
          "output_type": "stream",
          "text": [
            "Loss=0.4791182577610016 Batch_id=195 LR=0.00087 Accuracy=82.34: 100%|██████████| 196/196 [00:14<00:00, 13.77it/s]\n",
            "  0%|          | 0/196 [00:00<?, ?it/s]"
          ],
          "name": "stderr"
        },
        {
          "output_type": "stream",
          "text": [
            "\n",
            "Test set: Average loss: 0.0016, Accuracy: 8647/10000 (86.47%)\n",
            "\n",
            "Epoch 79:\n"
          ],
          "name": "stdout"
        },
        {
          "output_type": "stream",
          "text": [
            "Loss=0.3281199038028717 Batch_id=195 LR=0.00073 Accuracy=82.71: 100%|██████████| 196/196 [00:14<00:00, 13.86it/s]\n",
            "  0%|          | 0/196 [00:00<?, ?it/s]"
          ],
          "name": "stderr"
        },
        {
          "output_type": "stream",
          "text": [
            "\n",
            "Test set: Average loss: 0.0016, Accuracy: 8681/10000 (86.81%)\n",
            "\n",
            "Epoch 80:\n"
          ],
          "name": "stdout"
        },
        {
          "output_type": "stream",
          "text": [
            "Loss=0.7856395840644836 Batch_id=195 LR=0.00061 Accuracy=82.62: 100%|██████████| 196/196 [00:14<00:00, 13.07it/s]\n",
            "  0%|          | 0/196 [00:00<?, ?it/s]"
          ],
          "name": "stderr"
        },
        {
          "output_type": "stream",
          "text": [
            "\n",
            "Test set: Average loss: 0.0016, Accuracy: 8671/10000 (86.71%)\n",
            "\n",
            "Epoch 81:\n"
          ],
          "name": "stdout"
        },
        {
          "output_type": "stream",
          "text": [
            "Loss=0.5461487770080566 Batch_id=195 LR=0.00049 Accuracy=82.89: 100%|██████████| 196/196 [00:14<00:00, 13.43it/s]\n",
            "  0%|          | 0/196 [00:00<?, ?it/s]"
          ],
          "name": "stderr"
        },
        {
          "output_type": "stream",
          "text": [
            "\n",
            "Test set: Average loss: 0.0016, Accuracy: 8687/10000 (86.87%)\n",
            "\n",
            "Epoch 82:\n"
          ],
          "name": "stdout"
        },
        {
          "output_type": "stream",
          "text": [
            "Loss=0.49185818433761597 Batch_id=195 LR=0.00039 Accuracy=83.29: 100%|██████████| 196/196 [00:14<00:00, 13.33it/s]\n",
            "  0%|          | 0/196 [00:00<?, ?it/s]"
          ],
          "name": "stderr"
        },
        {
          "output_type": "stream",
          "text": [
            "\n",
            "Test set: Average loss: 0.0016, Accuracy: 8715/10000 (87.15%)\n",
            "\n",
            "Epoch 83:\n"
          ],
          "name": "stdout"
        },
        {
          "output_type": "stream",
          "text": [
            "Loss=0.48239773511886597 Batch_id=195 LR=0.00030 Accuracy=83.20: 100%|██████████| 196/196 [00:14<00:00, 13.82it/s]\n",
            "  0%|          | 0/196 [00:00<?, ?it/s]"
          ],
          "name": "stderr"
        },
        {
          "output_type": "stream",
          "text": [
            "\n",
            "Test set: Average loss: 0.0016, Accuracy: 8695/10000 (86.95%)\n",
            "\n",
            "Epoch 84:\n"
          ],
          "name": "stdout"
        },
        {
          "output_type": "stream",
          "text": [
            "Loss=0.5658267736434937 Batch_id=195 LR=0.00022 Accuracy=83.42: 100%|██████████| 196/196 [00:14<00:00, 13.91it/s]\n",
            "  0%|          | 0/196 [00:00<?, ?it/s]"
          ],
          "name": "stderr"
        },
        {
          "output_type": "stream",
          "text": [
            "\n",
            "Test set: Average loss: 0.0016, Accuracy: 8727/10000 (87.27%)\n",
            "\n",
            "Epoch 85:\n"
          ],
          "name": "stdout"
        },
        {
          "output_type": "stream",
          "text": [
            "Loss=0.3897304832935333 Batch_id=195 LR=0.00015 Accuracy=83.61: 100%|██████████| 196/196 [00:14<00:00, 13.82it/s]\n",
            "  0%|          | 0/196 [00:00<?, ?it/s]"
          ],
          "name": "stderr"
        },
        {
          "output_type": "stream",
          "text": [
            "\n",
            "Test set: Average loss: 0.0016, Accuracy: 8734/10000 (87.34%)\n",
            "\n",
            "Epoch 86:\n"
          ],
          "name": "stdout"
        },
        {
          "output_type": "stream",
          "text": [
            "Loss=0.5429454445838928 Batch_id=195 LR=0.00010 Accuracy=83.67: 100%|██████████| 196/196 [00:14<00:00, 13.45it/s]\n",
            "  0%|          | 0/196 [00:00<?, ?it/s]"
          ],
          "name": "stderr"
        },
        {
          "output_type": "stream",
          "text": [
            "\n",
            "Test set: Average loss: 0.0015, Accuracy: 8746/10000 (87.46%)\n",
            "\n",
            "Epoch 87:\n"
          ],
          "name": "stdout"
        },
        {
          "output_type": "stream",
          "text": [
            "Loss=0.39605605602264404 Batch_id=195 LR=0.00006 Accuracy=83.65: 100%|██████████| 196/196 [00:14<00:00, 13.82it/s]\n",
            "  0%|          | 0/196 [00:00<?, ?it/s]"
          ],
          "name": "stderr"
        },
        {
          "output_type": "stream",
          "text": [
            "\n",
            "Test set: Average loss: 0.0015, Accuracy: 8734/10000 (87.34%)\n",
            "\n",
            "Epoch 88:\n"
          ],
          "name": "stdout"
        },
        {
          "output_type": "stream",
          "text": [
            "Loss=0.5205503702163696 Batch_id=195 LR=0.00002 Accuracy=83.92: 100%|██████████| 196/196 [00:14<00:00, 13.48it/s]\n",
            "  0%|          | 0/196 [00:00<?, ?it/s]"
          ],
          "name": "stderr"
        },
        {
          "output_type": "stream",
          "text": [
            "\n",
            "Test set: Average loss: 0.0015, Accuracy: 8755/10000 (87.55%)\n",
            "\n",
            "Epoch 89:\n"
          ],
          "name": "stdout"
        },
        {
          "output_type": "stream",
          "text": [
            "Loss=0.4781967103481293 Batch_id=195 LR=0.00001 Accuracy=83.62: 100%|██████████| 196/196 [00:14<00:00, 13.73it/s]\n",
            "  0%|          | 0/196 [00:00<?, ?it/s]"
          ],
          "name": "stderr"
        },
        {
          "output_type": "stream",
          "text": [
            "\n",
            "Test set: Average loss: 0.0015, Accuracy: 8752/10000 (87.52%)\n",
            "\n",
            "Epoch 90:\n"
          ],
          "name": "stdout"
        },
        {
          "output_type": "stream",
          "text": [
            "Loss=0.4473210275173187 Batch_id=195 LR=0.00000 Accuracy=83.91: 100%|██████████| 196/196 [00:14<00:00, 13.37it/s]\n"
          ],
          "name": "stderr"
        },
        {
          "output_type": "stream",
          "text": [
            "\n",
            "Test set: Average loss: 0.0016, Accuracy: 8743/10000 (87.43%)\n",
            "\n",
            "Saving the model for cifar10_with_advancedconv\n"
          ],
          "name": "stdout"
        }
      ]
    },
    {
      "cell_type": "markdown",
      "metadata": {
        "id": "Lsa8XaxiHihh"
      },
      "source": [
        "## Model summary"
      ]
    },
    {
      "cell_type": "code",
      "metadata": {
        "id": "WXGt8bJG03f4",
        "colab": {
          "base_uri": "https://localhost:8080/"
        },
        "outputId": "fdb810ba-1121-4209-d211-d70e852471ef"
      },
      "source": [
        "trigger_training.model_summary(model,(3,32,32))"
      ],
      "execution_count": 7,
      "outputs": [
        {
          "output_type": "stream",
          "text": [
            "----------------------------------------------------------------\n",
            "        Layer (type)               Output Shape         Param #\n",
            "================================================================\n",
            "            Conv2d-1           [-1, 32, 32, 32]             864\n",
            "              ReLU-2           [-1, 32, 32, 32]               0\n",
            "       BatchNorm2d-3           [-1, 32, 32, 32]              64\n",
            "         Dropout2d-4           [-1, 32, 32, 32]               0\n",
            "            Conv2d-5           [-1, 64, 32, 32]          18,432\n",
            "              ReLU-6           [-1, 64, 32, 32]               0\n",
            "       BatchNorm2d-7           [-1, 64, 32, 32]             128\n",
            "         Dropout2d-8           [-1, 64, 32, 32]               0\n",
            "            Conv2d-9           [-1, 32, 16, 16]           2,080\n",
            "             ReLU-10           [-1, 32, 16, 16]               0\n",
            "           Conv2d-11           [-1, 32, 16, 16]           9,216\n",
            "             ReLU-12           [-1, 32, 16, 16]               0\n",
            "      BatchNorm2d-13           [-1, 32, 16, 16]              64\n",
            "        Dropout2d-14           [-1, 32, 16, 16]               0\n",
            "           Conv2d-15           [-1, 32, 16, 16]             288\n",
            "           Conv2d-16           [-1, 64, 18, 18]           2,048\n",
            "             ReLU-17           [-1, 64, 18, 18]               0\n",
            "      BatchNorm2d-18           [-1, 64, 18, 18]             128\n",
            "        Dropout2d-19           [-1, 64, 18, 18]               0\n",
            "           Conv2d-20             [-1, 32, 9, 9]           2,080\n",
            "             ReLU-21             [-1, 32, 9, 9]               0\n",
            "           Conv2d-22             [-1, 64, 7, 7]          18,432\n",
            "             ReLU-23             [-1, 64, 7, 7]               0\n",
            "      BatchNorm2d-24             [-1, 64, 7, 7]             128\n",
            "        Dropout2d-25             [-1, 64, 7, 7]               0\n",
            "           Conv2d-26             [-1, 64, 7, 7]          36,864\n",
            "             ReLU-27             [-1, 64, 7, 7]               0\n",
            "      BatchNorm2d-28             [-1, 64, 7, 7]             128\n",
            "        Dropout2d-29             [-1, 64, 7, 7]               0\n",
            "           Conv2d-30             [-1, 16, 4, 4]           1,040\n",
            "             ReLU-31             [-1, 16, 4, 4]               0\n",
            "           Conv2d-32             [-1, 32, 4, 4]           4,608\n",
            "             ReLU-33             [-1, 32, 4, 4]               0\n",
            "      BatchNorm2d-34             [-1, 32, 4, 4]              64\n",
            "        Dropout2d-35             [-1, 32, 4, 4]               0\n",
            "           Conv2d-36             [-1, 32, 4, 4]             288\n",
            "           Conv2d-37             [-1, 10, 6, 6]             320\n",
            "             ReLU-38             [-1, 10, 6, 6]               0\n",
            "      BatchNorm2d-39             [-1, 10, 6, 6]              20\n",
            "        Dropout2d-40             [-1, 10, 6, 6]               0\n",
            "AdaptiveAvgPool2d-41             [-1, 10, 1, 1]               0\n",
            "================================================================\n",
            "Total params: 97,284\n",
            "Trainable params: 97,284\n",
            "Non-trainable params: 0\n",
            "----------------------------------------------------------------\n",
            "Input size (MB): 0.01\n",
            "Forward/backward pass size (MB): 4.34\n",
            "Params size (MB): 0.37\n",
            "Estimated Total Size (MB): 4.72\n",
            "----------------------------------------------------------------\n",
            "None\n"
          ],
          "name": "stdout"
        }
      ]
    },
    {
      "cell_type": "markdown",
      "metadata": {
        "id": "fd1IPQi0Hl9f"
      },
      "source": [
        "## Missclassification"
      ]
    },
    {
      "cell_type": "code",
      "metadata": {
        "id": "uGDAEI9gFNte",
        "colab": {
          "base_uri": "https://localhost:8080/",
          "height": 486
        },
        "outputId": "82cdcbc3-5a50-4f9c-b774-e9a26d097284"
      },
      "source": [
        "model = torch.load(f'./saved_models/{experiment_name}.pt')\n",
        "model.eval()\n",
        "trigger_training.wrong_predictions(model)"
      ],
      "execution_count": 8,
      "outputs": [
        {
          "output_type": "stream",
          "text": [
            "Clipping input data to the valid range for imshow with RGB data ([0..1] for floats or [0..255] for integers).\n",
            "Clipping input data to the valid range for imshow with RGB data ([0..1] for floats or [0..255] for integers).\n",
            "Clipping input data to the valid range for imshow with RGB data ([0..1] for floats or [0..255] for integers).\n",
            "Clipping input data to the valid range for imshow with RGB data ([0..1] for floats or [0..255] for integers).\n",
            "Clipping input data to the valid range for imshow with RGB data ([0..1] for floats or [0..255] for integers).\n",
            "Clipping input data to the valid range for imshow with RGB data ([0..1] for floats or [0..255] for integers).\n",
            "Clipping input data to the valid range for imshow with RGB data ([0..1] for floats or [0..255] for integers).\n",
            "Clipping input data to the valid range for imshow with RGB data ([0..1] for floats or [0..255] for integers).\n",
            "Clipping input data to the valid range for imshow with RGB data ([0..1] for floats or [0..255] for integers).\n",
            "Clipping input data to the valid range for imshow with RGB data ([0..1] for floats or [0..255] for integers).\n"
          ],
          "name": "stderr"
        },
        {
          "output_type": "stream",
          "text": [
            "Total wrong predictions are 1257\n"
          ],
          "name": "stdout"
        },
        {
          "output_type": "display_data",
          "data": {
            "image/png": "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\n",
            "text/plain": [
              "<Figure size 720x864 with 10 Axes>"
            ]
          },
          "metadata": {
            "tags": [],
            "needs_background": "light"
          }
        }
      ]
    },
    {
      "cell_type": "markdown",
      "metadata": {
        "id": "RZa8t4JVKfQ5"
      },
      "source": [
        "## Plots for Validation Loss and Accuracy"
      ]
    },
    {
      "cell_type": "code",
      "metadata": {
        "colab": {
          "base_uri": "https://localhost:8080/",
          "height": 409
        },
        "id": "WTcJodJuJYrm",
        "outputId": "2bc1d18f-5ca7-4ed9-e849-167c85d1cb88"
      },
      "source": [
        "plot_metrics.plot_metrics(exp_metrics[experiment_name])"
      ],
      "execution_count": 9,
      "outputs": [
        {
          "output_type": "display_data",
          "data": {
            "image/png": "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\n",
            "text/plain": [
              "<Figure size 1800x432 with 2 Axes>"
            ]
          },
          "metadata": {
            "tags": []
          }
        }
      ]
    },
    {
      "cell_type": "markdown",
      "metadata": {
        "id": "FcfgX1RdKZea"
      },
      "source": [
        "## Accuracy for each class"
      ]
    },
    {
      "cell_type": "code",
      "metadata": {
        "colab": {
          "base_uri": "https://localhost:8080/"
        },
        "id": "4EZsmroOzkpB",
        "outputId": "c2d887b8-f872-4fb7-dd65-10eebf1b4829"
      },
      "source": [
        "helper.class_level_accuracy(model, cifar_dataset.test_loader, device, classes)"
      ],
      "execution_count": 10,
      "outputs": [
        {
          "output_type": "stream",
          "text": [
            "Accuracy of plane : 89 %\n",
            "Accuracy of   car : 95 %\n",
            "Accuracy of  bird : 81 %\n",
            "Accuracy of   cat : 70 %\n",
            "Accuracy of  deer : 86 %\n",
            "Accuracy of   dog : 79 %\n",
            "Accuracy of  frog : 92 %\n",
            "Accuracy of horse : 91 %\n",
            "Accuracy of  ship : 93 %\n",
            "Accuracy of truck : 94 %\n"
          ],
          "name": "stdout"
        }
      ]
    }
  ]
}
