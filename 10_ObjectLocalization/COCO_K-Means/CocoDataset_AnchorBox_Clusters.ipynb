{
  "nbformat": 4,
  "nbformat_minor": 0,
  "metadata": {
    "colab": {
      "name": "KMeans.ipynb",
      "provenance": [],
      "collapsed_sections": [],
      "include_colab_link": true
    },
    "kernelspec": {
      "display_name": "Python 3",
      "language": "python",
      "name": "python3"
    },
    "language_info": {
      "codemirror_mode": {
        "name": "ipython",
        "version": 3
      },
      "file_extension": ".py",
      "mimetype": "text/x-python",
      "name": "python",
      "nbconvert_exporter": "python",
      "pygments_lexer": "ipython3",
      "version": "3.6.5"
    }
  },
  "cells": [
    {
      "cell_type": "markdown",
      "metadata": {
        "id": "view-in-github",
        "colab_type": "text"
      },
      "source": [
        "<a href=\"https://colab.research.google.com/github/gkdivya/EVA/blob/main/10_ObjectLocalization/COCO_K-Means/CocoDataset_AnchorBox_Clusters.ipynb\" target=\"_parent\"><img src=\"https://colab.research.google.com/assets/colab-badge.svg\" alt=\"Open In Colab\"/></a>"
      ]
    },
    {
      "cell_type": "markdown",
      "metadata": {
        "id": "VUpmckBj6A9J"
      },
      "source": [
        "# COCO format\n",
        "\n",
        "\n",
        "\n",
        "\n",
        "\n",
        "\n",
        "\n",
        "# YOLO Anchor boxes\n",
        "\n",
        "\n",
        "\n",
        "\n",
        "\n",
        "\n",
        "\n",
        "# Intuition behind K-means clustering"
      ]
    },
    {
      "cell_type": "code",
      "metadata": {
        "colab": {
          "base_uri": "https://localhost:8080/"
        },
        "id": "PJ7A7Y1zRxc1",
        "outputId": "41383e37-3370-44b8-d926-03d1ff908f95"
      },
      "source": [
        "y!wget http://images.cocodataset.org/annotations/annotations_trainval2017.zip"
      ],
      "execution_count": 46,
      "outputs": [
        {
          "output_type": "stream",
          "text": [
            "--2021-07-15 06:42:39--  http://images.cocodataset.org/annotations/annotations_trainval2017.zip\n",
            "Resolving images.cocodataset.org (images.cocodataset.org)... 52.216.169.75\n",
            "Connecting to images.cocodataset.org (images.cocodataset.org)|52.216.169.75|:80... connected.\n",
            "HTTP request sent, awaiting response... 200 OK\n",
            "Length: 252907541 (241M) [application/zip]\n",
            "Saving to: ‘annotations_trainval2017.zip.1’\n",
            "\n",
            "annotations_trainva 100%[===================>] 241.19M  15.4MB/s    in 17s     \n",
            "\n",
            "2021-07-15 06:42:57 (13.8 MB/s) - ‘annotations_trainval2017.zip.1’ saved [252907541/252907541]\n",
            "\n"
          ],
          "name": "stdout"
        }
      ]
    },
    {
      "cell_type": "code",
      "metadata": {
        "colab": {
          "base_uri": "https://localhost:8080/"
        },
        "id": "8VCMsdKzzYlQ",
        "outputId": "82a5905e-f9a9-4c56-d7c0-bba31e385deb"
      },
      "source": [
        "!unzip 'annotations_trainval2017.zip'"
      ],
      "execution_count": 47,
      "outputs": [
        {
          "output_type": "stream",
          "text": [
            "Archive:  annotations_trainval2017.zip\n",
            "replace annotations/instances_train2017.json? [y]es, [n]o, [A]ll, [N]one, [r]ename: n\n",
            "replace annotations/instances_val2017.json? [y]es, [n]o, [A]ll, [N]one, [r]ename: n\n",
            "replace annotations/captions_train2017.json? [y]es, [n]o, [A]ll, [N]one, [r]ename: n\n",
            "replace annotations/captions_val2017.json? [y]es, [n]o, [A]ll, [N]one, [r]ename: n\n",
            "replace annotations/person_keypoints_train2017.json? [y]es, [n]o, [A]ll, [N]one, [r]ename: n\n",
            "replace annotations/person_keypoints_val2017.json? [y]es, [n]o, [A]ll, [N]one, [r]ename: n\n"
          ],
          "name": "stdout"
        }
      ]
    },
    {
      "cell_type": "code",
      "metadata": {
        "id": "cAz2fWfAa5Sd"
      },
      "source": [
        "import numpy as np\n",
        "import pandas as pd\n",
        "import json\n",
        "from matplotlib import pyplot as plt\n",
        "from sklearn.datasets.samples_generator import make_blobs\n",
        "from sklearn.cluster import KMeans"
      ],
      "execution_count": 49,
      "outputs": []
    },
    {
      "cell_type": "code",
      "metadata": {
        "id": "rvMrJS1r4iQZ"
      },
      "source": [
        "import torch\n",
        "import torch.nn as nn\n",
        "import torch.nn.functional as F\n",
        "import torch.optim as optim\n",
        "import torchvision\n",
        "import torchvision.transforms as transforms\n",
        "from torch.utils.data import Dataset, TensorDataset\n",
        "from torch.utils.data import DataLoader\n",
        "\n",
        "import matplotlib.pyplot as plt\n",
        "import numpy as np\n",
        "\n",
        "import random"
      ],
      "execution_count": 50,
      "outputs": []
    },
    {
      "cell_type": "code",
      "metadata": {
        "colab": {
          "base_uri": "https://localhost:8080/"
        },
        "id": "CLGVEbuhveqc",
        "outputId": "a85dde92-c392-419a-f9ef-4752d2c1b3a8"
      },
      "source": [
        "#Read COCO JSON File\n",
        "fptr = open('/content/annotations/instances_train2017.json')\n",
        "data = json.load(fptr)\n",
        "print(data.keys())"
      ],
      "execution_count": 51,
      "outputs": [
        {
          "output_type": "stream",
          "text": [
            "dict_keys(['info', 'licenses', 'images', 'annotations', 'categories'])\n"
          ],
          "name": "stdout"
        }
      ]
    },
    {
      "cell_type": "code",
      "metadata": {
        "id": "jQFKeSOqvf0R"
      },
      "source": [
        "#Extract Details\n",
        "images_df = pd.DataFrame(data['images'], columns = data['images'][0].keys())\n",
        "annotations_df = pd.DataFrame(data['annotations'], columns = data['annotations'][0].keys())"
      ],
      "execution_count": 52,
      "outputs": []
    },
    {
      "cell_type": "code",
      "metadata": {
        "colab": {
          "base_uri": "https://localhost:8080/",
          "height": 203
        },
        "id": "H6v72mkjwFj1",
        "outputId": "5ddb5b51-c1e2-4b1f-cb02-0c6a8fb9abce"
      },
      "source": [
        "images_df.head()"
      ],
      "execution_count": 53,
      "outputs": [
        {
          "output_type": "execute_result",
          "data": {
            "text/html": [
              "<div>\n",
              "<style scoped>\n",
              "    .dataframe tbody tr th:only-of-type {\n",
              "        vertical-align: middle;\n",
              "    }\n",
              "\n",
              "    .dataframe tbody tr th {\n",
              "        vertical-align: top;\n",
              "    }\n",
              "\n",
              "    .dataframe thead th {\n",
              "        text-align: right;\n",
              "    }\n",
              "</style>\n",
              "<table border=\"1\" class=\"dataframe\">\n",
              "  <thead>\n",
              "    <tr style=\"text-align: right;\">\n",
              "      <th></th>\n",
              "      <th>license</th>\n",
              "      <th>file_name</th>\n",
              "      <th>coco_url</th>\n",
              "      <th>height</th>\n",
              "      <th>width</th>\n",
              "      <th>date_captured</th>\n",
              "      <th>flickr_url</th>\n",
              "      <th>id</th>\n",
              "    </tr>\n",
              "  </thead>\n",
              "  <tbody>\n",
              "    <tr>\n",
              "      <th>0</th>\n",
              "      <td>3</td>\n",
              "      <td>000000391895.jpg</td>\n",
              "      <td>http://images.cocodataset.org/train2017/000000...</td>\n",
              "      <td>360</td>\n",
              "      <td>640</td>\n",
              "      <td>2013-11-14 11:18:45</td>\n",
              "      <td>http://farm9.staticflickr.com/8186/8119368305_...</td>\n",
              "      <td>391895</td>\n",
              "    </tr>\n",
              "    <tr>\n",
              "      <th>1</th>\n",
              "      <td>4</td>\n",
              "      <td>000000522418.jpg</td>\n",
              "      <td>http://images.cocodataset.org/train2017/000000...</td>\n",
              "      <td>480</td>\n",
              "      <td>640</td>\n",
              "      <td>2013-11-14 11:38:44</td>\n",
              "      <td>http://farm1.staticflickr.com/1/127244861_ab0c...</td>\n",
              "      <td>522418</td>\n",
              "    </tr>\n",
              "    <tr>\n",
              "      <th>2</th>\n",
              "      <td>3</td>\n",
              "      <td>000000184613.jpg</td>\n",
              "      <td>http://images.cocodataset.org/train2017/000000...</td>\n",
              "      <td>336</td>\n",
              "      <td>500</td>\n",
              "      <td>2013-11-14 12:36:29</td>\n",
              "      <td>http://farm3.staticflickr.com/2169/2118578392_...</td>\n",
              "      <td>184613</td>\n",
              "    </tr>\n",
              "    <tr>\n",
              "      <th>3</th>\n",
              "      <td>3</td>\n",
              "      <td>000000318219.jpg</td>\n",
              "      <td>http://images.cocodataset.org/train2017/000000...</td>\n",
              "      <td>640</td>\n",
              "      <td>556</td>\n",
              "      <td>2013-11-14 13:02:53</td>\n",
              "      <td>http://farm5.staticflickr.com/4125/5094763076_...</td>\n",
              "      <td>318219</td>\n",
              "    </tr>\n",
              "    <tr>\n",
              "      <th>4</th>\n",
              "      <td>3</td>\n",
              "      <td>000000554625.jpg</td>\n",
              "      <td>http://images.cocodataset.org/train2017/000000...</td>\n",
              "      <td>640</td>\n",
              "      <td>426</td>\n",
              "      <td>2013-11-14 16:03:19</td>\n",
              "      <td>http://farm5.staticflickr.com/4086/5094162993_...</td>\n",
              "      <td>554625</td>\n",
              "    </tr>\n",
              "  </tbody>\n",
              "</table>\n",
              "</div>"
            ],
            "text/plain": [
              "   license  ...      id\n",
              "0        3  ...  391895\n",
              "1        4  ...  522418\n",
              "2        3  ...  184613\n",
              "3        3  ...  318219\n",
              "4        3  ...  554625\n",
              "\n",
              "[5 rows x 8 columns]"
            ]
          },
          "metadata": {
            "tags": []
          },
          "execution_count": 53
        }
      ]
    },
    {
      "cell_type": "code",
      "metadata": {
        "colab": {
          "base_uri": "https://localhost:8080/",
          "height": 203
        },
        "id": "ZZLbCcyCwFd1",
        "outputId": "7eaae4c1-6984-4be9-af8f-4d3b807decd3"
      },
      "source": [
        "annotations_df.head()"
      ],
      "execution_count": 54,
      "outputs": [
        {
          "output_type": "execute_result",
          "data": {
            "text/html": [
              "<div>\n",
              "<style scoped>\n",
              "    .dataframe tbody tr th:only-of-type {\n",
              "        vertical-align: middle;\n",
              "    }\n",
              "\n",
              "    .dataframe tbody tr th {\n",
              "        vertical-align: top;\n",
              "    }\n",
              "\n",
              "    .dataframe thead th {\n",
              "        text-align: right;\n",
              "    }\n",
              "</style>\n",
              "<table border=\"1\" class=\"dataframe\">\n",
              "  <thead>\n",
              "    <tr style=\"text-align: right;\">\n",
              "      <th></th>\n",
              "      <th>segmentation</th>\n",
              "      <th>area</th>\n",
              "      <th>iscrowd</th>\n",
              "      <th>image_id</th>\n",
              "      <th>bbox</th>\n",
              "      <th>category_id</th>\n",
              "      <th>id</th>\n",
              "    </tr>\n",
              "  </thead>\n",
              "  <tbody>\n",
              "    <tr>\n",
              "      <th>0</th>\n",
              "      <td>[[239.97, 260.24, 222.04, 270.49, 199.84, 253....</td>\n",
              "      <td>2765.14865</td>\n",
              "      <td>0</td>\n",
              "      <td>558840</td>\n",
              "      <td>[199.84, 200.46, 77.71, 70.88]</td>\n",
              "      <td>58</td>\n",
              "      <td>156</td>\n",
              "    </tr>\n",
              "    <tr>\n",
              "      <th>1</th>\n",
              "      <td>[[247.71, 354.7, 253.49, 346.99, 276.63, 337.3...</td>\n",
              "      <td>1545.42130</td>\n",
              "      <td>0</td>\n",
              "      <td>200365</td>\n",
              "      <td>[234.22, 317.11, 149.39, 38.55]</td>\n",
              "      <td>58</td>\n",
              "      <td>509</td>\n",
              "    </tr>\n",
              "    <tr>\n",
              "      <th>2</th>\n",
              "      <td>[[274.58, 405.68, 298.32, 405.68, 302.45, 402....</td>\n",
              "      <td>5607.66135</td>\n",
              "      <td>0</td>\n",
              "      <td>200365</td>\n",
              "      <td>[239.48, 347.87, 160.0, 57.81]</td>\n",
              "      <td>58</td>\n",
              "      <td>603</td>\n",
              "    </tr>\n",
              "    <tr>\n",
              "      <th>3</th>\n",
              "      <td>[[296.65, 388.33, 296.65, 388.33, 297.68, 388....</td>\n",
              "      <td>0.00000</td>\n",
              "      <td>0</td>\n",
              "      <td>200365</td>\n",
              "      <td>[296.65, 388.33, 1.03, 0.0]</td>\n",
              "      <td>58</td>\n",
              "      <td>918</td>\n",
              "    </tr>\n",
              "    <tr>\n",
              "      <th>4</th>\n",
              "      <td>[[251.87, 356.13, 260.13, 343.74, 300.39, 335....</td>\n",
              "      <td>800.41325</td>\n",
              "      <td>0</td>\n",
              "      <td>200365</td>\n",
              "      <td>[251.87, 333.42, 125.94, 22.71]</td>\n",
              "      <td>58</td>\n",
              "      <td>1072</td>\n",
              "    </tr>\n",
              "  </tbody>\n",
              "</table>\n",
              "</div>"
            ],
            "text/plain": [
              "                                        segmentation  ...    id\n",
              "0  [[239.97, 260.24, 222.04, 270.49, 199.84, 253....  ...   156\n",
              "1  [[247.71, 354.7, 253.49, 346.99, 276.63, 337.3...  ...   509\n",
              "2  [[274.58, 405.68, 298.32, 405.68, 302.45, 402....  ...   603\n",
              "3  [[296.65, 388.33, 296.65, 388.33, 297.68, 388....  ...   918\n",
              "4  [[251.87, 356.13, 260.13, 343.74, 300.39, 335....  ...  1072\n",
              "\n",
              "[5 rows x 7 columns]"
            ]
          },
          "metadata": {
            "tags": []
          },
          "execution_count": 54
        }
      ]
    },
    {
      "cell_type": "code",
      "metadata": {
        "id": "W9L-5pvawZgi"
      },
      "source": [
        "#Extract the Box Dimensions\n",
        "annotation_map_df = pd.concat([images_df, annotations_df], 1)[['file_name', 'width', 'height', 'bbox']]\n",
        "x_list = []\n",
        "y_list = []\n",
        "w_list = []\n",
        "h_list = [] \n",
        "for row in range(annotation_map_df.shape[0]):\n",
        "  x = annotation_map_df['bbox'][row][0]\n",
        "  y = annotation_map_df['bbox'][row][1]\n",
        "  w = annotation_map_df['bbox'][row][2]\n",
        "  h = annotation_map_df['bbox'][row][3]\n",
        "  x_list.append(x)\n",
        "  y_list.append(y)\n",
        "  w_list.append(w)\n",
        "  h_list.append(h)\n",
        "box_df = pd.DataFrame(list(zip(x_list, y_list, w_list, h_list)), columns =['x', 'y', 'box_width', 'box_height'])\n",
        "annotation_map_df = pd.concat([annotation_map_df, box_df], 1)\n",
        "annotation_map_df = annotation_map_df.drop('bbox', axis =1)"
      ],
      "execution_count": 55,
      "outputs": []
    },
    {
      "cell_type": "code",
      "metadata": {
        "colab": {
          "base_uri": "https://localhost:8080/",
          "height": 203
        },
        "id": "M2-VLtMZwoqO",
        "outputId": "3141a744-c0bb-415d-97ab-40786318e168"
      },
      "source": [
        "annotation_map_df.head()"
      ],
      "execution_count": 56,
      "outputs": [
        {
          "output_type": "execute_result",
          "data": {
            "text/html": [
              "<div>\n",
              "<style scoped>\n",
              "    .dataframe tbody tr th:only-of-type {\n",
              "        vertical-align: middle;\n",
              "    }\n",
              "\n",
              "    .dataframe tbody tr th {\n",
              "        vertical-align: top;\n",
              "    }\n",
              "\n",
              "    .dataframe thead th {\n",
              "        text-align: right;\n",
              "    }\n",
              "</style>\n",
              "<table border=\"1\" class=\"dataframe\">\n",
              "  <thead>\n",
              "    <tr style=\"text-align: right;\">\n",
              "      <th></th>\n",
              "      <th>file_name</th>\n",
              "      <th>width</th>\n",
              "      <th>height</th>\n",
              "      <th>x</th>\n",
              "      <th>y</th>\n",
              "      <th>box_width</th>\n",
              "      <th>box_height</th>\n",
              "    </tr>\n",
              "  </thead>\n",
              "  <tbody>\n",
              "    <tr>\n",
              "      <th>0</th>\n",
              "      <td>000000391895.jpg</td>\n",
              "      <td>640.0</td>\n",
              "      <td>360.0</td>\n",
              "      <td>199.84</td>\n",
              "      <td>200.46</td>\n",
              "      <td>77.71</td>\n",
              "      <td>70.88</td>\n",
              "    </tr>\n",
              "    <tr>\n",
              "      <th>1</th>\n",
              "      <td>000000522418.jpg</td>\n",
              "      <td>640.0</td>\n",
              "      <td>480.0</td>\n",
              "      <td>234.22</td>\n",
              "      <td>317.11</td>\n",
              "      <td>149.39</td>\n",
              "      <td>38.55</td>\n",
              "    </tr>\n",
              "    <tr>\n",
              "      <th>2</th>\n",
              "      <td>000000184613.jpg</td>\n",
              "      <td>500.0</td>\n",
              "      <td>336.0</td>\n",
              "      <td>239.48</td>\n",
              "      <td>347.87</td>\n",
              "      <td>160.00</td>\n",
              "      <td>57.81</td>\n",
              "    </tr>\n",
              "    <tr>\n",
              "      <th>3</th>\n",
              "      <td>000000318219.jpg</td>\n",
              "      <td>556.0</td>\n",
              "      <td>640.0</td>\n",
              "      <td>296.65</td>\n",
              "      <td>388.33</td>\n",
              "      <td>1.03</td>\n",
              "      <td>0.00</td>\n",
              "    </tr>\n",
              "    <tr>\n",
              "      <th>4</th>\n",
              "      <td>000000554625.jpg</td>\n",
              "      <td>426.0</td>\n",
              "      <td>640.0</td>\n",
              "      <td>251.87</td>\n",
              "      <td>333.42</td>\n",
              "      <td>125.94</td>\n",
              "      <td>22.71</td>\n",
              "    </tr>\n",
              "  </tbody>\n",
              "</table>\n",
              "</div>"
            ],
            "text/plain": [
              "          file_name  width  height       x       y  box_width  box_height\n",
              "0  000000391895.jpg  640.0   360.0  199.84  200.46      77.71       70.88\n",
              "1  000000522418.jpg  640.0   480.0  234.22  317.11     149.39       38.55\n",
              "2  000000184613.jpg  500.0   336.0  239.48  347.87     160.00       57.81\n",
              "3  000000318219.jpg  556.0   640.0  296.65  388.33       1.03        0.00\n",
              "4  000000554625.jpg  426.0   640.0  251.87  333.42     125.94       22.71"
            ]
          },
          "metadata": {
            "tags": []
          },
          "execution_count": 56
        }
      ]
    },
    {
      "cell_type": "code",
      "metadata": {
        "id": "ofEdrLij3s44"
      },
      "source": [
        "#Normalize the Box Dimensions based on Image Height and Width\n",
        "annotation_map_df['x'] = annotation_map_df['x'] / annotation_map_df['width']\n",
        "annotation_map_df['y'] = annotation_map_df['y'] / annotation_map_df['height']\n",
        "annotation_map_df['box_width'] = annotation_map_df['box_width'] / annotation_map_df['width']\n",
        "annotation_map_df['box_height'] = annotation_map_df['box_height'] / annotation_map_df['height']"
      ],
      "execution_count": 57,
      "outputs": []
    },
    {
      "cell_type": "code",
      "metadata": {
        "colab": {
          "base_uri": "https://localhost:8080/",
          "height": 203
        },
        "id": "oaCsfBhk4XDb",
        "outputId": "9a57d0d6-4ec7-4509-8a84-3f7cff82dc17"
      },
      "source": [
        "annotation_map_df.head()"
      ],
      "execution_count": 58,
      "outputs": [
        {
          "output_type": "execute_result",
          "data": {
            "text/html": [
              "<div>\n",
              "<style scoped>\n",
              "    .dataframe tbody tr th:only-of-type {\n",
              "        vertical-align: middle;\n",
              "    }\n",
              "\n",
              "    .dataframe tbody tr th {\n",
              "        vertical-align: top;\n",
              "    }\n",
              "\n",
              "    .dataframe thead th {\n",
              "        text-align: right;\n",
              "    }\n",
              "</style>\n",
              "<table border=\"1\" class=\"dataframe\">\n",
              "  <thead>\n",
              "    <tr style=\"text-align: right;\">\n",
              "      <th></th>\n",
              "      <th>file_name</th>\n",
              "      <th>width</th>\n",
              "      <th>height</th>\n",
              "      <th>x</th>\n",
              "      <th>y</th>\n",
              "      <th>box_width</th>\n",
              "      <th>box_height</th>\n",
              "    </tr>\n",
              "  </thead>\n",
              "  <tbody>\n",
              "    <tr>\n",
              "      <th>0</th>\n",
              "      <td>000000391895.jpg</td>\n",
              "      <td>640.0</td>\n",
              "      <td>360.0</td>\n",
              "      <td>0.312250</td>\n",
              "      <td>0.556833</td>\n",
              "      <td>0.121422</td>\n",
              "      <td>0.196889</td>\n",
              "    </tr>\n",
              "    <tr>\n",
              "      <th>1</th>\n",
              "      <td>000000522418.jpg</td>\n",
              "      <td>640.0</td>\n",
              "      <td>480.0</td>\n",
              "      <td>0.365969</td>\n",
              "      <td>0.660646</td>\n",
              "      <td>0.233422</td>\n",
              "      <td>0.080312</td>\n",
              "    </tr>\n",
              "    <tr>\n",
              "      <th>2</th>\n",
              "      <td>000000184613.jpg</td>\n",
              "      <td>500.0</td>\n",
              "      <td>336.0</td>\n",
              "      <td>0.478960</td>\n",
              "      <td>1.035327</td>\n",
              "      <td>0.320000</td>\n",
              "      <td>0.172054</td>\n",
              "    </tr>\n",
              "    <tr>\n",
              "      <th>3</th>\n",
              "      <td>000000318219.jpg</td>\n",
              "      <td>556.0</td>\n",
              "      <td>640.0</td>\n",
              "      <td>0.533543</td>\n",
              "      <td>0.606766</td>\n",
              "      <td>0.001853</td>\n",
              "      <td>0.000000</td>\n",
              "    </tr>\n",
              "    <tr>\n",
              "      <th>4</th>\n",
              "      <td>000000554625.jpg</td>\n",
              "      <td>426.0</td>\n",
              "      <td>640.0</td>\n",
              "      <td>0.591244</td>\n",
              "      <td>0.520969</td>\n",
              "      <td>0.295634</td>\n",
              "      <td>0.035484</td>\n",
              "    </tr>\n",
              "  </tbody>\n",
              "</table>\n",
              "</div>"
            ],
            "text/plain": [
              "          file_name  width  height         x         y  box_width  box_height\n",
              "0  000000391895.jpg  640.0   360.0  0.312250  0.556833   0.121422    0.196889\n",
              "1  000000522418.jpg  640.0   480.0  0.365969  0.660646   0.233422    0.080312\n",
              "2  000000184613.jpg  500.0   336.0  0.478960  1.035327   0.320000    0.172054\n",
              "3  000000318219.jpg  556.0   640.0  0.533543  0.606766   0.001853    0.000000\n",
              "4  000000554625.jpg  426.0   640.0  0.591244  0.520969   0.295634    0.035484"
            ]
          },
          "metadata": {
            "tags": []
          },
          "execution_count": 58
        }
      ]
    },
    {
      "cell_type": "code",
      "metadata": {
        "id": "RTycPP8Y2uSR"
      },
      "source": [
        "annotation_map_df = annotation_map_df.dropna() "
      ],
      "execution_count": 59,
      "outputs": []
    },
    {
      "cell_type": "code",
      "metadata": {
        "colab": {
          "base_uri": "https://localhost:8080/"
        },
        "id": "6KocvHgt4qjX",
        "outputId": "41f44dbd-3d03-47a9-8069-267a64528bd8"
      },
      "source": [
        "annotation_map_df.isnull().any()"
      ],
      "execution_count": 60,
      "outputs": [
        {
          "output_type": "execute_result",
          "data": {
            "text/plain": [
              "file_name     False\n",
              "width         False\n",
              "height        False\n",
              "x             False\n",
              "y             False\n",
              "box_width     False\n",
              "box_height    False\n",
              "dtype: bool"
            ]
          },
          "metadata": {
            "tags": []
          },
          "execution_count": 60
        }
      ]
    },
    {
      "cell_type": "code",
      "metadata": {
        "id": "2qNVEgxJ5tK8"
      },
      "source": [
        "hw_array = annotation_map_df[[\"box_width\", \"box_height\"]].to_numpy()"
      ],
      "execution_count": 61,
      "outputs": []
    },
    {
      "cell_type": "code",
      "metadata": {
        "colab": {
          "base_uri": "https://localhost:8080/"
        },
        "id": "qxoqLwsr5xzk",
        "outputId": "cb002e78-6e0b-4a7d-a64c-3d470fd355fe"
      },
      "source": [
        "hw_array.shape"
      ],
      "execution_count": 62,
      "outputs": [
        {
          "output_type": "execute_result",
          "data": {
            "text/plain": [
              "(118287, 2)"
            ]
          },
          "metadata": {
            "tags": []
          },
          "execution_count": 62
        }
      ]
    },
    {
      "cell_type": "code",
      "metadata": {
        "colab": {
          "base_uri": "https://localhost:8080/",
          "height": 282
        },
        "id": "tAn-PzQs57M8",
        "outputId": "7421779f-f389-4c6d-be92-8fc39b8ec399"
      },
      "source": [
        "plt.scatter(hw_array[:,0], hw_array[:,1])"
      ],
      "execution_count": 63,
      "outputs": [
        {
          "output_type": "execute_result",
          "data": {
            "text/plain": [
              "<matplotlib.collections.PathCollection at 0x7ff28a1e1290>"
            ]
          },
          "metadata": {
            "tags": []
          },
          "execution_count": 63
        },
        {
          "output_type": "display_data",
          "data": {
            "image/png": "[encoded data removed]",
            "text/plain": [
              "<Figure size 432x288 with 1 Axes>"
            ]
          },
          "metadata": {
            "tags": [],
            "needs_background": "light"
          }
        }
      ]
    },
    {
      "cell_type": "code",
      "metadata": {
        "colab": {
          "base_uri": "https://localhost:8080/"
        },
        "id": "ja3XTI1e2aG3",
        "outputId": "765b548b-4564-4e21-be39-73b9879a441c"
      },
      "source": [
        "np.any(np.isnan(hw_array))"
      ],
      "execution_count": 64,
      "outputs": [
        {
          "output_type": "execute_result",
          "data": {
            "text/plain": [
              "False"
            ]
          },
          "metadata": {
            "tags": []
          },
          "execution_count": 64
        }
      ]
    },
    {
      "cell_type": "code",
      "metadata": {
        "colab": {
          "base_uri": "https://localhost:8080/",
          "height": 295
        },
        "id": "SK_3xABC6DC_",
        "outputId": "25598958-6713-42ba-c3b8-f75733b6d708"
      },
      "source": [
        "#Elbow Method\n",
        "wcss = []\n",
        "for i in range(1, 11):\n",
        "    kmeans = KMeans(n_clusters=i, init='k-means++', max_iter=300, n_init=10, random_state=0)\n",
        "    kmeans.fit(hw_array)\n",
        "    wcss.append(kmeans.inertia_)\n",
        "plt.plot(range(1, 11), wcss)\n",
        "plt.title('Elbow Method')\n",
        "plt.xlabel('Number of clusters')\n",
        "plt.ylabel('WCSS')\n",
        "plt.show()"
      ],
      "execution_count": 65,
      "outputs": [
        {
          "output_type": "display_data",
          "data": {
            "image/png": "[encoded data removed]",
            "text/plain": [
              "<Figure size 432x288 with 1 Axes>"
            ]
          },
          "metadata": {
            "tags": [],
            "needs_background": "light"
          }
        }
      ]
    },
    {
      "cell_type": "code",
      "metadata": {
        "colab": {
          "base_uri": "https://localhost:8080/",
          "height": 265
        },
        "id": "hQY6lMzu7HzB",
        "outputId": "9344eb71-6790-4105-949e-e8bc12153689"
      },
      "source": [
        "#Determine the optimal number of clusters\n",
        "kmeans = KMeans(n_clusters=5, init='k-means++', max_iter=300, n_init=10, random_state=0)\n",
        "pred_y = kmeans.fit_predict(hw_array)\n",
        "plt.scatter(hw_array[:,0], hw_array[:,1])\n",
        "plt.scatter(kmeans.cluster_centers_[:, 0], kmeans.cluster_centers_[:, 1], s=300, c='red')\n",
        "plt.show()"
      ],
      "execution_count": 66,
      "outputs": [
        {
          "output_type": "display_data",
          "data": {
            "image/png": "[encoded data removed]",
            "text/plain": [
              "<Figure size 432x288 with 1 Axes>"
            ]
          },
          "metadata": {
            "tags": [],
            "needs_background": "light"
          }
        }
      ]
    },
    {
      "cell_type": "code",
      "metadata": {
        "id": "wUTEBbCF5AMn"
      },
      "source": [
        ""
      ],
      "execution_count": 66,
      "outputs": []
    }
  ]
}