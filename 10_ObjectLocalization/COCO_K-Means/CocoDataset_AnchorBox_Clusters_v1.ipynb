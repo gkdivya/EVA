{
  "nbformat": 4,
  "nbformat_minor": 0,
  "metadata": {
    "colab": {
      "name": "CocoDataset_AnchorBox_Clusters_v1.ipynb",
      "provenance": [],
      "collapsed_sections": [],
      "include_colab_link": true
    },
    "kernelspec": {
      "display_name": "Python 3",
      "language": "python",
      "name": "python3"
    },
    "language_info": {
      "codemirror_mode": {
        "name": "ipython",
        "version": 3
      },
      "file_extension": ".py",
      "mimetype": "text/x-python",
      "name": "python",
      "nbconvert_exporter": "python",
      "pygments_lexer": "ipython3",
      "version": "3.6.5"
    }
  },
  "cells": [
    {
      "cell_type": "markdown",
      "metadata": {
        "id": "view-in-github",
        "colab_type": "text"
      },
      "source": [
        "<a href=\"https://colab.research.google.com/github/gkdivya/EVA/blob/main/10_ObjectLocalization/COCO_K-Means/CocoDataset_AnchorBox_Clusters_v1.ipynb\" target=\"_parent\"><img src=\"https://colab.research.google.com/assets/colab-badge.svg\" alt=\"Open In Colab\"/></a>"
      ]
    },
    {
      "cell_type": "markdown",
      "metadata": {
        "id": "VUpmckBj6A9J"
      },
      "source": [
        "# COCO format\n",
        "\n",
        "\n",
        "\n",
        "\n",
        "\n",
        "\n",
        "\n",
        "# YOLO Anchor boxes\n",
        "\n",
        "\n",
        "\n",
        "\n",
        "\n",
        "\n",
        "\n",
        "# Intuition behind K-means clustering"
      ]
    },
    {
      "cell_type": "code",
      "metadata": {
        "id": "cAz2fWfAa5Sd",
        "colab": {
          "base_uri": "https://localhost:8080/"
        },
        "outputId": "ad70d20e-c008-4d2a-c67d-af5f3b61aa9c"
      },
      "source": [
        "import numpy as np\n",
        "import pandas as pd\n",
        "import json\n",
        "from matplotlib import pyplot as plt\n",
        "from sklearn.datasets.samples_generator import make_blobs\n",
        "from sklearn.cluster import KMeans"
      ],
      "execution_count": 2,
      "outputs": [
        {
          "output_type": "stream",
          "text": [
            "/usr/local/lib/python3.7/dist-packages/sklearn/utils/deprecation.py:144: FutureWarning: The sklearn.datasets.samples_generator module is  deprecated in version 0.22 and will be removed in version 0.24. The corresponding classes / functions should instead be imported from sklearn.datasets. Anything that cannot be imported from sklearn.datasets is now part of the private API.\n",
            "  warnings.warn(message, FutureWarning)\n"
          ],
          "name": "stderr"
        }
      ]
    },
    {
      "cell_type": "code",
      "metadata": {
        "id": "rvMrJS1r4iQZ"
      },
      "source": [
        "import torch\n",
        "import torch.nn as nn\n",
        "import torch.nn.functional as F\n",
        "import torch.optim as optim\n",
        "import torchvision\n",
        "import torchvision.transforms as transforms\n",
        "from torch.utils.data import Dataset, TensorDataset\n",
        "from torch.utils.data import DataLoader\n",
        "\n",
        "import matplotlib.pyplot as plt\n",
        "import numpy as np\n",
        "\n",
        "import random"
      ],
      "execution_count": 3,
      "outputs": []
    },
    {
      "cell_type": "code",
      "metadata": {
        "colab": {
          "base_uri": "https://localhost:8080/"
        },
        "id": "PJ7A7Y1zRxc1",
        "outputId": "d47d6c86-31af-4f8c-fd61-5013e1c2f233"
      },
      "source": [
        "!wget http://images.cocodataset.org/annotations/annotations_trainval2017.zip"
      ],
      "execution_count": 4,
      "outputs": [
        {
          "output_type": "stream",
          "text": [
            "--2021-07-21 11:29:50--  http://images.cocodataset.org/annotations/annotations_trainval2017.zip\n",
            "Resolving images.cocodataset.org (images.cocodataset.org)... 52.217.204.217\n",
            "Connecting to images.cocodataset.org (images.cocodataset.org)|52.217.204.217|:80... connected.\n",
            "HTTP request sent, awaiting response... 200 OK\n",
            "Length: 252907541 (241M) [application/zip]\n",
            "Saving to: ‘annotations_trainval2017.zip’\n",
            "\n",
            "annotations_trainva 100%[===================>] 241.19M  93.0MB/s    in 2.6s    \n",
            "\n",
            "2021-07-21 11:29:53 (93.0 MB/s) - ‘annotations_trainval2017.zip’ saved [252907541/252907541]\n",
            "\n"
          ],
          "name": "stdout"
        }
      ]
    },
    {
      "cell_type": "code",
      "metadata": {
        "colab": {
          "base_uri": "https://localhost:8080/"
        },
        "id": "8VCMsdKzzYlQ",
        "outputId": "6c98ee71-6e77-4fe5-8196-8dd8d652568b"
      },
      "source": [
        "!unzip 'annotations_trainval2017.zip'"
      ],
      "execution_count": 5,
      "outputs": [
        {
          "output_type": "stream",
          "text": [
            "Archive:  annotations_trainval2017.zip\n",
            "  inflating: annotations/instances_train2017.json  \n",
            "  inflating: annotations/instances_val2017.json  \n",
            "  inflating: annotations/captions_train2017.json  \n",
            "  inflating: annotations/captions_val2017.json  \n",
            "  inflating: annotations/person_keypoints_train2017.json  \n",
            "  inflating: annotations/person_keypoints_val2017.json  \n"
          ],
          "name": "stdout"
        }
      ]
    },
    {
      "cell_type": "code",
      "metadata": {
        "colab": {
          "base_uri": "https://localhost:8080/"
        },
        "id": "CLGVEbuhveqc",
        "outputId": "926d5c5d-d805-48c7-b352-ec416c3fb988"
      },
      "source": [
        "#Read COCO JSON File\n",
        "fptr = open('/content/annotations/instances_train2017.json')\n",
        "data = json.load(fptr)\n",
        "print(data.keys())"
      ],
      "execution_count": 6,
      "outputs": [
        {
          "output_type": "stream",
          "text": [
            "dict_keys(['info', 'licenses', 'images', 'annotations', 'categories'])\n"
          ],
          "name": "stdout"
        }
      ]
    },
    {
      "cell_type": "code",
      "metadata": {
        "colab": {
          "base_uri": "https://localhost:8080/"
        },
        "id": "lU_ucgps9tpM",
        "outputId": "880e307c-b938-491e-f7d3-d605e9315d17"
      },
      "source": [
        "n_images = len(data['images'])\n",
        "n_boxes = len(data['annotations'])\n",
        "n_categ = len(data['categories'])\n",
        "\n",
        "# height, width\n",
        "heights = [x['height'] for x in data['images']]\n",
        "widths = [x['width'] for x in data['images']]\n",
        "\n",
        "\n",
        "print('Number of images: ',n_images)\n",
        "print('Number of bounding boxes: ', n_boxes)\n",
        "print('Number of classes: ', n_categ)\n",
        "print('Max min avg height: ', max(heights), min(heights), int(sum(heights)/len(heights)))\n",
        "print('Max min avg width: ', max(widths), min(widths), int(sum(widths)/len(widths)))"
      ],
      "execution_count": 7,
      "outputs": [
        {
          "output_type": "stream",
          "text": [
            "Number of images:  118287\n",
            "Number of bounding boxes:  860001\n",
            "Number of classes:  80\n",
            "Max min avg height:  640 51 484\n",
            "Max min avg width:  640 59 577\n"
          ],
          "name": "stdout"
        }
      ]
    },
    {
      "cell_type": "code",
      "metadata": {
        "id": "fTvX6aFm-LpU"
      },
      "source": [
        "# Objects per image distribution\n",
        "\n",
        "img2nboxes = {} # mapping \"image id\" to \"number of boxes\"\n",
        "\n",
        "for ann in data['annotations']:\n",
        "    img_id = ann['image_id']\n",
        "    \n",
        "    if img_id in img2nboxes.keys():\n",
        "        img2nboxes[img_id] += 1\n",
        "    else:\n",
        "        img2nboxes[img_id] = 1\n",
        "\n",
        "nboxes_list = list(img2nboxes.values())\n",
        "\n",
        "min_nboxes = min(nboxes_list)\n",
        "max_nboxes = max(nboxes_list)\n",
        "avg_nboxes = int(sum(nboxes_list)/len(nboxes_list))"
      ],
      "execution_count": 8,
      "outputs": []
    },
    {
      "cell_type": "code",
      "metadata": {
        "colab": {
          "base_uri": "https://localhost:8080/",
          "height": 418
        },
        "id": "NwOhjEFf-UBJ",
        "outputId": "ff8c9d7b-7138-46fe-ecfe-886f7e307d05"
      },
      "source": [
        "out = pd.cut(nboxes_list, bins=np.arange(0,max_nboxes+10,10), include_lowest=True)\n",
        "\n",
        "counts = out.value_counts().values\n",
        "labels = [(int(i.left),int(i.right)) for i in out.value_counts().index.categories]\n",
        "\n",
        "graph_xind = [i[0] for i in labels] \n",
        "ticks = [ '('+str(i[0])+','+ str(i[1])+')' for i in labels]\n",
        "\n",
        "plt.figure(figsize=(10,5))\n",
        "plt.bar(graph_xind, counts, tick_label=ticks, width=5)\n",
        "plt.xlabel('Number of objects')\n",
        "plt.ylabel('Number of images')\n",
        "plt.title('Number of objects distribution over the dataset')\n",
        "plt.show()\n",
        "\n",
        "print(\"Number of images having atleast one box: \", len(nboxes_list))\n",
        "print(\"Min number of boxes per image: \", min_nboxes)\n",
        "print(\"Max number of boxes per image: \", max_nboxes)\n",
        "print(\"Avg number of boxes per image: \", avg_nboxes)"
      ],
      "execution_count": 9,
      "outputs": [
        {
          "output_type": "display_data",
          "data": {
            "image/png": "[encoded data removed]",
            "text/plain": [
              "<Figure size 720x360 with 1 Axes>"
            ]
          },
          "metadata": {
            "tags": [],
            "needs_background": "light"
          }
        },
        {
          "output_type": "stream",
          "text": [
            "Number of images having atleast one box:  117266\n",
            "Min number of boxes per image:  1\n",
            "Max number of boxes per image:  93\n",
            "Avg number of boxes per image:  7\n"
          ],
          "name": "stdout"
        }
      ]
    },
    {
      "cell_type": "markdown",
      "metadata": {
        "id": "EVC8Hzq21cEd"
      },
      "source": [
        "## Map Class names to Category ids"
      ]
    },
    {
      "cell_type": "code",
      "metadata": {
        "id": "cjFEETk-d2Us"
      },
      "source": [
        "categ_map = {}\n",
        "for cat in data['categories']:\n",
        "  cat_id = cat['id']\n",
        "  cat_name = cat['name']\n",
        "\n",
        "  categ_map[cat_id] = cat_name\n",
        "  "
      ],
      "execution_count": 10,
      "outputs": []
    },
    {
      "cell_type": "code",
      "metadata": {
        "colab": {
          "base_uri": "https://localhost:8080/",
          "height": 399
        },
        "id": "nzxROBka-dvk",
        "outputId": "289e9e4f-a298-4c71-8e55-83e0ff8788df"
      },
      "source": [
        "# Class distribution\n",
        "class2nboxes = {} \n",
        "\n",
        "for ann in data['annotations']:\n",
        "    cat_id = ann['category_id']\n",
        "    cat_name = categ_map[cat_id]\n",
        "    \n",
        "    if cat_name in class2nboxes.keys():\n",
        "        class2nboxes[cat_name] += 1\n",
        "    else:\n",
        "        class2nboxes[cat_name] = 1\n",
        "\n",
        "sorted_c2nb = [(k,v)for k, v in sorted(class2nboxes.items(), reverse=True, key=lambda item: item[1])]\n",
        "\n",
        "# top 20 classes\n",
        "top = min(len(sorted_c2nb),20)\n",
        "\n",
        "# to plot\n",
        "y = [i[1] for i in sorted_c2nb[:top]]\n",
        "x = [i[0] for i in sorted_c2nb[:top]]\n",
        "\n",
        "plt.figure(figsize=(10,5))\n",
        "plt.bar(np.arange(len(y)),y, width=0.5,tick_label=x,color='orange')\n",
        "plt.xticks(rotation=90) \n",
        "plt.xlim(-0.5,len(y))\n",
        "plt.xlabel('Category')\n",
        "plt.ylabel('Number of boxes')\n",
        "plt.title('Class distribution (decreasing order)')\n",
        "plt.show()"
      ],
      "execution_count": 12,
      "outputs": [
        {
          "output_type": "display_data",
          "data": {
            "image/png": "[encoded data removed]",
            "text/plain": [
              "<Figure size 720x360 with 1 Axes>"
            ]
          },
          "metadata": {
            "tags": [],
            "needs_background": "light"
          }
        }
      ]
    },
    {
      "cell_type": "code",
      "metadata": {
        "id": "qHjN_th-DnsI",
        "colab": {
          "base_uri": "https://localhost:8080/",
          "height": 204
        },
        "outputId": "74b5484b-424e-4a94-c59b-dfd989397f03"
      },
      "source": [
        "class_data = []\n",
        "for k in categ_map.keys():\n",
        "  class_data.append([k, categ_map[k]])\n",
        "\n",
        "coco_class_df = pd.DataFrame(class_data, columns=[\"class_id\", \"class_name\"])\n",
        "coco_class_df.head()"
      ],
      "execution_count": 16,
      "outputs": [
        {
          "output_type": "execute_result",
          "data": {
            "text/html": [
              "<div>\n",
              "<style scoped>\n",
              "    .dataframe tbody tr th:only-of-type {\n",
              "        vertical-align: middle;\n",
              "    }\n",
              "\n",
              "    .dataframe tbody tr th {\n",
              "        vertical-align: top;\n",
              "    }\n",
              "\n",
              "    .dataframe thead th {\n",
              "        text-align: right;\n",
              "    }\n",
              "</style>\n",
              "<table border=\"1\" class=\"dataframe\">\n",
              "  <thead>\n",
              "    <tr style=\"text-align: right;\">\n",
              "      <th></th>\n",
              "      <th>class_id</th>\n",
              "      <th>class_name</th>\n",
              "    </tr>\n",
              "  </thead>\n",
              "  <tbody>\n",
              "    <tr>\n",
              "      <th>0</th>\n",
              "      <td>1</td>\n",
              "      <td>person</td>\n",
              "    </tr>\n",
              "    <tr>\n",
              "      <th>1</th>\n",
              "      <td>2</td>\n",
              "      <td>bicycle</td>\n",
              "    </tr>\n",
              "    <tr>\n",
              "      <th>2</th>\n",
              "      <td>3</td>\n",
              "      <td>car</td>\n",
              "    </tr>\n",
              "    <tr>\n",
              "      <th>3</th>\n",
              "      <td>4</td>\n",
              "      <td>motorcycle</td>\n",
              "    </tr>\n",
              "    <tr>\n",
              "      <th>4</th>\n",
              "      <td>5</td>\n",
              "      <td>airplane</td>\n",
              "    </tr>\n",
              "  </tbody>\n",
              "</table>\n",
              "</div>"
            ],
            "text/plain": [
              "   class_id  class_name\n",
              "0         1      person\n",
              "1         2     bicycle\n",
              "2         3         car\n",
              "3         4  motorcycle\n",
              "4         5    airplane"
            ]
          },
          "metadata": {
            "tags": []
          },
          "execution_count": 16
        }
      ]
    },
    {
      "cell_type": "markdown",
      "metadata": {
        "id": "gOjIh4Q--x1n"
      },
      "source": [
        "# Class wise bounding box distribution"
      ]
    },
    {
      "cell_type": "code",
      "metadata": {
        "id": "_eDiRXb5-3Uf"
      },
      "source": [
        "# Class wise bounding box area distribution\n",
        "\n",
        "bbox_areas = {} # key: class index, value -> a list of bounding box areas\n",
        "\n",
        "for ann in data['annotations']:\n",
        "    area = ann['area']\n",
        "    cat_id = ann['category_id']\n",
        "    cat_name = categ_map[cat_id]\n",
        "    if area <= 0.0:\n",
        "        continue\n",
        "    \n",
        "    if cat_name in bbox_areas.keys():\n",
        "        bbox_areas[cat_name].append(area)\n",
        "    else:\n",
        "        bbox_areas[cat_name] = [area]\n",
        "\n",
        "\n",
        "bbox_avg_areas = []\n",
        "\n",
        "for cat in bbox_areas.keys():\n",
        "    areas = bbox_areas[cat]\n",
        "    avg_area = int(sum(areas)/len(areas))\n",
        "    \n",
        "    bbox_avg_areas.append((cat,avg_area))\n",
        "\n",
        "bbox_avg_areas = sorted(bbox_avg_areas, key = lambda x: x[1])"
      ],
      "execution_count": 17,
      "outputs": []
    },
    {
      "cell_type": "code",
      "metadata": {
        "colab": {
          "base_uri": "https://localhost:8080/",
          "height": 823
        },
        "id": "cJ1XLd7W-9KK",
        "outputId": "b62fc4c1-8546-43f9-b9bb-a3e4b660d304"
      },
      "source": [
        "top = min(10, len(bbox_avg_areas))\n",
        "\n",
        "plt.figure(figsize=(10,10))\n",
        "\n",
        "y = [item[1] for item in bbox_avg_areas[-top:]]\n",
        "x = [item[0] for item in bbox_avg_areas[-top:]]\n",
        "\n",
        "y2 = [item[1] for item in bbox_avg_areas[:top]]\n",
        "x2 = [item[0] for item in bbox_avg_areas[:top]]\n",
        "\n",
        "plt.subplot(211)\n",
        "plt.bar(np.arange(len(y)),y, width=0.5,tick_label=x,color='green')\n",
        "plt.xlim(-0.5,len(y))\n",
        "plt.xticks(rotation=90) \n",
        "plt.ylabel('Average bounding box area in pixel squared')\n",
        "plt.title('Top '+str(top)+' Classes with highest avg bounding box size')\n",
        "plt.tight_layout()\n",
        "\n",
        "\n",
        "plt.subplot(212)\n",
        "plt.bar(np.arange(len(y2)),y2, width=0.5,tick_label=x2,color='red')\n",
        "plt.xlim(-0.5,len(y2))\n",
        "plt.xlabel('Category')\n",
        "plt.xticks(rotation=90) \n",
        "plt.ylabel('Average bounding box area in pixel squared')\n",
        "plt.title('Top '+str(top)+' Classes with lowest avg bounding box size')\n",
        "plt.show()"
      ],
      "execution_count": 18,
      "outputs": [
        {
          "output_type": "display_data",
          "data": {
            "image/png": "[encoded data removed]",
            "text/plain": [
              "<Figure size 720x720 with 2 Axes>"
            ]
          },
          "metadata": {
            "tags": [],
            "needs_background": "light"
          }
        }
      ]
    },
    {
      "cell_type": "markdown",
      "metadata": {
        "id": "ZvWeYwE__TTS"
      },
      "source": [
        "# K-Means Clustering"
      ]
    },
    {
      "cell_type": "code",
      "metadata": {
        "id": "jQFKeSOqvf0R"
      },
      "source": [
        "#Extract Details\n",
        "images_df = pd.DataFrame(data['images'], columns = data['images'][0].keys())\n",
        "annotations_df = pd.DataFrame(data['annotations'], columns = data['annotations'][0].keys())"
      ],
      "execution_count": 19,
      "outputs": []
    },
    {
      "cell_type": "code",
      "metadata": {
        "id": "W9L-5pvawZgi"
      },
      "source": [
        "\n",
        "# annotation_map_df = pd.concat([images_df, annotations_df], 1)[['file_name', 'width', 'height', 'bbox']]\n",
        "# x_list = []\n",
        "# y_list = []\n",
        "# w_list = []\n",
        "# h_list = [] \n",
        "# for row in range(annotation_map_df.shape[0]):\n",
        "#   x = annotation_map_df['bbox'][row][0]\n",
        "#   y = annotation_map_df['bbox'][row][1]\n",
        "#   w = annotation_map_df['bbox'][row][2]\n",
        "#   h = annotation_map_df['bbox'][row][3]\n",
        "#   x_list.append(x)\n",
        "#   y_list.append(y)\n",
        "#   w_list.append(w)\n",
        "#   h_list.append(h)\n",
        "# box_df = pd.DataFrame(list(zip(x_list, y_list, w_list, h_list)), columns =['x', 'y', 'box_width', 'box_height'])\n",
        "# annotation_map_df = pd.concat([annotation_map_df, box_df], 1)\n",
        "# annotation_map_df = annotation_map_df.drop('bbox', axis =1)"
      ],
      "execution_count": null,
      "outputs": []
    },
    {
      "cell_type": "code",
      "metadata": {
        "id": "nN6hF4aAnghh"
      },
      "source": [
        "# #Extract the Box Dimensions\n",
        "annotation_map_df = pd.concat([images_df, annotations_df], 1)[['file_name', 'width', 'height', 'bbox']]\n",
        "box_df =pd.DataFrame(annotation_map_df['bbox'].values.tolist(), columns =['x', 'y', 'box_width', 'box_height'])\n",
        "annotation_map_df = pd.concat([annotation_map_df, box_df], 1)\n",
        "annotation_map_df = annotation_map_df.drop('bbox', axis =1)"
      ],
      "execution_count": 20,
      "outputs": []
    },
    {
      "cell_type": "code",
      "metadata": {
        "colab": {
          "base_uri": "https://localhost:8080/",
          "height": 204
        },
        "id": "M2-VLtMZwoqO",
        "outputId": "a77a76af-4041-4361-896b-d2b4cf7ee39c"
      },
      "source": [
        "annotation_map_df.head()"
      ],
      "execution_count": 21,
      "outputs": [
        {
          "output_type": "execute_result",
          "data": {
            "text/html": [
              "<div>\n",
              "<style scoped>\n",
              "    .dataframe tbody tr th:only-of-type {\n",
              "        vertical-align: middle;\n",
              "    }\n",
              "\n",
              "    .dataframe tbody tr th {\n",
              "        vertical-align: top;\n",
              "    }\n",
              "\n",
              "    .dataframe thead th {\n",
              "        text-align: right;\n",
              "    }\n",
              "</style>\n",
              "<table border=\"1\" class=\"dataframe\">\n",
              "  <thead>\n",
              "    <tr style=\"text-align: right;\">\n",
              "      <th></th>\n",
              "      <th>file_name</th>\n",
              "      <th>width</th>\n",
              "      <th>height</th>\n",
              "      <th>x</th>\n",
              "      <th>y</th>\n",
              "      <th>box_width</th>\n",
              "      <th>box_height</th>\n",
              "    </tr>\n",
              "  </thead>\n",
              "  <tbody>\n",
              "    <tr>\n",
              "      <th>0</th>\n",
              "      <td>000000391895.jpg</td>\n",
              "      <td>640.0</td>\n",
              "      <td>360.0</td>\n",
              "      <td>199.84</td>\n",
              "      <td>200.46</td>\n",
              "      <td>77.71</td>\n",
              "      <td>70.88</td>\n",
              "    </tr>\n",
              "    <tr>\n",
              "      <th>1</th>\n",
              "      <td>000000522418.jpg</td>\n",
              "      <td>640.0</td>\n",
              "      <td>480.0</td>\n",
              "      <td>234.22</td>\n",
              "      <td>317.11</td>\n",
              "      <td>149.39</td>\n",
              "      <td>38.55</td>\n",
              "    </tr>\n",
              "    <tr>\n",
              "      <th>2</th>\n",
              "      <td>000000184613.jpg</td>\n",
              "      <td>500.0</td>\n",
              "      <td>336.0</td>\n",
              "      <td>239.48</td>\n",
              "      <td>347.87</td>\n",
              "      <td>160.00</td>\n",
              "      <td>57.81</td>\n",
              "    </tr>\n",
              "    <tr>\n",
              "      <th>3</th>\n",
              "      <td>000000318219.jpg</td>\n",
              "      <td>556.0</td>\n",
              "      <td>640.0</td>\n",
              "      <td>296.65</td>\n",
              "      <td>388.33</td>\n",
              "      <td>1.03</td>\n",
              "      <td>0.00</td>\n",
              "    </tr>\n",
              "    <tr>\n",
              "      <th>4</th>\n",
              "      <td>000000554625.jpg</td>\n",
              "      <td>426.0</td>\n",
              "      <td>640.0</td>\n",
              "      <td>251.87</td>\n",
              "      <td>333.42</td>\n",
              "      <td>125.94</td>\n",
              "      <td>22.71</td>\n",
              "    </tr>\n",
              "  </tbody>\n",
              "</table>\n",
              "</div>"
            ],
            "text/plain": [
              "          file_name  width  height       x       y  box_width  box_height\n",
              "0  000000391895.jpg  640.0   360.0  199.84  200.46      77.71       70.88\n",
              "1  000000522418.jpg  640.0   480.0  234.22  317.11     149.39       38.55\n",
              "2  000000184613.jpg  500.0   336.0  239.48  347.87     160.00       57.81\n",
              "3  000000318219.jpg  556.0   640.0  296.65  388.33       1.03        0.00\n",
              "4  000000554625.jpg  426.0   640.0  251.87  333.42     125.94       22.71"
            ]
          },
          "metadata": {
            "tags": []
          },
          "execution_count": 21
        }
      ]
    },
    {
      "cell_type": "code",
      "metadata": {
        "id": "ofEdrLij3s44"
      },
      "source": [
        "#Normalize the Box Dimensions based on Image Height and Width\n",
        "annotation_map_df['x'] = annotation_map_df['x'] / annotation_map_df['width']\n",
        "annotation_map_df['y'] = annotation_map_df['y'] / annotation_map_df['height']\n",
        "annotation_map_df['box_width'] = annotation_map_df['box_width'] / annotation_map_df['width']\n",
        "annotation_map_df['box_height'] = annotation_map_df['box_height'] / annotation_map_df['height']"
      ],
      "execution_count": 22,
      "outputs": []
    },
    {
      "cell_type": "code",
      "metadata": {
        "colab": {
          "base_uri": "https://localhost:8080/",
          "height": 204
        },
        "id": "oaCsfBhk4XDb",
        "outputId": "a122d954-687e-4abe-8d1f-db684781a7c4"
      },
      "source": [
        "annotation_map_df.head()"
      ],
      "execution_count": 23,
      "outputs": [
        {
          "output_type": "execute_result",
          "data": {
            "text/html": [
              "<div>\n",
              "<style scoped>\n",
              "    .dataframe tbody tr th:only-of-type {\n",
              "        vertical-align: middle;\n",
              "    }\n",
              "\n",
              "    .dataframe tbody tr th {\n",
              "        vertical-align: top;\n",
              "    }\n",
              "\n",
              "    .dataframe thead th {\n",
              "        text-align: right;\n",
              "    }\n",
              "</style>\n",
              "<table border=\"1\" class=\"dataframe\">\n",
              "  <thead>\n",
              "    <tr style=\"text-align: right;\">\n",
              "      <th></th>\n",
              "      <th>file_name</th>\n",
              "      <th>width</th>\n",
              "      <th>height</th>\n",
              "      <th>x</th>\n",
              "      <th>y</th>\n",
              "      <th>box_width</th>\n",
              "      <th>box_height</th>\n",
              "    </tr>\n",
              "  </thead>\n",
              "  <tbody>\n",
              "    <tr>\n",
              "      <th>0</th>\n",
              "      <td>000000391895.jpg</td>\n",
              "      <td>640.0</td>\n",
              "      <td>360.0</td>\n",
              "      <td>0.312250</td>\n",
              "      <td>0.556833</td>\n",
              "      <td>0.121422</td>\n",
              "      <td>0.196889</td>\n",
              "    </tr>\n",
              "    <tr>\n",
              "      <th>1</th>\n",
              "      <td>000000522418.jpg</td>\n",
              "      <td>640.0</td>\n",
              "      <td>480.0</td>\n",
              "      <td>0.365969</td>\n",
              "      <td>0.660646</td>\n",
              "      <td>0.233422</td>\n",
              "      <td>0.080312</td>\n",
              "    </tr>\n",
              "    <tr>\n",
              "      <th>2</th>\n",
              "      <td>000000184613.jpg</td>\n",
              "      <td>500.0</td>\n",
              "      <td>336.0</td>\n",
              "      <td>0.478960</td>\n",
              "      <td>1.035327</td>\n",
              "      <td>0.320000</td>\n",
              "      <td>0.172054</td>\n",
              "    </tr>\n",
              "    <tr>\n",
              "      <th>3</th>\n",
              "      <td>000000318219.jpg</td>\n",
              "      <td>556.0</td>\n",
              "      <td>640.0</td>\n",
              "      <td>0.533543</td>\n",
              "      <td>0.606766</td>\n",
              "      <td>0.001853</td>\n",
              "      <td>0.000000</td>\n",
              "    </tr>\n",
              "    <tr>\n",
              "      <th>4</th>\n",
              "      <td>000000554625.jpg</td>\n",
              "      <td>426.0</td>\n",
              "      <td>640.0</td>\n",
              "      <td>0.591244</td>\n",
              "      <td>0.520969</td>\n",
              "      <td>0.295634</td>\n",
              "      <td>0.035484</td>\n",
              "    </tr>\n",
              "  </tbody>\n",
              "</table>\n",
              "</div>"
            ],
            "text/plain": [
              "          file_name  width  height         x         y  box_width  box_height\n",
              "0  000000391895.jpg  640.0   360.0  0.312250  0.556833   0.121422    0.196889\n",
              "1  000000522418.jpg  640.0   480.0  0.365969  0.660646   0.233422    0.080312\n",
              "2  000000184613.jpg  500.0   336.0  0.478960  1.035327   0.320000    0.172054\n",
              "3  000000318219.jpg  556.0   640.0  0.533543  0.606766   0.001853    0.000000\n",
              "4  000000554625.jpg  426.0   640.0  0.591244  0.520969   0.295634    0.035484"
            ]
          },
          "metadata": {
            "tags": []
          },
          "execution_count": 23
        }
      ]
    },
    {
      "cell_type": "code",
      "metadata": {
        "id": "RTycPP8Y2uSR"
      },
      "source": [
        "annotation_map_df = annotation_map_df.dropna() "
      ],
      "execution_count": 24,
      "outputs": []
    },
    {
      "cell_type": "code",
      "metadata": {
        "colab": {
          "base_uri": "https://localhost:8080/"
        },
        "id": "6KocvHgt4qjX",
        "outputId": "3bc4fc56-dc4f-4460-dd99-dc64b18647e5"
      },
      "source": [
        "annotation_map_df.isnull().any()"
      ],
      "execution_count": 25,
      "outputs": [
        {
          "output_type": "execute_result",
          "data": {
            "text/plain": [
              "file_name     False\n",
              "width         False\n",
              "height        False\n",
              "x             False\n",
              "y             False\n",
              "box_width     False\n",
              "box_height    False\n",
              "dtype: bool"
            ]
          },
          "metadata": {
            "tags": []
          },
          "execution_count": 25
        }
      ]
    },
    {
      "cell_type": "code",
      "metadata": {
        "id": "2qNVEgxJ5tK8"
      },
      "source": [
        "hw_array = annotation_map_df[[\"box_width\", \"box_height\"]].to_numpy()"
      ],
      "execution_count": 26,
      "outputs": []
    },
    {
      "cell_type": "code",
      "metadata": {
        "colab": {
          "base_uri": "https://localhost:8080/"
        },
        "id": "qxoqLwsr5xzk",
        "outputId": "01fc48d3-6eee-48d9-89f3-ff74cc610907"
      },
      "source": [
        "hw_array.shape"
      ],
      "execution_count": 27,
      "outputs": [
        {
          "output_type": "execute_result",
          "data": {
            "text/plain": [
              "(118287, 2)"
            ]
          },
          "metadata": {
            "tags": []
          },
          "execution_count": 27
        }
      ]
    },
    {
      "cell_type": "markdown",
      "metadata": {
        "id": "gHr38kFu0YXL"
      },
      "source": [
        "## Plot height and width of data points"
      ]
    },
    {
      "cell_type": "code",
      "metadata": {
        "colab": {
          "base_uri": "https://localhost:8080/",
          "height": 296
        },
        "id": "tAn-PzQs57M8",
        "outputId": "004a2f68-2067-4f2d-c8d4-20147da2de25"
      },
      "source": [
        "plt.scatter(hw_array[:,0], hw_array[:,1],s=90)\n",
        "plt.xlabel('width')\n",
        "plt.ylabel('height')"
      ],
      "execution_count": 29,
      "outputs": [
        {
          "output_type": "execute_result",
          "data": {
            "text/plain": [
              "Text(0, 0.5, 'height')"
            ]
          },
          "metadata": {
            "tags": []
          },
          "execution_count": 29
        },
        {
          "output_type": "display_data",
          "data": {
            "image/png": "[encoded data removed]",
            "text/plain": [
              "<Figure size 432x288 with 1 Axes>"
            ]
          },
          "metadata": {
            "tags": [],
            "needs_background": "light"
          }
        }
      ]
    },
    {
      "cell_type": "markdown",
      "metadata": {
        "id": "kr51MC4v0VPY"
      },
      "source": [
        "## Log of data points"
      ]
    },
    {
      "cell_type": "code",
      "metadata": {
        "id": "f32s8kBPsZhv",
        "colab": {
          "base_uri": "https://localhost:8080/",
          "height": 330
        },
        "outputId": "1610e2cd-107c-4453-b300-bfb0f306fe17"
      },
      "source": [
        "plt.scatter(np.log(hw_array[:,0]), np.log(hw_array[:,1]),s=90)\n",
        "plt.xlabel('log(width)')\n",
        "plt.ylabel('log(height)')"
      ],
      "execution_count": 30,
      "outputs": [
        {
          "output_type": "stream",
          "text": [
            "/usr/local/lib/python3.7/dist-packages/ipykernel_launcher.py:1: RuntimeWarning: divide by zero encountered in log\n",
            "  \"\"\"Entry point for launching an IPython kernel.\n"
          ],
          "name": "stderr"
        },
        {
          "output_type": "execute_result",
          "data": {
            "text/plain": [
              "Text(0, 0.5, 'log(height)')"
            ]
          },
          "metadata": {
            "tags": []
          },
          "execution_count": 30
        },
        {
          "output_type": "display_data",
          "data": {
            "image/png": "[encoded data removed]",
            "text/plain": [
              "<Figure size 432x288 with 1 Axes>"
            ]
          },
          "metadata": {
            "tags": [],
            "needs_background": "light"
          }
        }
      ]
    },
    {
      "cell_type": "code",
      "metadata": {
        "colab": {
          "base_uri": "https://localhost:8080/"
        },
        "id": "ja3XTI1e2aG3",
        "outputId": "7d3a5776-d325-4e03-a9e9-761ed96c15e8"
      },
      "source": [
        "np.any(np.isnan(hw_array))"
      ],
      "execution_count": 31,
      "outputs": [
        {
          "output_type": "execute_result",
          "data": {
            "text/plain": [
              "False"
            ]
          },
          "metadata": {
            "tags": []
          },
          "execution_count": 31
        }
      ]
    },
    {
      "cell_type": "markdown",
      "metadata": {
        "id": "EhHOBz8f2RYp"
      },
      "source": [
        "## Determine the optimal number of clusters using Elbow Method"
      ]
    },
    {
      "cell_type": "code",
      "metadata": {
        "colab": {
          "base_uri": "https://localhost:8080/",
          "height": 295
        },
        "id": "SK_3xABC6DC_",
        "outputId": "2a29ddb4-5ad6-4985-8598-e942abf00f0f"
      },
      "source": [
        "#Elbow Method\n",
        "wcss = []\n",
        "for i in range(1, 11):\n",
        "    kmeans = KMeans(n_clusters=i, init='k-means++', max_iter=300, n_init=10, random_state=0)\n",
        "    kmeans.fit(hw_array)\n",
        "    wcss.append(kmeans.inertia_)\n",
        "plt.plot(range(1, 11), wcss)\n",
        "plt.title('Elbow Method')\n",
        "plt.xlabel('Number of clusters')\n",
        "plt.ylabel('WCSS')\n",
        "plt.show()"
      ],
      "execution_count": 32,
      "outputs": [
        {
          "output_type": "display_data",
          "data": {
            "image/png": "[encoded data removed]",
            "text/plain": [
              "<Figure size 432x288 with 1 Axes>"
            ]
          },
          "metadata": {
            "tags": [],
            "needs_background": "light"
          }
        }
      ]
    },
    {
      "cell_type": "markdown",
      "metadata": {
        "id": "n5Wx5QOL8QyU"
      },
      "source": [
        "## KMeans Clustering"
      ]
    },
    {
      "cell_type": "code",
      "metadata": {
        "id": "Zh_YTDteG-nk"
      },
      "source": [
        "from matplotlib.collections import PatchCollection\n",
        "from matplotlib.patches import Rectangle\n",
        "clusters = kmeans.cluster_centers_\n",
        "\n",
        "class Kmeans:\n",
        "    def __init__(self, n_clusters, data_points, iterations):\n",
        "        self.n_clusters = n_clusters\n",
        "        self.data_points = data_points\n",
        "        self.iterations = iterations\n",
        "\n",
        "        cluster_centers = self.kmeans_clusters()\n",
        "        self.plot_anchor_boxes(cluster_centers)\n",
        "\n",
        "    def kmeans_clusters(self):  \n",
        "        kmeans = KMeans(n_clusters=self.n_clusters, init='k-means++', max_iter=self.iterations, n_init=10, random_state=0)\n",
        "        pred_y = kmeans.fit_predict(self.data_points)\n",
        "        plt.scatter(self.data_points[:,0], self.data_points[:,1])\n",
        "        plt.scatter(kmeans.cluster_centers_[:, 0], kmeans.cluster_centers_[:, 1], s=90, c='red')\n",
        "        plt.xlabel('width')\n",
        "        plt.ylabel('height')\n",
        "        plt.title(f'Cluster Plot for k = {self.n_clusters}')\n",
        "        plt.show()\n",
        "        return kmeans.cluster_centers_\n",
        "\n",
        "\n",
        "    def plot_anchor_boxes(self,cluster_centers):\n",
        "        \n",
        "        xdata = np.array([0.5]*len(cluster_centers))\n",
        "        ydata = np.array([0.5]*len(cluster_centers))\n",
        "\n",
        "        xerror = np.array([list(np.exp(cluster_centers[:, 0])/2)]*2)\n",
        "        yerror = np.array([list(np.exp(cluster_centers[:, 1])/2)]*2)\n",
        "\n",
        "        errorboxes = []\n",
        "\n",
        "        for x, y, xe, ye in zip(xdata, ydata, xerror.T, yerror.T):\n",
        "            rect = Rectangle((x - xe[0], y - ye[0]), xe.sum(), ye.sum())\n",
        "            errorboxes.append(rect)\n",
        "\n",
        "        pc = PatchCollection(errorboxes, facecolor='None', alpha=1, edgecolor='r')\n",
        "        fig, ax = plt.subplots(1)\n",
        "\n",
        "        ax.add_collection(pc)\n",
        "        plt.title(f'Anchor Boxes for k = {self.n_clusters}')\n",
        "        artists = plt.errorbar(xdata, ydata, xerr=xerror, yerr=yerror, fmt='None', ecolor='None')"
      ],
      "execution_count": 47,
      "outputs": []
    },
    {
      "cell_type": "markdown",
      "metadata": {
        "id": "hxfPxK4g5k1s"
      },
      "source": [
        "## Cluster Plot and Anchor box for k=3"
      ]
    },
    {
      "cell_type": "code",
      "metadata": {
        "id": "y5SWHEs_xhUA",
        "colab": {
          "base_uri": "https://localhost:8080/",
          "height": 576
        },
        "outputId": "09ac5c57-b96f-4a8e-a0ee-73038fa40521"
      },
      "source": [
        "Kmeans(n_clusters = 3,data_points = hw_array,iterations = 300)"
      ],
      "execution_count": 51,
      "outputs": [
        {
          "output_type": "display_data",
          "data": {
            "image/png": "[encoded data removed]",
            "text/plain": [
              "<Figure size 432x288 with 1 Axes>"
            ]
          },
          "metadata": {
            "tags": [],
            "needs_background": "light"
          }
        },
        {
          "output_type": "execute_result",
          "data": {
            "text/plain": [
              "<__main__.Kmeans at 0x7fabf7993690>"
            ]
          },
          "metadata": {
            "tags": []
          },
          "execution_count": 51
        },
        {
          "output_type": "display_data",
          "data": {
            "image/png": "[encoded data removed]",
            "text/plain": [
              "<Figure size 432x288 with 1 Axes>"
            ]
          },
          "metadata": {
            "tags": [],
            "needs_background": "light"
          }
        }
      ]
    },
    {
      "cell_type": "markdown",
      "metadata": {
        "id": "wZBtwKps6tjo"
      },
      "source": [
        "## Cluster Plot and Anchor box for k=4"
      ]
    },
    {
      "cell_type": "code",
      "metadata": {
        "colab": {
          "base_uri": "https://localhost:8080/",
          "height": 576
        },
        "id": "fz0riomb6tjw",
        "outputId": "f3e0ddd3-523e-4d5b-d2b8-58f11cc969c4"
      },
      "source": [
        "Kmeans(n_clusters = 4,data_points = hw_array,iterations = 300)"
      ],
      "execution_count": 52,
      "outputs": [
        {
          "output_type": "display_data",
          "data": {
            "image/png": "[encoded data removed]",
            "text/plain": [
              "<Figure size 432x288 with 1 Axes>"
            ]
          },
          "metadata": {
            "tags": [],
            "needs_background": "light"
          }
        },
        {
          "output_type": "execute_result",
          "data": {
            "text/plain": [
              "<__main__.Kmeans at 0x7fabf7880050>"
            ]
          },
          "metadata": {
            "tags": []
          },
          "execution_count": 52
        },
        {
          "output_type": "display_data",
          "data": {
            "image/png": "[encoded data removed]",
            "text/plain": [
              "<Figure size 432x288 with 1 Axes>"
            ]
          },
          "metadata": {
            "tags": [],
            "needs_background": "light"
          }
        }
      ]
    },
    {
      "cell_type": "markdown",
      "metadata": {
        "id": "DzqNGP2W6t2m"
      },
      "source": [
        "## Cluster Plot and Anchor box for k=5"
      ]
    },
    {
      "cell_type": "code",
      "metadata": {
        "colab": {
          "base_uri": "https://localhost:8080/",
          "height": 576
        },
        "id": "1t3g--MY6t2n",
        "outputId": "276153ad-680f-47e7-f38d-b128969ce37e"
      },
      "source": [
        "Kmeans(n_clusters = 5,data_points = hw_array,iterations = 300)"
      ],
      "execution_count": 53,
      "outputs": [
        {
          "output_type": "display_data",
          "data": {
            "image/png": "[encoded data removed]",
            "text/plain": [
              "<Figure size 432x288 with 1 Axes>"
            ]
          },
          "metadata": {
            "tags": [],
            "needs_background": "light"
          }
        },
        {
          "output_type": "execute_result",
          "data": {
            "text/plain": [
              "<__main__.Kmeans at 0x7fabf77ec910>"
            ]
          },
          "metadata": {
            "tags": []
          },
          "execution_count": 53
        },
        {
          "output_type": "display_data",
          "data": {
            "image/png": "[encoded data removed]",
            "text/plain": [
              "<Figure size 432x288 with 1 Axes>"
            ]
          },
          "metadata": {
            "tags": [],
            "needs_background": "light"
          }
        }
      ]
    },
    {
      "cell_type": "markdown",
      "metadata": {
        "id": "00zvjKXX6ud7"
      },
      "source": [
        "## Cluster Plot and Anchor box for k=6"
      ]
    },
    {
      "cell_type": "code",
      "metadata": {
        "colab": {
          "base_uri": "https://localhost:8080/",
          "height": 576
        },
        "id": "8WLp7_qV6ud7",
        "outputId": "e39e7cdb-4814-4800-d99a-8f041552cb65"
      },
      "source": [
        "Kmeans(n_clusters = 6,data_points = hw_array,iterations = 300)"
      ],
      "execution_count": 54,
      "outputs": [
        {
          "output_type": "display_data",
          "data": {
            "image/png": "[encoded data removed]",
            "text/plain": [
              "<Figure size 432x288 with 1 Axes>"
            ]
          },
          "metadata": {
            "tags": [],
            "needs_background": "light"
          }
        },
        {
          "output_type": "execute_result",
          "data": {
            "text/plain": [
              "<__main__.Kmeans at 0x7fabf77238d0>"
            ]
          },
          "metadata": {
            "tags": []
          },
          "execution_count": 54
        },
        {
          "output_type": "display_data",
          "data": {
            "image/png": "[encoded data removed]",
            "text/plain": [
              "<Figure size 432x288 with 1 Axes>"
            ]
          },
          "metadata": {
            "tags": [],
            "needs_background": "light"
          }
        }
      ]
    },
    {
      "cell_type": "code",
      "metadata": {
        "id": "u9rkrhxc8Apz"
      },
      "source": [
        ""
      ],
      "execution_count": null,
      "outputs": []
    }
  ]
}