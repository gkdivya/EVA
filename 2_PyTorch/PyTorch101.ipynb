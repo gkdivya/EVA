{
  "nbformat": 4,
  "nbformat_minor": 0,
  "metadata": {
    "colab": {
      "name": "PyTorch101.ipynb",
      "provenance": [],
      "include_colab_link": true
    },
    "kernelspec": {
      "name": "python3",
      "display_name": "Python 3"
    }
  },
  "cells": [
    {
      "cell_type": "markdown",
      "metadata": {
        "id": "view-in-github",
        "colab_type": "text"
      },
      "source": [
        "<a href=\"https://colab.research.google.com/github/gkdivya/EVA/blob/main/2_PyTorch/PyTorch101.ipynb\" target=\"_parent\"><img src=\"https://colab.research.google.com/assets/colab-badge.svg\" alt=\"Open In Colab\"/></a>"
      ]
    },
    {
      "cell_type": "markdown",
      "metadata": {
        "id": "_kYM3ylzYo1Q"
      },
      "source": [
        "![PyTorch](https://devblogs.nvidia.com/wp-content/uploads/2017/04/pytorch-logo-dark.png)\n",
        "\n",
        "An open source machine learning framework that accelerates the path from research prototyping to production deployment.\n",
        "\n"
      ]
    },
    {
      "cell_type": "markdown",
      "metadata": {
        "id": "WcVqSTrWY6oz"
      },
      "source": [
        "# Tensor - Pytorch's core data structure\n",
        "\n",
        "In Python we can create lists, lists of lists, lists of lists and so on. In NumPy there is a `numpy.ndarray` which represents `n`- dimensional array. In math there is a special name for the generalization of vectors and matrices to a higher dimensional space - a tensor\n",
        "\n",
        "Tensor is an entity with a defined number of dimensions called an order (rank). \n",
        "\n",
        "**Scalar** can be considered as a rank-0-tensor. \n",
        "\n",
        "**Vector** can be introduced as a rank-1-tensor. \n",
        "\n",
        "**Matrices** can be considered as a rank-2-tensor.\n",
        "\n",
        "# Tensor Basics\n",
        "\n",
        "Let's import the torch module first."
      ]
    },
    {
      "cell_type": "code",
      "metadata": {
        "id": "e-oFVL2tYYqp"
      },
      "source": [
        "import numpy as np\n",
        "import torch"
      ],
      "execution_count": 1,
      "outputs": []
    },
    {
      "cell_type": "markdown",
      "metadata": {
        "id": "uGxuR5IEaFJa"
      },
      "source": [
        "## Tensor Creation\n",
        "Let's view examples of matrices and tensors generation\n",
        "\n",
        "2-dimensional (rank-2) tensor of zeros:"
      ]
    },
    {
      "cell_type": "code",
      "metadata": {
        "id": "897JQc25aD3E",
        "colab": {
          "base_uri": "https://localhost:8080/"
        },
        "outputId": "b4e42a86-3381-4c73-ba5e-c9e3723784e4"
      },
      "source": [
        "torch.zeros(3, 4)"
      ],
      "execution_count": 2,
      "outputs": [
        {
          "output_type": "execute_result",
          "data": {
            "text/plain": [
              "tensor([[0., 0., 0., 0.],\n",
              "        [0., 0., 0., 0.],\n",
              "        [0., 0., 0., 0.]])"
            ]
          },
          "metadata": {
            "tags": []
          },
          "execution_count": 2
        }
      ]
    },
    {
      "cell_type": "markdown",
      "metadata": {
        "id": "pujmpEBhaPRA"
      },
      "source": [
        "Random rank-3 tensor:\n",
        "_read the print below and convince yourself how this is a rank-3-tensor and learn what those 2, 3, 4 values are there for_"
      ]
    },
    {
      "cell_type": "code",
      "metadata": {
        "id": "mBrznTNhaOL7",
        "colab": {
          "base_uri": "https://localhost:8080/"
        },
        "outputId": "8010d0ee-0027-426b-e64a-73d8b31adb11"
      },
      "source": [
        "torch.rand(2, 3, 4)"
      ],
      "execution_count": 3,
      "outputs": [
        {
          "output_type": "execute_result",
          "data": {
            "text/plain": [
              "tensor([[[0.9559, 0.6181, 0.9858, 0.1319],\n",
              "         [0.9620, 0.1415, 0.8751, 0.7574],\n",
              "         [0.4392, 0.0718, 0.6990, 0.3883]],\n",
              "\n",
              "        [[0.3073, 0.0878, 0.4522, 0.6679],\n",
              "         [0.7487, 0.3158, 0.9983, 0.4761],\n",
              "         [0.4794, 0.3479, 0.9360, 0.1328]]])"
            ]
          },
          "metadata": {
            "tags": []
          },
          "execution_count": 3
        }
      ]
    },
    {
      "cell_type": "markdown",
      "metadata": {
        "id": "kO4fIr15asdi"
      },
      "source": [
        "I am hoping you have noticed 4-elements in a row, 3 rows making one block and there are 2 blocks. \n",
        "\n",
        "Random rank-4-tensor:"
      ]
    },
    {
      "cell_type": "code",
      "metadata": {
        "id": "KiCLvMGCaVZ3",
        "colab": {
          "base_uri": "https://localhost:8080/"
        },
        "outputId": "b6191ec4-d3bd-40c7-8d82-c02a8f58e542"
      },
      "source": [
        "torch.rand(2, 2, 2, 3)"
      ],
      "execution_count": 4,
      "outputs": [
        {
          "output_type": "execute_result",
          "data": {
            "text/plain": [
              "tensor([[[[0.3585, 0.3221, 0.8919],\n",
              "          [0.5258, 0.1807, 0.1602]],\n",
              "\n",
              "         [[0.9708, 0.9748, 0.0589],\n",
              "          [0.4276, 0.2397, 0.8653]]],\n",
              "\n",
              "\n",
              "        [[[0.4048, 0.1472, 0.1396],\n",
              "          [0.4214, 0.3382, 0.6782]],\n",
              "\n",
              "         [[0.8916, 0.5487, 0.3101],\n",
              "          [0.5235, 0.5219, 0.3378]]]])"
            ]
          },
          "metadata": {
            "tags": []
          },
          "execution_count": 4
        }
      ]
    },
    {
      "cell_type": "markdown",
      "metadata": {
        "id": "lF6VL68s3AMV"
      },
      "source": [
        "## Question 1:\n",
        "\n",
        "How many dimensions are there in a tensor defined as below?"
      ]
    },
    {
      "cell_type": "code",
      "metadata": {
        "id": "8IbXcI3x3Ibt",
        "colab": {
          "base_uri": "https://localhost:8080/"
        },
        "outputId": "c451232e-bac5-4789-8b91-6b92b0ce8dc1"
      },
      "source": [
        "torch.rand(1, 1, 1, 1)"
      ],
      "execution_count": 5,
      "outputs": [
        {
          "output_type": "execute_result",
          "data": {
            "text/plain": [
              "tensor([[[[0.8134]]]])"
            ]
          },
          "metadata": {
            "tags": []
          },
          "execution_count": 5
        }
      ]
    },
    {
      "cell_type": "markdown",
      "metadata": {
        "id": "btapHiPw5GIt"
      },
      "source": [
        "## Answer\n",
        "\n",
        "There are 4 dimensions in a tensor."
      ]
    },
    {
      "cell_type": "markdown",
      "metadata": {
        "id": "qmgpqssRa9jF"
      },
      "source": [
        "\n",
        "---\n",
        "\n",
        "\n",
        "There are many more ways to create tensor using some restrictions on values it should contatn - for the full reference, please follow the [official docs](https://pytorch.org/docs/stable/torch.html#creation-ops). \n",
        "\n",
        "\n",
        ".\n",
        "---\n",
        "\n",
        "\n",
        "# Python / NumPy / Pytorch interoperability\n",
        "\n",
        "You can create tensors from python as well as numpy arrays. You can also convert torch tensors to numpy arrays. So, the interoperability between torch and numpy is pretty good. "
      ]
    },
    {
      "cell_type": "code",
      "metadata": {
        "id": "ipgpeWPfa6gE",
        "colab": {
          "base_uri": "https://localhost:8080/"
        },
        "outputId": "875fa158-126e-49ea-d37d-99f6d0d25e03"
      },
      "source": [
        "# Simple Python List\n",
        "python_list = [1, 2]\n",
        "\n",
        "# Create a numpy array from python list\n",
        "numpy_array = np.array(python_list)\n",
        "\n",
        "# Create a torch Tensor from python list\n",
        "tensor_from_list = torch.tensor(python_list)\n",
        "\n",
        "# Create a torch Tensor from Numpy array\n",
        "tensor_from_array = torch.tensor(numpy_array)\n",
        "\n",
        "# Another way to create a torch Tensor from Numpy array (share same storage)\n",
        "tensor_from_array_v2 = torch.from_numpy(numpy_array)\n",
        "\n",
        "# Convert torch tensor to numpy array\n",
        "array_from_tensor = tensor_from_array.numpy()\n",
        "\n",
        "print('List:   ', python_list)\n",
        "print('Array:  ', numpy_array)\n",
        "print('Tensor: ', tensor_from_list)\n",
        "print('Tensor: ', tensor_from_array)\n",
        "print('Tensor: ', tensor_from_array_v2)\n",
        "print('Array:  ', array_from_tensor)"
      ],
      "execution_count": 6,
      "outputs": [
        {
          "output_type": "stream",
          "text": [
            "List:    [1, 2]\n",
            "Array:   [1 2]\n",
            "Tensor:  tensor([1, 2])\n",
            "Tensor:  tensor([1, 2])\n",
            "Tensor:  tensor([1, 2])\n",
            "Array:   [1 2]\n"
          ],
          "name": "stdout"
        }
      ]
    },
    {
      "cell_type": "markdown",
      "metadata": {
        "id": "X_x-86B8gqik"
      },
      "source": [
        "**Difference between** `torch.Tensor` **and** `torch.from_numpy`\n",
        "\n",
        "Pytorch aims to be an effective library for computations. What does it mean? It means that pytorch avoids memory copying if it can. "
      ]
    },
    {
      "cell_type": "code",
      "metadata": {
        "id": "eHCKDGpygn_d",
        "colab": {
          "base_uri": "https://localhost:8080/"
        },
        "outputId": "93da75cb-59b7-4dd0-9e3d-2e332770b225"
      },
      "source": [
        "numpy_array[0] = 10\n",
        "\n",
        "print('Array:  ', numpy_array)\n",
        "print('Tensor: ', tensor_from_array)\n",
        "print('Tensor: ', tensor_from_array_v2)"
      ],
      "execution_count": 7,
      "outputs": [
        {
          "output_type": "stream",
          "text": [
            "Array:   [10  2]\n",
            "Tensor:  tensor([1, 2])\n",
            "Tensor:  tensor([10,  2])\n"
          ],
          "name": "stdout"
        }
      ]
    },
    {
      "cell_type": "markdown",
      "metadata": {
        "id": "-CKtdNRM3SMp"
      },
      "source": [
        "## Question 2:\n",
        "\n",
        "Assume that we moved our complete (cats vs dogs) image dataset to numpy arrays. Then we use torch.from_numpy to convert these images to tensor. Then we apply a specific data augmentation strategy called \"CutOut\" which blocks a portion of the image directly on these tensors. What will happen to the accuracy of a model trained on this strategy compared to the one without this strategy? CutOut strategy is shown below: \n",
        "\n",
        "![CutOut](https://encrypted-tbn0.gstatic.com/images?q=tbn%3AANd9GcSnSyN835AmtQPKQbPjDHX-FmshNilbtexX95cRGQPwl56QCGDn)\n",
        "\n",
        "## Question 3:\n",
        "Why do you think we are observing this behavior?\n",
        "\n",
        "\n",
        "\n",
        "---\n",
        "\n",
        "\n"
      ]
    },
    {
      "cell_type": "markdown",
      "metadata": {
        "id": "dZq7O-aihSOA"
      },
      "source": [
        "We have two different ways to create tensor from its NumPy counterpart - one copies memory and another one shares the same underlying storage. It works in the opposite way:"
      ]
    },
    {
      "cell_type": "code",
      "metadata": {
        "id": "TNFOwV8EhPwQ",
        "colab": {
          "base_uri": "https://localhost:8080/"
        },
        "outputId": "b78ad84c-02a6-407b-bd85-062731fe037d"
      },
      "source": [
        "array_from_tensor = tensor_from_array.numpy()\n",
        "print('Tensor: ', tensor_from_array)\n",
        "print('Array: ', array_from_tensor)\n",
        "\n",
        "tensor_from_array[0] = 11\n",
        "print('Tensor: ', tensor_from_array)\n",
        "print('Array: ', array_from_tensor)"
      ],
      "execution_count": 8,
      "outputs": [
        {
          "output_type": "stream",
          "text": [
            "Tensor:  tensor([1, 2])\n",
            "Array:  [1 2]\n",
            "Tensor:  tensor([11,  2])\n",
            "Array:  [11  2]\n"
          ],
          "name": "stdout"
        }
      ]
    },
    {
      "cell_type": "markdown",
      "metadata": {
        "id": "UM9ytbvKhtCw"
      },
      "source": [
        "## Data types\n",
        "\n",
        "The basic data type of all Deep Learning-related operations is float, but sometimes you may need something else. Pytorch support different number types for its tensors the same way NumPy does it - by specifying the data type on tensor creation or via casting. Ths full list of supported data types can be found [here](https://pytorch.org/docs/stable/tensors.html). "
      ]
    },
    {
      "cell_type": "code",
      "metadata": {
        "id": "Bd6WkzJ4hpYi",
        "colab": {
          "base_uri": "https://localhost:8080/"
        },
        "outputId": "6cca016f-43af-41cf-cc47-4cf0543939a8"
      },
      "source": [
        "tensor = torch.zeros(2, 2)\n",
        "print('Tensor with default type: ', tensor)\n",
        "tensor = torch.zeros(2, 2, dtype=torch.float16)\n",
        "print('Tensor with 16-bit float: ', tensor)\n",
        "tensor = torch.zeros(2, 2, dtype=torch.int16)\n",
        "print('Tensor with integers: ', tensor)\n",
        "tensor = torch.zeros(2, 2, dtype=torch.bool)\n",
        "print('Tensor with boolean data: ', tensor)"
      ],
      "execution_count": 9,
      "outputs": [
        {
          "output_type": "stream",
          "text": [
            "Tensor with default type:  tensor([[0., 0.],\n",
            "        [0., 0.]])\n",
            "Tensor with 16-bit float:  tensor([[0., 0.],\n",
            "        [0., 0.]], dtype=torch.float16)\n",
            "Tensor with integers:  tensor([[0, 0],\n",
            "        [0, 0]], dtype=torch.int16)\n",
            "Tensor with boolean data:  tensor([[False, False],\n",
            "        [False, False]])\n"
          ],
          "name": "stdout"
        }
      ]
    },
    {
      "cell_type": "markdown",
      "metadata": {
        "id": "a9F4Dkdr40TE"
      },
      "source": [
        "\n",
        "\n",
        "---\n",
        "\n",
        "\n",
        "## Question 4:\n",
        "We saw above that some times numpy and tensors share same storage and changing one changes the other. \n",
        "If we define a rank-2-tensor with ones (dtype of f16), and then convert it into a numpy data type using tensor.numpy() and store it in a variable called \"num\", and then we perform this operation `num = num * 0.5`, will the original tensor have 1.0s or 0.5s as its element values? \n"
      ]
    },
    {
      "cell_type": "code",
      "metadata": {
        "colab": {
          "base_uri": "https://localhost:8080/"
        },
        "id": "MdHxq4mw6PMK",
        "outputId": "a3724678-647f-4a9b-e576-1d33e739dc1e"
      },
      "source": [
        "tensor = torch.ones(2, 4, dtype=torch.float16)\n",
        "\n",
        "print(tensor)\n",
        "print(\"\\n\")\n",
        "print(tensor.shape)\n",
        "print(\"\\n\")\n",
        "\n",
        "#convert it into a numpy data type using tensor.numpy() \n",
        "num = tensor.numpy()\n",
        "\n",
        "num = num * 0.5\n",
        "\n",
        "print(tensor)"
      ],
      "execution_count": 14,
      "outputs": [
        {
          "output_type": "stream",
          "text": [
            "tensor([[1., 1., 1., 1.],\n",
            "        [1., 1., 1., 1.]], dtype=torch.float16)\n",
            "\n",
            "\n",
            "torch.Size([2, 4])\n",
            "\n",
            "\n",
            "tensor([[1., 1., 1., 1.],\n",
            "        [1., 1., 1., 1.]], dtype=torch.float16)\n"
          ],
          "name": "stdout"
        }
      ]
    },
    {
      "cell_type": "markdown",
      "metadata": {
        "id": "lH0EXvZ-7K-a"
      },
      "source": [
        "## Answer\n",
        "\n",
        "Original tensor will have 1.0s as its element values"
      ]
    },
    {
      "cell_type": "markdown",
      "metadata": {
        "id": "OiQt8Mmm51OE"
      },
      "source": [
        "\n",
        "\n",
        "---\n",
        "\n",
        "## Question 5: \n",
        "If the operation `num = num*5` is changed to `num[:] = num*5` will the original tensor have 1.0s or 0.5s as its element values? \n",
        "\n",
        "\n",
        "\n",
        "---\n",
        "\n"
      ]
    },
    {
      "cell_type": "code",
      "metadata": {
        "colab": {
          "base_uri": "https://localhost:8080/"
        },
        "id": "0V4ifOjC7Vm5",
        "outputId": "10cb6154-79df-48a5-9f19-3dde2532fafc"
      },
      "source": [
        "tensor = torch.ones(2, 4, dtype=torch.float16)\n",
        "\n",
        "print(tensor)\n",
        "print(\"\\n\")\n",
        "print(tensor.shape)\n",
        "print(\"\\n\")\n",
        "\n",
        "#convert it into a numpy data type using tensor.numpy() \n",
        "num = tensor.numpy()\n",
        "\n",
        "num[:] = num*5\n",
        "\n",
        "print(tensor)"
      ],
      "execution_count": 15,
      "outputs": [
        {
          "output_type": "stream",
          "text": [
            "tensor([[1., 1., 1., 1.],\n",
            "        [1., 1., 1., 1.]], dtype=torch.float16)\n",
            "\n",
            "\n",
            "torch.Size([2, 4])\n",
            "\n",
            "\n",
            "tensor([[5., 5., 5., 5.],\n",
            "        [5., 5., 5., 5.]], dtype=torch.float16)\n"
          ],
          "name": "stdout"
        }
      ]
    },
    {
      "cell_type": "markdown",
      "metadata": {
        "id": "nVpjBXRt7bGO"
      },
      "source": [
        "## Answer\n",
        "\n",
        "Original tensor will have 5.0s as its element values"
      ]
    },
    {
      "cell_type": "markdown",
      "metadata": {
        "id": "vzh8UB8KiVmb"
      },
      "source": [
        "## Indexing\n",
        "\n",
        "Tensor provides access to its elements via the same `[]` operation as a regular python list or NumPy array. However, as you may recall from NumPy usage, the full power of math libraries is accessible only via vectorized operations, i.e. operations without explicit looping over all vector elements in python and using implicit optimized loops in C/C++/CUDA/Fortran/etc. available via special function calls. Pytorch employs the same paradigm and provides a wide range of vectorized operations. Let's take a look at some examples. \n",
        "\n",
        "Joining a list of tensors together with `torch.cat`"
      ]
    },
    {
      "cell_type": "code",
      "metadata": {
        "id": "GMaCDKPhiUAb",
        "colab": {
          "base_uri": "https://localhost:8080/"
        },
        "outputId": "57788c72-56c2-4e25-dbb6-0031c595d1e0"
      },
      "source": [
        "a = torch.zeros(3, 2)\n",
        "b = torch.ones(3, 2)\n",
        "print(torch.cat((a, b), dim=0))"
      ],
      "execution_count": 16,
      "outputs": [
        {
          "output_type": "stream",
          "text": [
            "tensor([[0., 0.],\n",
            "        [0., 0.],\n",
            "        [0., 0.],\n",
            "        [1., 1.],\n",
            "        [1., 1.],\n",
            "        [1., 1.]])\n"
          ],
          "name": "stdout"
        }
      ]
    },
    {
      "cell_type": "markdown",
      "metadata": {
        "id": "5bj4aeE86zdH"
      },
      "source": [
        "\n",
        "\n",
        "---\n",
        "\n",
        "## Question 6: \n",
        "Is the transpose of concatenated a & b tensor on dimension 1, same as the contatenated tensor of a & b on dimension 0? \n",
        "\n",
        "\n",
        "\n",
        "---\n",
        "\n"
      ]
    },
    {
      "cell_type": "code",
      "metadata": {
        "colab": {
          "base_uri": "https://localhost:8080/"
        },
        "id": "VgAucFJ-7m9c",
        "outputId": "5d4e4679-2255-4519-937b-305a623c2001"
      },
      "source": [
        "print(torch.cat((a, b), dim=1).t())\n",
        "print(torch.cat((a, b), dim=0))"
      ],
      "execution_count": 17,
      "outputs": [
        {
          "output_type": "stream",
          "text": [
            "tensor([[0., 0., 0.],\n",
            "        [0., 0., 0.],\n",
            "        [1., 1., 1.],\n",
            "        [1., 1., 1.]])\n",
            "tensor([[0., 0.],\n",
            "        [0., 0.],\n",
            "        [0., 0.],\n",
            "        [1., 1.],\n",
            "        [1., 1.],\n",
            "        [1., 1.]])\n"
          ],
          "name": "stdout"
        }
      ]
    },
    {
      "cell_type": "markdown",
      "metadata": {
        "id": "wuvskQNU7vse"
      },
      "source": [
        "## Answer\n",
        "\n",
        "No"
      ]
    },
    {
      "cell_type": "markdown",
      "metadata": {
        "id": "0TXNne69j7LP"
      },
      "source": [
        "Indexing with another tenxor/array:"
      ]
    },
    {
      "cell_type": "code",
      "metadata": {
        "id": "KiE-Fsi4jVd6",
        "colab": {
          "base_uri": "https://localhost:8080/"
        },
        "outputId": "cc073b94-6258-403b-e2f6-b3aca8af6ac2"
      },
      "source": [
        "a = torch.arange(start=0, end=10)\n",
        "indices = np.arange(0, 10) > 5\n",
        "print(a)\n",
        "print(indices)\n",
        "print(a[indices])\n",
        "\n",
        "indices = torch.arange(start=0, end=10) %5\n",
        "print(indices)\n",
        "print(a[indices])"
      ],
      "execution_count": 18,
      "outputs": [
        {
          "output_type": "stream",
          "text": [
            "tensor([0, 1, 2, 3, 4, 5, 6, 7, 8, 9])\n",
            "[False False False False False False  True  True  True  True]\n",
            "tensor([6, 7, 8, 9])\n",
            "tensor([0, 1, 2, 3, 4, 0, 1, 2, 3, 4])\n",
            "tensor([0, 1, 2, 3, 4, 0, 1, 2, 3, 4])\n"
          ],
          "name": "stdout"
        }
      ]
    },
    {
      "cell_type": "markdown",
      "metadata": {
        "id": "LS4dnlu47WQu"
      },
      "source": [
        "\n",
        "\n",
        "---\n",
        "\n",
        "## Question 7:\n",
        "\n",
        "`a` is defined as `torch.arange(start=0, end=10)`. We will create `b` using the two operations as below. In both cases do we get the same value?\n",
        "\n",
        "\n",
        "1.   indices variable created by the modulo operation on arange between 0 and 10. Then a new varialble `b` is created from `a` using the last 5 elements of indices. \n",
        "2.   indices variable created by the modulo operation on arange betwenn 1 and 11. Then a new varialble `b` is created from `a` using the last 5 elements of indices. \n",
        "\n",
        "\n",
        "\n",
        "---\n",
        "\n",
        "\n"
      ]
    },
    {
      "cell_type": "code",
      "metadata": {
        "colab": {
          "base_uri": "https://localhost:8080/"
        },
        "id": "4PhpPhYG75KZ",
        "outputId": "2ee4360b-be14-4959-abe2-3d04cc66d9bc"
      },
      "source": [
        "a = torch.arange(start=0, end=10)\n",
        "ind_1 = torch.arange(start=0, end=10) %5\n",
        "print(\"indices1\",ind_1)\n",
        "last_5_elements = ind_1[-5:]\n",
        "\n",
        "b = a[last_5_elements]\n",
        "print(b)\n",
        "\n",
        "\n",
        "ind_2 = torch.arange(start=1, end=11) %5\n",
        "print(\"\\nindices2\",ind_2)\n",
        "last_5_elements = ind_2[-5:]\n",
        "\n",
        "b = a[last_5_elements]\n",
        "print(b)"
      ],
      "execution_count": 25,
      "outputs": [
        {
          "output_type": "stream",
          "text": [
            "indices1 tensor([0, 1, 2, 3, 4, 0, 1, 2, 3, 4])\n",
            "tensor([0, 1, 2, 3, 4])\n",
            "\n",
            "indices2 tensor([1, 2, 3, 4, 0, 1, 2, 3, 4, 0])\n",
            "tensor([1, 2, 3, 4, 0])\n"
          ],
          "name": "stdout"
        }
      ]
    },
    {
      "cell_type": "markdown",
      "metadata": {
        "id": "Pluc50HW9Crq"
      },
      "source": [
        "## Answer\n",
        "\n",
        "No, the indices of second shifts by 1"
      ]
    },
    {
      "cell_type": "markdown",
      "metadata": {
        "id": "eQ4ZCVsTk-KH"
      },
      "source": [
        "What should we do if we have, say, rank-2-tensor and want to select only some rows?"
      ]
    },
    {
      "cell_type": "code",
      "metadata": {
        "id": "_GtRpotjkt1q",
        "colab": {
          "base_uri": "https://localhost:8080/"
        },
        "outputId": "490354d0-9b0c-4a62-8f8b-db623cb3354a"
      },
      "source": [
        "tensor = torch.rand((5, 3))\n",
        "rows = torch.tensor([0, 2])\n",
        "print(tensor)\n",
        "tensor[rows]"
      ],
      "execution_count": 26,
      "outputs": [
        {
          "output_type": "stream",
          "text": [
            "tensor([[0.4748, 0.6774, 0.0849],\n",
            "        [0.6739, 0.3854, 0.3569],\n",
            "        [0.0825, 0.0407, 0.1093],\n",
            "        [0.0199, 0.1314, 0.3907],\n",
            "        [0.1962, 0.4987, 0.2376]])\n"
          ],
          "name": "stdout"
        },
        {
          "output_type": "execute_result",
          "data": {
            "text/plain": [
              "tensor([[0.4748, 0.6774, 0.0849],\n",
              "        [0.0825, 0.0407, 0.1093]])"
            ]
          },
          "metadata": {
            "tags": []
          },
          "execution_count": 26
        }
      ]
    },
    {
      "cell_type": "markdown",
      "metadata": {
        "id": "zIJnr_N2_Qaf"
      },
      "source": [
        "\n",
        "\n",
        "---\n",
        "\n",
        "## Question 8: \n",
        "\n",
        "Consider a tensor defined as `torch.rand((6, 5))`. Is the shape of the new tensor created by taking the 0th, 2nd and 4th row of the old tensor same as the shape of the a newer tensor created by taking the 0th, 2nd and 4th row of the old tensor after transposing it by operation `torch.transpose(tensor, 0, 1)` ?\n",
        "\n",
        "\n",
        "\n",
        "---\n",
        "\n",
        "\n"
      ]
    },
    {
      "cell_type": "code",
      "metadata": {
        "colab": {
          "base_uri": "https://localhost:8080/"
        },
        "id": "YdcqGrpA-k4g",
        "outputId": "bf57823b-05c6-4c3e-8975-fb0bd32b4cd3"
      },
      "source": [
        "tensor = torch.rand((6,5))\n",
        "\n",
        "print(\"Shape of new tensor\", tensor[[0, 2, 4], :].shape)\n",
        "\n",
        "transpose_tensor = torch.transpose(tensor, 0, 1)\n",
        "print(\"Shape of transposed tensor\",transpose_tensor[[0, 2, 4], :].shape)"
      ],
      "execution_count": 27,
      "outputs": [
        {
          "output_type": "stream",
          "text": [
            "Shape of new tensor torch.Size([3, 5])\n",
            "Shape of transposed tensor torch.Size([3, 6])\n"
          ],
          "name": "stdout"
        }
      ]
    },
    {
      "cell_type": "markdown",
      "metadata": {
        "id": "d3PS1ERy_Gx2"
      },
      "source": [
        "## Answer\n",
        "\n",
        "No, the shapes are not same"
      ]
    },
    {
      "cell_type": "markdown",
      "metadata": {
        "id": "naDzFMkslU0b"
      },
      "source": [
        "## Tensor Shapes\n",
        "\n",
        "Reshaping a tensor is a frequently used operation. We can change the shape of a tensor without the memory copying overhead. There are two methods for that: `reshape` and `view`. \n",
        "\n",
        "The difference is the following: \n",
        "\n",
        "\n",
        "*   view tries to return a tensor, and it shares the same memory with the original tensor. In case, if it cannot reuse the same memory due to [some reason](https://pytorch.org/docs/stable/tensors.html?highlight=view#torch.Tensor.view), it just fails. \n",
        "*   reshape always returns the tensor with the desired shape and tries to reuse the memory. If it cannot, it creates a copy\n",
        "\n",
        "Let's see with the help of an example:"
      ]
    },
    {
      "cell_type": "code",
      "metadata": {
        "id": "HClDkqLLlMJh",
        "colab": {
          "base_uri": "https://localhost:8080/"
        },
        "outputId": "b7f96baa-179b-4657-a953-ba504e128f29"
      },
      "source": [
        "tensor = torch.rand(2, 3, 4)\n",
        "print('Pointer to data: ', tensor.data_ptr())\n",
        "print('Shape: ', tensor.shape)\n",
        "\n",
        "reshaped = tensor.reshape(24)\n",
        "\n",
        "view = tensor.view(3, 2, 4)\n",
        "print('Reshaped tensor - pointer to data', reshaped.data_ptr())\n",
        "print('Reshaped tensor shape ', reshaped.shape)\n",
        "\n",
        "print('Viewed tensor - pointer to data', view.data_ptr())\n",
        "print('Viewed tensor shape ', view.shape)\n",
        "\n",
        "assert tensor.data_ptr() == view.data_ptr()\n",
        "\n",
        "assert np.all(np.equal(tensor.numpy().flat, reshaped.numpy().flat))\n",
        "\n",
        "print('Original stride: ', tensor.stride())\n",
        "print('Reshaped stride: ', reshaped.stride())\n",
        "print('Viewed stride: ', view.stride())"
      ],
      "execution_count": 28,
      "outputs": [
        {
          "output_type": "stream",
          "text": [
            "Pointer to data:  94848269970816\n",
            "Shape:  torch.Size([2, 3, 4])\n",
            "Reshaped tensor - pointer to data 94848269970816\n",
            "Reshaped tensor shape  torch.Size([24])\n",
            "Viewed tensor - pointer to data 94848269970816\n",
            "Viewed tensor shape  torch.Size([3, 2, 4])\n",
            "Original stride:  (12, 4, 1)\n",
            "Reshaped stride:  (1,)\n",
            "Viewed stride:  (8, 4, 1)\n"
          ],
          "name": "stdout"
        }
      ]
    },
    {
      "cell_type": "markdown",
      "metadata": {
        "id": "jIN5jSppm4yC"
      },
      "source": [
        "The basic rule about reshaping the tensor is definitely that you cannot change the total number of elements in it, so the product of all tensor's dimensions should always be the same. It gives us the ability to avoid specifying one dimension when reshaping the tensor - Pytorch can calculate it for us:"
      ]
    },
    {
      "cell_type": "code",
      "metadata": {
        "id": "e3D19ERFmzOl",
        "colab": {
          "base_uri": "https://localhost:8080/"
        },
        "outputId": "f362a297-b606-4ac4-b5c1-d6d02d5605d9"
      },
      "source": [
        "print(tensor.reshape(3, 2, 4).shape)\n",
        "print(tensor.reshape(3, 2, -1).shape)\n",
        "print(tensor.reshape(3, -1, 4).shape)"
      ],
      "execution_count": 29,
      "outputs": [
        {
          "output_type": "stream",
          "text": [
            "torch.Size([3, 2, 4])\n",
            "torch.Size([3, 2, 4])\n",
            "torch.Size([3, 2, 4])\n"
          ],
          "name": "stdout"
        }
      ]
    },
    {
      "cell_type": "markdown",
      "metadata": {
        "id": "ObgCQKUiETak"
      },
      "source": [
        "\n",
        "\n",
        "---\n",
        "\n",
        "\n",
        "## Question 9:\n",
        "\n",
        "Consider a tensor `a` created with [1, 2, 3] and [1, 2, 3] of size (2, 3) is reshaped with operation `.reshape(-1, 2)`. Also consider a tensor `b` created with [[2, 1]] and of size (1, 2), later operated with `view(2, -1)` operation. \n",
        "\n",
        "If we do a dot product of a and b (using `torch.mm`) and perform the sum of all the elements (using `torch.sum`) what do we get? (enter int value without any decimal point in the quiz)\n",
        "\n",
        "\n",
        "\n",
        "---\n",
        "\n"
      ]
    },
    {
      "cell_type": "code",
      "metadata": {
        "colab": {
          "base_uri": "https://localhost:8080/"
        },
        "id": "kON4l-bW_71m",
        "outputId": "8c0d8e1a-1c4d-4ee0-9544-9fae25d41a05"
      },
      "source": [
        "a = torch.tensor([[1, 2, 3], [1, 2, 3]])\n",
        "print(\"Shape of a\",a.shape)\n",
        "\n",
        "reshaped = a.reshape(-1, 2)\n",
        "\n",
        "b = torch.tensor([[2,1]])\n",
        "print(\"Shape of b\",b.shape)\n",
        "view = b.view(2,-1)\n",
        "\n",
        "torch.sum(torch.mm(reshaped,view))"
      ],
      "execution_count": 31,
      "outputs": [
        {
          "output_type": "stream",
          "text": [
            "Shape of a torch.Size([2, 3])\n",
            "Shape of b torch.Size([1, 2])\n"
          ],
          "name": "stdout"
        },
        {
          "output_type": "execute_result",
          "data": {
            "text/plain": [
              "tensor(18)"
            ]
          },
          "metadata": {
            "tags": []
          },
          "execution_count": 31
        }
      ]
    },
    {
      "cell_type": "markdown",
      "metadata": {
        "id": "oC2iwi29BCrM"
      },
      "source": [
        "## Answer\n",
        "\n",
        "18"
      ]
    },
    {
      "cell_type": "markdown",
      "metadata": {
        "id": "mza7QPg3ndeV"
      },
      "source": [
        "**Alternative ways to view tensors** - `expand` or `expand_as`.\n",
        "\n",
        "\n",
        "\n",
        "*   `expand` - requires the desired shape as an input\n",
        "*   `expand_as` - uses the shape of another tensor\n",
        "\n",
        "These operations \"repeat\" tensor's values along the specified axes without actually copying the data. \n",
        "\n",
        "As the documentation says, expand:\n",
        "\n",
        "\n",
        "> returns a new view of the self tensor with singleton dimensions expanded to a larger size. Tensor can be also expanded to a larger number of dimensions, and the new ones will be appended at the front. For the new dimensions, the size cannot be set to -1. \n",
        "\n",
        "**Use case:**\n",
        "\n",
        "\n",
        "\n",
        "*   index multi-channel tensor with single-channel mask - imagine a color image with 3 channels (RGB) and binary mask for the area of interest on that image. We cannot index the image with this kind of mask directly since the dimensions are different, but we can use `expand_as` operation to create a view of the mask that has the same dimensions as the image we want to apply it to, but has not copied the data. "
      ]
    },
    {
      "cell_type": "code",
      "metadata": {
        "id": "iz33E-V7nPQT",
        "colab": {
          "base_uri": "https://localhost:8080/",
          "height": 595
        },
        "outputId": "3c6c6277-cb20-4847-c4a3-1982023f81af"
      },
      "source": [
        "%matplotlib inline\n",
        "from matplotlib import pyplot as plt\n",
        "\n",
        "# Create a black image\n",
        "image = torch.zeros(size=(3, 256, 256), dtype=torch.int)\n",
        "\n",
        "# Leave the borders and make the rest of the image Green\n",
        "image[1, 18:256 - 18, 18:256 - 18] = 255\n",
        "\n",
        "# Create a mask of the same size\n",
        "mask = torch.zeros(size=(256, 256), dtype=torch.bool)\n",
        "\n",
        "# Assuming the green region in the original image is the Region of interest, change the mask to white for that area\n",
        "mask[18:256 - 18, 18:256 - 18] = 1\n",
        "\n",
        "# Create a view of the mask with the same dimensions as the original image\n",
        "mask_expanded = mask.expand_as(image)\n",
        "print(mask_expanded.shape)\n",
        "\n",
        "mask_np = mask_expanded.numpy().transpose(1, 2, 0) * 255\n",
        "image_np = image.numpy().transpose(1, 2, 0)\n",
        "\n",
        "fig, ax = plt.subplots(1, 2)\n",
        "ax[0].imshow(image_np)\n",
        "ax[1].imshow(mask_np)\n",
        "plt.show()\n",
        "\n",
        "image[0, mask] += 128\n",
        "fig, ax = plt.subplots(1, 2)\n",
        "ax[0].imshow(image_np)\n",
        "ax[1].imshow(mask_np)\n",
        "plt.show()\n",
        "\n",
        "image[mask_expanded] += 128\n",
        "image.clamp_(0, 255)\n",
        "fig, ax = plt.subplots(1, 2)\n",
        "ax[0].imshow(image_np)\n",
        "ax[1].imshow(mask_np)\n",
        "plt.show()"
      ],
      "execution_count": 32,
      "outputs": [
        {
          "output_type": "stream",
          "text": [
            "torch.Size([3, 256, 256])\n"
          ],
          "name": "stdout"
        },
        {
          "output_type": "display_data",
          "data": {
            "image/png": "[encoded data removed]",
            "text/plain": [
              "<Figure size 432x288 with 2 Axes>"
            ]
          },
          "metadata": {
            "tags": [],
            "needs_background": "light"
          }
        },
        {
          "output_type": "display_data",
          "data": {
            "image/png": "[encoded data removed]",
            "text/plain": [
              "<Figure size 432x288 with 2 Axes>"
            ]
          },
          "metadata": {
            "tags": [],
            "needs_background": "light"
          }
        },
        {
          "output_type": "display_data",
          "data": {
            "image/png": "[encoded data removed]",
            "text/plain": [
              "<Figure size 432x288 with 2 Axes>"
            ]
          },
          "metadata": {
            "tags": [],
            "needs_background": "light"
          }
        }
      ]
    },
    {
      "cell_type": "markdown",
      "metadata": {
        "id": "jiXBx0k3ptOI"
      },
      "source": [
        "In the example above, one can also find a couple of useful tricks:\n",
        "\n",
        "\n",
        "*   `clamp` method and function is a Pytorch's analogue of NumPy's `clip` function\n",
        "*   many operations on tensors have in-place form, that does not return modified data, but change values in the tensor. The in-place version of the operation has trailing underscore according to Pytorch's naming convension - in the exmaple above it is `clamp_`\n",
        "*   tensors have the same indexing as Numpy's arrays - one can use `:` seperated range, negative indexes and so on.\n",
        "\n",
        "\n",
        ".\n",
        "\n",
        "\n",
        "---\n",
        "\n",
        "# Images and their representations\n",
        "\n",
        "Now, let's discuss images, their representations and how different Python librarties work with them. \n",
        "\n",
        "Probably, the most well-known library for image loading and simple processing is [Pillow](https://pillow.readthedocs.io/en/stable/). \n",
        "\n",
        "However, many people in deep learning area stick with OpenCV for image loading and processing with some usage of another libraries when it is justified by performance/functionality. This is because OpenCV is in general much faster than the other libraries. Here you can find a couple of benchmarks: \n",
        "\n",
        "*   https://www.kaggle.com/zfturbo/benchmark-2019-speed-of-image-reading\n",
        "*   https://github.com/albumentations-team/albumentations#benchmarking-results\n",
        "\n",
        "To sum up the benchmarks above, there are two most common image formats, PNG and JPEGs. If your data is in PNG format - use OpenCV to read it. If it is in JPEG - use libturbojpeg. For image processing, use OpenCV if possible. _We will be using PIL a lot along with these._\n",
        "\n",
        "As you will read the code from others, you may find out that some of them use Pillow/something else to read data. You should know, that color image representations in OpenCV and other libraries are different - OpenCV uses \"BGR\" channel order, while others use \"RGB\" one. \n",
        "\n",
        "To change \"BRG\" <-> \"RGB\" the only thing we need to do it to change channel order."
      ]
    },
    {
      "cell_type": "code",
      "metadata": {
        "id": "ZYv4sZMmpndu",
        "colab": {
          "base_uri": "https://localhost:8080/",
          "height": 152
        },
        "outputId": "3d4a7b72-37b6-4a5c-8f41-31962669761e"
      },
      "source": [
        "%matplotlib inline\n",
        "from matplotlib import pyplot as plt\n",
        "import cv2\n",
        "\n",
        "import requests\n",
        "import numpy as np\n",
        "from io import BytesIO\n",
        "from PIL import Image\n",
        "\n",
        "def url_to_img(url, save_as=''):\n",
        "  img = Image.open(BytesIO(requests.get(url).content))\n",
        "  if save_as:\n",
        "    img.save(save_as)\n",
        "  return np.array(img)\n",
        "\n",
        "img = url_to_img('https://encrypted-tbn0.gstatic.com/images?q=tbn%3AANd9GcRCA40ftnscVzfV8ft8e7vIzQXfXeZdtco8nknJrfCUW6INI40U',\"mars.jpg\")\n",
        "\n",
        "bgr_image = cv2.imread('mars.jpg') \n",
        "# remember to add your own image in case you run this block, if you want to use the same image, \n",
        "# download it from: https://encrypted-tbn0.gstatic.com/images?q=tbn%3AANd9GcRCA40ftnscVzfV8ft8e7vIzQXfXeZdtco8nknJrfCUW6INI40U\n",
        "rgb_image = bgr_image[..., ::-1]\n",
        "fig, ax = plt.subplots(1, 2)\n",
        "ax[0].imshow(bgr_image)\n",
        "ax[1].imshow(rgb_image)\n",
        "plt.show()"
      ],
      "execution_count": 43,
      "outputs": [
        {
          "output_type": "display_data",
          "data": {
            "image/png": "[encoded data removed]",
            "text/plain": [
              "<Figure size 432x288 with 2 Axes>"
            ]
          },
          "metadata": {
            "tags": [],
            "needs_background": "light"
          }
        }
      ]
    },
    {
      "cell_type": "markdown",
      "metadata": {
        "id": "yoi4TeNBGHle"
      },
      "source": [
        "\n",
        "\n",
        "---\n",
        "\n",
        "## Question 10:\n",
        "\n",
        "Looking at the results above it can be said that the pixel values in the blue channels would be very small compared to red channel. True/False?\n",
        "\n",
        "\n",
        "---\n",
        "\n",
        "\n"
      ]
    },
    {
      "cell_type": "markdown",
      "metadata": {
        "id": "b3ugFd57zNwa"
      },
      "source": [
        "# Autograd\n",
        "\n",
        "Pytorch supports automatic differentiation. The module which implements this is called **AutoGrad**. It calculates the gradients and keeps track in forward and backward passes. For primitive tensors, you need to enable or disable it using the `required_grad` flag. But, for advanced tensors, it is enabled by default"
      ]
    },
    {
      "cell_type": "code",
      "metadata": {
        "id": "VMOp4aiou6JR",
        "colab": {
          "base_uri": "https://localhost:8080/"
        },
        "outputId": "7b6bc74b-529f-4d71-8442-a62d2436c17b"
      },
      "source": [
        "a = torch.rand((3, 5), requires_grad = True)\n",
        "print(a)\n",
        "result = a * 5\n",
        "print(result)\n",
        "\n",
        "# grad can be implicitly created only for scalar outputs\n",
        "# so let's calculate the sum here so that the output becomes a scalar and we can apply a backward pass\n",
        "mean_result = result.sum()\n",
        "print(mean_result)\n",
        "# calculate gradient\n",
        "mean_result.backward()\n",
        "# print gradient of a\n",
        "print(a.grad)"
      ],
      "execution_count": 48,
      "outputs": [
        {
          "output_type": "stream",
          "text": [
            "tensor([[0.7610, 0.6236, 0.9798, 0.6140, 0.7026],\n",
            "        [0.7842, 0.4013, 0.1014, 0.2980, 0.6171],\n",
            "        [0.8703, 0.8017, 0.6505, 0.2800, 0.0695]], requires_grad=True)\n",
            "tensor([[3.8049, 3.1181, 4.8988, 3.0701, 3.5132],\n",
            "        [3.9209, 2.0066, 0.5068, 1.4902, 3.0854],\n",
            "        [4.3516, 4.0084, 3.2525, 1.4000, 0.3473]], grad_fn=<MulBackward0>)\n",
            "tensor(42.7749, grad_fn=<SumBackward0>)\n",
            "tensor([[5., 5., 5., 5., 5.],\n",
            "        [5., 5., 5., 5., 5.],\n",
            "        [5., 5., 5., 5., 5.]])\n"
          ],
          "name": "stdout"
        }
      ]
    },
    {
      "cell_type": "markdown",
      "metadata": {
        "id": "ym0Amk2IGfLx"
      },
      "source": [
        "\n",
        "\n",
        "---\n",
        "\n",
        "## Question 11: \n",
        "\n",
        "Why the gradient of a is all 5s above?\n",
        "\n",
        "\n",
        "\n",
        "---\n",
        "\n"
      ]
    },
    {
      "cell_type": "markdown",
      "metadata": {
        "id": "q4Jb3Y3eI5pC"
      },
      "source": [
        "## Answer\n",
        "\n",
        "Gradient of 5a is 5"
      ]
    },
    {
      "cell_type": "markdown",
      "metadata": {
        "id": "7PDgGq2R0k7I"
      },
      "source": [
        "As we see, Pytorch automagically calculated the gradient value for us. It looks to be the correct value - we multiplied an input by 5, so the gradient of this operation equals to 5.\n",
        "\n",
        "# Disabling Autograd for tensors\n",
        "\n",
        "We don't need to compute gradients for all the variables that are involved in the pipeline. The Pytorch API provides 2 ways to disable autograd.\n",
        "\n",
        "`detach` - returns a copy of the tensor with autograd disabled. This \n",
        "\n",
        "1.   copy is built on the same memory as the original tensor, so in-place size / stride / storage changes (such as resize_ / resizeas / set / transpose) modifications are not allowed.\n",
        "2.   torch.no_grad() - It is a context manager that allows you to guard a series of operations from autograd without creating new tensors."
      ]
    },
    {
      "cell_type": "code",
      "metadata": {
        "id": "yqVG9fQb0cLW",
        "colab": {
          "base_uri": "https://localhost:8080/"
        },
        "outputId": "0839febe-79ad-4acf-953f-53641ba2cb52"
      },
      "source": [
        "a = torch.rand((3, 5), requires_grad=True)\n",
        "detached_a = a.detach()\n",
        "detached_result = detached_a * 5\n",
        "result = a * 10\n",
        "# we cannot do backward pass that is required for autograd using multideminsional output,\n",
        "# so let's calculate the sum here\n",
        "mean_result = result.sum()\n",
        "mean_result.backward()\n",
        "a.grad"
      ],
      "execution_count": 49,
      "outputs": [
        {
          "output_type": "execute_result",
          "data": {
            "text/plain": [
              "tensor([[10., 10., 10., 10., 10.],\n",
              "        [10., 10., 10., 10., 10.],\n",
              "        [10., 10., 10., 10., 10.]])"
            ]
          },
          "metadata": {
            "tags": []
          },
          "execution_count": 49
        }
      ]
    },
    {
      "cell_type": "code",
      "metadata": {
        "id": "uqpch2Be02J7",
        "colab": {
          "base_uri": "https://localhost:8080/"
        },
        "outputId": "71a49da2-a28c-40f9-81b8-b89b78c25ace"
      },
      "source": [
        "a = torch.rand((3, 5), requires_grad=True)\n",
        "with torch.no_grad():\n",
        "    detached_result = a * 5\n",
        "result = a * 10\n",
        "# we cannot do backward pass that is required for autograd using multideminsional output,\n",
        "# so let's calculate the sum here\n",
        "mean_result = result.sum()\n",
        "mean_result.backward()\n",
        "a.grad"
      ],
      "execution_count": 50,
      "outputs": [
        {
          "output_type": "execute_result",
          "data": {
            "text/plain": [
              "tensor([[10., 10., 10., 10., 10.],\n",
              "        [10., 10., 10., 10., 10.],\n",
              "        [10., 10., 10., 10., 10.]])"
            ]
          },
          "metadata": {
            "tags": []
          },
          "execution_count": 50
        }
      ]
    },
    {
      "cell_type": "markdown",
      "metadata": {
        "id": "vjh2rYOPJUAZ"
      },
      "source": [
        "# Custom Network\n",
        "\n",
        "A fully-connected ReLU network with one hidden layer and no biases, trained to predict y from x by minimizing squared Euclidean distance.\n",
        "\n",
        "This implementation uses PyTorch tensors to manually compute the forward pass, loss, and backward pass.\n",
        "\n",
        "A PyTorch Tensor is basically the same as a numpy array: it does not know anything about deep learning or computational graphs or gradients, and is just a generic n-dimensional array to be used for arbitrary numeric computation.\n",
        "\n",
        "The biggest difference between a numpy array and a PyTorch Tensor is that a PyTorch Tensor can run on either CPU or GPU. To run operations on the GPU, just cast the Tensor to a cuda datatype."
      ]
    },
    {
      "cell_type": "code",
      "metadata": {
        "id": "0nf5RaB104Vp",
        "colab": {
          "base_uri": "https://localhost:8080/"
        },
        "outputId": "711c8f44-0f76-4df2-f42b-46aa7661ccec"
      },
      "source": [
        "dtype = torch.float\n",
        "device = torch.device(\"cpu\")\n",
        "# device = torch.device(\"cuda:0\") # Uncomment this to run on GPU\n",
        "\n",
        "# N is batch size; D_in is input dimension;\n",
        "# H is hidden dimension; D_out is output dimension.\n",
        "N, D_in, H, D_out = 64, 1000, 100, 10\n",
        "\n",
        "# Create random input and output data\n",
        "x = torch.randn(N, D_in, device=device, dtype=dtype)\n",
        "y = torch.randn(N, D_out, device=device, dtype=dtype)\n",
        "\n",
        "# Randomly initialize weights\n",
        "w1 = torch.randn(D_in, H, device=device, dtype=dtype)\n",
        "w2 = torch.randn(H, D_out, device=device, dtype=dtype)\n",
        "\n",
        "learning_rate = 1e-6\n",
        "for t in range(500):\n",
        "    # Forward pass: compute predicted y\n",
        "    h = x.mm(w1)\n",
        "    h_relu = h.clamp(min=0)\n",
        "    y_pred = h_relu.mm(w2)\n",
        "\n",
        "    # Compute and print loss\n",
        "    loss = (y_pred - y).pow(2).sum().item()\n",
        "    print(t, loss)\n",
        "\n",
        "    # Backprop to compute gradients of w1 and w2 with respect to loss\n",
        "    grad_y_pred = 2*(y_pred - y)\n",
        "    grad_w2 = h_relu.t().mm(grad_y_pred)\n",
        "    grad_h_relu = grad_y_pred.mm(w2.t())\n",
        "    grad_h = grad_h_relu.clone()\n",
        "    grad_h[h < 0] = 0\n",
        "    grad_w1 = x.t().mm(grad_h)\n",
        "\n",
        "    # Update weights using gradient descent\n",
        "    w1 -= learning_rate * grad_w1\n",
        "    w2 -= learning_rate * grad_w2"
      ],
      "execution_count": 51,
      "outputs": [
        {
          "output_type": "stream",
          "text": [
            "0 33561804.0\n",
            "1 27769436.0\n",
            "2 28825966.0\n",
            "3 31547806.0\n",
            "4 31411486.0\n",
            "5 26097122.0\n",
            "6 17408742.0\n",
            "7 9733271.0\n",
            "8 4995627.0\n",
            "9 2649951.5\n",
            "10 1571072.0\n",
            "11 1063634.625\n",
            "12 799718.875\n",
            "13 642412.625\n",
            "14 535643.25\n",
            "15 455744.5\n",
            "16 392438.71875\n",
            "17 340600.1875\n",
            "18 297306.6875\n",
            "19 260694.953125\n",
            "20 229550.75\n",
            "21 202810.640625\n",
            "22 179728.3125\n",
            "23 159760.96875\n",
            "24 142423.859375\n",
            "25 127318.890625\n",
            "26 114077.734375\n",
            "27 102428.1015625\n",
            "28 92150.546875\n",
            "29 83060.046875\n",
            "30 74993.8515625\n",
            "31 67820.34375\n",
            "32 61424.3984375\n",
            "33 55716.375\n",
            "34 50612.58984375\n",
            "35 46046.10546875\n",
            "36 41949.3828125\n",
            "37 38279.40234375\n",
            "38 34969.1484375\n",
            "39 31979.69921875\n",
            "40 29277.00390625\n",
            "41 26829.3359375\n",
            "42 24607.705078125\n",
            "43 22590.185546875\n",
            "44 20756.60546875\n",
            "45 19089.064453125\n",
            "46 17573.0703125\n",
            "47 16189.5185546875\n",
            "48 14925.62109375\n",
            "49 13771.564453125\n",
            "50 12715.638671875\n",
            "51 11748.9951171875\n",
            "52 10863.8154296875\n",
            "53 10052.40234375\n",
            "54 9308.65625\n",
            "55 8625.75390625\n",
            "56 7997.3984375\n",
            "57 7419.5810546875\n",
            "58 6887.9482421875\n",
            "59 6397.8837890625\n",
            "60 5946.1494140625\n",
            "61 5530.16796875\n",
            "62 5146.22314453125\n",
            "63 4791.517578125\n",
            "64 4463.76513671875\n",
            "65 4160.4658203125\n",
            "66 3879.95849609375\n",
            "67 3620.23193359375\n",
            "68 3379.417236328125\n",
            "69 3156.189453125\n",
            "70 2948.891357421875\n",
            "71 2756.45849609375\n",
            "72 2577.842041015625\n",
            "73 2411.8935546875\n",
            "74 2257.49462890625\n",
            "75 2113.933837890625\n",
            "76 1980.333251953125\n",
            "77 1855.870849609375\n",
            "78 1739.9493408203125\n",
            "79 1631.9283447265625\n",
            "80 1531.2398681640625\n",
            "81 1437.32080078125\n",
            "82 1349.562255859375\n",
            "83 1267.6082763671875\n",
            "84 1191.056396484375\n",
            "85 1119.5208740234375\n",
            "86 1052.6068115234375\n",
            "87 990.118408203125\n",
            "88 931.5790405273438\n",
            "89 876.7940673828125\n",
            "90 825.4949340820312\n",
            "91 777.4005737304688\n",
            "92 732.3421630859375\n",
            "93 690.1131591796875\n",
            "94 650.5043334960938\n",
            "95 613.341064453125\n",
            "96 578.444580078125\n",
            "97 545.6743774414062\n",
            "98 514.9347534179688\n",
            "99 486.0428161621094\n",
            "100 458.8773498535156\n",
            "101 433.32305908203125\n",
            "102 409.2984619140625\n",
            "103 386.7180480957031\n",
            "104 365.4609680175781\n",
            "105 345.4385681152344\n",
            "106 326.5943298339844\n",
            "107 308.8468322753906\n",
            "108 292.11541748046875\n",
            "109 276.348388671875\n",
            "110 261.4765319824219\n",
            "111 247.4576416015625\n",
            "112 234.2462615966797\n",
            "113 221.77137756347656\n",
            "114 210.00477600097656\n",
            "115 198.89547729492188\n",
            "116 188.40953063964844\n",
            "117 178.50436401367188\n",
            "118 169.1446990966797\n",
            "119 160.31529235839844\n",
            "120 151.96365356445312\n",
            "121 144.0735321044922\n",
            "122 136.61172485351562\n",
            "123 129.5595245361328\n",
            "124 122.88648223876953\n",
            "125 116.57299041748047\n",
            "126 110.59795379638672\n",
            "127 104.94551849365234\n",
            "128 99.59548950195312\n",
            "129 94.53182220458984\n",
            "130 89.73819732666016\n",
            "131 85.20269012451172\n",
            "132 80.8989486694336\n",
            "133 76.82401275634766\n",
            "134 72.96327209472656\n",
            "135 69.30277252197266\n",
            "136 65.8360824584961\n",
            "137 62.54560852050781\n",
            "138 59.42934036254883\n",
            "139 56.476173400878906\n",
            "140 53.672508239746094\n",
            "141 51.015933990478516\n",
            "142 48.493408203125\n",
            "143 46.10002899169922\n",
            "144 43.829166412353516\n",
            "145 41.67264938354492\n",
            "146 39.627655029296875\n",
            "147 37.68674850463867\n",
            "148 35.841796875\n",
            "149 34.09193420410156\n",
            "150 32.43015670776367\n",
            "151 30.851472854614258\n",
            "152 29.35372543334961\n",
            "153 27.928302764892578\n",
            "154 26.574806213378906\n",
            "155 25.28929328918457\n",
            "156 24.067296981811523\n",
            "157 22.90669822692871\n",
            "158 21.802270889282227\n",
            "159 20.752700805664062\n",
            "160 19.75575828552246\n",
            "161 18.808393478393555\n",
            "162 17.907333374023438\n",
            "163 17.051668167114258\n",
            "164 16.236196517944336\n",
            "165 15.460233688354492\n",
            "166 14.723040580749512\n",
            "167 14.02139663696289\n",
            "168 13.354312896728516\n",
            "169 12.719511032104492\n",
            "170 12.116676330566406\n",
            "171 11.542218208312988\n",
            "172 10.994844436645508\n",
            "173 10.4749116897583\n",
            "174 9.979915618896484\n",
            "175 9.508753776550293\n",
            "176 9.060395240783691\n",
            "177 8.633621215820312\n",
            "178 8.226664543151855\n",
            "179 7.840111255645752\n",
            "180 7.471863269805908\n",
            "181 7.121087551116943\n",
            "182 6.787010192871094\n",
            "183 6.468947410583496\n",
            "184 6.166207790374756\n",
            "185 5.877735137939453\n",
            "186 5.6029133796691895\n",
            "187 5.341447353363037\n",
            "188 5.09241247177124\n",
            "189 4.854796886444092\n",
            "190 4.628714561462402\n",
            "191 4.413151264190674\n",
            "192 4.2079901695251465\n",
            "193 4.012523174285889\n",
            "194 3.826192855834961\n",
            "195 3.6485891342163086\n",
            "196 3.479520320892334\n",
            "197 3.31805419921875\n",
            "198 3.1645984649658203\n",
            "199 3.018049955368042\n",
            "200 2.878389835357666\n",
            "201 2.745584011077881\n",
            "202 2.618793487548828\n",
            "203 2.4978890419006348\n",
            "204 2.38277006149292\n",
            "205 2.2728826999664307\n",
            "206 2.1684908866882324\n",
            "207 2.0686697959899902\n",
            "208 1.9735443592071533\n",
            "209 1.88259756565094\n",
            "210 1.7961786985397339\n",
            "211 1.7138136625289917\n",
            "212 1.6351016759872437\n",
            "213 1.560167908668518\n",
            "214 1.4886937141418457\n",
            "215 1.4206159114837646\n",
            "216 1.3554174900054932\n",
            "217 1.2933776378631592\n",
            "218 1.2342475652694702\n",
            "219 1.1778491735458374\n",
            "220 1.1239813566207886\n",
            "221 1.0727260112762451\n",
            "222 1.0237141847610474\n",
            "223 0.977055013179779\n",
            "224 0.9325189590454102\n",
            "225 0.8900222778320312\n",
            "226 0.8495714664459229\n",
            "227 0.8108925819396973\n",
            "228 0.7739598155021667\n",
            "229 0.7387467622756958\n",
            "230 0.7051783204078674\n",
            "231 0.6732121706008911\n",
            "232 0.642535924911499\n",
            "233 0.6134052276611328\n",
            "234 0.5855270624160767\n",
            "235 0.5589651465415955\n",
            "236 0.5336139798164368\n",
            "237 0.5094119906425476\n",
            "238 0.48633572459220886\n",
            "239 0.4643613398075104\n",
            "240 0.44338586926460266\n",
            "241 0.42330169677734375\n",
            "242 0.4041880667209625\n",
            "243 0.38591626286506653\n",
            "244 0.36853817105293274\n",
            "245 0.3519405424594879\n",
            "246 0.3358762264251709\n",
            "247 0.32075634598731995\n",
            "248 0.30632781982421875\n",
            "249 0.29254624247550964\n",
            "250 0.27937978506088257\n",
            "251 0.26676997542381287\n",
            "252 0.2547469735145569\n",
            "253 0.2433137595653534\n",
            "254 0.2323521077632904\n",
            "255 0.22188657522201538\n",
            "256 0.21189174056053162\n",
            "257 0.2023502141237259\n",
            "258 0.19328564405441284\n",
            "259 0.18463343381881714\n",
            "260 0.17632600665092468\n",
            "261 0.168440043926239\n",
            "262 0.16085021197795868\n",
            "263 0.15368115901947021\n",
            "264 0.14674723148345947\n",
            "265 0.14013200998306274\n",
            "266 0.13386952877044678\n",
            "267 0.12787532806396484\n",
            "268 0.1221943348646164\n",
            "269 0.11669672280550003\n",
            "270 0.11148726940155029\n",
            "271 0.10652719438076019\n",
            "272 0.10174521058797836\n",
            "273 0.09718140959739685\n",
            "274 0.09285266697406769\n",
            "275 0.08870993554592133\n",
            "276 0.08474249392747879\n",
            "277 0.08098413050174713\n",
            "278 0.07735730707645416\n",
            "279 0.07390810549259186\n",
            "280 0.07061760872602463\n",
            "281 0.0674809142947197\n",
            "282 0.06446590274572372\n",
            "283 0.061587754637002945\n",
            "284 0.05883869528770447\n",
            "285 0.05621856451034546\n",
            "286 0.05370040237903595\n",
            "287 0.051304254680871964\n",
            "288 0.04902191087603569\n",
            "289 0.04685693606734276\n",
            "290 0.04479270800948143\n",
            "291 0.042786020785570145\n",
            "292 0.040892522782087326\n",
            "293 0.039081837981939316\n",
            "294 0.03735816478729248\n",
            "295 0.035704512149095535\n",
            "296 0.03412158042192459\n",
            "297 0.0326085165143013\n",
            "298 0.03117321990430355\n",
            "299 0.029809776693582535\n",
            "300 0.028474360704421997\n",
            "301 0.02721565216779709\n",
            "302 0.026019267737865448\n",
            "303 0.024881809949874878\n",
            "304 0.02379128336906433\n",
            "305 0.022735903039574623\n",
            "306 0.021742528304457664\n",
            "307 0.020788999274373055\n",
            "308 0.019884850829839706\n",
            "309 0.019017361104488373\n",
            "310 0.01818253844976425\n",
            "311 0.017385508865118027\n",
            "312 0.01661793142557144\n",
            "313 0.01589161530137062\n",
            "314 0.01520778238773346\n",
            "315 0.014545398764312267\n",
            "316 0.013917016796767712\n",
            "317 0.013309885747730732\n",
            "318 0.01273268461227417\n",
            "319 0.01217313390225172\n",
            "320 0.011641616001725197\n",
            "321 0.01114238053560257\n",
            "322 0.010661477223038673\n",
            "323 0.010200105607509613\n",
            "324 0.009761466644704342\n",
            "325 0.009335923008620739\n",
            "326 0.008942187763750553\n",
            "327 0.008562574163079262\n",
            "328 0.008198661729693413\n",
            "329 0.007847688160836697\n",
            "330 0.007516597863286734\n",
            "331 0.007195324171334505\n",
            "332 0.006887631490826607\n",
            "333 0.00659670727327466\n",
            "334 0.006321245338767767\n",
            "335 0.006055749021470547\n",
            "336 0.0058069839142262936\n",
            "337 0.005564074497669935\n",
            "338 0.005332731641829014\n",
            "339 0.005112023558467627\n",
            "340 0.004900885745882988\n",
            "341 0.004696318879723549\n",
            "342 0.004500232171267271\n",
            "343 0.00431134132668376\n",
            "344 0.004138483665883541\n",
            "345 0.00396692706272006\n",
            "346 0.0038043020758777857\n",
            "347 0.0036511009093374014\n",
            "348 0.003505006665363908\n",
            "349 0.0033644067589193583\n",
            "350 0.0032301100436598063\n",
            "351 0.0031009388621896505\n",
            "352 0.0029759996104985476\n",
            "353 0.002856733975932002\n",
            "354 0.00274492590688169\n",
            "355 0.0026381579227745533\n",
            "356 0.0025368910282850266\n",
            "357 0.0024399009998887777\n",
            "358 0.002344361040741205\n",
            "359 0.002252365229651332\n",
            "360 0.002167679835110903\n",
            "361 0.002084181411191821\n",
            "362 0.0020056022331118584\n",
            "363 0.0019295589299872518\n",
            "364 0.001861021970398724\n",
            "365 0.0017925231950357556\n",
            "366 0.001724965637549758\n",
            "367 0.0016604287084192038\n",
            "368 0.0015992638655006886\n",
            "369 0.0015407861210405827\n",
            "370 0.0014843951212242246\n",
            "371 0.0014312834246084094\n",
            "372 0.0013768145581707358\n",
            "373 0.0013297083787620068\n",
            "374 0.0012822826392948627\n",
            "375 0.0012357874074950814\n",
            "376 0.0011936274822801352\n",
            "377 0.0011513674398884177\n",
            "378 0.0011118039255961776\n",
            "379 0.001073497231118381\n",
            "380 0.0010360863525420427\n",
            "381 0.0010011104168370366\n",
            "382 0.0009676711051724851\n",
            "383 0.0009351030457764864\n",
            "384 0.0009051617817021906\n",
            "385 0.0008748869295231998\n",
            "386 0.0008444422855973244\n",
            "387 0.0008164194878190756\n",
            "388 0.0007905394304543734\n",
            "389 0.0007646804442629218\n",
            "390 0.0007396823493763804\n",
            "391 0.0007157768122851849\n",
            "392 0.0006924356566742063\n",
            "393 0.0006710391608066857\n",
            "394 0.0006512417457997799\n",
            "395 0.0006302518304437399\n",
            "396 0.0006091271061450243\n",
            "397 0.0005917587550356984\n",
            "398 0.0005743963993154466\n",
            "399 0.0005562352598644793\n",
            "400 0.0005390771548263729\n",
            "401 0.0005231595132499933\n",
            "402 0.0005073579377494752\n",
            "403 0.0004929814604111016\n",
            "404 0.0004776692658197135\n",
            "405 0.00046353970537893474\n",
            "406 0.000450324296252802\n",
            "407 0.00043807426118291914\n",
            "408 0.00042592425597831607\n",
            "409 0.0004140723613090813\n",
            "410 0.00040275848004966974\n",
            "411 0.0003910838277079165\n",
            "412 0.00038064332329668105\n",
            "413 0.00036980691947974265\n",
            "414 0.00035966376890428364\n",
            "415 0.0003491789393592626\n",
            "416 0.0003398810513317585\n",
            "417 0.00033171108225360513\n",
            "418 0.00032261080923490226\n",
            "419 0.0003143827198073268\n",
            "420 0.0003067654324695468\n",
            "421 0.0002993997768498957\n",
            "422 0.000291448988718912\n",
            "423 0.0002845791750587523\n",
            "424 0.0002768751292023808\n",
            "425 0.0002703717618715018\n",
            "426 0.00026284632622264326\n",
            "427 0.00025705414009280503\n",
            "428 0.0002505900338292122\n",
            "429 0.0002444580604787916\n",
            "430 0.0002389772271271795\n",
            "431 0.00023304857313632965\n",
            "432 0.00022776625701226294\n",
            "433 0.0002227623772341758\n",
            "434 0.000217934008105658\n",
            "435 0.00021301888045854867\n",
            "436 0.00020776045857928693\n",
            "437 0.00020296659204177558\n",
            "438 0.00019864056957885623\n",
            "439 0.00019372371025383472\n",
            "440 0.0001898693444672972\n",
            "441 0.00018538387666922063\n",
            "442 0.00018143028137274086\n",
            "443 0.0001771677052602172\n",
            "444 0.00017349074187222868\n",
            "445 0.00017019886581692845\n",
            "446 0.00016667216550558805\n",
            "447 0.0001636404631426558\n",
            "448 0.0001602153934072703\n",
            "449 0.0001567606086609885\n",
            "450 0.00015297839127015322\n",
            "451 0.0001491988659836352\n",
            "452 0.00014651087985839695\n",
            "453 0.00014380896755028516\n",
            "454 0.00014098458632361144\n",
            "455 0.00013807932555209845\n",
            "456 0.00013555320037994534\n",
            "457 0.00013244034198578447\n",
            "458 0.00013008467794861645\n",
            "459 0.0001275284739676863\n",
            "460 0.00012517519644461572\n",
            "461 0.00012284345575608313\n",
            "462 0.00012072282697772607\n",
            "463 0.0001184062275569886\n",
            "464 0.00011609402281465009\n",
            "465 0.00011385163088561967\n",
            "466 0.00011159125278936699\n",
            "467 0.00011015814379788935\n",
            "468 0.00010800104791997\n",
            "469 0.0001063734816852957\n",
            "470 0.00010394043056294322\n",
            "471 0.00010201278200838715\n",
            "472 0.00010022479546023533\n",
            "473 9.861720900516957e-05\n",
            "474 9.696137567516416e-05\n",
            "475 9.526393114356324e-05\n",
            "476 9.350782784167677e-05\n",
            "477 9.18016376090236e-05\n",
            "478 9.017805132316425e-05\n",
            "479 8.853246981743723e-05\n",
            "480 8.74629695317708e-05\n",
            "481 8.595913095632568e-05\n",
            "482 8.457143849227577e-05\n",
            "483 8.296642045024782e-05\n",
            "484 8.187216008082032e-05\n",
            "485 8.067521412158385e-05\n",
            "486 7.938528142403811e-05\n",
            "487 7.82860879553482e-05\n",
            "488 7.68639802117832e-05\n",
            "489 7.57275556679815e-05\n",
            "490 7.45800425647758e-05\n",
            "491 7.340646698139608e-05\n",
            "492 7.236270903376862e-05\n",
            "493 7.117557106539607e-05\n",
            "494 7.007621752563864e-05\n",
            "495 6.895523983985186e-05\n",
            "496 6.783648859709501e-05\n",
            "497 6.668802961939946e-05\n",
            "498 6.569478864548728e-05\n",
            "499 6.472784298239276e-05\n"
          ],
          "name": "stdout"
        }
      ]
    },
    {
      "cell_type": "markdown",
      "metadata": {
        "id": "ycwxAPHZLNST"
      },
      "source": [
        "\n",
        "\n",
        "---\n",
        "## Question 12\n",
        "\n",
        "In the code above, why do we have 2 in '2.0*(y_pred - y)`?\n",
        "\n",
        "## Question 13\n",
        "In the code above, what does `grad_h[h < 0] = 0` signify?\n",
        "\n",
        "## Question 14\n",
        "In the code above, how many \"epochs\" have we trained the model for? \n",
        "\n",
        "## Answer\n",
        "500\n",
        "\n",
        "## Question 15\n",
        "In the code above, if we take the trained model, and run it on fresh  inputs, the trained model will be able to predict fresh output with high accuracy. \n",
        "\n",
        "\n",
        "\n",
        "## Question 16\n",
        "In the code above, if we dont use clone in `grad_h = grad_h_relu.clone()` the model will still train without any issues. \n"
      ]
    },
    {
      "cell_type": "code",
      "metadata": {
        "id": "OHe7O8NRKGT7"
      },
      "source": [
        ""
      ],
      "execution_count": null,
      "outputs": []
    }
  ]
}